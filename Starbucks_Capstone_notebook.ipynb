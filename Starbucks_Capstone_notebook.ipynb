{
 "cells": [
  {
   "cell_type": "markdown",
   "metadata": {},
   "source": [
    "# Starbucks Capstone Challenge\n",
    "\n",
    "### Introduction\n",
    "\n",
    "This data set contains simulated data that mimics customer behavior on the Starbucks rewards mobile app. Once every few days, Starbucks sends out an offer to users of the mobile app. An offer can be merely an advertisement for a drink or an actual offer such as a discount or BOGO (buy one get one free). Some users might not receive any offer during certain weeks. \n",
    "\n",
    "Not all users receive the same offer, and that is the challenge to solve with this data set.\n",
    "\n",
    "Your task is to combine transaction, demographic and offer data to determine which demographic groups respond best to which offer type. This data set is a simplified version of the real Starbucks app because the underlying simulator only has one product whereas Starbucks actually sells dozens of products.\n",
    "\n",
    "Every offer has a validity period before the offer expires. As an example, a BOGO offer might be valid for only 5 days. You'll see in the data set that informational offers have a validity period even though these ads are merely providing information about a product; for example, if an informational offer has 7 days of validity, you can assume the customer is feeling the influence of the offer for 7 days after receiving the advertisement.\n",
    "\n",
    "You'll be given transactional data showing user purchases made on the app including the timestamp of purchase and the amount of money spent on a purchase. This transactional data also has a record for each offer that a user receives as well as a record for when a user actually views the offer. There are also records for when a user completes an offer. \n",
    "\n",
    "Keep in mind as well that someone using the app might make a purchase through the app without having received an offer or seen an offer.\n",
    "\n",
    "### Example\n",
    "\n",
    "To give an example, a user could receive a discount offer buy 10 dollars get 2 off on Monday. The offer is valid for 10 days from receipt. If the customer accumulates at least 10 dollars in purchases during the validity period, the customer completes the offer.\n",
    "\n",
    "However, there are a few things to watch out for in this data set. Customers do not opt into the offers that they receive; in other words, a user can receive an offer, never actually view the offer, and still complete the offer. For example, a user might receive the \"buy 10 dollars get 2 dollars off offer\", but the user never opens the offer during the 10 day validity period. The customer spends 15 dollars during those ten days. There will be an offer completion record in the data set; however, the customer was not influenced by the offer because the customer never viewed the offer.\n",
    "\n",
    "### Cleaning\n",
    "\n",
    "This makes data cleaning especially important and tricky.\n",
    "\n",
    "You'll also want to take into account that some demographic groups will make purchases even if they don't receive an offer. From a business perspective, if a customer is going to make a 10 dollar purchase without an offer anyway, you wouldn't want to send a buy 10 dollars get 2 dollars off offer. You'll want to try to assess what a certain demographic group will buy when not receiving any offers.\n",
    "\n",
    "### Final Advice\n",
    "\n",
    "Because this is a capstone project, you are free to analyze the data any way you see fit. For example, you could build a machine learning model that predicts how much someone will spend based on demographics and offer type. Or you could build a model that predicts whether or not someone will respond to an offer. Or, you don't need to build a machine learning model at all. You could develop a set of heuristics that determine what offer you should send to each customer (i.e., 75 percent of women customers who were 35 years old responded to offer A vs 40 percent from the same demographic to offer B, so send offer A)."
   ]
  },
  {
   "cell_type": "markdown",
   "metadata": {},
   "source": [
    "# Data Sets\n",
    "\n",
    "The data is contained in three files:\n",
    "\n",
    "* portfolio.json - containing offer ids and meta data about each offer (duration, type, etc.)\n",
    "* profile.json - demographic data for each customer\n",
    "* transcript.json - records for transactions, offers received, offers viewed, and offers completed\n",
    "\n",
    "Here is the schema and explanation of each variable in the files:\n",
    "\n",
    "**portfolio.json**\n",
    "* id (string) - offer id\n",
    "* offer_type (string) - type of offer ie BOGO, discount, informational\n",
    "* difficulty (int) - minimum required spend to complete an offer\n",
    "* reward (int) - reward given for completing an offer\n",
    "* duration (int) - time for offer to be open, in days\n",
    "* channels (list of strings)\n",
    "\n",
    "**profile.json**\n",
    "* age (int) - age of the customer \n",
    "* became_member_on (int) - date when customer created an app account\n",
    "* gender (str) - gender of the customer (note some entries contain 'O' for other rather than M or F)\n",
    "* id (str) - customer id\n",
    "* income (float) - customer's income\n",
    "\n",
    "**transcript.json**\n",
    "* event (str) - record description (ie transaction, offer received, offer viewed, etc.)\n",
    "* person (str) - customer id\n",
    "* time (int) - time in hours since start of test. The data begins at time t=0\n",
    "* value - (dict of strings) - either an offer id or transaction amount depending on the record\n",
    "\n",
    "**Note:** If you are using the workspace, you will need to go to the terminal and run the command `conda update pandas` before reading in the files. This is because the version of pandas in the workspace cannot read in the transcript.json file correctly, but the newest version of pandas can. You can access the termnal from the orange icon in the top left of this notebook.  \n",
    "\n",
    "You can see how to access the terminal and how the install works using the two images below.  First you need to access the terminal:\n",
    "\n",
    "<img src=\"pic1.png\"/>\n",
    "\n",
    "Then you will want to run the above command:\n",
    "\n",
    "<img src=\"pic2.png\"/>\n",
    "\n",
    "Finally, when you enter back into the notebook (use the jupyter icon again), you should be able to run the below cell without any errors."
   ]
  },
  {
   "cell_type": "code",
   "execution_count": 1,
   "metadata": {},
   "outputs": [],
   "source": [
    "import pandas as pd\n",
    "import numpy as np\n",
    "import math\n",
    "import json\n",
    "import matplotlib.pyplot as plt\n",
    "import seaborn as sns\n",
    "#from sklearn.linear_model import LinearRegression\n",
    "#from sklearn.metrics import r2_score, mean_squared_error\n",
    "from time import time\n",
    "from sklearn.model_selection import train_test_split, GridSearchCV, RandomizedSearchCV\n",
    "# classifiers\n",
    "from sklearn.multioutput import MultiOutputClassifier\n",
    "from sklearn.ensemble import RandomForestClassifier\n",
    "from sklearn.linear_model import LogisticRegression\n",
    "# from sklearn.svm import SVC\n",
    "from sklearn.naive_bayes import CategoricalNB\n",
    "# performance metrics\n",
    "from sklearn.metrics import accuracy_score, confusion_matrix, classification_report, f1_score\n",
    "from sklearn.datasets import make_multilabel_classification\n",
    "# model saving \n",
    "import pickle\n",
    "\n",
    "%matplotlib inline"
   ]
  },
  {
   "cell_type": "code",
   "execution_count": 2,
   "metadata": {},
   "outputs": [],
   "source": [
    "# read in the json files\n",
    "#portfolio = pd.read_json('data/portfolio.json',dtype={'channels':str, 'difficulty':float, 'duration':float, 'id':str, 'offer_type':str, 'reward':float}, orient='records', lines=True)\n",
    "portfolio = pd.read_json('data/portfolio.json', orient='records', lines=True)\n",
    "profile = pd.read_json('data/profile.json', orient='records', lines=True)\n",
    "transcript = pd.read_json('data/transcript.json', orient='records', lines=True)"
   ]
  },
  {
   "cell_type": "code",
   "execution_count": 3,
   "metadata": {},
   "outputs": [
    {
     "data": {
      "text/plain": [
       "(17000, 5)"
      ]
     },
     "execution_count": 3,
     "metadata": {},
     "output_type": "execute_result"
    }
   ],
   "source": [
    "profile.shape"
   ]
  },
  {
   "cell_type": "markdown",
   "metadata": {},
   "source": [
    "# Lets examine the data sets"
   ]
  },
  {
   "cell_type": "code",
   "execution_count": 4,
   "metadata": {},
   "outputs": [
    {
     "data": {
      "text/html": [
       "<div>\n",
       "<style scoped>\n",
       "    .dataframe tbody tr th:only-of-type {\n",
       "        vertical-align: middle;\n",
       "    }\n",
       "\n",
       "    .dataframe tbody tr th {\n",
       "        vertical-align: top;\n",
       "    }\n",
       "\n",
       "    .dataframe thead th {\n",
       "        text-align: right;\n",
       "    }\n",
       "</style>\n",
       "<table border=\"1\" class=\"dataframe\">\n",
       "  <thead>\n",
       "    <tr style=\"text-align: right;\">\n",
       "      <th></th>\n",
       "      <th>reward</th>\n",
       "      <th>channels</th>\n",
       "      <th>difficulty</th>\n",
       "      <th>duration</th>\n",
       "      <th>offer_type</th>\n",
       "      <th>id</th>\n",
       "    </tr>\n",
       "  </thead>\n",
       "  <tbody>\n",
       "    <tr>\n",
       "      <th>0</th>\n",
       "      <td>10</td>\n",
       "      <td>[email, mobile, social]</td>\n",
       "      <td>10</td>\n",
       "      <td>7</td>\n",
       "      <td>bogo</td>\n",
       "      <td>ae264e3637204a6fb9bb56bc8210ddfd</td>\n",
       "    </tr>\n",
       "    <tr>\n",
       "      <th>1</th>\n",
       "      <td>10</td>\n",
       "      <td>[web, email, mobile, social]</td>\n",
       "      <td>10</td>\n",
       "      <td>5</td>\n",
       "      <td>bogo</td>\n",
       "      <td>4d5c57ea9a6940dd891ad53e9dbe8da0</td>\n",
       "    </tr>\n",
       "    <tr>\n",
       "      <th>2</th>\n",
       "      <td>0</td>\n",
       "      <td>[web, email, mobile]</td>\n",
       "      <td>0</td>\n",
       "      <td>4</td>\n",
       "      <td>informational</td>\n",
       "      <td>3f207df678b143eea3cee63160fa8bed</td>\n",
       "    </tr>\n",
       "    <tr>\n",
       "      <th>3</th>\n",
       "      <td>5</td>\n",
       "      <td>[web, email, mobile]</td>\n",
       "      <td>5</td>\n",
       "      <td>7</td>\n",
       "      <td>bogo</td>\n",
       "      <td>9b98b8c7a33c4b65b9aebfe6a799e6d9</td>\n",
       "    </tr>\n",
       "    <tr>\n",
       "      <th>4</th>\n",
       "      <td>5</td>\n",
       "      <td>[web, email]</td>\n",
       "      <td>20</td>\n",
       "      <td>10</td>\n",
       "      <td>discount</td>\n",
       "      <td>0b1e1539f2cc45b7b9fa7c272da2e1d7</td>\n",
       "    </tr>\n",
       "    <tr>\n",
       "      <th>5</th>\n",
       "      <td>3</td>\n",
       "      <td>[web, email, mobile, social]</td>\n",
       "      <td>7</td>\n",
       "      <td>7</td>\n",
       "      <td>discount</td>\n",
       "      <td>2298d6c36e964ae4a3e7e9706d1fb8c2</td>\n",
       "    </tr>\n",
       "    <tr>\n",
       "      <th>6</th>\n",
       "      <td>2</td>\n",
       "      <td>[web, email, mobile, social]</td>\n",
       "      <td>10</td>\n",
       "      <td>10</td>\n",
       "      <td>discount</td>\n",
       "      <td>fafdcd668e3743c1bb461111dcafc2a4</td>\n",
       "    </tr>\n",
       "    <tr>\n",
       "      <th>7</th>\n",
       "      <td>0</td>\n",
       "      <td>[email, mobile, social]</td>\n",
       "      <td>0</td>\n",
       "      <td>3</td>\n",
       "      <td>informational</td>\n",
       "      <td>5a8bc65990b245e5a138643cd4eb9837</td>\n",
       "    </tr>\n",
       "    <tr>\n",
       "      <th>8</th>\n",
       "      <td>5</td>\n",
       "      <td>[web, email, mobile, social]</td>\n",
       "      <td>5</td>\n",
       "      <td>5</td>\n",
       "      <td>bogo</td>\n",
       "      <td>f19421c1d4aa40978ebb69ca19b0e20d</td>\n",
       "    </tr>\n",
       "    <tr>\n",
       "      <th>9</th>\n",
       "      <td>2</td>\n",
       "      <td>[web, email, mobile]</td>\n",
       "      <td>10</td>\n",
       "      <td>7</td>\n",
       "      <td>discount</td>\n",
       "      <td>2906b810c7d4411798c6938adc9daaa5</td>\n",
       "    </tr>\n",
       "  </tbody>\n",
       "</table>\n",
       "</div>"
      ],
      "text/plain": [
       "   reward                      channels  difficulty  duration     offer_type  \\\n",
       "0      10       [email, mobile, social]          10         7           bogo   \n",
       "1      10  [web, email, mobile, social]          10         5           bogo   \n",
       "2       0          [web, email, mobile]           0         4  informational   \n",
       "3       5          [web, email, mobile]           5         7           bogo   \n",
       "4       5                  [web, email]          20        10       discount   \n",
       "5       3  [web, email, mobile, social]           7         7       discount   \n",
       "6       2  [web, email, mobile, social]          10        10       discount   \n",
       "7       0       [email, mobile, social]           0         3  informational   \n",
       "8       5  [web, email, mobile, social]           5         5           bogo   \n",
       "9       2          [web, email, mobile]          10         7       discount   \n",
       "\n",
       "                                 id  \n",
       "0  ae264e3637204a6fb9bb56bc8210ddfd  \n",
       "1  4d5c57ea9a6940dd891ad53e9dbe8da0  \n",
       "2  3f207df678b143eea3cee63160fa8bed  \n",
       "3  9b98b8c7a33c4b65b9aebfe6a799e6d9  \n",
       "4  0b1e1539f2cc45b7b9fa7c272da2e1d7  \n",
       "5  2298d6c36e964ae4a3e7e9706d1fb8c2  \n",
       "6  fafdcd668e3743c1bb461111dcafc2a4  \n",
       "7  5a8bc65990b245e5a138643cd4eb9837  \n",
       "8  f19421c1d4aa40978ebb69ca19b0e20d  \n",
       "9  2906b810c7d4411798c6938adc9daaa5  "
      ]
     },
     "execution_count": 4,
     "metadata": {},
     "output_type": "execute_result"
    }
   ],
   "source": [
    "portfolio"
   ]
  },
  {
   "cell_type": "code",
   "execution_count": 5,
   "metadata": {},
   "outputs": [
    {
     "data": {
      "text/plain": [
       "reward         int64\n",
       "channels      object\n",
       "difficulty     int64\n",
       "duration       int64\n",
       "offer_type    object\n",
       "id            object\n",
       "dtype: object"
      ]
     },
     "execution_count": 5,
     "metadata": {},
     "output_type": "execute_result"
    }
   ],
   "source": [
    "portfolio.dtypes"
   ]
  },
  {
   "cell_type": "code",
   "execution_count": 6,
   "metadata": {},
   "outputs": [
    {
     "name": "stdout",
     "output_type": "stream",
     "text": [
      "<class 'pandas.core.frame.DataFrame'>\n",
      "RangeIndex: 10 entries, 0 to 9\n",
      "Data columns (total 6 columns):\n",
      "reward        10 non-null int64\n",
      "channels      10 non-null object\n",
      "difficulty    10 non-null int64\n",
      "duration      10 non-null int64\n",
      "offer_type    10 non-null object\n",
      "id            10 non-null object\n",
      "dtypes: int64(3), object(3)\n",
      "memory usage: 608.0+ bytes\n"
     ]
    }
   ],
   "source": [
    "portfolio.info()"
   ]
  },
  {
   "cell_type": "code",
   "execution_count": 7,
   "metadata": {},
   "outputs": [
    {
     "data": {
      "text/html": [
       "<div>\n",
       "<style scoped>\n",
       "    .dataframe tbody tr th:only-of-type {\n",
       "        vertical-align: middle;\n",
       "    }\n",
       "\n",
       "    .dataframe tbody tr th {\n",
       "        vertical-align: top;\n",
       "    }\n",
       "\n",
       "    .dataframe thead th {\n",
       "        text-align: right;\n",
       "    }\n",
       "</style>\n",
       "<table border=\"1\" class=\"dataframe\">\n",
       "  <thead>\n",
       "    <tr style=\"text-align: right;\">\n",
       "      <th></th>\n",
       "      <th>gender</th>\n",
       "      <th>age</th>\n",
       "      <th>id</th>\n",
       "      <th>became_member_on</th>\n",
       "      <th>income</th>\n",
       "    </tr>\n",
       "  </thead>\n",
       "  <tbody>\n",
       "    <tr>\n",
       "      <th>0</th>\n",
       "      <td>None</td>\n",
       "      <td>118</td>\n",
       "      <td>68be06ca386d4c31939f3a4f0e3dd783</td>\n",
       "      <td>20170212</td>\n",
       "      <td>NaN</td>\n",
       "    </tr>\n",
       "    <tr>\n",
       "      <th>1</th>\n",
       "      <td>F</td>\n",
       "      <td>55</td>\n",
       "      <td>0610b486422d4921ae7d2bf64640c50b</td>\n",
       "      <td>20170715</td>\n",
       "      <td>112000.0</td>\n",
       "    </tr>\n",
       "    <tr>\n",
       "      <th>2</th>\n",
       "      <td>None</td>\n",
       "      <td>118</td>\n",
       "      <td>38fe809add3b4fcf9315a9694bb96ff5</td>\n",
       "      <td>20180712</td>\n",
       "      <td>NaN</td>\n",
       "    </tr>\n",
       "    <tr>\n",
       "      <th>3</th>\n",
       "      <td>F</td>\n",
       "      <td>75</td>\n",
       "      <td>78afa995795e4d85b5d9ceeca43f5fef</td>\n",
       "      <td>20170509</td>\n",
       "      <td>100000.0</td>\n",
       "    </tr>\n",
       "    <tr>\n",
       "      <th>4</th>\n",
       "      <td>None</td>\n",
       "      <td>118</td>\n",
       "      <td>a03223e636434f42ac4c3df47e8bac43</td>\n",
       "      <td>20170804</td>\n",
       "      <td>NaN</td>\n",
       "    </tr>\n",
       "  </tbody>\n",
       "</table>\n",
       "</div>"
      ],
      "text/plain": [
       "  gender  age                                id  became_member_on    income\n",
       "0   None  118  68be06ca386d4c31939f3a4f0e3dd783          20170212       NaN\n",
       "1      F   55  0610b486422d4921ae7d2bf64640c50b          20170715  112000.0\n",
       "2   None  118  38fe809add3b4fcf9315a9694bb96ff5          20180712       NaN\n",
       "3      F   75  78afa995795e4d85b5d9ceeca43f5fef          20170509  100000.0\n",
       "4   None  118  a03223e636434f42ac4c3df47e8bac43          20170804       NaN"
      ]
     },
     "execution_count": 7,
     "metadata": {},
     "output_type": "execute_result"
    }
   ],
   "source": [
    "profile.head()"
   ]
  },
  {
   "cell_type": "code",
   "execution_count": 8,
   "metadata": {},
   "outputs": [
    {
     "data": {
      "text/plain": [
       "gender               object\n",
       "age                   int64\n",
       "id                   object\n",
       "became_member_on      int64\n",
       "income              float64\n",
       "dtype: object"
      ]
     },
     "execution_count": 8,
     "metadata": {},
     "output_type": "execute_result"
    }
   ],
   "source": [
    "profile.dtypes"
   ]
  },
  {
   "cell_type": "code",
   "execution_count": 9,
   "metadata": {},
   "outputs": [
    {
     "name": "stdout",
     "output_type": "stream",
     "text": [
      "<class 'pandas.core.frame.DataFrame'>\n",
      "RangeIndex: 17000 entries, 0 to 16999\n",
      "Data columns (total 5 columns):\n",
      "gender              14825 non-null object\n",
      "age                 17000 non-null int64\n",
      "id                  17000 non-null object\n",
      "became_member_on    17000 non-null int64\n",
      "income              14825 non-null float64\n",
      "dtypes: float64(1), int64(2), object(2)\n",
      "memory usage: 664.2+ KB\n"
     ]
    }
   ],
   "source": [
    "profile.info()"
   ]
  },
  {
   "cell_type": "code",
   "execution_count": 10,
   "metadata": {},
   "outputs": [
    {
     "data": {
      "text/plain": [
       "(2175,)"
      ]
     },
     "execution_count": 10,
     "metadata": {},
     "output_type": "execute_result"
    }
   ],
   "source": [
    "indicies_age118 = profile[profile['age']==118].index.values\n",
    "indicies_age118.shape"
   ]
  },
  {
   "cell_type": "code",
   "execution_count": 11,
   "metadata": {},
   "outputs": [
    {
     "name": "stdout",
     "output_type": "stream",
     "text": [
      "<class 'pandas.core.frame.DataFrame'>\n",
      "Int64Index: 14825 entries, 1 to 16999\n",
      "Data columns (total 5 columns):\n",
      "gender              14825 non-null object\n",
      "age                 14825 non-null int64\n",
      "id                  14825 non-null object\n",
      "became_member_on    14825 non-null int64\n",
      "income              14825 non-null float64\n",
      "dtypes: float64(1), int64(2), object(2)\n",
      "memory usage: 694.9+ KB\n"
     ]
    }
   ],
   "source": [
    "profile.drop(indicies_age118, axis=0).info()"
   ]
  },
  {
   "cell_type": "markdown",
   "metadata": {},
   "source": [
    "#### There are several users that have not entered any profile data for age, gender, and income.  Therefore, we may want to disclude them from certain analysis"
   ]
  },
  {
   "cell_type": "code",
   "execution_count": 12,
   "metadata": {},
   "outputs": [],
   "source": [
    "def gender_income_vs_age(g):\n",
    "    '''Function to plot average income vs age\n",
    "    Args:\n",
    "        g (str): gender ()\n",
    "    Returns:\n",
    "    '''\n",
    "    # fit and fill male income\n",
    "    gender = profile[profile['gender']==g]\n",
    "    \n",
    "    #age_income = gender[gender['age']!=118].groupby('age')['income'].mean().reindex()\n",
    "    # offer_received_counts = offers_received.groupby('offer_id')['offer_id'].agg([('received_count','count')]).reset_index()\n",
    "    age_income = gender.groupby('age')['income'].agg([('average_income', 'mean'), ('STDDEV', 'std')]).reset_index()\n",
    "    \n",
    "    age = age_income['age'].values\n",
    "    average_income =  age_income['average_income'].values\n",
    "    std = age_income['STDDEV'].values\n",
    "    \n",
    "    #plt.plot(age, average_income, 'o')\n",
    "    \n",
    "    g_dict = {'M':'Male', 'F':'Female', 'O':'Other Gender'}\n",
    "    \n",
    "    plt.errorbar(age, average_income, yerr=std, color='k', lw=3,  ecolor='b')\n",
    "    plt.xlabel('Age')\n",
    "    title = f'Average {g_dict[g]} Income'\n",
    "    plt.ylabel('Average Income')\n",
    "    plt.title(title)"
   ]
  },
  {
   "cell_type": "code",
   "execution_count": 13,
   "metadata": {},
   "outputs": [
    {
     "data": {
      "image/png": "[encoded data removed]",
      "text/plain": [
       "<Figure size 432x288 with 1 Axes>"
      ]
     },
     "metadata": {
      "needs_background": "light"
     },
     "output_type": "display_data"
    }
   ],
   "source": [
    "gender_income_vs_age('M')"
   ]
  },
  {
   "cell_type": "code",
   "execution_count": 14,
   "metadata": {},
   "outputs": [
    {
     "data": {
      "image/png": "[encoded data removed]",
      "text/plain": [
       "<Figure size 432x288 with 1 Axes>"
      ]
     },
     "metadata": {
      "needs_background": "light"
     },
     "output_type": "display_data"
    }
   ],
   "source": [
    "gender_income_vs_age('F')"
   ]
  },
  {
   "cell_type": "code",
   "execution_count": 15,
   "metadata": {},
   "outputs": [
    {
     "data": {
      "image/png": "[encoded data removed]",
      "text/plain": [
       "<Figure size 432x288 with 1 Axes>"
      ]
     },
     "metadata": {
      "needs_background": "light"
     },
     "output_type": "display_data"
    }
   ],
   "source": [
    "gender_income_vs_age('O')"
   ]
  },
  {
   "cell_type": "code",
   "execution_count": 16,
   "metadata": {},
   "outputs": [
    {
     "data": {
      "text/html": [
       "<div>\n",
       "<style scoped>\n",
       "    .dataframe tbody tr th:only-of-type {\n",
       "        vertical-align: middle;\n",
       "    }\n",
       "\n",
       "    .dataframe tbody tr th {\n",
       "        vertical-align: top;\n",
       "    }\n",
       "\n",
       "    .dataframe thead th {\n",
       "        text-align: right;\n",
       "    }\n",
       "</style>\n",
       "<table border=\"1\" class=\"dataframe\">\n",
       "  <thead>\n",
       "    <tr style=\"text-align: right;\">\n",
       "      <th></th>\n",
       "      <th>person</th>\n",
       "      <th>event</th>\n",
       "      <th>value</th>\n",
       "      <th>time</th>\n",
       "    </tr>\n",
       "  </thead>\n",
       "  <tbody>\n",
       "    <tr>\n",
       "      <th>0</th>\n",
       "      <td>78afa995795e4d85b5d9ceeca43f5fef</td>\n",
       "      <td>offer received</td>\n",
       "      <td>{'offer id': '9b98b8c7a33c4b65b9aebfe6a799e6d9'}</td>\n",
       "      <td>0</td>\n",
       "    </tr>\n",
       "    <tr>\n",
       "      <th>1</th>\n",
       "      <td>a03223e636434f42ac4c3df47e8bac43</td>\n",
       "      <td>offer received</td>\n",
       "      <td>{'offer id': '0b1e1539f2cc45b7b9fa7c272da2e1d7'}</td>\n",
       "      <td>0</td>\n",
       "    </tr>\n",
       "    <tr>\n",
       "      <th>2</th>\n",
       "      <td>e2127556f4f64592b11af22de27a7932</td>\n",
       "      <td>offer received</td>\n",
       "      <td>{'offer id': '2906b810c7d4411798c6938adc9daaa5'}</td>\n",
       "      <td>0</td>\n",
       "    </tr>\n",
       "    <tr>\n",
       "      <th>3</th>\n",
       "      <td>8ec6ce2a7e7949b1bf142def7d0e0586</td>\n",
       "      <td>offer received</td>\n",
       "      <td>{'offer id': 'fafdcd668e3743c1bb461111dcafc2a4'}</td>\n",
       "      <td>0</td>\n",
       "    </tr>\n",
       "    <tr>\n",
       "      <th>4</th>\n",
       "      <td>68617ca6246f4fbc85e91a2a49552598</td>\n",
       "      <td>offer received</td>\n",
       "      <td>{'offer id': '4d5c57ea9a6940dd891ad53e9dbe8da0'}</td>\n",
       "      <td>0</td>\n",
       "    </tr>\n",
       "  </tbody>\n",
       "</table>\n",
       "</div>"
      ],
      "text/plain": [
       "                             person           event  \\\n",
       "0  78afa995795e4d85b5d9ceeca43f5fef  offer received   \n",
       "1  a03223e636434f42ac4c3df47e8bac43  offer received   \n",
       "2  e2127556f4f64592b11af22de27a7932  offer received   \n",
       "3  8ec6ce2a7e7949b1bf142def7d0e0586  offer received   \n",
       "4  68617ca6246f4fbc85e91a2a49552598  offer received   \n",
       "\n",
       "                                              value  time  \n",
       "0  {'offer id': '9b98b8c7a33c4b65b9aebfe6a799e6d9'}     0  \n",
       "1  {'offer id': '0b1e1539f2cc45b7b9fa7c272da2e1d7'}     0  \n",
       "2  {'offer id': '2906b810c7d4411798c6938adc9daaa5'}     0  \n",
       "3  {'offer id': 'fafdcd668e3743c1bb461111dcafc2a4'}     0  \n",
       "4  {'offer id': '4d5c57ea9a6940dd891ad53e9dbe8da0'}     0  "
      ]
     },
     "execution_count": 16,
     "metadata": {},
     "output_type": "execute_result"
    }
   ],
   "source": [
    "transcript.head()"
   ]
  },
  {
   "cell_type": "code",
   "execution_count": 17,
   "metadata": {},
   "outputs": [
    {
     "data": {
      "text/plain": [
       "person    object\n",
       "event     object\n",
       "value     object\n",
       "time       int64\n",
       "dtype: object"
      ]
     },
     "execution_count": 17,
     "metadata": {},
     "output_type": "execute_result"
    }
   ],
   "source": [
    "transcript.dtypes"
   ]
  },
  {
   "cell_type": "code",
   "execution_count": 18,
   "metadata": {},
   "outputs": [
    {
     "name": "stdout",
     "output_type": "stream",
     "text": [
      "<class 'pandas.core.frame.DataFrame'>\n",
      "RangeIndex: 306534 entries, 0 to 306533\n",
      "Data columns (total 4 columns):\n",
      "person    306534 non-null object\n",
      "event     306534 non-null object\n",
      "value     306534 non-null object\n",
      "time      306534 non-null int64\n",
      "dtypes: int64(1), object(3)\n",
      "memory usage: 9.4+ MB\n"
     ]
    }
   ],
   "source": [
    "transcript.info()"
   ]
  },
  {
   "cell_type": "markdown",
   "metadata": {},
   "source": [
    "# Convert to Usable Datatypes"
   ]
  },
  {
   "cell_type": "markdown",
   "metadata": {},
   "source": [
    "### portfolio\n",
    "#### 'channels' contain lists of strings that need to be expanded as categorical variables"
   ]
  },
  {
   "cell_type": "code",
   "execution_count": 19,
   "metadata": {},
   "outputs": [],
   "source": [
    "channel_types = []\n",
    "for _, row in portfolio.iterrows():\n",
    "    for channel in row['channels']:\n",
    "        channel_types.append(channel)\n",
    "        \n",
    "channel_types=list((set(channel_types)))\n",
    "channel_types\n",
    "    \n",
    "\n",
    "for channel_type in channel_types:\n",
    "    portfolio[channel_type] = portfolio['channels'].apply(lambda x: (channel_type in x)*1)\n",
    "    \n",
    "portfolio.drop('channels', axis=1, inplace=True)"
   ]
  },
  {
   "cell_type": "markdown",
   "metadata": {},
   "source": [
    "### convert duration to hours so it is consistent with other time values"
   ]
  },
  {
   "cell_type": "code",
   "execution_count": 20,
   "metadata": {},
   "outputs": [
    {
     "data": {
      "text/plain": [
       "['difficulty',\n",
       " 'duration',\n",
       " 'bogo',\n",
       " 'discount',\n",
       " 'reward',\n",
       " 'web',\n",
       " 'mobile',\n",
       " 'social',\n",
       " 'duration_in_hours']"
      ]
     },
     "execution_count": 20,
     "metadata": {},
     "output_type": "execute_result"
    }
   ],
   "source": [
    "portfolio['duration_in_hours'] = portfolio['duration']*24\n",
    "['difficulty', 'duration', 'bogo', 'discount', 'reward', 'web', 'mobile', 'social', 'duration_in_hours']"
   ]
  },
  {
   "cell_type": "code",
   "execution_count": 21,
   "metadata": {},
   "outputs": [
    {
     "data": {
      "text/html": [
       "<div>\n",
       "<style scoped>\n",
       "    .dataframe tbody tr th:only-of-type {\n",
       "        vertical-align: middle;\n",
       "    }\n",
       "\n",
       "    .dataframe tbody tr th {\n",
       "        vertical-align: top;\n",
       "    }\n",
       "\n",
       "    .dataframe thead th {\n",
       "        text-align: right;\n",
       "    }\n",
       "</style>\n",
       "<table border=\"1\" class=\"dataframe\">\n",
       "  <thead>\n",
       "    <tr style=\"text-align: right;\">\n",
       "      <th></th>\n",
       "      <th>reward</th>\n",
       "      <th>difficulty</th>\n",
       "      <th>duration</th>\n",
       "      <th>offer_type</th>\n",
       "      <th>id</th>\n",
       "      <th>web</th>\n",
       "      <th>email</th>\n",
       "      <th>social</th>\n",
       "      <th>mobile</th>\n",
       "      <th>duration_in_hours</th>\n",
       "    </tr>\n",
       "  </thead>\n",
       "  <tbody>\n",
       "    <tr>\n",
       "      <th>0</th>\n",
       "      <td>10</td>\n",
       "      <td>10</td>\n",
       "      <td>7</td>\n",
       "      <td>bogo</td>\n",
       "      <td>ae264e3637204a6fb9bb56bc8210ddfd</td>\n",
       "      <td>0</td>\n",
       "      <td>1</td>\n",
       "      <td>1</td>\n",
       "      <td>1</td>\n",
       "      <td>168</td>\n",
       "    </tr>\n",
       "    <tr>\n",
       "      <th>1</th>\n",
       "      <td>10</td>\n",
       "      <td>10</td>\n",
       "      <td>5</td>\n",
       "      <td>bogo</td>\n",
       "      <td>4d5c57ea9a6940dd891ad53e9dbe8da0</td>\n",
       "      <td>1</td>\n",
       "      <td>1</td>\n",
       "      <td>1</td>\n",
       "      <td>1</td>\n",
       "      <td>120</td>\n",
       "    </tr>\n",
       "    <tr>\n",
       "      <th>2</th>\n",
       "      <td>0</td>\n",
       "      <td>0</td>\n",
       "      <td>4</td>\n",
       "      <td>informational</td>\n",
       "      <td>3f207df678b143eea3cee63160fa8bed</td>\n",
       "      <td>1</td>\n",
       "      <td>1</td>\n",
       "      <td>0</td>\n",
       "      <td>1</td>\n",
       "      <td>96</td>\n",
       "    </tr>\n",
       "    <tr>\n",
       "      <th>3</th>\n",
       "      <td>5</td>\n",
       "      <td>5</td>\n",
       "      <td>7</td>\n",
       "      <td>bogo</td>\n",
       "      <td>9b98b8c7a33c4b65b9aebfe6a799e6d9</td>\n",
       "      <td>1</td>\n",
       "      <td>1</td>\n",
       "      <td>0</td>\n",
       "      <td>1</td>\n",
       "      <td>168</td>\n",
       "    </tr>\n",
       "    <tr>\n",
       "      <th>4</th>\n",
       "      <td>5</td>\n",
       "      <td>20</td>\n",
       "      <td>10</td>\n",
       "      <td>discount</td>\n",
       "      <td>0b1e1539f2cc45b7b9fa7c272da2e1d7</td>\n",
       "      <td>1</td>\n",
       "      <td>1</td>\n",
       "      <td>0</td>\n",
       "      <td>0</td>\n",
       "      <td>240</td>\n",
       "    </tr>\n",
       "  </tbody>\n",
       "</table>\n",
       "</div>"
      ],
      "text/plain": [
       "   reward  difficulty  duration     offer_type  \\\n",
       "0      10          10         7           bogo   \n",
       "1      10          10         5           bogo   \n",
       "2       0           0         4  informational   \n",
       "3       5           5         7           bogo   \n",
       "4       5          20        10       discount   \n",
       "\n",
       "                                 id  web  email  social  mobile  \\\n",
       "0  ae264e3637204a6fb9bb56bc8210ddfd    0      1       1       1   \n",
       "1  4d5c57ea9a6940dd891ad53e9dbe8da0    1      1       1       1   \n",
       "2  3f207df678b143eea3cee63160fa8bed    1      1       0       1   \n",
       "3  9b98b8c7a33c4b65b9aebfe6a799e6d9    1      1       0       1   \n",
       "4  0b1e1539f2cc45b7b9fa7c272da2e1d7    1      1       0       0   \n",
       "\n",
       "   duration_in_hours  \n",
       "0                168  \n",
       "1                120  \n",
       "2                 96  \n",
       "3                168  \n",
       "4                240  "
      ]
     },
     "execution_count": 21,
     "metadata": {},
     "output_type": "execute_result"
    }
   ],
   "source": [
    "portfolio.head()"
   ]
  },
  {
   "cell_type": "markdown",
   "metadata": {},
   "source": [
    "### profile\n",
    "#### 'became_member_on' needs to be converted to a datetime \n",
    "\n"
   ]
  },
  {
   "cell_type": "code",
   "execution_count": 22,
   "metadata": {},
   "outputs": [],
   "source": [
    "profile['became_member_on'] = pd.to_datetime(profile['became_member_on'], format='%Y/%m/%d')"
   ]
  },
  {
   "cell_type": "code",
   "execution_count": 23,
   "metadata": {},
   "outputs": [
    {
     "data": {
      "text/html": [
       "<div>\n",
       "<style scoped>\n",
       "    .dataframe tbody tr th:only-of-type {\n",
       "        vertical-align: middle;\n",
       "    }\n",
       "\n",
       "    .dataframe tbody tr th {\n",
       "        vertical-align: top;\n",
       "    }\n",
       "\n",
       "    .dataframe thead th {\n",
       "        text-align: right;\n",
       "    }\n",
       "</style>\n",
       "<table border=\"1\" class=\"dataframe\">\n",
       "  <thead>\n",
       "    <tr style=\"text-align: right;\">\n",
       "      <th></th>\n",
       "      <th>gender</th>\n",
       "      <th>age</th>\n",
       "      <th>id</th>\n",
       "      <th>became_member_on</th>\n",
       "      <th>income</th>\n",
       "    </tr>\n",
       "  </thead>\n",
       "  <tbody>\n",
       "    <tr>\n",
       "      <th>0</th>\n",
       "      <td>None</td>\n",
       "      <td>118</td>\n",
       "      <td>68be06ca386d4c31939f3a4f0e3dd783</td>\n",
       "      <td>1970-01-01 00:00:00.020170212</td>\n",
       "      <td>NaN</td>\n",
       "    </tr>\n",
       "    <tr>\n",
       "      <th>1</th>\n",
       "      <td>F</td>\n",
       "      <td>55</td>\n",
       "      <td>0610b486422d4921ae7d2bf64640c50b</td>\n",
       "      <td>1970-01-01 00:00:00.020170715</td>\n",
       "      <td>112000.0</td>\n",
       "    </tr>\n",
       "    <tr>\n",
       "      <th>2</th>\n",
       "      <td>None</td>\n",
       "      <td>118</td>\n",
       "      <td>38fe809add3b4fcf9315a9694bb96ff5</td>\n",
       "      <td>1970-01-01 00:00:00.020180712</td>\n",
       "      <td>NaN</td>\n",
       "    </tr>\n",
       "    <tr>\n",
       "      <th>3</th>\n",
       "      <td>F</td>\n",
       "      <td>75</td>\n",
       "      <td>78afa995795e4d85b5d9ceeca43f5fef</td>\n",
       "      <td>1970-01-01 00:00:00.020170509</td>\n",
       "      <td>100000.0</td>\n",
       "    </tr>\n",
       "    <tr>\n",
       "      <th>4</th>\n",
       "      <td>None</td>\n",
       "      <td>118</td>\n",
       "      <td>a03223e636434f42ac4c3df47e8bac43</td>\n",
       "      <td>1970-01-01 00:00:00.020170804</td>\n",
       "      <td>NaN</td>\n",
       "    </tr>\n",
       "  </tbody>\n",
       "</table>\n",
       "</div>"
      ],
      "text/plain": [
       "  gender  age                                id              became_member_on  \\\n",
       "0   None  118  68be06ca386d4c31939f3a4f0e3dd783 1970-01-01 00:00:00.020170212   \n",
       "1      F   55  0610b486422d4921ae7d2bf64640c50b 1970-01-01 00:00:00.020170715   \n",
       "2   None  118  38fe809add3b4fcf9315a9694bb96ff5 1970-01-01 00:00:00.020180712   \n",
       "3      F   75  78afa995795e4d85b5d9ceeca43f5fef 1970-01-01 00:00:00.020170509   \n",
       "4   None  118  a03223e636434f42ac4c3df47e8bac43 1970-01-01 00:00:00.020170804   \n",
       "\n",
       "     income  \n",
       "0       NaN  \n",
       "1  112000.0  \n",
       "2       NaN  \n",
       "3  100000.0  \n",
       "4       NaN  "
      ]
     },
     "execution_count": 23,
     "metadata": {},
     "output_type": "execute_result"
    }
   ],
   "source": [
    "profile.head()"
   ]
  },
  {
   "cell_type": "markdown",
   "metadata": {},
   "source": [
    "### trancript\n",
    "#### data stored in the 'value column' needs to be expanded categorically\n"
   ]
  },
  {
   "cell_type": "code",
   "execution_count": 24,
   "metadata": {},
   "outputs": [
    {
     "name": "stdout",
     "output_type": "stream",
     "text": [
      "{'reward', 'offer id', 'offer_id', 'amount'}\n"
     ]
    }
   ],
   "source": [
    "d_keys = []\n",
    "\n",
    "for _, row in transcript.iterrows():\n",
    "    for key in list(row['value'].keys()):\n",
    "        d_keys.append(key)\n",
    "    \n",
    "d_keys = set(d_keys)\n",
    "\n",
    "print(d_keys)\n",
    "\n",
    "for key in d_keys:\n",
    "    transcript[key]=transcript['value'].apply(lambda x: x[key] if key in x else None)\n",
    "    \n",
    "transcript.drop('value', axis=1, inplace=True)\n",
    "    "
   ]
  },
  {
   "cell_type": "code",
   "execution_count": 25,
   "metadata": {},
   "outputs": [],
   "source": [
    "amount_indecies = transcript[transcript['amount'].notnull()].index.values\n",
    "noamount_indicies = transcript[transcript['amount'].isnull()].index.values\n",
    "reward_indicies = transcript[transcript['reward'].notnull()].index.values"
   ]
  },
  {
   "cell_type": "code",
   "execution_count": 26,
   "metadata": {},
   "outputs": [
    {
     "data": {
      "text/html": [
       "<div>\n",
       "<style scoped>\n",
       "    .dataframe tbody tr th:only-of-type {\n",
       "        vertical-align: middle;\n",
       "    }\n",
       "\n",
       "    .dataframe tbody tr th {\n",
       "        vertical-align: top;\n",
       "    }\n",
       "\n",
       "    .dataframe thead th {\n",
       "        text-align: right;\n",
       "    }\n",
       "</style>\n",
       "<table border=\"1\" class=\"dataframe\">\n",
       "  <thead>\n",
       "    <tr style=\"text-align: right;\">\n",
       "      <th></th>\n",
       "      <th>person</th>\n",
       "      <th>event</th>\n",
       "      <th>time</th>\n",
       "      <th>reward</th>\n",
       "      <th>offer id</th>\n",
       "      <th>offer_id</th>\n",
       "      <th>amount</th>\n",
       "    </tr>\n",
       "  </thead>\n",
       "  <tbody>\n",
       "    <tr>\n",
       "      <th>12658</th>\n",
       "      <td>9fa9ae8f57894cc9a3b8a9bbe0fc1b2f</td>\n",
       "      <td>offer completed</td>\n",
       "      <td>0</td>\n",
       "      <td>2.0</td>\n",
       "      <td>None</td>\n",
       "      <td>2906b810c7d4411798c6938adc9daaa5</td>\n",
       "      <td>NaN</td>\n",
       "    </tr>\n",
       "    <tr>\n",
       "      <th>12672</th>\n",
       "      <td>fe97aa22dd3e48c8b143116a8403dd52</td>\n",
       "      <td>offer completed</td>\n",
       "      <td>0</td>\n",
       "      <td>2.0</td>\n",
       "      <td>None</td>\n",
       "      <td>fafdcd668e3743c1bb461111dcafc2a4</td>\n",
       "      <td>NaN</td>\n",
       "    </tr>\n",
       "    <tr>\n",
       "      <th>12679</th>\n",
       "      <td>629fc02d56414d91bca360decdfa9288</td>\n",
       "      <td>offer completed</td>\n",
       "      <td>0</td>\n",
       "      <td>5.0</td>\n",
       "      <td>None</td>\n",
       "      <td>9b98b8c7a33c4b65b9aebfe6a799e6d9</td>\n",
       "      <td>NaN</td>\n",
       "    </tr>\n",
       "    <tr>\n",
       "      <th>12692</th>\n",
       "      <td>676506bad68e4161b9bbaffeb039626b</td>\n",
       "      <td>offer completed</td>\n",
       "      <td>0</td>\n",
       "      <td>10.0</td>\n",
       "      <td>None</td>\n",
       "      <td>ae264e3637204a6fb9bb56bc8210ddfd</td>\n",
       "      <td>NaN</td>\n",
       "    </tr>\n",
       "    <tr>\n",
       "      <th>12697</th>\n",
       "      <td>8f7dd3b2afe14c078eb4f6e6fe4ba97d</td>\n",
       "      <td>offer completed</td>\n",
       "      <td>0</td>\n",
       "      <td>10.0</td>\n",
       "      <td>None</td>\n",
       "      <td>4d5c57ea9a6940dd891ad53e9dbe8da0</td>\n",
       "      <td>NaN</td>\n",
       "    </tr>\n",
       "  </tbody>\n",
       "</table>\n",
       "</div>"
      ],
      "text/plain": [
       "                                 person            event  time  reward  \\\n",
       "12658  9fa9ae8f57894cc9a3b8a9bbe0fc1b2f  offer completed     0     2.0   \n",
       "12672  fe97aa22dd3e48c8b143116a8403dd52  offer completed     0     2.0   \n",
       "12679  629fc02d56414d91bca360decdfa9288  offer completed     0     5.0   \n",
       "12692  676506bad68e4161b9bbaffeb039626b  offer completed     0    10.0   \n",
       "12697  8f7dd3b2afe14c078eb4f6e6fe4ba97d  offer completed     0    10.0   \n",
       "\n",
       "      offer id                          offer_id  amount  \n",
       "12658     None  2906b810c7d4411798c6938adc9daaa5     NaN  \n",
       "12672     None  fafdcd668e3743c1bb461111dcafc2a4     NaN  \n",
       "12679     None  9b98b8c7a33c4b65b9aebfe6a799e6d9     NaN  \n",
       "12692     None  ae264e3637204a6fb9bb56bc8210ddfd     NaN  \n",
       "12697     None  4d5c57ea9a6940dd891ad53e9dbe8da0     NaN  "
      ]
     },
     "execution_count": 26,
     "metadata": {},
     "output_type": "execute_result"
    }
   ],
   "source": [
    "transcript.loc[reward_indicies].head()"
   ]
  },
  {
   "cell_type": "code",
   "execution_count": 27,
   "metadata": {},
   "outputs": [
    {
     "data": {
      "text/html": [
       "<div>\n",
       "<style scoped>\n",
       "    .dataframe tbody tr th:only-of-type {\n",
       "        vertical-align: middle;\n",
       "    }\n",
       "\n",
       "    .dataframe tbody tr th {\n",
       "        vertical-align: top;\n",
       "    }\n",
       "\n",
       "    .dataframe thead th {\n",
       "        text-align: right;\n",
       "    }\n",
       "</style>\n",
       "<table border=\"1\" class=\"dataframe\">\n",
       "  <thead>\n",
       "    <tr style=\"text-align: right;\">\n",
       "      <th></th>\n",
       "      <th>person</th>\n",
       "      <th>event</th>\n",
       "      <th>time</th>\n",
       "      <th>reward</th>\n",
       "      <th>offer id</th>\n",
       "      <th>offer_id</th>\n",
       "      <th>amount</th>\n",
       "    </tr>\n",
       "  </thead>\n",
       "  <tbody>\n",
       "    <tr>\n",
       "      <th>12654</th>\n",
       "      <td>02c083884c7d45b39cc68e1314fec56c</td>\n",
       "      <td>transaction</td>\n",
       "      <td>0</td>\n",
       "      <td>NaN</td>\n",
       "      <td>None</td>\n",
       "      <td>None</td>\n",
       "      <td>0.83</td>\n",
       "    </tr>\n",
       "    <tr>\n",
       "      <th>12657</th>\n",
       "      <td>9fa9ae8f57894cc9a3b8a9bbe0fc1b2f</td>\n",
       "      <td>transaction</td>\n",
       "      <td>0</td>\n",
       "      <td>NaN</td>\n",
       "      <td>None</td>\n",
       "      <td>None</td>\n",
       "      <td>34.56</td>\n",
       "    </tr>\n",
       "    <tr>\n",
       "      <th>12659</th>\n",
       "      <td>54890f68699049c2a04d415abc25e717</td>\n",
       "      <td>transaction</td>\n",
       "      <td>0</td>\n",
       "      <td>NaN</td>\n",
       "      <td>None</td>\n",
       "      <td>None</td>\n",
       "      <td>13.23</td>\n",
       "    </tr>\n",
       "    <tr>\n",
       "      <th>12670</th>\n",
       "      <td>b2f1cd155b864803ad8334cdf13c4bd2</td>\n",
       "      <td>transaction</td>\n",
       "      <td>0</td>\n",
       "      <td>NaN</td>\n",
       "      <td>None</td>\n",
       "      <td>None</td>\n",
       "      <td>19.51</td>\n",
       "    </tr>\n",
       "    <tr>\n",
       "      <th>12671</th>\n",
       "      <td>fe97aa22dd3e48c8b143116a8403dd52</td>\n",
       "      <td>transaction</td>\n",
       "      <td>0</td>\n",
       "      <td>NaN</td>\n",
       "      <td>None</td>\n",
       "      <td>None</td>\n",
       "      <td>18.97</td>\n",
       "    </tr>\n",
       "  </tbody>\n",
       "</table>\n",
       "</div>"
      ],
      "text/plain": [
       "                                 person        event  time  reward offer id  \\\n",
       "12654  02c083884c7d45b39cc68e1314fec56c  transaction     0     NaN     None   \n",
       "12657  9fa9ae8f57894cc9a3b8a9bbe0fc1b2f  transaction     0     NaN     None   \n",
       "12659  54890f68699049c2a04d415abc25e717  transaction     0     NaN     None   \n",
       "12670  b2f1cd155b864803ad8334cdf13c4bd2  transaction     0     NaN     None   \n",
       "12671  fe97aa22dd3e48c8b143116a8403dd52  transaction     0     NaN     None   \n",
       "\n",
       "      offer_id  amount  \n",
       "12654     None    0.83  \n",
       "12657     None   34.56  \n",
       "12659     None   13.23  \n",
       "12670     None   19.51  \n",
       "12671     None   18.97  "
      ]
     },
     "execution_count": 27,
     "metadata": {},
     "output_type": "execute_result"
    }
   ],
   "source": [
    "transcript.loc[amount_indecies].head()"
   ]
  },
  {
   "cell_type": "code",
   "execution_count": 28,
   "metadata": {},
   "outputs": [
    {
     "data": {
      "text/html": [
       "<div>\n",
       "<style scoped>\n",
       "    .dataframe tbody tr th:only-of-type {\n",
       "        vertical-align: middle;\n",
       "    }\n",
       "\n",
       "    .dataframe tbody tr th {\n",
       "        vertical-align: top;\n",
       "    }\n",
       "\n",
       "    .dataframe thead th {\n",
       "        text-align: right;\n",
       "    }\n",
       "</style>\n",
       "<table border=\"1\" class=\"dataframe\">\n",
       "  <thead>\n",
       "    <tr style=\"text-align: right;\">\n",
       "      <th></th>\n",
       "      <th>person</th>\n",
       "      <th>event</th>\n",
       "      <th>time</th>\n",
       "      <th>reward</th>\n",
       "      <th>offer id</th>\n",
       "      <th>offer_id</th>\n",
       "      <th>amount</th>\n",
       "    </tr>\n",
       "  </thead>\n",
       "  <tbody>\n",
       "    <tr>\n",
       "      <th>0</th>\n",
       "      <td>78afa995795e4d85b5d9ceeca43f5fef</td>\n",
       "      <td>offer received</td>\n",
       "      <td>0</td>\n",
       "      <td>NaN</td>\n",
       "      <td>9b98b8c7a33c4b65b9aebfe6a799e6d9</td>\n",
       "      <td>None</td>\n",
       "      <td>NaN</td>\n",
       "    </tr>\n",
       "    <tr>\n",
       "      <th>1</th>\n",
       "      <td>a03223e636434f42ac4c3df47e8bac43</td>\n",
       "      <td>offer received</td>\n",
       "      <td>0</td>\n",
       "      <td>NaN</td>\n",
       "      <td>0b1e1539f2cc45b7b9fa7c272da2e1d7</td>\n",
       "      <td>None</td>\n",
       "      <td>NaN</td>\n",
       "    </tr>\n",
       "    <tr>\n",
       "      <th>2</th>\n",
       "      <td>e2127556f4f64592b11af22de27a7932</td>\n",
       "      <td>offer received</td>\n",
       "      <td>0</td>\n",
       "      <td>NaN</td>\n",
       "      <td>2906b810c7d4411798c6938adc9daaa5</td>\n",
       "      <td>None</td>\n",
       "      <td>NaN</td>\n",
       "    </tr>\n",
       "    <tr>\n",
       "      <th>3</th>\n",
       "      <td>8ec6ce2a7e7949b1bf142def7d0e0586</td>\n",
       "      <td>offer received</td>\n",
       "      <td>0</td>\n",
       "      <td>NaN</td>\n",
       "      <td>fafdcd668e3743c1bb461111dcafc2a4</td>\n",
       "      <td>None</td>\n",
       "      <td>NaN</td>\n",
       "    </tr>\n",
       "    <tr>\n",
       "      <th>4</th>\n",
       "      <td>68617ca6246f4fbc85e91a2a49552598</td>\n",
       "      <td>offer received</td>\n",
       "      <td>0</td>\n",
       "      <td>NaN</td>\n",
       "      <td>4d5c57ea9a6940dd891ad53e9dbe8da0</td>\n",
       "      <td>None</td>\n",
       "      <td>NaN</td>\n",
       "    </tr>\n",
       "  </tbody>\n",
       "</table>\n",
       "</div>"
      ],
      "text/plain": [
       "                             person           event  time  reward  \\\n",
       "0  78afa995795e4d85b5d9ceeca43f5fef  offer received     0     NaN   \n",
       "1  a03223e636434f42ac4c3df47e8bac43  offer received     0     NaN   \n",
       "2  e2127556f4f64592b11af22de27a7932  offer received     0     NaN   \n",
       "3  8ec6ce2a7e7949b1bf142def7d0e0586  offer received     0     NaN   \n",
       "4  68617ca6246f4fbc85e91a2a49552598  offer received     0     NaN   \n",
       "\n",
       "                           offer id offer_id  amount  \n",
       "0  9b98b8c7a33c4b65b9aebfe6a799e6d9     None     NaN  \n",
       "1  0b1e1539f2cc45b7b9fa7c272da2e1d7     None     NaN  \n",
       "2  2906b810c7d4411798c6938adc9daaa5     None     NaN  \n",
       "3  fafdcd668e3743c1bb461111dcafc2a4     None     NaN  \n",
       "4  4d5c57ea9a6940dd891ad53e9dbe8da0     None     NaN  "
      ]
     },
     "execution_count": 28,
     "metadata": {},
     "output_type": "execute_result"
    }
   ],
   "source": [
    "transcript.loc[noamount_indicies].head()"
   ]
  },
  {
   "cell_type": "code",
   "execution_count": 29,
   "metadata": {},
   "outputs": [
    {
     "data": {
      "text/plain": [
       "person       object\n",
       "event        object\n",
       "time          int64\n",
       "reward      float64\n",
       "offer id     object\n",
       "offer_id     object\n",
       "amount      float64\n",
       "dtype: object"
      ]
     },
     "execution_count": 29,
     "metadata": {},
     "output_type": "execute_result"
    }
   ],
   "source": [
    "transcript.dtypes"
   ]
  },
  {
   "cell_type": "code",
   "execution_count": 30,
   "metadata": {},
   "outputs": [
    {
     "data": {
      "text/html": [
       "<div>\n",
       "<style scoped>\n",
       "    .dataframe tbody tr th:only-of-type {\n",
       "        vertical-align: middle;\n",
       "    }\n",
       "\n",
       "    .dataframe tbody tr th {\n",
       "        vertical-align: top;\n",
       "    }\n",
       "\n",
       "    .dataframe thead th {\n",
       "        text-align: right;\n",
       "    }\n",
       "</style>\n",
       "<table border=\"1\" class=\"dataframe\">\n",
       "  <thead>\n",
       "    <tr style=\"text-align: right;\">\n",
       "      <th></th>\n",
       "      <th>person</th>\n",
       "      <th>event</th>\n",
       "      <th>time</th>\n",
       "      <th>reward</th>\n",
       "      <th>offer id</th>\n",
       "      <th>offer_id</th>\n",
       "      <th>amount</th>\n",
       "    </tr>\n",
       "  </thead>\n",
       "  <tbody>\n",
       "    <tr>\n",
       "      <th>0</th>\n",
       "      <td>78afa995795e4d85b5d9ceeca43f5fef</td>\n",
       "      <td>offer received</td>\n",
       "      <td>0</td>\n",
       "      <td>NaN</td>\n",
       "      <td>9b98b8c7a33c4b65b9aebfe6a799e6d9</td>\n",
       "      <td>None</td>\n",
       "      <td>NaN</td>\n",
       "    </tr>\n",
       "    <tr>\n",
       "      <th>1</th>\n",
       "      <td>a03223e636434f42ac4c3df47e8bac43</td>\n",
       "      <td>offer received</td>\n",
       "      <td>0</td>\n",
       "      <td>NaN</td>\n",
       "      <td>0b1e1539f2cc45b7b9fa7c272da2e1d7</td>\n",
       "      <td>None</td>\n",
       "      <td>NaN</td>\n",
       "    </tr>\n",
       "    <tr>\n",
       "      <th>2</th>\n",
       "      <td>e2127556f4f64592b11af22de27a7932</td>\n",
       "      <td>offer received</td>\n",
       "      <td>0</td>\n",
       "      <td>NaN</td>\n",
       "      <td>2906b810c7d4411798c6938adc9daaa5</td>\n",
       "      <td>None</td>\n",
       "      <td>NaN</td>\n",
       "    </tr>\n",
       "    <tr>\n",
       "      <th>3</th>\n",
       "      <td>8ec6ce2a7e7949b1bf142def7d0e0586</td>\n",
       "      <td>offer received</td>\n",
       "      <td>0</td>\n",
       "      <td>NaN</td>\n",
       "      <td>fafdcd668e3743c1bb461111dcafc2a4</td>\n",
       "      <td>None</td>\n",
       "      <td>NaN</td>\n",
       "    </tr>\n",
       "    <tr>\n",
       "      <th>4</th>\n",
       "      <td>68617ca6246f4fbc85e91a2a49552598</td>\n",
       "      <td>offer received</td>\n",
       "      <td>0</td>\n",
       "      <td>NaN</td>\n",
       "      <td>4d5c57ea9a6940dd891ad53e9dbe8da0</td>\n",
       "      <td>None</td>\n",
       "      <td>NaN</td>\n",
       "    </tr>\n",
       "  </tbody>\n",
       "</table>\n",
       "</div>"
      ],
      "text/plain": [
       "                             person           event  time  reward  \\\n",
       "0  78afa995795e4d85b5d9ceeca43f5fef  offer received     0     NaN   \n",
       "1  a03223e636434f42ac4c3df47e8bac43  offer received     0     NaN   \n",
       "2  e2127556f4f64592b11af22de27a7932  offer received     0     NaN   \n",
       "3  8ec6ce2a7e7949b1bf142def7d0e0586  offer received     0     NaN   \n",
       "4  68617ca6246f4fbc85e91a2a49552598  offer received     0     NaN   \n",
       "\n",
       "                           offer id offer_id  amount  \n",
       "0  9b98b8c7a33c4b65b9aebfe6a799e6d9     None     NaN  \n",
       "1  0b1e1539f2cc45b7b9fa7c272da2e1d7     None     NaN  \n",
       "2  2906b810c7d4411798c6938adc9daaa5     None     NaN  \n",
       "3  fafdcd668e3743c1bb461111dcafc2a4     None     NaN  \n",
       "4  4d5c57ea9a6940dd891ad53e9dbe8da0     None     NaN  "
      ]
     },
     "execution_count": 30,
     "metadata": {},
     "output_type": "execute_result"
    }
   ],
   "source": [
    "t1 = transcript[transcript['offer id'].notnull()]\n",
    "t1.head()"
   ]
  },
  {
   "cell_type": "code",
   "execution_count": 31,
   "metadata": {},
   "outputs": [
    {
     "data": {
      "text/html": [
       "<div>\n",
       "<style scoped>\n",
       "    .dataframe tbody tr th:only-of-type {\n",
       "        vertical-align: middle;\n",
       "    }\n",
       "\n",
       "    .dataframe tbody tr th {\n",
       "        vertical-align: top;\n",
       "    }\n",
       "\n",
       "    .dataframe thead th {\n",
       "        text-align: right;\n",
       "    }\n",
       "</style>\n",
       "<table border=\"1\" class=\"dataframe\">\n",
       "  <thead>\n",
       "    <tr style=\"text-align: right;\">\n",
       "      <th></th>\n",
       "      <th>person</th>\n",
       "      <th>event</th>\n",
       "      <th>time</th>\n",
       "      <th>reward</th>\n",
       "      <th>offer id</th>\n",
       "      <th>offer_id</th>\n",
       "      <th>amount</th>\n",
       "    </tr>\n",
       "  </thead>\n",
       "  <tbody>\n",
       "    <tr>\n",
       "      <th>12658</th>\n",
       "      <td>9fa9ae8f57894cc9a3b8a9bbe0fc1b2f</td>\n",
       "      <td>offer completed</td>\n",
       "      <td>0</td>\n",
       "      <td>2.0</td>\n",
       "      <td>None</td>\n",
       "      <td>2906b810c7d4411798c6938adc9daaa5</td>\n",
       "      <td>NaN</td>\n",
       "    </tr>\n",
       "    <tr>\n",
       "      <th>12672</th>\n",
       "      <td>fe97aa22dd3e48c8b143116a8403dd52</td>\n",
       "      <td>offer completed</td>\n",
       "      <td>0</td>\n",
       "      <td>2.0</td>\n",
       "      <td>None</td>\n",
       "      <td>fafdcd668e3743c1bb461111dcafc2a4</td>\n",
       "      <td>NaN</td>\n",
       "    </tr>\n",
       "    <tr>\n",
       "      <th>12679</th>\n",
       "      <td>629fc02d56414d91bca360decdfa9288</td>\n",
       "      <td>offer completed</td>\n",
       "      <td>0</td>\n",
       "      <td>5.0</td>\n",
       "      <td>None</td>\n",
       "      <td>9b98b8c7a33c4b65b9aebfe6a799e6d9</td>\n",
       "      <td>NaN</td>\n",
       "    </tr>\n",
       "    <tr>\n",
       "      <th>12692</th>\n",
       "      <td>676506bad68e4161b9bbaffeb039626b</td>\n",
       "      <td>offer completed</td>\n",
       "      <td>0</td>\n",
       "      <td>10.0</td>\n",
       "      <td>None</td>\n",
       "      <td>ae264e3637204a6fb9bb56bc8210ddfd</td>\n",
       "      <td>NaN</td>\n",
       "    </tr>\n",
       "    <tr>\n",
       "      <th>12697</th>\n",
       "      <td>8f7dd3b2afe14c078eb4f6e6fe4ba97d</td>\n",
       "      <td>offer completed</td>\n",
       "      <td>0</td>\n",
       "      <td>10.0</td>\n",
       "      <td>None</td>\n",
       "      <td>4d5c57ea9a6940dd891ad53e9dbe8da0</td>\n",
       "      <td>NaN</td>\n",
       "    </tr>\n",
       "  </tbody>\n",
       "</table>\n",
       "</div>"
      ],
      "text/plain": [
       "                                 person            event  time  reward  \\\n",
       "12658  9fa9ae8f57894cc9a3b8a9bbe0fc1b2f  offer completed     0     2.0   \n",
       "12672  fe97aa22dd3e48c8b143116a8403dd52  offer completed     0     2.0   \n",
       "12679  629fc02d56414d91bca360decdfa9288  offer completed     0     5.0   \n",
       "12692  676506bad68e4161b9bbaffeb039626b  offer completed     0    10.0   \n",
       "12697  8f7dd3b2afe14c078eb4f6e6fe4ba97d  offer completed     0    10.0   \n",
       "\n",
       "      offer id                          offer_id  amount  \n",
       "12658     None  2906b810c7d4411798c6938adc9daaa5     NaN  \n",
       "12672     None  fafdcd668e3743c1bb461111dcafc2a4     NaN  \n",
       "12679     None  9b98b8c7a33c4b65b9aebfe6a799e6d9     NaN  \n",
       "12692     None  ae264e3637204a6fb9bb56bc8210ddfd     NaN  \n",
       "12697     None  4d5c57ea9a6940dd891ad53e9dbe8da0     NaN  "
      ]
     },
     "execution_count": 31,
     "metadata": {},
     "output_type": "execute_result"
    }
   ],
   "source": [
    "t2 = transcript[transcript['offer_id'].notnull()]\n",
    "t2.head()"
   ]
  },
  {
   "cell_type": "markdown",
   "metadata": {},
   "source": [
    "### We can see that the transcript data has two different values that should be 1 column, 'offer id' and 'offer_id' so we need to make a new column that has all offer_ids"
   ]
  },
  {
   "cell_type": "code",
   "execution_count": 32,
   "metadata": {},
   "outputs": [],
   "source": [
    "transcript = transcript.rename(columns={'offer id':'o1_id', 'offer_id':'o2_id'})"
   ]
  },
  {
   "cell_type": "code",
   "execution_count": 33,
   "metadata": {},
   "outputs": [
    {
     "data": {
      "text/html": [
       "<div>\n",
       "<style scoped>\n",
       "    .dataframe tbody tr th:only-of-type {\n",
       "        vertical-align: middle;\n",
       "    }\n",
       "\n",
       "    .dataframe tbody tr th {\n",
       "        vertical-align: top;\n",
       "    }\n",
       "\n",
       "    .dataframe thead th {\n",
       "        text-align: right;\n",
       "    }\n",
       "</style>\n",
       "<table border=\"1\" class=\"dataframe\">\n",
       "  <thead>\n",
       "    <tr style=\"text-align: right;\">\n",
       "      <th></th>\n",
       "      <th>person</th>\n",
       "      <th>event</th>\n",
       "      <th>time</th>\n",
       "      <th>reward</th>\n",
       "      <th>o1_id</th>\n",
       "      <th>o2_id</th>\n",
       "      <th>amount</th>\n",
       "    </tr>\n",
       "  </thead>\n",
       "  <tbody>\n",
       "    <tr>\n",
       "      <th>0</th>\n",
       "      <td>78afa995795e4d85b5d9ceeca43f5fef</td>\n",
       "      <td>offer received</td>\n",
       "      <td>0</td>\n",
       "      <td>NaN</td>\n",
       "      <td>9b98b8c7a33c4b65b9aebfe6a799e6d9</td>\n",
       "      <td>None</td>\n",
       "      <td>NaN</td>\n",
       "    </tr>\n",
       "    <tr>\n",
       "      <th>1</th>\n",
       "      <td>a03223e636434f42ac4c3df47e8bac43</td>\n",
       "      <td>offer received</td>\n",
       "      <td>0</td>\n",
       "      <td>NaN</td>\n",
       "      <td>0b1e1539f2cc45b7b9fa7c272da2e1d7</td>\n",
       "      <td>None</td>\n",
       "      <td>NaN</td>\n",
       "    </tr>\n",
       "    <tr>\n",
       "      <th>2</th>\n",
       "      <td>e2127556f4f64592b11af22de27a7932</td>\n",
       "      <td>offer received</td>\n",
       "      <td>0</td>\n",
       "      <td>NaN</td>\n",
       "      <td>2906b810c7d4411798c6938adc9daaa5</td>\n",
       "      <td>None</td>\n",
       "      <td>NaN</td>\n",
       "    </tr>\n",
       "    <tr>\n",
       "      <th>3</th>\n",
       "      <td>8ec6ce2a7e7949b1bf142def7d0e0586</td>\n",
       "      <td>offer received</td>\n",
       "      <td>0</td>\n",
       "      <td>NaN</td>\n",
       "      <td>fafdcd668e3743c1bb461111dcafc2a4</td>\n",
       "      <td>None</td>\n",
       "      <td>NaN</td>\n",
       "    </tr>\n",
       "    <tr>\n",
       "      <th>4</th>\n",
       "      <td>68617ca6246f4fbc85e91a2a49552598</td>\n",
       "      <td>offer received</td>\n",
       "      <td>0</td>\n",
       "      <td>NaN</td>\n",
       "      <td>4d5c57ea9a6940dd891ad53e9dbe8da0</td>\n",
       "      <td>None</td>\n",
       "      <td>NaN</td>\n",
       "    </tr>\n",
       "  </tbody>\n",
       "</table>\n",
       "</div>"
      ],
      "text/plain": [
       "                             person           event  time  reward  \\\n",
       "0  78afa995795e4d85b5d9ceeca43f5fef  offer received     0     NaN   \n",
       "1  a03223e636434f42ac4c3df47e8bac43  offer received     0     NaN   \n",
       "2  e2127556f4f64592b11af22de27a7932  offer received     0     NaN   \n",
       "3  8ec6ce2a7e7949b1bf142def7d0e0586  offer received     0     NaN   \n",
       "4  68617ca6246f4fbc85e91a2a49552598  offer received     0     NaN   \n",
       "\n",
       "                              o1_id o2_id  amount  \n",
       "0  9b98b8c7a33c4b65b9aebfe6a799e6d9  None     NaN  \n",
       "1  0b1e1539f2cc45b7b9fa7c272da2e1d7  None     NaN  \n",
       "2  2906b810c7d4411798c6938adc9daaa5  None     NaN  \n",
       "3  fafdcd668e3743c1bb461111dcafc2a4  None     NaN  \n",
       "4  4d5c57ea9a6940dd891ad53e9dbe8da0  None     NaN  "
      ]
     },
     "execution_count": 33,
     "metadata": {},
     "output_type": "execute_result"
    }
   ],
   "source": [
    "transcript.head()"
   ]
  },
  {
   "cell_type": "code",
   "execution_count": 34,
   "metadata": {},
   "outputs": [],
   "source": [
    "def get_offer_id(row):\n",
    "    if row['o1_id']:\n",
    "        return row['o1_id']\n",
    "    elif row['o2_id']:\n",
    "        return row['o2_id']\n",
    "    else:\n",
    "        return None"
   ]
  },
  {
   "cell_type": "code",
   "execution_count": 35,
   "metadata": {},
   "outputs": [],
   "source": [
    "transcript['offer_id'] = transcript.apply(get_offer_id, axis=1)"
   ]
  },
  {
   "cell_type": "code",
   "execution_count": 36,
   "metadata": {},
   "outputs": [
    {
     "data": {
      "text/html": [
       "<div>\n",
       "<style scoped>\n",
       "    .dataframe tbody tr th:only-of-type {\n",
       "        vertical-align: middle;\n",
       "    }\n",
       "\n",
       "    .dataframe tbody tr th {\n",
       "        vertical-align: top;\n",
       "    }\n",
       "\n",
       "    .dataframe thead th {\n",
       "        text-align: right;\n",
       "    }\n",
       "</style>\n",
       "<table border=\"1\" class=\"dataframe\">\n",
       "  <thead>\n",
       "    <tr style=\"text-align: right;\">\n",
       "      <th></th>\n",
       "      <th>person</th>\n",
       "      <th>event</th>\n",
       "      <th>time</th>\n",
       "      <th>reward</th>\n",
       "      <th>o1_id</th>\n",
       "      <th>o2_id</th>\n",
       "      <th>amount</th>\n",
       "      <th>offer_id</th>\n",
       "    </tr>\n",
       "  </thead>\n",
       "  <tbody>\n",
       "    <tr>\n",
       "      <th>0</th>\n",
       "      <td>78afa995795e4d85b5d9ceeca43f5fef</td>\n",
       "      <td>offer received</td>\n",
       "      <td>0</td>\n",
       "      <td>NaN</td>\n",
       "      <td>9b98b8c7a33c4b65b9aebfe6a799e6d9</td>\n",
       "      <td>None</td>\n",
       "      <td>NaN</td>\n",
       "      <td>9b98b8c7a33c4b65b9aebfe6a799e6d9</td>\n",
       "    </tr>\n",
       "    <tr>\n",
       "      <th>1</th>\n",
       "      <td>a03223e636434f42ac4c3df47e8bac43</td>\n",
       "      <td>offer received</td>\n",
       "      <td>0</td>\n",
       "      <td>NaN</td>\n",
       "      <td>0b1e1539f2cc45b7b9fa7c272da2e1d7</td>\n",
       "      <td>None</td>\n",
       "      <td>NaN</td>\n",
       "      <td>0b1e1539f2cc45b7b9fa7c272da2e1d7</td>\n",
       "    </tr>\n",
       "  </tbody>\n",
       "</table>\n",
       "</div>"
      ],
      "text/plain": [
       "                             person           event  time  reward  \\\n",
       "0  78afa995795e4d85b5d9ceeca43f5fef  offer received     0     NaN   \n",
       "1  a03223e636434f42ac4c3df47e8bac43  offer received     0     NaN   \n",
       "\n",
       "                              o1_id o2_id  amount  \\\n",
       "0  9b98b8c7a33c4b65b9aebfe6a799e6d9  None     NaN   \n",
       "1  0b1e1539f2cc45b7b9fa7c272da2e1d7  None     NaN   \n",
       "\n",
       "                           offer_id  \n",
       "0  9b98b8c7a33c4b65b9aebfe6a799e6d9  \n",
       "1  0b1e1539f2cc45b7b9fa7c272da2e1d7  "
      ]
     },
     "execution_count": 36,
     "metadata": {},
     "output_type": "execute_result"
    }
   ],
   "source": [
    "transcript.head(2)"
   ]
  },
  {
   "cell_type": "code",
   "execution_count": 37,
   "metadata": {},
   "outputs": [],
   "source": [
    "transcript.drop(['o1_id', 'o2_id'], axis=1, inplace=True)"
   ]
  },
  {
   "cell_type": "code",
   "execution_count": 38,
   "metadata": {},
   "outputs": [
    {
     "name": "stdout",
     "output_type": "stream",
     "text": [
      "                                 person            event  time  reward  amount                          offer_id\n",
      "12658  9fa9ae8f57894cc9a3b8a9bbe0fc1b2f  offer completed     0     2.0     NaN  2906b810c7d4411798c6938adc9daaa5\n",
      "offer completed: 33579\n",
      "                             person           event  time  reward  amount                          offer_id\n",
      "0  78afa995795e4d85b5d9ceeca43f5fef  offer received     0     NaN     NaN  9b98b8c7a33c4b65b9aebfe6a799e6d9\n",
      "offer received: 76277\n",
      "                                 person        event  time  reward  amount offer_id\n",
      "12654  02c083884c7d45b39cc68e1314fec56c  transaction     0     NaN    0.83     None\n",
      "transaction: 138953\n",
      "                                 person         event  time  reward  amount                          offer_id\n",
      "12650  389bc3fa690240e798340f5a15918d5c  offer viewed     0     NaN     NaN  f19421c1d4aa40978ebb69ca19b0e20d\n",
      "offer viewed: 57725\n"
     ]
    }
   ],
   "source": [
    "events = set(transcript['event'])\n",
    "total_count = 0\n",
    "for event in events:\n",
    "    count = transcript[transcript['event']==event].shape[0]\n",
    "    print(transcript[transcript['event']==event].head(1).to_string())\n",
    "    total_count += count\n",
    "    print(f'{event}: {count}')"
   ]
  },
  {
   "cell_type": "markdown",
   "metadata": {},
   "source": [
    "## Now we have merged 'offer_id' and 'offer id' into a single column and we can begin to explore the data"
   ]
  },
  {
   "cell_type": "markdown",
   "metadata": {},
   "source": [
    "### Lets look at a simple description of each dataframe"
   ]
  },
  {
   "cell_type": "code",
   "execution_count": 39,
   "metadata": {},
   "outputs": [
    {
     "data": {
      "text/html": [
       "<div>\n",
       "<style scoped>\n",
       "    .dataframe tbody tr th:only-of-type {\n",
       "        vertical-align: middle;\n",
       "    }\n",
       "\n",
       "    .dataframe tbody tr th {\n",
       "        vertical-align: top;\n",
       "    }\n",
       "\n",
       "    .dataframe thead th {\n",
       "        text-align: right;\n",
       "    }\n",
       "</style>\n",
       "<table border=\"1\" class=\"dataframe\">\n",
       "  <thead>\n",
       "    <tr style=\"text-align: right;\">\n",
       "      <th></th>\n",
       "      <th>reward</th>\n",
       "      <th>difficulty</th>\n",
       "      <th>duration</th>\n",
       "      <th>web</th>\n",
       "      <th>email</th>\n",
       "      <th>social</th>\n",
       "      <th>mobile</th>\n",
       "      <th>duration_in_hours</th>\n",
       "    </tr>\n",
       "  </thead>\n",
       "  <tbody>\n",
       "    <tr>\n",
       "      <th>count</th>\n",
       "      <td>10.000000</td>\n",
       "      <td>10.000000</td>\n",
       "      <td>10.000000</td>\n",
       "      <td>10.000000</td>\n",
       "      <td>10.0</td>\n",
       "      <td>10.000000</td>\n",
       "      <td>10.000000</td>\n",
       "      <td>10.000000</td>\n",
       "    </tr>\n",
       "    <tr>\n",
       "      <th>mean</th>\n",
       "      <td>4.200000</td>\n",
       "      <td>7.700000</td>\n",
       "      <td>6.500000</td>\n",
       "      <td>0.800000</td>\n",
       "      <td>1.0</td>\n",
       "      <td>0.600000</td>\n",
       "      <td>0.900000</td>\n",
       "      <td>156.000000</td>\n",
       "    </tr>\n",
       "    <tr>\n",
       "      <th>std</th>\n",
       "      <td>3.583915</td>\n",
       "      <td>5.831905</td>\n",
       "      <td>2.321398</td>\n",
       "      <td>0.421637</td>\n",
       "      <td>0.0</td>\n",
       "      <td>0.516398</td>\n",
       "      <td>0.316228</td>\n",
       "      <td>55.713553</td>\n",
       "    </tr>\n",
       "    <tr>\n",
       "      <th>min</th>\n",
       "      <td>0.000000</td>\n",
       "      <td>0.000000</td>\n",
       "      <td>3.000000</td>\n",
       "      <td>0.000000</td>\n",
       "      <td>1.0</td>\n",
       "      <td>0.000000</td>\n",
       "      <td>0.000000</td>\n",
       "      <td>72.000000</td>\n",
       "    </tr>\n",
       "    <tr>\n",
       "      <th>25%</th>\n",
       "      <td>2.000000</td>\n",
       "      <td>5.000000</td>\n",
       "      <td>5.000000</td>\n",
       "      <td>1.000000</td>\n",
       "      <td>1.0</td>\n",
       "      <td>0.000000</td>\n",
       "      <td>1.000000</td>\n",
       "      <td>120.000000</td>\n",
       "    </tr>\n",
       "    <tr>\n",
       "      <th>50%</th>\n",
       "      <td>4.000000</td>\n",
       "      <td>8.500000</td>\n",
       "      <td>7.000000</td>\n",
       "      <td>1.000000</td>\n",
       "      <td>1.0</td>\n",
       "      <td>1.000000</td>\n",
       "      <td>1.000000</td>\n",
       "      <td>168.000000</td>\n",
       "    </tr>\n",
       "    <tr>\n",
       "      <th>75%</th>\n",
       "      <td>5.000000</td>\n",
       "      <td>10.000000</td>\n",
       "      <td>7.000000</td>\n",
       "      <td>1.000000</td>\n",
       "      <td>1.0</td>\n",
       "      <td>1.000000</td>\n",
       "      <td>1.000000</td>\n",
       "      <td>168.000000</td>\n",
       "    </tr>\n",
       "    <tr>\n",
       "      <th>max</th>\n",
       "      <td>10.000000</td>\n",
       "      <td>20.000000</td>\n",
       "      <td>10.000000</td>\n",
       "      <td>1.000000</td>\n",
       "      <td>1.0</td>\n",
       "      <td>1.000000</td>\n",
       "      <td>1.000000</td>\n",
       "      <td>240.000000</td>\n",
       "    </tr>\n",
       "  </tbody>\n",
       "</table>\n",
       "</div>"
      ],
      "text/plain": [
       "          reward  difficulty   duration        web  email     social  \\\n",
       "count  10.000000   10.000000  10.000000  10.000000   10.0  10.000000   \n",
       "mean    4.200000    7.700000   6.500000   0.800000    1.0   0.600000   \n",
       "std     3.583915    5.831905   2.321398   0.421637    0.0   0.516398   \n",
       "min     0.000000    0.000000   3.000000   0.000000    1.0   0.000000   \n",
       "25%     2.000000    5.000000   5.000000   1.000000    1.0   0.000000   \n",
       "50%     4.000000    8.500000   7.000000   1.000000    1.0   1.000000   \n",
       "75%     5.000000   10.000000   7.000000   1.000000    1.0   1.000000   \n",
       "max    10.000000   20.000000  10.000000   1.000000    1.0   1.000000   \n",
       "\n",
       "          mobile  duration_in_hours  \n",
       "count  10.000000          10.000000  \n",
       "mean    0.900000         156.000000  \n",
       "std     0.316228          55.713553  \n",
       "min     0.000000          72.000000  \n",
       "25%     1.000000         120.000000  \n",
       "50%     1.000000         168.000000  \n",
       "75%     1.000000         168.000000  \n",
       "max     1.000000         240.000000  "
      ]
     },
     "execution_count": 39,
     "metadata": {},
     "output_type": "execute_result"
    }
   ],
   "source": [
    "portfolio.describe()"
   ]
  },
  {
   "cell_type": "code",
   "execution_count": 40,
   "metadata": {},
   "outputs": [
    {
     "data": {
      "text/html": [
       "<div>\n",
       "<style scoped>\n",
       "    .dataframe tbody tr th:only-of-type {\n",
       "        vertical-align: middle;\n",
       "    }\n",
       "\n",
       "    .dataframe tbody tr th {\n",
       "        vertical-align: top;\n",
       "    }\n",
       "\n",
       "    .dataframe thead th {\n",
       "        text-align: right;\n",
       "    }\n",
       "</style>\n",
       "<table border=\"1\" class=\"dataframe\">\n",
       "  <thead>\n",
       "    <tr style=\"text-align: right;\">\n",
       "      <th></th>\n",
       "      <th>age</th>\n",
       "      <th>income</th>\n",
       "    </tr>\n",
       "  </thead>\n",
       "  <tbody>\n",
       "    <tr>\n",
       "      <th>count</th>\n",
       "      <td>17000.000000</td>\n",
       "      <td>14825.000000</td>\n",
       "    </tr>\n",
       "    <tr>\n",
       "      <th>mean</th>\n",
       "      <td>62.531412</td>\n",
       "      <td>65404.991568</td>\n",
       "    </tr>\n",
       "    <tr>\n",
       "      <th>std</th>\n",
       "      <td>26.738580</td>\n",
       "      <td>21598.299410</td>\n",
       "    </tr>\n",
       "    <tr>\n",
       "      <th>min</th>\n",
       "      <td>18.000000</td>\n",
       "      <td>30000.000000</td>\n",
       "    </tr>\n",
       "    <tr>\n",
       "      <th>25%</th>\n",
       "      <td>45.000000</td>\n",
       "      <td>49000.000000</td>\n",
       "    </tr>\n",
       "    <tr>\n",
       "      <th>50%</th>\n",
       "      <td>58.000000</td>\n",
       "      <td>64000.000000</td>\n",
       "    </tr>\n",
       "    <tr>\n",
       "      <th>75%</th>\n",
       "      <td>73.000000</td>\n",
       "      <td>80000.000000</td>\n",
       "    </tr>\n",
       "    <tr>\n",
       "      <th>max</th>\n",
       "      <td>118.000000</td>\n",
       "      <td>120000.000000</td>\n",
       "    </tr>\n",
       "  </tbody>\n",
       "</table>\n",
       "</div>"
      ],
      "text/plain": [
       "                age         income\n",
       "count  17000.000000   14825.000000\n",
       "mean      62.531412   65404.991568\n",
       "std       26.738580   21598.299410\n",
       "min       18.000000   30000.000000\n",
       "25%       45.000000   49000.000000\n",
       "50%       58.000000   64000.000000\n",
       "75%       73.000000   80000.000000\n",
       "max      118.000000  120000.000000"
      ]
     },
     "execution_count": 40,
     "metadata": {},
     "output_type": "execute_result"
    }
   ],
   "source": [
    "profile.describe()"
   ]
  },
  {
   "cell_type": "code",
   "execution_count": 41,
   "metadata": {},
   "outputs": [
    {
     "data": {
      "text/html": [
       "<div>\n",
       "<style scoped>\n",
       "    .dataframe tbody tr th:only-of-type {\n",
       "        vertical-align: middle;\n",
       "    }\n",
       "\n",
       "    .dataframe tbody tr th {\n",
       "        vertical-align: top;\n",
       "    }\n",
       "\n",
       "    .dataframe thead th {\n",
       "        text-align: right;\n",
       "    }\n",
       "</style>\n",
       "<table border=\"1\" class=\"dataframe\">\n",
       "  <thead>\n",
       "    <tr style=\"text-align: right;\">\n",
       "      <th></th>\n",
       "      <th>time</th>\n",
       "      <th>reward</th>\n",
       "      <th>amount</th>\n",
       "    </tr>\n",
       "  </thead>\n",
       "  <tbody>\n",
       "    <tr>\n",
       "      <th>count</th>\n",
       "      <td>306534.000000</td>\n",
       "      <td>33579.000000</td>\n",
       "      <td>138953.000000</td>\n",
       "    </tr>\n",
       "    <tr>\n",
       "      <th>mean</th>\n",
       "      <td>366.382940</td>\n",
       "      <td>4.904137</td>\n",
       "      <td>12.777356</td>\n",
       "    </tr>\n",
       "    <tr>\n",
       "      <th>std</th>\n",
       "      <td>200.326314</td>\n",
       "      <td>2.886647</td>\n",
       "      <td>30.250529</td>\n",
       "    </tr>\n",
       "    <tr>\n",
       "      <th>min</th>\n",
       "      <td>0.000000</td>\n",
       "      <td>2.000000</td>\n",
       "      <td>0.050000</td>\n",
       "    </tr>\n",
       "    <tr>\n",
       "      <th>25%</th>\n",
       "      <td>186.000000</td>\n",
       "      <td>2.000000</td>\n",
       "      <td>2.780000</td>\n",
       "    </tr>\n",
       "    <tr>\n",
       "      <th>50%</th>\n",
       "      <td>408.000000</td>\n",
       "      <td>5.000000</td>\n",
       "      <td>8.890000</td>\n",
       "    </tr>\n",
       "    <tr>\n",
       "      <th>75%</th>\n",
       "      <td>528.000000</td>\n",
       "      <td>5.000000</td>\n",
       "      <td>18.070000</td>\n",
       "    </tr>\n",
       "    <tr>\n",
       "      <th>max</th>\n",
       "      <td>714.000000</td>\n",
       "      <td>10.000000</td>\n",
       "      <td>1062.280000</td>\n",
       "    </tr>\n",
       "  </tbody>\n",
       "</table>\n",
       "</div>"
      ],
      "text/plain": [
       "                time        reward         amount\n",
       "count  306534.000000  33579.000000  138953.000000\n",
       "mean      366.382940      4.904137      12.777356\n",
       "std       200.326314      2.886647      30.250529\n",
       "min         0.000000      2.000000       0.050000\n",
       "25%       186.000000      2.000000       2.780000\n",
       "50%       408.000000      5.000000       8.890000\n",
       "75%       528.000000      5.000000      18.070000\n",
       "max       714.000000     10.000000    1062.280000"
      ]
     },
     "execution_count": 41,
     "metadata": {},
     "output_type": "execute_result"
    }
   ],
   "source": [
    "transcript.describe()"
   ]
  },
  {
   "cell_type": "markdown",
   "metadata": {},
   "source": [
    "### Lets check some distribtions within our profile data"
   ]
  },
  {
   "cell_type": "code",
   "execution_count": 42,
   "metadata": {},
   "outputs": [],
   "source": [
    "def gender_income_vs_age(g):\n",
    "    '''Function to plot average income vs age\n",
    "    Args:\n",
    "        g (str): gender ()\n",
    "    Returns:\n",
    "    '''\n",
    "    # fit and fill male income\n",
    "    gender = profile[profile['gender']==g]\n",
    "    \n",
    "    #age_income = gender[gender['age']!=118].groupby('age')['income'].mean().reindex()\n",
    "    # offer_received_counts = offers_received.groupby('offer_id')['offer_id'].agg([('received_count','count')]).reset_index()\n",
    "    age_income = gender.groupby('age')['income'].agg([('average_income', 'mean'), ('STDDEV', 'std')]).reset_index()\n",
    "    \n",
    "    age = age_income['age'].values\n",
    "    average_income =  age_income['average_income'].values\n",
    "    std = age_income['STDDEV'].values\n",
    "    \n",
    "    #plt.plot(age, average_income, 'o')\n",
    "    \n",
    "    g_dict = {'M':'Male', 'F':'Female', 'O':'Other Gender'}\n",
    "    \n",
    "    plt.errorbar(age, average_income, yerr=std, color='k', lw=3,  ecolor='b')\n",
    "    plt.xlabel('Age')\n",
    "    title = f'Average {g_dict[g]} Income'\n",
    "    plt.ylabel('Average Income')\n",
    "    plt.title(title)"
   ]
  },
  {
   "cell_type": "code",
   "execution_count": 43,
   "metadata": {},
   "outputs": [
    {
     "data": {
      "image/png": "[encoded data removed]",
      "text/plain": [
       "<Figure size 432x288 with 1 Axes>"
      ]
     },
     "metadata": {
      "needs_background": "light"
     },
     "output_type": "display_data"
    }
   ],
   "source": [
    "gender_income_vs_age('M')"
   ]
  },
  {
   "cell_type": "code",
   "execution_count": 44,
   "metadata": {},
   "outputs": [
    {
     "data": {
      "image/png": "[encoded data removed]",
      "text/plain": [
       "<Figure size 432x288 with 1 Axes>"
      ]
     },
     "metadata": {
      "needs_background": "light"
     },
     "output_type": "display_data"
    }
   ],
   "source": [
    "gender_income_vs_age('F')"
   ]
  },
  {
   "cell_type": "code",
   "execution_count": 45,
   "metadata": {},
   "outputs": [
    {
     "data": {
      "image/png": "[encoded data removed]",
      "text/plain": [
       "<Figure size 432x288 with 1 Axes>"
      ]
     },
     "metadata": {
      "needs_background": "light"
     },
     "output_type": "display_data"
    }
   ],
   "source": [
    "gender_income_vs_age('O')"
   ]
  },
  {
   "cell_type": "code",
   "execution_count": 46,
   "metadata": {},
   "outputs": [
    {
     "data": {
      "text/plain": [
       "<matplotlib.axes._subplots.AxesSubplot at 0x7f5ee5a31160>"
      ]
     },
     "execution_count": 46,
     "metadata": {},
     "output_type": "execute_result"
    },
    {
     "data": {
      "image/png": "[encoded data removed]",
      "text/plain": [
       "<Figure size 432x288 with 1 Axes>"
      ]
     },
     "metadata": {
      "needs_background": "light"
     },
     "output_type": "display_data"
    }
   ],
   "source": [
    "profile['age'].plot.hist(bins=83, alpha=0.5)\n"
   ]
  },
  {
   "cell_type": "markdown",
   "metadata": {},
   "source": [
    "### We can see that after removing the users with age 118, the max user age is 101 and the average user age is 54.  We can also see an approximate normal distribution which is slightly skewed to have more users in the low age range than in the high age range."
   ]
  },
  {
   "cell_type": "code",
   "execution_count": 47,
   "metadata": {},
   "outputs": [
    {
     "data": {
      "text/plain": [
       "{'F', 'M', None, 'O'}"
      ]
     },
     "execution_count": 47,
     "metadata": {},
     "output_type": "execute_result"
    }
   ],
   "source": [
    "set(profile['gender'])"
   ]
  },
  {
   "cell_type": "code",
   "execution_count": 48,
   "metadata": {},
   "outputs": [],
   "source": [
    "profile['gender'].fillna('N', inplace=True)"
   ]
  },
  {
   "cell_type": "code",
   "execution_count": 49,
   "metadata": {},
   "outputs": [
    {
     "data": {
      "text/plain": [
       "(2175, 5)"
      ]
     },
     "execution_count": 49,
     "metadata": {},
     "output_type": "execute_result"
    }
   ],
   "source": [
    "profile[profile['gender']=='N'].shape"
   ]
  },
  {
   "cell_type": "markdown",
   "metadata": {},
   "source": [
    "### We have 4 different types of genders: female, male, other, not given"
   ]
  },
  {
   "cell_type": "code",
   "execution_count": 50,
   "metadata": {},
   "outputs": [
    {
     "name": "stdout",
     "output_type": "stream",
     "text": [
      "genders: ['F' 'M' 'N' 'O']\n",
      "gender_counts: [6129 8484 2175  212]\n"
     ]
    },
    {
     "data": {
      "text/plain": [
       "Text(0.5, 0, 'Gender')"
      ]
     },
     "execution_count": 50,
     "metadata": {},
     "output_type": "execute_result"
    },
    {
     "data": {
      "image/png": "[encoded data removed]",
      "text/plain": [
       "<Figure size 432x288 with 1 Axes>"
      ]
     },
     "metadata": {
      "needs_background": "light"
     },
     "output_type": "display_data"
    }
   ],
   "source": [
    "# Lets examine the gender distribution of the users\n",
    "gender_count = profile.groupby('gender')['gender'].count()\n",
    "\n",
    "genders = gender_count.index.values\n",
    "gender_counts = gender_count.values\n",
    "print(f'genders: {genders}')\n",
    "print(f'gender_counts: {gender_counts}')\n",
    "plt.bar(genders, gender_counts, color =('r', 'b', 'k', 'm'))\n",
    "plt.title('User Gender Distribution')\n",
    "plt.ylabel('Counts')\n",
    "plt.xlabel('Gender')"
   ]
  },
  {
   "cell_type": "markdown",
   "metadata": {},
   "source": [
    "### We can see here tht there are more male users than female users.  We can also see that there are 212 users that do not identify as male or female."
   ]
  },
  {
   "cell_type": "markdown",
   "metadata": {},
   "source": [
    "### Lets examine the age distribution of the users by gender"
   ]
  },
  {
   "cell_type": "code",
   "execution_count": 51,
   "metadata": {},
   "outputs": [
    {
     "data": {
      "text/plain": [
       "Text(0.5, 1.0, 'Male Age Distribution')"
      ]
     },
     "execution_count": 51,
     "metadata": {},
     "output_type": "execute_result"
    },
    {
     "data": {
      "image/png": "[encoded data removed]",
      "text/plain": [
       "<Figure size 432x288 with 1 Axes>"
      ]
     },
     "metadata": {
      "needs_background": "light"
     },
     "output_type": "display_data"
    }
   ],
   "source": [
    "ax = profile[profile['gender']=='M']['age'].plot.hist(bins=83)\n",
    "ax.set_xlabel('Age')\n",
    "ax.set_title('Male Age Distribution')"
   ]
  },
  {
   "cell_type": "code",
   "execution_count": 52,
   "metadata": {},
   "outputs": [
    {
     "data": {
      "text/plain": [
       "Text(0.5, 1.0, 'Female Age Distribution')"
      ]
     },
     "execution_count": 52,
     "metadata": {},
     "output_type": "execute_result"
    },
    {
     "data": {
      "image/png": "[encoded data removed]",
      "text/plain": [
       "<Figure size 432x288 with 1 Axes>"
      ]
     },
     "metadata": {
      "needs_background": "light"
     },
     "output_type": "display_data"
    }
   ],
   "source": [
    "ax = profile[profile['gender']=='F']['age'].plot.hist(bins=83)\n",
    "ax.set_xlabel('Age')\n",
    "ax.set_title('Female Age Distribution')"
   ]
  },
  {
   "cell_type": "code",
   "execution_count": 53,
   "metadata": {},
   "outputs": [
    {
     "data": {
      "text/plain": [
       "Text(0.5, 1.0, 'Other Gender Age Distribution')"
      ]
     },
     "execution_count": 53,
     "metadata": {},
     "output_type": "execute_result"
    },
    {
     "data": {
      "image/png": "[encoded data removed]",
      "text/plain": [
       "<Figure size 432x288 with 1 Axes>"
      ]
     },
     "metadata": {
      "needs_background": "light"
     },
     "output_type": "display_data"
    }
   ],
   "source": [
    "ax =profile[profile['gender']=='O']['age'].plot.hist(bins=83)\n",
    "ax.set_xlabel('Age')\n",
    "ax.set_title('Other Gender Age Distribution')"
   ]
  },
  {
   "cell_type": "markdown",
   "metadata": {},
   "source": [
    "### We can see that a higher pecentage of the male users fall in the 20-40 year range than the female users.  We can also see that there are only 212 'other' gender users and therfore, we do not have a large enough sample size for this subgroup to get a filled normal distribution in age.  There are 2175 users that have not entered any of their profile information.  This is a large portion of the total user base and we will not want to disclude them when analyzing transactions, but we will need to be clever in dealing with this users when making machine learning features. "
   ]
  },
  {
   "cell_type": "markdown",
   "metadata": {},
   "source": [
    "# Rename columns to have more meaning"
   ]
  },
  {
   "cell_type": "code",
   "execution_count": 54,
   "metadata": {},
   "outputs": [
    {
     "data": {
      "text/plain": [
       "Index(['reward', 'difficulty', 'duration', 'offer_type', 'id', 'web', 'email',\n",
       "       'social', 'mobile', 'duration_in_hours'],\n",
       "      dtype='object')"
      ]
     },
     "execution_count": 54,
     "metadata": {},
     "output_type": "execute_result"
    }
   ],
   "source": [
    "portfolio.columns"
   ]
  },
  {
   "cell_type": "code",
   "execution_count": 55,
   "metadata": {},
   "outputs": [],
   "source": [
    "portfolio = portfolio.rename(columns={'id':'offer_id', 'reward':'offer_reward'})"
   ]
  },
  {
   "cell_type": "code",
   "execution_count": 56,
   "metadata": {},
   "outputs": [
    {
     "data": {
      "text/plain": [
       "Index(['offer_reward', 'difficulty', 'duration', 'offer_type', 'offer_id',\n",
       "       'web', 'email', 'social', 'mobile', 'duration_in_hours'],\n",
       "      dtype='object')"
      ]
     },
     "execution_count": 56,
     "metadata": {},
     "output_type": "execute_result"
    }
   ],
   "source": [
    "portfolio.columns"
   ]
  },
  {
   "cell_type": "code",
   "execution_count": 57,
   "metadata": {},
   "outputs": [
    {
     "data": {
      "text/html": [
       "<div>\n",
       "<style scoped>\n",
       "    .dataframe tbody tr th:only-of-type {\n",
       "        vertical-align: middle;\n",
       "    }\n",
       "\n",
       "    .dataframe tbody tr th {\n",
       "        vertical-align: top;\n",
       "    }\n",
       "\n",
       "    .dataframe thead th {\n",
       "        text-align: right;\n",
       "    }\n",
       "</style>\n",
       "<table border=\"1\" class=\"dataframe\">\n",
       "  <thead>\n",
       "    <tr style=\"text-align: right;\">\n",
       "      <th></th>\n",
       "      <th>offer_reward</th>\n",
       "      <th>difficulty</th>\n",
       "      <th>duration</th>\n",
       "      <th>offer_type</th>\n",
       "      <th>offer_id</th>\n",
       "      <th>web</th>\n",
       "      <th>email</th>\n",
       "      <th>social</th>\n",
       "      <th>mobile</th>\n",
       "      <th>duration_in_hours</th>\n",
       "    </tr>\n",
       "  </thead>\n",
       "  <tbody>\n",
       "    <tr>\n",
       "      <th>0</th>\n",
       "      <td>10</td>\n",
       "      <td>10</td>\n",
       "      <td>7</td>\n",
       "      <td>bogo</td>\n",
       "      <td>ae264e3637204a6fb9bb56bc8210ddfd</td>\n",
       "      <td>0</td>\n",
       "      <td>1</td>\n",
       "      <td>1</td>\n",
       "      <td>1</td>\n",
       "      <td>168</td>\n",
       "    </tr>\n",
       "    <tr>\n",
       "      <th>1</th>\n",
       "      <td>10</td>\n",
       "      <td>10</td>\n",
       "      <td>5</td>\n",
       "      <td>bogo</td>\n",
       "      <td>4d5c57ea9a6940dd891ad53e9dbe8da0</td>\n",
       "      <td>1</td>\n",
       "      <td>1</td>\n",
       "      <td>1</td>\n",
       "      <td>1</td>\n",
       "      <td>120</td>\n",
       "    </tr>\n",
       "    <tr>\n",
       "      <th>2</th>\n",
       "      <td>0</td>\n",
       "      <td>0</td>\n",
       "      <td>4</td>\n",
       "      <td>informational</td>\n",
       "      <td>3f207df678b143eea3cee63160fa8bed</td>\n",
       "      <td>1</td>\n",
       "      <td>1</td>\n",
       "      <td>0</td>\n",
       "      <td>1</td>\n",
       "      <td>96</td>\n",
       "    </tr>\n",
       "    <tr>\n",
       "      <th>3</th>\n",
       "      <td>5</td>\n",
       "      <td>5</td>\n",
       "      <td>7</td>\n",
       "      <td>bogo</td>\n",
       "      <td>9b98b8c7a33c4b65b9aebfe6a799e6d9</td>\n",
       "      <td>1</td>\n",
       "      <td>1</td>\n",
       "      <td>0</td>\n",
       "      <td>1</td>\n",
       "      <td>168</td>\n",
       "    </tr>\n",
       "    <tr>\n",
       "      <th>4</th>\n",
       "      <td>5</td>\n",
       "      <td>20</td>\n",
       "      <td>10</td>\n",
       "      <td>discount</td>\n",
       "      <td>0b1e1539f2cc45b7b9fa7c272da2e1d7</td>\n",
       "      <td>1</td>\n",
       "      <td>1</td>\n",
       "      <td>0</td>\n",
       "      <td>0</td>\n",
       "      <td>240</td>\n",
       "    </tr>\n",
       "  </tbody>\n",
       "</table>\n",
       "</div>"
      ],
      "text/plain": [
       "   offer_reward  difficulty  duration     offer_type  \\\n",
       "0            10          10         7           bogo   \n",
       "1            10          10         5           bogo   \n",
       "2             0           0         4  informational   \n",
       "3             5           5         7           bogo   \n",
       "4             5          20        10       discount   \n",
       "\n",
       "                           offer_id  web  email  social  mobile  \\\n",
       "0  ae264e3637204a6fb9bb56bc8210ddfd    0      1       1       1   \n",
       "1  4d5c57ea9a6940dd891ad53e9dbe8da0    1      1       1       1   \n",
       "2  3f207df678b143eea3cee63160fa8bed    1      1       0       1   \n",
       "3  9b98b8c7a33c4b65b9aebfe6a799e6d9    1      1       0       1   \n",
       "4  0b1e1539f2cc45b7b9fa7c272da2e1d7    1      1       0       0   \n",
       "\n",
       "   duration_in_hours  \n",
       "0                168  \n",
       "1                120  \n",
       "2                 96  \n",
       "3                168  \n",
       "4                240  "
      ]
     },
     "execution_count": 57,
     "metadata": {},
     "output_type": "execute_result"
    }
   ],
   "source": [
    "portfolio.head()"
   ]
  },
  {
   "cell_type": "code",
   "execution_count": 58,
   "metadata": {},
   "outputs": [
    {
     "data": {
      "text/plain": [
       "Index(['gender', 'age', 'id', 'became_member_on', 'income'], dtype='object')"
      ]
     },
     "execution_count": 58,
     "metadata": {},
     "output_type": "execute_result"
    }
   ],
   "source": [
    "profile.columns"
   ]
  },
  {
   "cell_type": "code",
   "execution_count": 59,
   "metadata": {},
   "outputs": [],
   "source": [
    "profile = profile.rename(columns={'id':'user_id'})"
   ]
  },
  {
   "cell_type": "code",
   "execution_count": 60,
   "metadata": {},
   "outputs": [
    {
     "data": {
      "text/plain": [
       "Index(['gender', 'age', 'user_id', 'became_member_on', 'income'], dtype='object')"
      ]
     },
     "execution_count": 60,
     "metadata": {},
     "output_type": "execute_result"
    }
   ],
   "source": [
    "profile.columns"
   ]
  },
  {
   "cell_type": "code",
   "execution_count": 61,
   "metadata": {},
   "outputs": [
    {
     "data": {
      "text/plain": [
       "Index(['person', 'event', 'time', 'reward', 'amount', 'offer_id'], dtype='object')"
      ]
     },
     "execution_count": 61,
     "metadata": {},
     "output_type": "execute_result"
    }
   ],
   "source": [
    "transcript.columns"
   ]
  },
  {
   "cell_type": "code",
   "execution_count": 62,
   "metadata": {},
   "outputs": [],
   "source": [
    "transcript = transcript.rename(columns={'person':'user_id', 'amount':'transaction_amount', 'reward':'rewarded'})"
   ]
  },
  {
   "cell_type": "code",
   "execution_count": 63,
   "metadata": {},
   "outputs": [
    {
     "data": {
      "text/plain": [
       "Index(['user_id', 'event', 'time', 'rewarded', 'transaction_amount',\n",
       "       'offer_id'],\n",
       "      dtype='object')"
      ]
     },
     "execution_count": 63,
     "metadata": {},
     "output_type": "execute_result"
    }
   ],
   "source": [
    "transcript.columns"
   ]
  },
  {
   "cell_type": "markdown",
   "metadata": {},
   "source": [
    "# Lets do some exploritory data analysis to examine the spending habits of the users"
   ]
  },
  {
   "cell_type": "code",
   "execution_count": 64,
   "metadata": {},
   "outputs": [],
   "source": [
    "def get_user_spending(transcript, profile, portfolio):\n",
    "    '''Function that examines aggreagate spending habbits of users\n",
    "    Args:\n",
    "        transcript (df): df with events\n",
    "        portfolio (df): df with offer information\n",
    "    Returns:\n",
    "        user_spending (df): df with user spending habbits\n",
    "    '''\n",
    "\n",
    "    user_spending = pd.DataFrame()\n",
    "    # total spending by user\n",
    "    total_spending = transcript.groupby('user_id')['transaction_amount'].sum()\n",
    "    user_spending['user_id'] = total_spending.index.values\n",
    "    user_spending['total_spending'] = total_spending.values\n",
    "    user_spending.fillna(0, inplace=True)\n",
    "\n",
    "    # total transaction count\n",
    "    user_spending['transaction_count'] = transcript.groupby('user_id')['transaction_amount'].count().values\n",
    "    user_spending.fillna(0, inplace=True)\n",
    "\n",
    "    # average transaction amount\n",
    "    user_spending['average_transaction'] = user_spending['total_spending']/user_spending['transaction_count'] \n",
    "\n",
    "    # total offers received\n",
    "    offers = transcript[transcript['event']=='offer received'].groupby('user_id')['event'].count()\n",
    "    offers_received = pd.DataFrame({'user_id':offers.index.values, 'offers_received':offers.values})\n",
    "    user_spending = user_spending.merge(offers_received, how='left', on='user_id')\n",
    "    user_spending.fillna(0, inplace=True)\n",
    "\n",
    "    # total offers viewed\n",
    "    views = transcript[transcript['event']=='offer viewed'].groupby('user_id')['event'].count()\n",
    "    offers_viewed = pd.DataFrame({'user_id':views.index.values, 'offers_viewed':views.values})\n",
    "    user_spending = user_spending.merge(offers_viewed, how='left', on='user_id')\n",
    "    user_spending.fillna(0, inplace=True)\n",
    "\n",
    "    # view rate\n",
    "    user_spending['view_rate'] = user_spending['offers_viewed']/user_spending['offers_received']\n",
    "\n",
    "    # total offers completed\n",
    "    completions = transcript[transcript['event']=='offer completed'].groupby('user_id')['event'].count()\n",
    "    offers_completed = pd.DataFrame({'user_id':completions.index.values, 'offers_completed':completions.values})\n",
    "    user_spending = user_spending.merge(offers_completed, how='left', on='user_id')\n",
    "    user_spending.fillna(0, inplace=True)\n",
    "    \n",
    "    # completion_rate\n",
    "    user_spending['completion_rate'] = user_spending['offers_completed']/user_spending['offers_received']\n",
    "    \n",
    "    user_spending.fillna(0, inplace=True)\n",
    "    \n",
    "    user_spending = user_spending.merge(profile, how='left', on='user_id')\n",
    "    \n",
    "    return user_spending\n",
    "\n",
    "user_spending = get_user_spending(transcript, profile, portfolio)\n"
   ]
  },
  {
   "cell_type": "code",
   "execution_count": 65,
   "metadata": {},
   "outputs": [
    {
     "data": {
      "text/plain": [
       "Index(['user_id', 'total_spending', 'transaction_count', 'average_transaction',\n",
       "       'offers_received', 'offers_viewed', 'view_rate', 'offers_completed',\n",
       "       'completion_rate', 'gender', 'age', 'became_member_on', 'income'],\n",
       "      dtype='object')"
      ]
     },
     "execution_count": 65,
     "metadata": {},
     "output_type": "execute_result"
    }
   ],
   "source": [
    "user_spending.columns"
   ]
  },
  {
   "cell_type": "code",
   "execution_count": 66,
   "metadata": {},
   "outputs": [],
   "source": [
    "def plot_avergae_w_error(df, x_col, y_col, y_err_col, plot_title, x_label,  y_label):\n",
    "    '''Function to make x-y line plot with error bars\n",
    "    Args:\n",
    "        df (df): df \n",
    "        x_col (str): col for x axis\n",
    "        y_col (str): col for y axis\n",
    "        y_err_col: col for y error bars\n",
    "        plot_title (str): plot title\n",
    "        x_label (str): x axis label\n",
    "        y_label (str): y axis label\n",
    "    Returns:\n",
    "        None\n",
    "    '''\n",
    "    plt.figure()\n",
    "    plt.errorbar(df[x_col].values, df[y_col].values, yerr=df[y_err_col].values, \n",
    "                      color='k', lw=3,  ecolor='b')\n",
    "    plt.xlabel(x_label)\n",
    "    plt.ylabel(y_label)\n",
    "    plt.title(plot_title)\n"
   ]
  },
  {
   "cell_type": "code",
   "execution_count": 67,
   "metadata": {},
   "outputs": [
    {
     "data": {
      "image/png": "[encoded data removed]",
      "text/plain": [
       "<Figure size 432x288 with 1 Axes>"
      ]
     },
     "metadata": {
      "needs_background": "light"
     },
     "output_type": "display_data"
    }
   ],
   "source": [
    "average_transaction_df = user_spending.groupby('age')['average_transaction'].agg(\n",
    "    [('average_transaction', 'mean'), ('STDDEV', 'std')]).reset_index()\n",
    "\n",
    "plot_avergae_w_error(average_transaction_df, 'age', 'average_transaction', 'STDDEV', 'Average Transaction', 'Age',  '$')"
   ]
  },
  {
   "cell_type": "code",
   "execution_count": 68,
   "metadata": {},
   "outputs": [
    {
     "data": {
      "image/png": "[encoded data removed]",
      "text/plain": [
       "<Figure size 432x288 with 1 Axes>"
      ]
     },
     "metadata": {
      "needs_background": "light"
     },
     "output_type": "display_data"
    }
   ],
   "source": [
    "average_view_rate = user_spending.groupby('age')['view_rate'].agg(\n",
    "    [('average_view_rate', 'mean'), ('STDDEV', 'std')]).reset_index()\n",
    "\n",
    "plot_avergae_w_error(average_view_rate, 'age', 'average_view_rate', 'STDDEV', 'Unweighted Average Offer View Rate', 'Age',  'Offer View Rate')\n"
   ]
  },
  {
   "cell_type": "code",
   "execution_count": 69,
   "metadata": {},
   "outputs": [
    {
     "data": {
      "image/png": "[encoded data removed]",
      "text/plain": [
       "<Figure size 432x288 with 1 Axes>"
      ]
     },
     "metadata": {
      "needs_background": "light"
     },
     "output_type": "display_data"
    }
   ],
   "source": [
    "average_completion_rate_df = user_spending.groupby('age')['completion_rate'].agg(\n",
    "    [('average_completion_rate', 'mean'), ('STDDEV', 'std')]).reset_index()\n",
    "\n",
    "plot_avergae_w_error(average_completion_rate_df, 'age', 'average_completion_rate', 'STDDEV',\n",
    "                     'Average Offer Completion Rate', 'Age',  'Unweighted Offer Completion Rate')"
   ]
  },
  {
   "cell_type": "markdown",
   "metadata": {},
   "source": [
    "###  It is also hard to see any aparent trends in these plots due to the high variability of the data."
   ]
  },
  {
   "cell_type": "code",
   "execution_count": 70,
   "metadata": {},
   "outputs": [
    {
     "data": {
      "text/plain": [
       "Index(['user_id', 'total_spending', 'transaction_count', 'average_transaction',\n",
       "       'offers_received', 'offers_viewed', 'view_rate', 'offers_completed',\n",
       "       'completion_rate', 'gender', 'age', 'became_member_on', 'income'],\n",
       "      dtype='object')"
      ]
     },
     "execution_count": 70,
     "metadata": {},
     "output_type": "execute_result"
    }
   ],
   "source": [
    "user_spending.columns"
   ]
  },
  {
   "cell_type": "code",
   "execution_count": 71,
   "metadata": {},
   "outputs": [
    {
     "data": {
      "text/plain": [
       "<matplotlib.axes._subplots.AxesSubplot at 0x7f5ee58a9198>"
      ]
     },
     "execution_count": 71,
     "metadata": {},
     "output_type": "execute_result"
    },
    {
     "data": {
      "image/png": "[encoded data removed]",
      "text/plain": [
       "<Figure size 432x288 with 2 Axes>"
      ]
     },
     "metadata": {
      "needs_background": "light"
     },
     "output_type": "display_data"
    }
   ],
   "source": [
    "# create a correlation heatmap to examine the correlation of user attributes to spending behavior\n",
    "corr = user_spending[['average_transaction','offers_received', \n",
    "                      'view_rate','completion_rate', 'gender', \n",
    "                      'age', 'income']].corr()\n",
    "sns.heatmap(corr, \n",
    "        xticklabels=corr.columns,\n",
    "        yticklabels=corr.columns)"
   ]
  },
  {
   "cell_type": "markdown",
   "metadata": {},
   "source": [
    "### We can see that users who make more money are likely to spend more money.  We can also see that offers are more likely to be completed if they are viewed.  Unsuprisingly, users that spend more in a single transaction are more likely to complete an offer."
   ]
  },
  {
   "cell_type": "markdown",
   "metadata": {},
   "source": [
    "## Lets look at some user spending data"
   ]
  },
  {
   "cell_type": "code",
   "execution_count": 72,
   "metadata": {},
   "outputs": [],
   "source": [
    "# get offers received, viewed, and completed\n",
    "offers_received = transcript[transcript['event']=='offer received'].drop(['rewarded', 'transaction_amount'], axis=1)\n",
    "offers_received['received_time'] = offers_received['time']\n",
    "# add a received id for later use to make sure each received offer only has one end state \n",
    "#    [viewed, viewed_completed, completed_not_viewed, or ignored]\n",
    "offers_received['received_id'] = offers_received.reset_index().index.values\n",
    "\n",
    "\n",
    "offers_viewed = transcript[transcript['event']=='offer viewed'].drop(['rewarded', 'transaction_amount'], axis=1)\n",
    "offers_viewed['viewed_time'] = offers_viewed['time']\n",
    "offers_viewed['viewed_id'] = offers_viewed.reset_index().index.values\n",
    "\n",
    "offers_completed = transcript[transcript['event']=='offer completed'].drop(['rewarded', 'transaction_amount'], axis=1)\n",
    "offers_completed['completed_time'] = offers_completed['time']"
   ]
  },
  {
   "cell_type": "code",
   "execution_count": 73,
   "metadata": {},
   "outputs": [
    {
     "data": {
      "text/html": [
       "<div>\n",
       "<style scoped>\n",
       "    .dataframe tbody tr th:only-of-type {\n",
       "        vertical-align: middle;\n",
       "    }\n",
       "\n",
       "    .dataframe tbody tr th {\n",
       "        vertical-align: top;\n",
       "    }\n",
       "\n",
       "    .dataframe thead th {\n",
       "        text-align: right;\n",
       "    }\n",
       "</style>\n",
       "<table border=\"1\" class=\"dataframe\">\n",
       "  <thead>\n",
       "    <tr style=\"text-align: right;\">\n",
       "      <th></th>\n",
       "      <th>user_id</th>\n",
       "      <th>event</th>\n",
       "      <th>time</th>\n",
       "      <th>offer_id</th>\n",
       "      <th>received_time</th>\n",
       "      <th>received_id</th>\n",
       "    </tr>\n",
       "  </thead>\n",
       "  <tbody>\n",
       "    <tr>\n",
       "      <th>0</th>\n",
       "      <td>78afa995795e4d85b5d9ceeca43f5fef</td>\n",
       "      <td>offer received</td>\n",
       "      <td>0</td>\n",
       "      <td>9b98b8c7a33c4b65b9aebfe6a799e6d9</td>\n",
       "      <td>0</td>\n",
       "      <td>0</td>\n",
       "    </tr>\n",
       "    <tr>\n",
       "      <th>1</th>\n",
       "      <td>a03223e636434f42ac4c3df47e8bac43</td>\n",
       "      <td>offer received</td>\n",
       "      <td>0</td>\n",
       "      <td>0b1e1539f2cc45b7b9fa7c272da2e1d7</td>\n",
       "      <td>0</td>\n",
       "      <td>1</td>\n",
       "    </tr>\n",
       "    <tr>\n",
       "      <th>2</th>\n",
       "      <td>e2127556f4f64592b11af22de27a7932</td>\n",
       "      <td>offer received</td>\n",
       "      <td>0</td>\n",
       "      <td>2906b810c7d4411798c6938adc9daaa5</td>\n",
       "      <td>0</td>\n",
       "      <td>2</td>\n",
       "    </tr>\n",
       "    <tr>\n",
       "      <th>3</th>\n",
       "      <td>8ec6ce2a7e7949b1bf142def7d0e0586</td>\n",
       "      <td>offer received</td>\n",
       "      <td>0</td>\n",
       "      <td>fafdcd668e3743c1bb461111dcafc2a4</td>\n",
       "      <td>0</td>\n",
       "      <td>3</td>\n",
       "    </tr>\n",
       "    <tr>\n",
       "      <th>4</th>\n",
       "      <td>68617ca6246f4fbc85e91a2a49552598</td>\n",
       "      <td>offer received</td>\n",
       "      <td>0</td>\n",
       "      <td>4d5c57ea9a6940dd891ad53e9dbe8da0</td>\n",
       "      <td>0</td>\n",
       "      <td>4</td>\n",
       "    </tr>\n",
       "  </tbody>\n",
       "</table>\n",
       "</div>"
      ],
      "text/plain": [
       "                            user_id           event  time  \\\n",
       "0  78afa995795e4d85b5d9ceeca43f5fef  offer received     0   \n",
       "1  a03223e636434f42ac4c3df47e8bac43  offer received     0   \n",
       "2  e2127556f4f64592b11af22de27a7932  offer received     0   \n",
       "3  8ec6ce2a7e7949b1bf142def7d0e0586  offer received     0   \n",
       "4  68617ca6246f4fbc85e91a2a49552598  offer received     0   \n",
       "\n",
       "                           offer_id  received_time  received_id  \n",
       "0  9b98b8c7a33c4b65b9aebfe6a799e6d9              0            0  \n",
       "1  0b1e1539f2cc45b7b9fa7c272da2e1d7              0            1  \n",
       "2  2906b810c7d4411798c6938adc9daaa5              0            2  \n",
       "3  fafdcd668e3743c1bb461111dcafc2a4              0            3  \n",
       "4  4d5c57ea9a6940dd891ad53e9dbe8da0              0            4  "
      ]
     },
     "execution_count": 73,
     "metadata": {},
     "output_type": "execute_result"
    }
   ],
   "source": [
    "offers_received.head()"
   ]
  },
  {
   "cell_type": "code",
   "execution_count": 74,
   "metadata": {},
   "outputs": [
    {
     "data": {
      "text/plain": [
       "(76277, 6)"
      ]
     },
     "execution_count": 74,
     "metadata": {},
     "output_type": "execute_result"
    }
   ],
   "source": [
    "offers_received.shape"
   ]
  },
  {
   "cell_type": "code",
   "execution_count": 75,
   "metadata": {},
   "outputs": [
    {
     "data": {
      "text/plain": [
       "0"
      ]
     },
     "execution_count": 75,
     "metadata": {},
     "output_type": "execute_result"
    }
   ],
   "source": [
    "offers_received.duplicated().sum()"
   ]
  },
  {
   "cell_type": "code",
   "execution_count": 76,
   "metadata": {},
   "outputs": [
    {
     "data": {
      "text/plain": [
       "(57725, 6)"
      ]
     },
     "execution_count": 76,
     "metadata": {},
     "output_type": "execute_result"
    }
   ],
   "source": [
    "offers_viewed.shape"
   ]
  },
  {
   "cell_type": "code",
   "execution_count": 77,
   "metadata": {},
   "outputs": [
    {
     "data": {
      "text/plain": [
       "0"
      ]
     },
     "execution_count": 77,
     "metadata": {},
     "output_type": "execute_result"
    }
   ],
   "source": [
    "offers_viewed.duplicated().sum()"
   ]
  },
  {
   "cell_type": "code",
   "execution_count": 78,
   "metadata": {},
   "outputs": [
    {
     "data": {
      "text/plain": [
       "(33579, 5)"
      ]
     },
     "execution_count": 78,
     "metadata": {},
     "output_type": "execute_result"
    }
   ],
   "source": [
    "offers_completed.shape"
   ]
  },
  {
   "cell_type": "code",
   "execution_count": 79,
   "metadata": {},
   "outputs": [
    {
     "data": {
      "text/plain": [
       "397"
      ]
     },
     "execution_count": 79,
     "metadata": {},
     "output_type": "execute_result"
    }
   ],
   "source": [
    "offers_completed[['user_id', 'offer_id', 'completed_time']].duplicated().sum()"
   ]
  },
  {
   "cell_type": "markdown",
   "metadata": {},
   "source": [
    "# We have duplicates of completed offers, these will need to be handled carefully when merging dataframes"
   ]
  },
  {
   "cell_type": "code",
   "execution_count": 81,
   "metadata": {},
   "outputs": [],
   "source": [
    "offers_completed = offers_completed[['user_id', 'offer_id', 'completed_time']].drop_duplicates()"
   ]
  },
  {
   "cell_type": "code",
   "execution_count": 82,
   "metadata": {},
   "outputs": [],
   "source": [
    "offers_completed['completed_id'] = offers_completed.reset_index().index.values"
   ]
  },
  {
   "cell_type": "code",
   "execution_count": 83,
   "metadata": {},
   "outputs": [
    {
     "data": {
      "text/plain": [
       "(33182, 4)"
      ]
     },
     "execution_count": 83,
     "metadata": {},
     "output_type": "execute_result"
    }
   ],
   "source": [
    "offers_completed.shape"
   ]
  },
  {
   "cell_type": "code",
   "execution_count": 84,
   "metadata": {},
   "outputs": [
    {
     "data": {
      "text/plain": [
       "(57725, 6)"
      ]
     },
     "execution_count": 84,
     "metadata": {},
     "output_type": "execute_result"
    }
   ],
   "source": [
    "offers_viewed.shape"
   ]
  },
  {
   "cell_type": "code",
   "execution_count": 85,
   "metadata": {},
   "outputs": [
    {
     "data": {
      "text/plain": [
       "(17000, 5)"
      ]
     },
     "execution_count": 85,
     "metadata": {},
     "output_type": "execute_result"
    }
   ],
   "source": [
    "profile.shape"
   ]
  },
  {
   "cell_type": "code",
   "execution_count": 86,
   "metadata": {},
   "outputs": [
    {
     "data": {
      "text/plain": [
       "0"
      ]
     },
     "execution_count": 86,
     "metadata": {},
     "output_type": "execute_result"
    }
   ],
   "source": [
    "profile.duplicated().sum()"
   ]
  },
  {
   "cell_type": "code",
   "execution_count": 87,
   "metadata": {},
   "outputs": [
    {
     "data": {
      "text/html": [
       "<div>\n",
       "<style scoped>\n",
       "    .dataframe tbody tr th:only-of-type {\n",
       "        vertical-align: middle;\n",
       "    }\n",
       "\n",
       "    .dataframe tbody tr th {\n",
       "        vertical-align: top;\n",
       "    }\n",
       "\n",
       "    .dataframe thead th {\n",
       "        text-align: right;\n",
       "    }\n",
       "</style>\n",
       "<table border=\"1\" class=\"dataframe\">\n",
       "  <thead>\n",
       "    <tr style=\"text-align: right;\">\n",
       "      <th></th>\n",
       "      <th>offer_reward</th>\n",
       "      <th>difficulty</th>\n",
       "      <th>duration</th>\n",
       "      <th>offer_type</th>\n",
       "      <th>offer_id</th>\n",
       "      <th>web</th>\n",
       "      <th>email</th>\n",
       "      <th>social</th>\n",
       "      <th>mobile</th>\n",
       "      <th>duration_in_hours</th>\n",
       "    </tr>\n",
       "  </thead>\n",
       "  <tbody>\n",
       "    <tr>\n",
       "      <th>0</th>\n",
       "      <td>10</td>\n",
       "      <td>10</td>\n",
       "      <td>7</td>\n",
       "      <td>bogo</td>\n",
       "      <td>ae264e3637204a6fb9bb56bc8210ddfd</td>\n",
       "      <td>0</td>\n",
       "      <td>1</td>\n",
       "      <td>1</td>\n",
       "      <td>1</td>\n",
       "      <td>168</td>\n",
       "    </tr>\n",
       "    <tr>\n",
       "      <th>1</th>\n",
       "      <td>10</td>\n",
       "      <td>10</td>\n",
       "      <td>5</td>\n",
       "      <td>bogo</td>\n",
       "      <td>4d5c57ea9a6940dd891ad53e9dbe8da0</td>\n",
       "      <td>1</td>\n",
       "      <td>1</td>\n",
       "      <td>1</td>\n",
       "      <td>1</td>\n",
       "      <td>120</td>\n",
       "    </tr>\n",
       "    <tr>\n",
       "      <th>2</th>\n",
       "      <td>0</td>\n",
       "      <td>0</td>\n",
       "      <td>4</td>\n",
       "      <td>informational</td>\n",
       "      <td>3f207df678b143eea3cee63160fa8bed</td>\n",
       "      <td>1</td>\n",
       "      <td>1</td>\n",
       "      <td>0</td>\n",
       "      <td>1</td>\n",
       "      <td>96</td>\n",
       "    </tr>\n",
       "    <tr>\n",
       "      <th>3</th>\n",
       "      <td>5</td>\n",
       "      <td>5</td>\n",
       "      <td>7</td>\n",
       "      <td>bogo</td>\n",
       "      <td>9b98b8c7a33c4b65b9aebfe6a799e6d9</td>\n",
       "      <td>1</td>\n",
       "      <td>1</td>\n",
       "      <td>0</td>\n",
       "      <td>1</td>\n",
       "      <td>168</td>\n",
       "    </tr>\n",
       "    <tr>\n",
       "      <th>4</th>\n",
       "      <td>5</td>\n",
       "      <td>20</td>\n",
       "      <td>10</td>\n",
       "      <td>discount</td>\n",
       "      <td>0b1e1539f2cc45b7b9fa7c272da2e1d7</td>\n",
       "      <td>1</td>\n",
       "      <td>1</td>\n",
       "      <td>0</td>\n",
       "      <td>0</td>\n",
       "      <td>240</td>\n",
       "    </tr>\n",
       "    <tr>\n",
       "      <th>5</th>\n",
       "      <td>3</td>\n",
       "      <td>7</td>\n",
       "      <td>7</td>\n",
       "      <td>discount</td>\n",
       "      <td>2298d6c36e964ae4a3e7e9706d1fb8c2</td>\n",
       "      <td>1</td>\n",
       "      <td>1</td>\n",
       "      <td>1</td>\n",
       "      <td>1</td>\n",
       "      <td>168</td>\n",
       "    </tr>\n",
       "    <tr>\n",
       "      <th>6</th>\n",
       "      <td>2</td>\n",
       "      <td>10</td>\n",
       "      <td>10</td>\n",
       "      <td>discount</td>\n",
       "      <td>fafdcd668e3743c1bb461111dcafc2a4</td>\n",
       "      <td>1</td>\n",
       "      <td>1</td>\n",
       "      <td>1</td>\n",
       "      <td>1</td>\n",
       "      <td>240</td>\n",
       "    </tr>\n",
       "    <tr>\n",
       "      <th>7</th>\n",
       "      <td>0</td>\n",
       "      <td>0</td>\n",
       "      <td>3</td>\n",
       "      <td>informational</td>\n",
       "      <td>5a8bc65990b245e5a138643cd4eb9837</td>\n",
       "      <td>0</td>\n",
       "      <td>1</td>\n",
       "      <td>1</td>\n",
       "      <td>1</td>\n",
       "      <td>72</td>\n",
       "    </tr>\n",
       "    <tr>\n",
       "      <th>8</th>\n",
       "      <td>5</td>\n",
       "      <td>5</td>\n",
       "      <td>5</td>\n",
       "      <td>bogo</td>\n",
       "      <td>f19421c1d4aa40978ebb69ca19b0e20d</td>\n",
       "      <td>1</td>\n",
       "      <td>1</td>\n",
       "      <td>1</td>\n",
       "      <td>1</td>\n",
       "      <td>120</td>\n",
       "    </tr>\n",
       "    <tr>\n",
       "      <th>9</th>\n",
       "      <td>2</td>\n",
       "      <td>10</td>\n",
       "      <td>7</td>\n",
       "      <td>discount</td>\n",
       "      <td>2906b810c7d4411798c6938adc9daaa5</td>\n",
       "      <td>1</td>\n",
       "      <td>1</td>\n",
       "      <td>0</td>\n",
       "      <td>1</td>\n",
       "      <td>168</td>\n",
       "    </tr>\n",
       "  </tbody>\n",
       "</table>\n",
       "</div>"
      ],
      "text/plain": [
       "   offer_reward  difficulty  duration     offer_type  \\\n",
       "0            10          10         7           bogo   \n",
       "1            10          10         5           bogo   \n",
       "2             0           0         4  informational   \n",
       "3             5           5         7           bogo   \n",
       "4             5          20        10       discount   \n",
       "5             3           7         7       discount   \n",
       "6             2          10        10       discount   \n",
       "7             0           0         3  informational   \n",
       "8             5           5         5           bogo   \n",
       "9             2          10         7       discount   \n",
       "\n",
       "                           offer_id  web  email  social  mobile  \\\n",
       "0  ae264e3637204a6fb9bb56bc8210ddfd    0      1       1       1   \n",
       "1  4d5c57ea9a6940dd891ad53e9dbe8da0    1      1       1       1   \n",
       "2  3f207df678b143eea3cee63160fa8bed    1      1       0       1   \n",
       "3  9b98b8c7a33c4b65b9aebfe6a799e6d9    1      1       0       1   \n",
       "4  0b1e1539f2cc45b7b9fa7c272da2e1d7    1      1       0       0   \n",
       "5  2298d6c36e964ae4a3e7e9706d1fb8c2    1      1       1       1   \n",
       "6  fafdcd668e3743c1bb461111dcafc2a4    1      1       1       1   \n",
       "7  5a8bc65990b245e5a138643cd4eb9837    0      1       1       1   \n",
       "8  f19421c1d4aa40978ebb69ca19b0e20d    1      1       1       1   \n",
       "9  2906b810c7d4411798c6938adc9daaa5    1      1       0       1   \n",
       "\n",
       "   duration_in_hours  \n",
       "0                168  \n",
       "1                120  \n",
       "2                 96  \n",
       "3                168  \n",
       "4                240  \n",
       "5                168  \n",
       "6                240  \n",
       "7                 72  \n",
       "8                120  \n",
       "9                168  "
      ]
     },
     "execution_count": 87,
     "metadata": {},
     "output_type": "execute_result"
    }
   ],
   "source": [
    "# convert 'duration' to hours so that we can have the same time units for all event handling\n",
    "portfolio['duration_in_hours'] = portfolio['duration']*24\n",
    "portfolio"
   ]
  },
  {
   "cell_type": "code",
   "execution_count": 88,
   "metadata": {},
   "outputs": [
    {
     "data": {
      "text/plain": [
       "0"
      ]
     },
     "execution_count": 88,
     "metadata": {},
     "output_type": "execute_result"
    }
   ],
   "source": [
    "# offers_received.columns\n",
    "offers_received['received_id'].duplicated().sum()"
   ]
  },
  {
   "cell_type": "code",
   "execution_count": 89,
   "metadata": {},
   "outputs": [],
   "source": [
    "completable_offers = portfolio[portfolio['offer_type']!='informational']['offer_id'].tolist()"
   ]
  },
  {
   "cell_type": "code",
   "execution_count": 90,
   "metadata": {},
   "outputs": [
    {
     "name": "stdout",
     "output_type": "stream",
     "text": [
      "rvdf is good to go\n"
     ]
    }
   ],
   "source": [
    "def get_rv_df(offers_received, offers_viewed, portfolio):\n",
    "    '''Function to return dataframe with all offers that have been viewed, including informational\n",
    "    Args:\n",
    "        offers_received (df): df with offers recieved, columns \n",
    "            ['event', 'user_id', 'received_time', 'offer_id']\n",
    "        offers_viewed (df): df with offers recieved, columns \n",
    "            ['event', 'user_id', 'viewed_time', 'offer_id']\n",
    "    Returns:\n",
    "        rv_df (df): df with the intersection of offers viewed and received columns\n",
    "            ['user_id', 'viewed_time', 'offer_id', 'received_time', 'time_to_view',\n",
    "           'difficulty', 'duration', 'offer_type', 'offer_reward', 'social',\n",
    "           'email', 'web', 'mobile']\n",
    "    '''\n",
    "    # if users have received the same offer multiple times, we will need to match up views to received offers\n",
    "    # make sure timing is correctly aligned, so that each offer is only viewed once if a user receives and view \n",
    "    # the same offer multiple times within the offer duration\n",
    "    rv_df = pd.merge_asof(offers_viewed, offers_received,on='time', direction='backward',by=['user_id', 'offer_id'])\n",
    "    rv_df['time_to_view'] = rv_df['viewed_time']-rv_df['received_time']\n",
    "    \n",
    "    # make sure all viewed offers have been included\n",
    "    assert(offers_viewed.shape[0]==rv_df.shape[0])\n",
    "    # make sure no time missalignment where viewed time is before received time\n",
    "    assert(rv_df[rv_df['time_to_view']<0].shape[0] == 0)\n",
    "    # make sure there are no dupolicates, ie. multiple viewed_times merged to the same recieved time\n",
    "    assert(rv_df[['user_id', 'offer_id', 'received_time']].duplicated().sum()==0)\n",
    "    # make sure there are no duplicates of viewed_id and received_id, each offer can only be received and viewed once\n",
    "    assert(rv_df.merge(offers_viewed, how='inner', on='viewed_id').shape[0]==rv_df.shape[0])\n",
    "    assert(rv_df['viewed_id'].duplicated().sum()== 0)\n",
    "    assert(rv_df['received_id'].duplicated().sum() == 0)\n",
    "    \n",
    "    return rv_df\n",
    "\n",
    "rv_df = get_rv_df(offers_received, offers_viewed, portfolio)\n",
    "\n",
    "print('rvdf is good to go')"
   ]
  },
  {
   "cell_type": "code",
   "execution_count": 91,
   "metadata": {},
   "outputs": [],
   "source": [
    "def get_vc_df(rv_df, offers_completed, portfolio):\n",
    "    '''Function to returna dataframe with all offers that were viewed and received\n",
    "    Args:\n",
    "        rv_df (df): df with offers received and viewed\n",
    "            ['user_id', 'viewed_time', 'offer_id', 'received_time', 'time_to_view',\n",
    "           'difficulty', 'duration', 'offer_type', 'offer_reward', 'social',\n",
    "           'email', 'web', 'mobile']\n",
    "        offer_completed (df): df with offers completed\n",
    "            ['event', 'user_id', 'completed_time', 'offer_id']\n",
    "    Returns:\n",
    "        vc_df (df): df with the intersection of offerst viewed and received columns\n",
    "            ['user_id', 'viewed_time', 'offer_id', 'received_time', 'time_to_view',\n",
    "           'difficulty', 'duration', 'offer_type', 'offer_reward', 'social',\n",
    "           'email', 'web', 'mobile', 'completed_time', 'time_to_complete',\n",
    "           'time_view_to_complete']\n",
    "    '''    \n",
    "    # sortpotential_offers_completed descending in completed_time, try to match a completed offer to received offer\n",
    "    # with the the largest possible time gap to ensure all completed offers will end up having a match in offers received\n",
    "    potential_offers_completed = offers_completed.sort_values(by='completed_time', ascending=False).reindex()\n",
    "    print('potential_offers_completed', potential_offers_completed.shape )\n",
    "    \n",
    "    matchable_offers = rv_df[rv_df['offer_id'].isin(completable_offers)].merge(portfolio[['offer_id', 'duration_in_hours']])\n",
    "    \n",
    "    vc_df = pd.DataFrame(columns=['user_id', 'offer_id', 'received_time', 'received_id', \n",
    "                                  'viewed_time', 'viewed_id', 'completed_time', 'completed_id'])\n",
    "\n",
    "\n",
    "    for _, row in potential_offers_completed.iterrows():\n",
    "        user = row['user_id']\n",
    "        offer = row['offer_id']\n",
    "        #print([user, offer])\n",
    "\n",
    "        potential_matches = matchable_offers[(matchable_offers['user_id']==user)\n",
    "                               & (matchable_offers['offer_id']==offer)\n",
    "                               & (matchable_offers['viewed_time']<=row['completed_time'])]\n",
    "\n",
    "        ilocs = potential_matches.shape[0]\n",
    "        # check for first instance where completion time would satisfy duration in hours\n",
    "        for i in range(ilocs):\n",
    "            potential_row_dict = potential_matches.iloc[i].to_dict()\n",
    "            # make sure offer was received before completed and completed within duration_in_hours\n",
    "            if ((row['completed_time'] - potential_row_dict['received_time'] <= potential_row_dict['duration_in_hours'])\n",
    "                &(row['completed_time'] - potential_row_dict['received_time'] >= 0)):\n",
    "                vc_df_row = potential_row_dict\n",
    "                vc_df_row['completed_time'] = row['completed_time']\n",
    "                vc_df_row['completed_id'] = row['completed_id']\n",
    "                vc_df = vc_df.append(vc_df_row, ignore_index=True)\n",
    "                #remove row from matchable_offers\n",
    "                received_id = potential_row_dict['received_id']\n",
    "                matchable_offers = matchable_offers.drop(\n",
    "                    matchable_offers[matchable_offers['received_id']==received_id].index.values)\n",
    "\n",
    "                # exit to outer for loop\n",
    "                break\n",
    "                \n",
    "    # make sure the propper dtaa types are set\n",
    "    vc_df[['received_time', 'received_id', 'viewed_time', 'viewed_id', 'completed_time', 'completed_id']\n",
    "         ] = vc_df[['received_time', 'received_id', 'viewed_time', 'viewed_id', 'completed_time', \n",
    "                    'completed_id']].astype('int64')\n",
    "\n",
    "    # make sure there are no duplicated transaction ids\n",
    "    assert(vc_df['completed_id'].duplicated().sum()==0)\n",
    "    assert(vc_df['viewed_id'].duplicated().sum()==0)\n",
    "    assert(vc_df['received_id'].duplicated().sum()==0)\n",
    "                \n",
    "    return vc_df\n",
    "       "
   ]
  },
  {
   "cell_type": "code",
   "execution_count": 92,
   "metadata": {},
   "outputs": [],
   "source": [
    "# start_time = time()\n",
    "# vc_df = get_vc_df(rv_df, offers_completed, portfolio) \n",
    "# end_time = time()\n",
    "# print(f'Woohoo new_vc_df ready. Function took {end_time-start_time} to exicute')\n",
    "# vc_df.to_csv('vc_df.csv')\n",
    "# # # # # function took 1132 seconds  to exicute"
   ]
  },
  {
   "cell_type": "code",
   "execution_count": 93,
   "metadata": {},
   "outputs": [],
   "source": [
    "vc_df = pd.read_csv('vc_df.csv')"
   ]
  },
  {
   "cell_type": "code",
   "execution_count": 94,
   "metadata": {},
   "outputs": [
    {
     "data": {
      "text/plain": [
       "Unnamed: 0             int64\n",
       "user_id               object\n",
       "offer_id              object\n",
       "received_time          int64\n",
       "received_id            int64\n",
       "viewed_time            int64\n",
       "viewed_id              int64\n",
       "completed_time         int64\n",
       "completed_id           int64\n",
       "duration_in_hours    float64\n",
       "event_x               object\n",
       "event_y               object\n",
       "time                 float64\n",
       "time_to_view         float64\n",
       "dtype: object"
      ]
     },
     "execution_count": 94,
     "metadata": {},
     "output_type": "execute_result"
    }
   ],
   "source": [
    "#vc_df.head()\n",
    "vc_df.dtypes\n"
   ]
  },
  {
   "cell_type": "code",
   "execution_count": 95,
   "metadata": {},
   "outputs": [
    {
     "data": {
      "text/plain": [
       "(57725, 10)"
      ]
     },
     "execution_count": 95,
     "metadata": {},
     "output_type": "execute_result"
    }
   ],
   "source": [
    "rv_df.shape"
   ]
  },
  {
   "cell_type": "code",
   "execution_count": 98,
   "metadata": {},
   "outputs": [
    {
     "name": "stdout",
     "output_type": "stream",
     "text": [
      "completeable_viewed_offers_df.shape:  (46894, 10)\n",
      "v_no_c_df.shape:  (23731, 10)\n"
     ]
    }
   ],
   "source": [
    "def get_v_no_c_df(rv_df, vc_df):\n",
    "    '''Function that returns a dataframe with all offers that were viewed but never completed\n",
    "    Args:\n",
    "        rv_df (df): df with all offers (including informational) that have been viewed\n",
    "        vc_df (df): df with all offers that were viewed and completed\n",
    "    Returns:\n",
    "        v_no_c_df (df): df with all offers that were viewed and completed\n",
    "    '''\n",
    "    completable_offer_ids = portfolio[portfolio['offer_type']!='informational']['offer_id'].tolist()\n",
    "    completeable_viewed_offers_df = rv_df[rv_df['offer_id'].isin(completable_offer_ids)]\n",
    "    # remove offers viewed and completed from completeable_viewed_offers_df, reamainder is viewed bu not completed\n",
    "    print('completeable_viewed_offers_df.shape: ',completeable_viewed_offers_df.shape)\n",
    "    v_no_c_df = completeable_viewed_offers_df.drop(completeable_viewed_offers_df[\n",
    "        completeable_viewed_offers_df['viewed_id'].isin(vc_df['viewed_id'].tolist())].index.values)\n",
    "    print('v_no_c_df.shape: ',v_no_c_df.shape)\n",
    "    # make sure there are no duplicated transaction ids\n",
    "    assert(v_no_c_df['viewed_id'].duplicated().sum()==0)\n",
    "    assert(v_no_c_df['received_id'].duplicated().sum()==0)\n",
    "    # make sure intersection of v_no_c_df and vc_df is 0\n",
    "    #assert(v_no_c_df.merge(vc_df, how='inner', on='received_id').shape[0]==0)\n",
    "    \n",
    "    return v_no_c_df\n",
    "    \n",
    "    \n",
    "v_no_c_df = get_v_no_c_df(rv_df, vc_df)"
   ]
  },
  {
   "cell_type": "code",
   "execution_count": 102,
   "metadata": {},
   "outputs": [],
   "source": [
    "def get_c_no_v_df(vc_df, v_no_c_df, offers_completed, offers_received, portfolio):\n",
    "    '''Function to return received viewed dataframe\n",
    "    Args:\n",
    "        vc_df (df): df with offers viewed an dcompleted\n",
    "            ['user_id', 'viewed_time', 'offer_id', 'received_time', 'time_to_view',\n",
    "           'difficulty', 'duration', 'offer_type', 'offer_reward', 'social',\n",
    "           'email', 'web', 'mobile', 'completed_time', 'time_to_complete',\n",
    "           'time_view_to_complete']\n",
    "        offer_completed (df): df with offers completed\n",
    "            ['event', 'user_id', 'completed_time', 'offer_id']\n",
    "    Returns:\n",
    "        c_no_v_df (df): df with offers completed but not viewed\n",
    "    '''\n",
    "    potential_received_offers = offers_received[offers_received['offer_id'].isin(completable_offers)]\n",
    "    print('potential_received_offers.shape: ', potential_received_offers.shape)\n",
    "    \n",
    "    # remove received offers that were viewed and completed\n",
    "    potential_received_offers = potential_received_offers.drop(\n",
    "        potential_received_offers[potential_received_offers['received_id'].isin(\n",
    "            vc_df['received_id'].tolist())].index.values)\n",
    "    # remove offers that were viewed and not completed\n",
    "    potential_received_offers = potential_received_offers.drop(\n",
    "        potential_received_offers[potential_received_offers['received_id'].isin(\n",
    "            v_no_c_df['received_id'].tolist())].index.values)\n",
    "    \n",
    "    \n",
    "    print('potential_received_offers.shape: ', potential_received_offers.shape)\n",
    "    print('offers_completed.shape: ', offers_completed.shape)\n",
    "    # remove completed offers that were viewed\n",
    "    potential_offers_completed = offers_completed.drop(\n",
    "        offers_completed[offers_completed['completed_id'].isin(\n",
    "            vc_df['completed_id'].tolist())].index.values)\n",
    "    print('potential_offers_completed.shape: ', potential_offers_completed.shape)\n",
    "    print('vc_df: ', vc_df.shape)\n",
    "    \n",
    "    # sort potential_offers_completed descending in completed_time to try and match a \n",
    "    # received offer with the largest possible time gap to ensure all completed offers match up with a received offer\n",
    "    potential_offers_completed = potential_offers_completed.sort_values(by='completed_time', ascending=False).reindex()\n",
    "                     \n",
    "    matchable_offers = potential_received_offers.merge(portfolio[['offer_id', 'duration_in_hours']])\n",
    "    \n",
    "    c_no_v_df = pd.DataFrame(columns=['user_id', 'offer_id', 'received_time', 'received_id', \n",
    "                                  'completed_time', 'completed_id'])\n",
    "    \n",
    "    for _, row in potential_offers_completed.iterrows():\n",
    "        user = row['user_id']\n",
    "        offer = row['offer_id']\n",
    "        #print([user, offer])\n",
    "        \n",
    "        potential_matches = matchable_offers[(matchable_offers['user_id']==user)\n",
    "                               & (matchable_offers['offer_id']==offer)\n",
    "                               & (matchable_offers['received_time']<=row['completed_time'])]\n",
    "        \n",
    "        ilocs = potential_matches.shape[0]\n",
    "        # check for first instance where completion time would satisfy duration in hours\n",
    "        for i in range(ilocs):\n",
    "            potential_row_dict = potential_matches.iloc[i].to_dict()\n",
    "            if ((row['completed_time'] - potential_row_dict['received_time'] <= potential_row_dict['duration_in_hours'])& \n",
    "                (row['completed_time'] - potential_row_dict['received_time'] >= 0)):\n",
    "                c_no_v_df_row = potential_row_dict\n",
    "                c_no_v_df_row['completed_time'] = row['completed_time']\n",
    "                c_no_v_df_row['completed_id'] = row['completed_id']\n",
    "                c_no_v_df = c_no_v_df.append(c_no_v_df_row, ignore_index=True)\n",
    "                # remove received_id from \n",
    "                received_id = potential_row_dict['received_id']\n",
    "                #print(matchable_offers.columns)\n",
    "                matchable_offers = matchable_offers.drop(\n",
    "                    matchable_offers[matchable_offers['received_id']==received_id].index.values)\n",
    "                # exit to outer for loop\n",
    "                break\n",
    "                \n",
    "    # make sure the correct data types are set\n",
    "    c_no_v_df[['received_time', 'received_id', 'completed_time', 'completed_id']\n",
    "             ] = c_no_v_df[['received_time', 'received_id', 'completed_time', 'completed_id']\n",
    "                          ].astype('int64')\n",
    "    \n",
    "    # make sure there are no duplicated transaction ids\n",
    "    assert(c_no_v_df['completed_id'].duplicated().sum()==0)\n",
    "    assert(c_no_v_df['received_id'].duplicated().sum()==0)\n",
    "    \n",
    "    return c_no_v_df\n",
    "    "
   ]
  },
  {
   "cell_type": "code",
   "execution_count": 103,
   "metadata": {},
   "outputs": [],
   "source": [
    "# start_time = time()\n",
    "# c_no_v_df = get_c_no_v_df(vc_df, v_no_c_df, offers_completed, offers_received, portfolio)\n",
    "# end_time = time()\n",
    "# print(f'Wohoo new_c_no_v_df ready. Function took {end_time-start_time} to exicute')\n",
    "# c_no_v_df.to_csv('c_no_v_df.csv')\n",
    "# # # function took  to exicute"
   ]
  },
  {
   "cell_type": "code",
   "execution_count": 104,
   "metadata": {},
   "outputs": [],
   "source": [
    "c_no_v_df=pd.read_csv('c_no_v_df.csv')"
   ]
  },
  {
   "cell_type": "code",
   "execution_count": 105,
   "metadata": {},
   "outputs": [],
   "source": [
    "def get_received_ignored_df(offers_received, rv_df, c_no_v_df):\n",
    "    '''Funciton that returns a dataframe with offers that were received, but never viewed or completed\n",
    "    Args:\n",
    "        rv_df (df): df with all offers (including informational) that were viewed after being received\n",
    "        c_no_v_df (df): df with all offers that were completed but never viewed\n",
    "    Returns\n",
    "        received_ignored_df (df): df with offers that were received, but never viewed or completed\n",
    "    '''\n",
    "    potential_received = offers_received[offers_received['offer_id'].isin(completable_offers)]\n",
    "    received_viewed = rv_df['received_id'].tolist()\n",
    "    received_completed_not_viewed = c_no_v_df['received_id'].tolist()\n",
    "    \n",
    "    recieved_acted = received_viewed + received_completed_not_viewed\n",
    "    \n",
    "    get_received_ignored_df = potential_received.drop(\n",
    "        potential_received[potential_received['received_id'].isin(recieved_acted)].index.values)\n",
    "    \n",
    "    # make sure there are no duplicated transaction ids\n",
    "    assert(c_no_v_df['received_id'].duplicated().sum()==0)\n",
    "    \n",
    "    return get_received_ignored_df\n",
    "\n",
    "received_ignored_df = get_received_ignored_df(offers_received, rv_df, c_no_v_df)\n",
    "received_ignored_df.to_csv('received_ignored_df.csv')"
   ]
  },
  {
   "cell_type": "code",
   "execution_count": 106,
   "metadata": {},
   "outputs": [],
   "source": [
    "received_ignored_df = pd.read_csv('received_ignored_df.csv')"
   ]
  },
  {
   "cell_type": "markdown",
   "metadata": {},
   "source": [
    "## It is important to perform a sanity check here to make sure that everything adds up as expected"
   ]
  },
  {
   "cell_type": "markdown",
   "metadata": {},
   "source": [
    "### check that offers received and viewed has the same number of rows as offers viewed"
   ]
  },
  {
   "cell_type": "code",
   "execution_count": 118,
   "metadata": {},
   "outputs": [],
   "source": [
    "assert(rv_df.shape[0]==offers_viewed.shape[0])"
   ]
  },
  {
   "cell_type": "markdown",
   "metadata": {},
   "source": [
    "### check that offers viewed but not completed and offers completed but not viewed adds up to total viewed completable offers"
   ]
  },
  {
   "cell_type": "code",
   "execution_count": 119,
   "metadata": {},
   "outputs": [],
   "source": [
    "completable_offers = portfolio[portfolio['offer_type']!='informational']['offer_id'].tolist()\n",
    "assert((v_no_c_df.shape[0]+vc_df.shape[0])==offers_viewed[offers_viewed['offer_id'].isin(completable_offers)].shape[0])"
   ]
  },
  {
   "cell_type": "markdown",
   "metadata": {},
   "source": [
    "### check that offers viewed and completed and offers completed but not viewed adds up to total completed offers"
   ]
  },
  {
   "cell_type": "code",
   "execution_count": 120,
   "metadata": {},
   "outputs": [
    {
     "data": {
      "text/plain": [
       "(0, 23)"
      ]
     },
     "execution_count": 120,
     "metadata": {},
     "output_type": "execute_result"
    }
   ],
   "source": [
    "overlap = vc_df.merge(c_no_v_df, how='inner', on='completed_id')\n",
    "overlap.shape"
   ]
  },
  {
   "cell_type": "code",
   "execution_count": 121,
   "metadata": {},
   "outputs": [
    {
     "name": "stdout",
     "output_type": "stream",
     "text": [
      "There is not an axact 1-1 mapping of offers completed to offers received. Multiple offer \n",
      "          completions correspond to the same 'offer received' event\n"
     ]
    }
   ],
   "source": [
    "if not ((vc_df.shape[0] + c_no_v_df.shape[0])==\n",
    "        offers_completed[['user_id', 'offer_id', 'completed_time']].drop_duplicates().shape[0]):\n",
    "    print('''There is not an axact 1-1 mapping of offers completed to offers received. Multiple offer \n",
    "          completions correspond to the same 'offer received' event''')"
   ]
  },
  {
   "cell_type": "markdown",
   "metadata": {},
   "source": [
    "## I was unable to obtain a perfect 1-1 mapping of offers completed to offers received.  The discrepancy is 698 of 33182 total completed offers.  We were never told that users cannot complete and offer more than once and we can see that clearly this is occuring.  However, for our analysis we only want to consider one outcome for each received offer, so we are going to only consider the first time that an offer is completed.\n"
   ]
  },
  {
   "cell_type": "markdown",
   "metadata": {},
   "source": [
    "## Lets examine how offers were viewed and completed by users"
   ]
  },
  {
   "cell_type": "code",
   "execution_count": 123,
   "metadata": {},
   "outputs": [
    {
     "name": "stdout",
     "output_type": "stream",
     "text": [
      "The average offer view rate is 0.76\n"
     ]
    },
    {
     "data": {
      "text/html": [
       "<div>\n",
       "<style scoped>\n",
       "    .dataframe tbody tr th:only-of-type {\n",
       "        vertical-align: middle;\n",
       "    }\n",
       "\n",
       "    .dataframe tbody tr th {\n",
       "        vertical-align: top;\n",
       "    }\n",
       "\n",
       "    .dataframe thead th {\n",
       "        text-align: right;\n",
       "    }\n",
       "</style>\n",
       "<table border=\"1\" class=\"dataframe\">\n",
       "  <thead>\n",
       "    <tr style=\"text-align: right;\">\n",
       "      <th></th>\n",
       "      <th>offer_id</th>\n",
       "      <th>received_count</th>\n",
       "      <th>viewed_count</th>\n",
       "      <th>offer_view_rate</th>\n",
       "      <th>offer_reward</th>\n",
       "      <th>difficulty</th>\n",
       "      <th>duration</th>\n",
       "      <th>offer_type</th>\n",
       "      <th>web</th>\n",
       "      <th>email</th>\n",
       "      <th>social</th>\n",
       "      <th>mobile</th>\n",
       "      <th>duration_in_hours</th>\n",
       "    </tr>\n",
       "  </thead>\n",
       "  <tbody>\n",
       "    <tr>\n",
       "      <th>0</th>\n",
       "      <td>0b1e1539f2cc45b7b9fa7c272da2e1d7</td>\n",
       "      <td>7668</td>\n",
       "      <td>2663</td>\n",
       "      <td>0.35</td>\n",
       "      <td>5</td>\n",
       "      <td>20</td>\n",
       "      <td>10</td>\n",
       "      <td>discount</td>\n",
       "      <td>1</td>\n",
       "      <td>1</td>\n",
       "      <td>0</td>\n",
       "      <td>0</td>\n",
       "      <td>240</td>\n",
       "    </tr>\n",
       "    <tr>\n",
       "      <th>1</th>\n",
       "      <td>2298d6c36e964ae4a3e7e9706d1fb8c2</td>\n",
       "      <td>7646</td>\n",
       "      <td>7337</td>\n",
       "      <td>0.96</td>\n",
       "      <td>3</td>\n",
       "      <td>7</td>\n",
       "      <td>7</td>\n",
       "      <td>discount</td>\n",
       "      <td>1</td>\n",
       "      <td>1</td>\n",
       "      <td>1</td>\n",
       "      <td>1</td>\n",
       "      <td>168</td>\n",
       "    </tr>\n",
       "    <tr>\n",
       "      <th>2</th>\n",
       "      <td>2906b810c7d4411798c6938adc9daaa5</td>\n",
       "      <td>7632</td>\n",
       "      <td>4118</td>\n",
       "      <td>0.54</td>\n",
       "      <td>2</td>\n",
       "      <td>10</td>\n",
       "      <td>7</td>\n",
       "      <td>discount</td>\n",
       "      <td>1</td>\n",
       "      <td>1</td>\n",
       "      <td>0</td>\n",
       "      <td>1</td>\n",
       "      <td>168</td>\n",
       "    </tr>\n",
       "    <tr>\n",
       "      <th>3</th>\n",
       "      <td>3f207df678b143eea3cee63160fa8bed</td>\n",
       "      <td>7617</td>\n",
       "      <td>4144</td>\n",
       "      <td>0.54</td>\n",
       "      <td>0</td>\n",
       "      <td>0</td>\n",
       "      <td>4</td>\n",
       "      <td>informational</td>\n",
       "      <td>1</td>\n",
       "      <td>1</td>\n",
       "      <td>0</td>\n",
       "      <td>1</td>\n",
       "      <td>96</td>\n",
       "    </tr>\n",
       "    <tr>\n",
       "      <th>4</th>\n",
       "      <td>4d5c57ea9a6940dd891ad53e9dbe8da0</td>\n",
       "      <td>7593</td>\n",
       "      <td>7298</td>\n",
       "      <td>0.96</td>\n",
       "      <td>10</td>\n",
       "      <td>10</td>\n",
       "      <td>5</td>\n",
       "      <td>bogo</td>\n",
       "      <td>1</td>\n",
       "      <td>1</td>\n",
       "      <td>1</td>\n",
       "      <td>1</td>\n",
       "      <td>120</td>\n",
       "    </tr>\n",
       "    <tr>\n",
       "      <th>5</th>\n",
       "      <td>5a8bc65990b245e5a138643cd4eb9837</td>\n",
       "      <td>7618</td>\n",
       "      <td>6687</td>\n",
       "      <td>0.88</td>\n",
       "      <td>0</td>\n",
       "      <td>0</td>\n",
       "      <td>3</td>\n",
       "      <td>informational</td>\n",
       "      <td>0</td>\n",
       "      <td>1</td>\n",
       "      <td>1</td>\n",
       "      <td>1</td>\n",
       "      <td>72</td>\n",
       "    </tr>\n",
       "    <tr>\n",
       "      <th>6</th>\n",
       "      <td>9b98b8c7a33c4b65b9aebfe6a799e6d9</td>\n",
       "      <td>7677</td>\n",
       "      <td>4171</td>\n",
       "      <td>0.54</td>\n",
       "      <td>5</td>\n",
       "      <td>5</td>\n",
       "      <td>7</td>\n",
       "      <td>bogo</td>\n",
       "      <td>1</td>\n",
       "      <td>1</td>\n",
       "      <td>0</td>\n",
       "      <td>1</td>\n",
       "      <td>168</td>\n",
       "    </tr>\n",
       "    <tr>\n",
       "      <th>7</th>\n",
       "      <td>ae264e3637204a6fb9bb56bc8210ddfd</td>\n",
       "      <td>7658</td>\n",
       "      <td>6716</td>\n",
       "      <td>0.88</td>\n",
       "      <td>10</td>\n",
       "      <td>10</td>\n",
       "      <td>7</td>\n",
       "      <td>bogo</td>\n",
       "      <td>0</td>\n",
       "      <td>1</td>\n",
       "      <td>1</td>\n",
       "      <td>1</td>\n",
       "      <td>168</td>\n",
       "    </tr>\n",
       "    <tr>\n",
       "      <th>8</th>\n",
       "      <td>f19421c1d4aa40978ebb69ca19b0e20d</td>\n",
       "      <td>7571</td>\n",
       "      <td>7264</td>\n",
       "      <td>0.96</td>\n",
       "      <td>5</td>\n",
       "      <td>5</td>\n",
       "      <td>5</td>\n",
       "      <td>bogo</td>\n",
       "      <td>1</td>\n",
       "      <td>1</td>\n",
       "      <td>1</td>\n",
       "      <td>1</td>\n",
       "      <td>120</td>\n",
       "    </tr>\n",
       "    <tr>\n",
       "      <th>9</th>\n",
       "      <td>fafdcd668e3743c1bb461111dcafc2a4</td>\n",
       "      <td>7597</td>\n",
       "      <td>7327</td>\n",
       "      <td>0.96</td>\n",
       "      <td>2</td>\n",
       "      <td>10</td>\n",
       "      <td>10</td>\n",
       "      <td>discount</td>\n",
       "      <td>1</td>\n",
       "      <td>1</td>\n",
       "      <td>1</td>\n",
       "      <td>1</td>\n",
       "      <td>240</td>\n",
       "    </tr>\n",
       "  </tbody>\n",
       "</table>\n",
       "</div>"
      ],
      "text/plain": [
       "                           offer_id  received_count  viewed_count  \\\n",
       "0  0b1e1539f2cc45b7b9fa7c272da2e1d7            7668          2663   \n",
       "1  2298d6c36e964ae4a3e7e9706d1fb8c2            7646          7337   \n",
       "2  2906b810c7d4411798c6938adc9daaa5            7632          4118   \n",
       "3  3f207df678b143eea3cee63160fa8bed            7617          4144   \n",
       "4  4d5c57ea9a6940dd891ad53e9dbe8da0            7593          7298   \n",
       "5  5a8bc65990b245e5a138643cd4eb9837            7618          6687   \n",
       "6  9b98b8c7a33c4b65b9aebfe6a799e6d9            7677          4171   \n",
       "7  ae264e3637204a6fb9bb56bc8210ddfd            7658          6716   \n",
       "8  f19421c1d4aa40978ebb69ca19b0e20d            7571          7264   \n",
       "9  fafdcd668e3743c1bb461111dcafc2a4            7597          7327   \n",
       "\n",
       "   offer_view_rate  offer_reward  difficulty  duration     offer_type  web  \\\n",
       "0             0.35             5          20        10       discount    1   \n",
       "1             0.96             3           7         7       discount    1   \n",
       "2             0.54             2          10         7       discount    1   \n",
       "3             0.54             0           0         4  informational    1   \n",
       "4             0.96            10          10         5           bogo    1   \n",
       "5             0.88             0           0         3  informational    0   \n",
       "6             0.54             5           5         7           bogo    1   \n",
       "7             0.88            10          10         7           bogo    0   \n",
       "8             0.96             5           5         5           bogo    1   \n",
       "9             0.96             2          10        10       discount    1   \n",
       "\n",
       "   email  social  mobile  duration_in_hours  \n",
       "0      1       0       0                240  \n",
       "1      1       1       1                168  \n",
       "2      1       0       1                168  \n",
       "3      1       0       1                 96  \n",
       "4      1       1       1                120  \n",
       "5      1       1       1                 72  \n",
       "6      1       0       1                168  \n",
       "7      1       1       1                168  \n",
       "8      1       1       1                120  \n",
       "9      1       1       1                240  "
      ]
     },
     "execution_count": 123,
     "metadata": {},
     "output_type": "execute_result"
    }
   ],
   "source": [
    "def get_offer_view_rates(offers_received, offers_viewed):\n",
    "    '''Function that returns a df with cummulative offer view rates accross all users\n",
    "    Args:\n",
    "        offers_received (df): df with all received offers\n",
    "        offers_viewed (df): df with all viewed offers\n",
    "    Returns:\n",
    "        offer_view_rate (df): df with offer view rates\n",
    "            ['offer_id', 'received_count', 'viewed_count', 'offer_view_rate']\n",
    "    '''\n",
    "    offer_received_counts = offers_received.groupby('offer_id')['offer_id'].agg([('received_count','count')]).reset_index()\n",
    "    offer_viewed_counts = offers_viewed.groupby('offer_id')['offer_id'].agg([('viewed_count','count')]).reset_index()\n",
    "    offer_view_rate = offer_received_counts.merge(offer_viewed_counts, how='left', on='offer_id')\n",
    "    offer_view_rate['offer_view_rate'] = (offer_view_rate['viewed_count']/offer_view_rate['received_count']).round(2)\n",
    "    offer_view_rate = offer_view_rate.merge(portfolio, how='left', on='offer_id')\n",
    "    return offer_view_rate\n",
    "\n",
    "offer_view_rate = get_offer_view_rates(offers_received, offers_viewed)\n",
    "\n",
    "average_offer_view_rate = (offer_view_rate['viewed_count'].sum()/offer_view_rate['received_count'].sum())\n",
    "\n",
    "print(f'The average offer view rate is {average_offer_view_rate:.2f}')\n",
    "\n",
    "offer_view_rate"
   ]
  },
  {
   "cell_type": "code",
   "execution_count": 124,
   "metadata": {},
   "outputs": [
    {
     "name": "stdout",
     "output_type": "stream",
     "text": [
      "The average offer completion rate is 0.54\n"
     ]
    },
    {
     "data": {
      "text/html": [
       "<div>\n",
       "<style scoped>\n",
       "    .dataframe tbody tr th:only-of-type {\n",
       "        vertical-align: middle;\n",
       "    }\n",
       "\n",
       "    .dataframe tbody tr th {\n",
       "        vertical-align: top;\n",
       "    }\n",
       "\n",
       "    .dataframe thead th {\n",
       "        text-align: right;\n",
       "    }\n",
       "</style>\n",
       "<table border=\"1\" class=\"dataframe\">\n",
       "  <thead>\n",
       "    <tr style=\"text-align: right;\">\n",
       "      <th></th>\n",
       "      <th>offer_id</th>\n",
       "      <th>received_count</th>\n",
       "      <th>completed_count</th>\n",
       "      <th>offer_completed_rate</th>\n",
       "      <th>offer_type</th>\n",
       "    </tr>\n",
       "  </thead>\n",
       "  <tbody>\n",
       "    <tr>\n",
       "      <th>0</th>\n",
       "      <td>0b1e1539f2cc45b7b9fa7c272da2e1d7</td>\n",
       "      <td>7668</td>\n",
       "      <td>3340</td>\n",
       "      <td>0.44</td>\n",
       "      <td>discount</td>\n",
       "    </tr>\n",
       "    <tr>\n",
       "      <th>1</th>\n",
       "      <td>2298d6c36e964ae4a3e7e9706d1fb8c2</td>\n",
       "      <td>7646</td>\n",
       "      <td>5112</td>\n",
       "      <td>0.67</td>\n",
       "      <td>discount</td>\n",
       "    </tr>\n",
       "    <tr>\n",
       "      <th>2</th>\n",
       "      <td>2906b810c7d4411798c6938adc9daaa5</td>\n",
       "      <td>7632</td>\n",
       "      <td>3964</td>\n",
       "      <td>0.52</td>\n",
       "      <td>discount</td>\n",
       "    </tr>\n",
       "    <tr>\n",
       "      <th>4</th>\n",
       "      <td>4d5c57ea9a6940dd891ad53e9dbe8da0</td>\n",
       "      <td>7593</td>\n",
       "      <td>3301</td>\n",
       "      <td>0.43</td>\n",
       "      <td>bogo</td>\n",
       "    </tr>\n",
       "    <tr>\n",
       "      <th>6</th>\n",
       "      <td>9b98b8c7a33c4b65b9aebfe6a799e6d9</td>\n",
       "      <td>7677</td>\n",
       "      <td>4303</td>\n",
       "      <td>0.56</td>\n",
       "      <td>bogo</td>\n",
       "    </tr>\n",
       "    <tr>\n",
       "      <th>7</th>\n",
       "      <td>ae264e3637204a6fb9bb56bc8210ddfd</td>\n",
       "      <td>7658</td>\n",
       "      <td>3635</td>\n",
       "      <td>0.47</td>\n",
       "      <td>bogo</td>\n",
       "    </tr>\n",
       "    <tr>\n",
       "      <th>8</th>\n",
       "      <td>f19421c1d4aa40978ebb69ca19b0e20d</td>\n",
       "      <td>7571</td>\n",
       "      <td>4262</td>\n",
       "      <td>0.56</td>\n",
       "      <td>bogo</td>\n",
       "    </tr>\n",
       "    <tr>\n",
       "      <th>9</th>\n",
       "      <td>fafdcd668e3743c1bb461111dcafc2a4</td>\n",
       "      <td>7597</td>\n",
       "      <td>5265</td>\n",
       "      <td>0.69</td>\n",
       "      <td>discount</td>\n",
       "    </tr>\n",
       "  </tbody>\n",
       "</table>\n",
       "</div>"
      ],
      "text/plain": [
       "                           offer_id  received_count  completed_count  \\\n",
       "0  0b1e1539f2cc45b7b9fa7c272da2e1d7            7668             3340   \n",
       "1  2298d6c36e964ae4a3e7e9706d1fb8c2            7646             5112   \n",
       "2  2906b810c7d4411798c6938adc9daaa5            7632             3964   \n",
       "4  4d5c57ea9a6940dd891ad53e9dbe8da0            7593             3301   \n",
       "6  9b98b8c7a33c4b65b9aebfe6a799e6d9            7677             4303   \n",
       "7  ae264e3637204a6fb9bb56bc8210ddfd            7658             3635   \n",
       "8  f19421c1d4aa40978ebb69ca19b0e20d            7571             4262   \n",
       "9  fafdcd668e3743c1bb461111dcafc2a4            7597             5265   \n",
       "\n",
       "   offer_completed_rate offer_type  \n",
       "0                  0.44   discount  \n",
       "1                  0.67   discount  \n",
       "2                  0.52   discount  \n",
       "4                  0.43       bogo  \n",
       "6                  0.56       bogo  \n",
       "7                  0.47       bogo  \n",
       "8                  0.56       bogo  \n",
       "9                  0.69   discount  "
      ]
     },
     "execution_count": 124,
     "metadata": {},
     "output_type": "execute_result"
    }
   ],
   "source": [
    "def get_offer_completed_rates(offers_received, offers_completed):\n",
    "    '''Function that returns a df with cummulative offer view rates accross all users\n",
    "    Args:\n",
    "        offers_received (df): df with all received offers\n",
    "        offers_completed (df): df with all completed offers\n",
    "    Returns:\n",
    "        offer_completion_rate (df): df with offer view rates\n",
    "            ['offer_id', 'received_count', 'completed_count', 'offer_completion_rate']\n",
    "    '''\n",
    "    offer_received_counts = offers_received.groupby('offer_id')['offer_id'].agg([('received_count','count')]).reset_index()\n",
    "    offer_completed_counts = offers_completed.groupby('offer_id')['offer_id'].agg([('completed_count','count')]).reset_index()    \n",
    "    offer_completed_rate = offer_received_counts.merge(offer_completed_counts, how='left', on='offer_id')\n",
    "    offer_completed_rate['offer_completed_rate'] = (offer_completed_rate['completed_count']/\n",
    "                                                    offer_completed_rate['received_count']).round(2)\n",
    "    \n",
    "    # remove informational offers because they cannot be completed\n",
    "    offer_completed_rate = offer_completed_rate.merge(portfolio[['offer_id', 'offer_type']], how='left', on='offer_id')\n",
    "    offer_completed_rate.drop(offer_completed_rate[\n",
    "           offer_completed_rate['offer_type']=='informational'].index.values, axis=0, inplace=True)\n",
    "    \n",
    "    offer_completed_rate['completed_count'] = offer_completed_rate['completed_count'].astype(int)\n",
    "    \n",
    "    return offer_completed_rate\n",
    "\n",
    "offer_completed_rate = get_offer_completed_rates(offers_received, offers_completed)\n",
    "average_offer_completed_rate = offer_completed_rate['completed_count'].sum()/offer_completed_rate['received_count'].sum()\n",
    "\n",
    "print(f'The average offer completion rate is {average_offer_completed_rate:.2f}')\n",
    "\n",
    "offer_completed_rate"
   ]
  },
  {
   "cell_type": "code",
   "execution_count": 125,
   "metadata": {},
   "outputs": [
    {
     "name": "stdout",
     "output_type": "stream",
     "text": [
      "The average offer viewed and completed rate is 0.38\n"
     ]
    },
    {
     "data": {
      "text/html": [
       "<div>\n",
       "<style scoped>\n",
       "    .dataframe tbody tr th:only-of-type {\n",
       "        vertical-align: middle;\n",
       "    }\n",
       "\n",
       "    .dataframe tbody tr th {\n",
       "        vertical-align: top;\n",
       "    }\n",
       "\n",
       "    .dataframe thead th {\n",
       "        text-align: right;\n",
       "    }\n",
       "</style>\n",
       "<table border=\"1\" class=\"dataframe\">\n",
       "  <thead>\n",
       "    <tr style=\"text-align: right;\">\n",
       "      <th></th>\n",
       "      <th>offer_id</th>\n",
       "      <th>received_count</th>\n",
       "      <th>viewed_completed_count</th>\n",
       "      <th>offer_viewed_completed_rate</th>\n",
       "      <th>offer_type</th>\n",
       "    </tr>\n",
       "  </thead>\n",
       "  <tbody>\n",
       "    <tr>\n",
       "      <th>0</th>\n",
       "      <td>0b1e1539f2cc45b7b9fa7c272da2e1d7</td>\n",
       "      <td>7668</td>\n",
       "      <td>1323</td>\n",
       "      <td>0.17</td>\n",
       "      <td>discount</td>\n",
       "    </tr>\n",
       "    <tr>\n",
       "      <th>1</th>\n",
       "      <td>2298d6c36e964ae4a3e7e9706d1fb8c2</td>\n",
       "      <td>7646</td>\n",
       "      <td>4323</td>\n",
       "      <td>0.57</td>\n",
       "      <td>discount</td>\n",
       "    </tr>\n",
       "    <tr>\n",
       "      <th>2</th>\n",
       "      <td>2906b810c7d4411798c6938adc9daaa5</td>\n",
       "      <td>7632</td>\n",
       "      <td>2102</td>\n",
       "      <td>0.28</td>\n",
       "      <td>discount</td>\n",
       "    </tr>\n",
       "    <tr>\n",
       "      <th>4</th>\n",
       "      <td>4d5c57ea9a6940dd891ad53e9dbe8da0</td>\n",
       "      <td>7593</td>\n",
       "      <td>2730</td>\n",
       "      <td>0.36</td>\n",
       "      <td>bogo</td>\n",
       "    </tr>\n",
       "    <tr>\n",
       "      <th>6</th>\n",
       "      <td>9b98b8c7a33c4b65b9aebfe6a799e6d9</td>\n",
       "      <td>7677</td>\n",
       "      <td>2106</td>\n",
       "      <td>0.27</td>\n",
       "      <td>bogo</td>\n",
       "    </tr>\n",
       "    <tr>\n",
       "      <th>7</th>\n",
       "      <td>ae264e3637204a6fb9bb56bc8210ddfd</td>\n",
       "      <td>7658</td>\n",
       "      <td>2585</td>\n",
       "      <td>0.34</td>\n",
       "      <td>bogo</td>\n",
       "    </tr>\n",
       "    <tr>\n",
       "      <th>8</th>\n",
       "      <td>f19421c1d4aa40978ebb69ca19b0e20d</td>\n",
       "      <td>7571</td>\n",
       "      <td>3505</td>\n",
       "      <td>0.46</td>\n",
       "      <td>bogo</td>\n",
       "    </tr>\n",
       "    <tr>\n",
       "      <th>9</th>\n",
       "      <td>fafdcd668e3743c1bb461111dcafc2a4</td>\n",
       "      <td>7597</td>\n",
       "      <td>4489</td>\n",
       "      <td>0.59</td>\n",
       "      <td>discount</td>\n",
       "    </tr>\n",
       "  </tbody>\n",
       "</table>\n",
       "</div>"
      ],
      "text/plain": [
       "                           offer_id  received_count  viewed_completed_count  \\\n",
       "0  0b1e1539f2cc45b7b9fa7c272da2e1d7            7668                    1323   \n",
       "1  2298d6c36e964ae4a3e7e9706d1fb8c2            7646                    4323   \n",
       "2  2906b810c7d4411798c6938adc9daaa5            7632                    2102   \n",
       "4  4d5c57ea9a6940dd891ad53e9dbe8da0            7593                    2730   \n",
       "6  9b98b8c7a33c4b65b9aebfe6a799e6d9            7677                    2106   \n",
       "7  ae264e3637204a6fb9bb56bc8210ddfd            7658                    2585   \n",
       "8  f19421c1d4aa40978ebb69ca19b0e20d            7571                    3505   \n",
       "9  fafdcd668e3743c1bb461111dcafc2a4            7597                    4489   \n",
       "\n",
       "   offer_viewed_completed_rate offer_type  \n",
       "0                         0.17   discount  \n",
       "1                         0.57   discount  \n",
       "2                         0.28   discount  \n",
       "4                         0.36       bogo  \n",
       "6                         0.27       bogo  \n",
       "7                         0.34       bogo  \n",
       "8                         0.46       bogo  \n",
       "9                         0.59   discount  "
      ]
     },
     "execution_count": 125,
     "metadata": {},
     "output_type": "execute_result"
    }
   ],
   "source": [
    "def get_offer_viewed_completed_rate(offers_received, vc_df):\n",
    "    '''Function that returns a df with cummulative offer view rates accross all users\n",
    "    Args:\n",
    "        offers_received (df): df with all received offers\n",
    "        vc_df (df): df with all offers that were viewed and completed\n",
    "    Returns:\n",
    "        offer_viewed_completed_rate (df): df with offer view rates\n",
    "            ['offer_id', 'received_count', 'completed_count', 'offer_completion_rate']\n",
    "    '''\n",
    "    offer_received_counts = offers_received.groupby('offer_id')['offer_id'].agg([('received_count','count')]).reset_index()\n",
    "    offer_viewed_completed_counts = vc_df.groupby('offer_id')['offer_id'].agg([('viewed_completed_count','count')]).reset_index()\n",
    "    offer_viewed_completed_rate = offer_received_counts.merge(offer_viewed_completed_counts, how='left', on='offer_id')\n",
    "    offer_viewed_completed_rate['offer_viewed_completed_rate'] = (offer_viewed_completed_rate['viewed_completed_count']/\n",
    "                                                                  offer_viewed_completed_rate['received_count']).round(2)\n",
    "    offer_viewed_completed_rate = offer_viewed_completed_rate.merge(\n",
    "        portfolio[['offer_id', 'offer_type']], how='left', on='offer_id')\n",
    "    \n",
    "    \n",
    "    offer_viewed_completed_rate=offer_viewed_completed_rate.drop(\n",
    "        offer_viewed_completed_rate[offer_viewed_completed_rate['offer_type']=='informational'].index.values, axis=0)\n",
    "    \n",
    "    offer_viewed_completed_rate['viewed_completed_count'] = offer_viewed_completed_rate['viewed_completed_count'].astype(int)\n",
    "    \n",
    "    return offer_viewed_completed_rate\n",
    "\n",
    "offer_viewed_completed_rate = get_offer_viewed_completed_rate(offers_received, vc_df)\n",
    "\n",
    "average_offer_viewed_completed_rate = (offer_viewed_completed_rate['viewed_completed_count'].sum()/\n",
    "                                       offer_completed_rate['received_count'].sum())\n",
    "\n",
    "print(f'The average offer viewed and completed rate is {average_offer_viewed_completed_rate:.2f}')\n",
    "\n",
    "offer_viewed_completed_rate"
   ]
  },
  {
   "cell_type": "markdown",
   "metadata": {},
   "source": [
    "### The average rates of completable offers being viewed and completed is 17% while the average completion rate is 55%.  Therefore, a significant amount of proffit is likely being lost from sending users offers that are never viewed. "
   ]
  },
  {
   "cell_type": "code",
   "execution_count": 127,
   "metadata": {},
   "outputs": [
    {
     "name": "stdout",
     "output_type": "stream",
     "text": [
      "The average offer completed without view rate is 0.09.\n"
     ]
    },
    {
     "data": {
      "text/html": [
       "<div>\n",
       "<style scoped>\n",
       "    .dataframe tbody tr th:only-of-type {\n",
       "        vertical-align: middle;\n",
       "    }\n",
       "\n",
       "    .dataframe tbody tr th {\n",
       "        vertical-align: top;\n",
       "    }\n",
       "\n",
       "    .dataframe thead th {\n",
       "        text-align: right;\n",
       "    }\n",
       "</style>\n",
       "<table border=\"1\" class=\"dataframe\">\n",
       "  <thead>\n",
       "    <tr style=\"text-align: right;\">\n",
       "      <th></th>\n",
       "      <th>offer_id</th>\n",
       "      <th>received_count</th>\n",
       "      <th>completed_not_viewed_count</th>\n",
       "      <th>offer_completed_not_viewed_rate</th>\n",
       "      <th>offer_type</th>\n",
       "    </tr>\n",
       "  </thead>\n",
       "  <tbody>\n",
       "    <tr>\n",
       "      <th>0</th>\n",
       "      <td>0b1e1539f2cc45b7b9fa7c272da2e1d7</td>\n",
       "      <td>7668</td>\n",
       "      <td>1738</td>\n",
       "      <td>0.23</td>\n",
       "      <td>discount</td>\n",
       "    </tr>\n",
       "    <tr>\n",
       "      <th>1</th>\n",
       "      <td>2298d6c36e964ae4a3e7e9706d1fb8c2</td>\n",
       "      <td>7646</td>\n",
       "      <td>152</td>\n",
       "      <td>0.02</td>\n",
       "      <td>discount</td>\n",
       "    </tr>\n",
       "    <tr>\n",
       "      <th>2</th>\n",
       "      <td>2906b810c7d4411798c6938adc9daaa5</td>\n",
       "      <td>7632</td>\n",
       "      <td>1306</td>\n",
       "      <td>0.17</td>\n",
       "      <td>discount</td>\n",
       "    </tr>\n",
       "    <tr>\n",
       "      <th>3</th>\n",
       "      <td>4d5c57ea9a6940dd891ad53e9dbe8da0</td>\n",
       "      <td>7593</td>\n",
       "      <td>87</td>\n",
       "      <td>0.01</td>\n",
       "      <td>bogo</td>\n",
       "    </tr>\n",
       "    <tr>\n",
       "      <th>4</th>\n",
       "      <td>9b98b8c7a33c4b65b9aebfe6a799e6d9</td>\n",
       "      <td>7677</td>\n",
       "      <td>1567</td>\n",
       "      <td>0.20</td>\n",
       "      <td>bogo</td>\n",
       "    </tr>\n",
       "    <tr>\n",
       "      <th>5</th>\n",
       "      <td>ae264e3637204a6fb9bb56bc8210ddfd</td>\n",
       "      <td>7658</td>\n",
       "      <td>419</td>\n",
       "      <td>0.05</td>\n",
       "      <td>bogo</td>\n",
       "    </tr>\n",
       "    <tr>\n",
       "      <th>6</th>\n",
       "      <td>f19421c1d4aa40978ebb69ca19b0e20d</td>\n",
       "      <td>7571</td>\n",
       "      <td>131</td>\n",
       "      <td>0.02</td>\n",
       "      <td>bogo</td>\n",
       "    </tr>\n",
       "    <tr>\n",
       "      <th>7</th>\n",
       "      <td>fafdcd668e3743c1bb461111dcafc2a4</td>\n",
       "      <td>7597</td>\n",
       "      <td>131</td>\n",
       "      <td>0.02</td>\n",
       "      <td>discount</td>\n",
       "    </tr>\n",
       "  </tbody>\n",
       "</table>\n",
       "</div>"
      ],
      "text/plain": [
       "                           offer_id  received_count  \\\n",
       "0  0b1e1539f2cc45b7b9fa7c272da2e1d7            7668   \n",
       "1  2298d6c36e964ae4a3e7e9706d1fb8c2            7646   \n",
       "2  2906b810c7d4411798c6938adc9daaa5            7632   \n",
       "3  4d5c57ea9a6940dd891ad53e9dbe8da0            7593   \n",
       "4  9b98b8c7a33c4b65b9aebfe6a799e6d9            7677   \n",
       "5  ae264e3637204a6fb9bb56bc8210ddfd            7658   \n",
       "6  f19421c1d4aa40978ebb69ca19b0e20d            7571   \n",
       "7  fafdcd668e3743c1bb461111dcafc2a4            7597   \n",
       "\n",
       "   completed_not_viewed_count  offer_completed_not_viewed_rate offer_type  \n",
       "0                        1738                             0.23   discount  \n",
       "1                         152                             0.02   discount  \n",
       "2                        1306                             0.17   discount  \n",
       "3                          87                             0.01       bogo  \n",
       "4                        1567                             0.20       bogo  \n",
       "5                         419                             0.05       bogo  \n",
       "6                         131                             0.02       bogo  \n",
       "7                         131                             0.02   discount  "
      ]
     },
     "execution_count": 127,
     "metadata": {},
     "output_type": "execute_result"
    }
   ],
   "source": [
    "def get_offer_completed_not_viewed_rate(offers_received, c_no_v_df):\n",
    "    '''Function that returns a df with cummulative offer view rates accross all users\n",
    "    Args:\n",
    "        offers_received (df): df with all received offers\n",
    "        vc_df (df): df with all offers that were viewed and completed\n",
    "    Returns:\n",
    "        offer_viewed_completed_rate (df): df with offer view rates\n",
    "            ['offer_id', 'received_count', 'completed_count', 'offer_completion_rate']\n",
    "    '''\n",
    "    offers_received = offers_received.merge(portfolio[['offer_id', 'offer_type']])\n",
    "    \n",
    "    offer_received_counts = offers_received.drop(offers_received[offers_received['offer_type'] =='informational']\\\n",
    "                                                 .index.values).groupby('offer_id')['offer_id'].agg(\n",
    "                                                    [('received_count','count')]).reset_index()\n",
    "    \n",
    "    offer_completed_not_viewed_counts = c_no_v_df.groupby('offer_id')['offer_id'].agg([('completed_not_viewed_count','count')]).reset_index()\n",
    "    offer_completed_not_viewed_rate = offer_received_counts.merge(offer_completed_not_viewed_counts, \n",
    "                                                                  how='left', on='offer_id')\n",
    "    \n",
    "    offer_completed_not_viewed_rate['offer_completed_not_viewed_rate'] = (\n",
    "                                                                  offer_completed_not_viewed_rate['completed_not_viewed_count']/\n",
    "                                                                  offer_completed_not_viewed_rate['received_count']).round(2)\n",
    "    \n",
    "    offer_completed_not_viewed_rate = offer_completed_not_viewed_rate.merge(portfolio[['offer_id', 'offer_type']], \n",
    "                                                                            how='left', on='offer_id')\n",
    "    \n",
    "    return offer_completed_not_viewed_rate\n",
    "\n",
    "offer_completed_not_viewed_rate = get_offer_completed_not_viewed_rate(offers_received, c_no_v_df)\n",
    "\n",
    "average_offer_completed_not_viewed_rate = (offer_completed_not_viewed_rate['completed_not_viewed_count'].sum()/\n",
    "                                       offer_completed_not_viewed_rate['received_count'].sum())\n",
    "\n",
    "print(f'The average offer completed without view rate is {average_offer_completed_not_viewed_rate:.2f}.')\n",
    "\n",
    "offer_completed_not_viewed_rate"
   ]
  },
  {
   "cell_type": "code",
   "execution_count": 128,
   "metadata": {},
   "outputs": [
    {
     "name": "stdout",
     "output_type": "stream",
     "text": [
      "The average offer ignored rate is 0.14.\n"
     ]
    },
    {
     "data": {
      "text/html": [
       "<div>\n",
       "<style scoped>\n",
       "    .dataframe tbody tr th:only-of-type {\n",
       "        vertical-align: middle;\n",
       "    }\n",
       "\n",
       "    .dataframe tbody tr th {\n",
       "        vertical-align: top;\n",
       "    }\n",
       "\n",
       "    .dataframe thead th {\n",
       "        text-align: right;\n",
       "    }\n",
       "</style>\n",
       "<table border=\"1\" class=\"dataframe\">\n",
       "  <thead>\n",
       "    <tr style=\"text-align: right;\">\n",
       "      <th></th>\n",
       "      <th>offer_id</th>\n",
       "      <th>received_count</th>\n",
       "      <th>ignored_count</th>\n",
       "      <th>offer_ignored_rate</th>\n",
       "    </tr>\n",
       "  </thead>\n",
       "  <tbody>\n",
       "    <tr>\n",
       "      <th>0</th>\n",
       "      <td>0b1e1539f2cc45b7b9fa7c272da2e1d7</td>\n",
       "      <td>7668</td>\n",
       "      <td>3267</td>\n",
       "      <td>0.43</td>\n",
       "    </tr>\n",
       "    <tr>\n",
       "      <th>1</th>\n",
       "      <td>2298d6c36e964ae4a3e7e9706d1fb8c2</td>\n",
       "      <td>7646</td>\n",
       "      <td>157</td>\n",
       "      <td>0.02</td>\n",
       "    </tr>\n",
       "    <tr>\n",
       "      <th>2</th>\n",
       "      <td>2906b810c7d4411798c6938adc9daaa5</td>\n",
       "      <td>7632</td>\n",
       "      <td>2208</td>\n",
       "      <td>0.29</td>\n",
       "    </tr>\n",
       "    <tr>\n",
       "      <th>3</th>\n",
       "      <td>4d5c57ea9a6940dd891ad53e9dbe8da0</td>\n",
       "      <td>7593</td>\n",
       "      <td>208</td>\n",
       "      <td>0.03</td>\n",
       "    </tr>\n",
       "    <tr>\n",
       "      <th>4</th>\n",
       "      <td>9b98b8c7a33c4b65b9aebfe6a799e6d9</td>\n",
       "      <td>7677</td>\n",
       "      <td>1939</td>\n",
       "      <td>0.25</td>\n",
       "    </tr>\n",
       "    <tr>\n",
       "      <th>5</th>\n",
       "      <td>ae264e3637204a6fb9bb56bc8210ddfd</td>\n",
       "      <td>7658</td>\n",
       "      <td>523</td>\n",
       "      <td>0.07</td>\n",
       "    </tr>\n",
       "    <tr>\n",
       "      <th>6</th>\n",
       "      <td>f19421c1d4aa40978ebb69ca19b0e20d</td>\n",
       "      <td>7571</td>\n",
       "      <td>176</td>\n",
       "      <td>0.02</td>\n",
       "    </tr>\n",
       "    <tr>\n",
       "      <th>7</th>\n",
       "      <td>fafdcd668e3743c1bb461111dcafc2a4</td>\n",
       "      <td>7597</td>\n",
       "      <td>139</td>\n",
       "      <td>0.02</td>\n",
       "    </tr>\n",
       "  </tbody>\n",
       "</table>\n",
       "</div>"
      ],
      "text/plain": [
       "                           offer_id  received_count  ignored_count  \\\n",
       "0  0b1e1539f2cc45b7b9fa7c272da2e1d7            7668           3267   \n",
       "1  2298d6c36e964ae4a3e7e9706d1fb8c2            7646            157   \n",
       "2  2906b810c7d4411798c6938adc9daaa5            7632           2208   \n",
       "3  4d5c57ea9a6940dd891ad53e9dbe8da0            7593            208   \n",
       "4  9b98b8c7a33c4b65b9aebfe6a799e6d9            7677           1939   \n",
       "5  ae264e3637204a6fb9bb56bc8210ddfd            7658            523   \n",
       "6  f19421c1d4aa40978ebb69ca19b0e20d            7571            176   \n",
       "7  fafdcd668e3743c1bb461111dcafc2a4            7597            139   \n",
       "\n",
       "   offer_ignored_rate  \n",
       "0                0.43  \n",
       "1                0.02  \n",
       "2                0.29  \n",
       "3                0.03  \n",
       "4                0.25  \n",
       "5                0.07  \n",
       "6                0.02  \n",
       "7                0.02  "
      ]
     },
     "execution_count": 128,
     "metadata": {},
     "output_type": "execute_result"
    }
   ],
   "source": [
    "def get_completableoffer_ignored_rate(offers_received, received_ignored_df):\n",
    "    '''Function to evaluate ignored offers for all offers\n",
    "    Args:\n",
    "        offers_received (df): df with all received offers\n",
    "        received_ignored_df (df):\n",
    "    Returns:\n",
    "        completableoffer_ignored_rate (df)}: df with rates of completable offers being ignored\n",
    "    '''\n",
    "    \n",
    "    received_counts = offers_received[offers_received['offer_id'].isin(\n",
    "        completable_offers)].groupby(['offer_id'])['offer_id'].agg(\n",
    "                                                    [('received_count','count')]).reset_index()\n",
    "    \n",
    "    ignored_counts = received_ignored_df.groupby('offer_id')['offer_id'].agg(\n",
    "                                                    [('ignored_count','count')]).reset_index()\n",
    "    \n",
    "    completableoffer_ignored_rate = received_counts.merge(ignored_counts, how='left', on='offer_id')\n",
    "\n",
    "    completableoffer_ignored_rate['offer_ignored_rate'] = (completableoffer_ignored_rate['ignored_count']/\n",
    "                                                           completableoffer_ignored_rate['received_count']).round(2)\n",
    "    \n",
    "    return completableoffer_ignored_rate\n",
    "\n",
    "completableoffer_ignored_rate = get_completableoffer_ignored_rate(offers_received, received_ignored_df)\n",
    "\n",
    "average_completableoffer_ignored_rate = (completableoffer_ignored_rate['ignored_count'].sum()/\n",
    "                                       completableoffer_ignored_rate['received_count'].sum())\n",
    "\n",
    "print(f'The average offer ignored rate is {average_completableoffer_ignored_rate:.2f}.')\n",
    "\n",
    "completableoffer_ignored_rate\n",
    "    \n",
    "    "
   ]
  },
  {
   "cell_type": "code",
   "execution_count": 129,
   "metadata": {},
   "outputs": [
    {
     "data": {
      "text/html": [
       "<div>\n",
       "<style scoped>\n",
       "    .dataframe tbody tr th:only-of-type {\n",
       "        vertical-align: middle;\n",
       "    }\n",
       "\n",
       "    .dataframe tbody tr th {\n",
       "        vertical-align: top;\n",
       "    }\n",
       "\n",
       "    .dataframe thead th {\n",
       "        text-align: right;\n",
       "    }\n",
       "</style>\n",
       "<table border=\"1\" class=\"dataframe\">\n",
       "  <thead>\n",
       "    <tr style=\"text-align: right;\">\n",
       "      <th></th>\n",
       "      <th>offer_id</th>\n",
       "      <th>offer_type</th>\n",
       "      <th>received_count</th>\n",
       "      <th>offer_viewed_completed_rate</th>\n",
       "      <th>offer_completed_not_viewed_rate</th>\n",
       "      <th>viewed_more</th>\n",
       "    </tr>\n",
       "  </thead>\n",
       "  <tbody>\n",
       "    <tr>\n",
       "      <th>0</th>\n",
       "      <td>0b1e1539f2cc45b7b9fa7c272da2e1d7</td>\n",
       "      <td>discount</td>\n",
       "      <td>7668</td>\n",
       "      <td>0.17</td>\n",
       "      <td>0.23</td>\n",
       "      <td>False</td>\n",
       "    </tr>\n",
       "    <tr>\n",
       "      <th>1</th>\n",
       "      <td>2298d6c36e964ae4a3e7e9706d1fb8c2</td>\n",
       "      <td>discount</td>\n",
       "      <td>7646</td>\n",
       "      <td>0.57</td>\n",
       "      <td>0.02</td>\n",
       "      <td>True</td>\n",
       "    </tr>\n",
       "    <tr>\n",
       "      <th>2</th>\n",
       "      <td>2906b810c7d4411798c6938adc9daaa5</td>\n",
       "      <td>discount</td>\n",
       "      <td>7632</td>\n",
       "      <td>0.28</td>\n",
       "      <td>0.17</td>\n",
       "      <td>True</td>\n",
       "    </tr>\n",
       "    <tr>\n",
       "      <th>3</th>\n",
       "      <td>4d5c57ea9a6940dd891ad53e9dbe8da0</td>\n",
       "      <td>bogo</td>\n",
       "      <td>7593</td>\n",
       "      <td>0.36</td>\n",
       "      <td>0.01</td>\n",
       "      <td>True</td>\n",
       "    </tr>\n",
       "    <tr>\n",
       "      <th>4</th>\n",
       "      <td>9b98b8c7a33c4b65b9aebfe6a799e6d9</td>\n",
       "      <td>bogo</td>\n",
       "      <td>7677</td>\n",
       "      <td>0.27</td>\n",
       "      <td>0.20</td>\n",
       "      <td>True</td>\n",
       "    </tr>\n",
       "    <tr>\n",
       "      <th>5</th>\n",
       "      <td>ae264e3637204a6fb9bb56bc8210ddfd</td>\n",
       "      <td>bogo</td>\n",
       "      <td>7658</td>\n",
       "      <td>0.34</td>\n",
       "      <td>0.05</td>\n",
       "      <td>True</td>\n",
       "    </tr>\n",
       "    <tr>\n",
       "      <th>6</th>\n",
       "      <td>f19421c1d4aa40978ebb69ca19b0e20d</td>\n",
       "      <td>bogo</td>\n",
       "      <td>7571</td>\n",
       "      <td>0.46</td>\n",
       "      <td>0.02</td>\n",
       "      <td>True</td>\n",
       "    </tr>\n",
       "    <tr>\n",
       "      <th>7</th>\n",
       "      <td>fafdcd668e3743c1bb461111dcafc2a4</td>\n",
       "      <td>discount</td>\n",
       "      <td>7597</td>\n",
       "      <td>0.59</td>\n",
       "      <td>0.02</td>\n",
       "      <td>True</td>\n",
       "    </tr>\n",
       "  </tbody>\n",
       "</table>\n",
       "</div>"
      ],
      "text/plain": [
       "                           offer_id offer_type  received_count  \\\n",
       "0  0b1e1539f2cc45b7b9fa7c272da2e1d7   discount            7668   \n",
       "1  2298d6c36e964ae4a3e7e9706d1fb8c2   discount            7646   \n",
       "2  2906b810c7d4411798c6938adc9daaa5   discount            7632   \n",
       "3  4d5c57ea9a6940dd891ad53e9dbe8da0       bogo            7593   \n",
       "4  9b98b8c7a33c4b65b9aebfe6a799e6d9       bogo            7677   \n",
       "5  ae264e3637204a6fb9bb56bc8210ddfd       bogo            7658   \n",
       "6  f19421c1d4aa40978ebb69ca19b0e20d       bogo            7571   \n",
       "7  fafdcd668e3743c1bb461111dcafc2a4   discount            7597   \n",
       "\n",
       "   offer_viewed_completed_rate  offer_completed_not_viewed_rate  viewed_more  \n",
       "0                         0.17                             0.23        False  \n",
       "1                         0.57                             0.02         True  \n",
       "2                         0.28                             0.17         True  \n",
       "3                         0.36                             0.01         True  \n",
       "4                         0.27                             0.20         True  \n",
       "5                         0.34                             0.05         True  \n",
       "6                         0.46                             0.02         True  \n",
       "7                         0.59                             0.02         True  "
      ]
     },
     "execution_count": 129,
     "metadata": {},
     "output_type": "execute_result"
    }
   ],
   "source": [
    "offer_completed_not_viewed_rate = offer_completed_not_viewed_rate.merge(\n",
    "    offer_viewed_completed_rate[['offer_id','offer_viewed_completed_rate']], how='left', on='offer_id')\n",
    "offer_completed_not_viewed_rate['viewed_more'] = (offer_completed_not_viewed_rate['offer_viewed_completed_rate'] > \n",
    "                                                  offer_completed_not_viewed_rate['offer_completed_not_viewed_rate'])\n",
    "\n",
    "offer_completed_not_viewed_rate[['offer_id', 'offer_type', 'received_count', 'offer_viewed_completed_rate', 'offer_completed_not_viewed_rate', 'viewed_more']]\n"
   ]
  },
  {
   "cell_type": "markdown",
   "metadata": {},
   "source": [
    "# We can see that offers 0b1e1539f2cc45b7b9fa7c272da2e1d7, and 9b98b8c7a33c4b65b9aebfe6a799e6d9 are completed without being viewed more often than they are viewed and subsequently completed.  Therefore, these are not very effective offers at increasing user spending habbits."
   ]
  },
  {
   "cell_type": "markdown",
   "metadata": {},
   "source": [
    "## Lets check using a two sample t-test which offers are viewed, completed, completed after viewing, and completed without ever being viewed compared to average rates."
   ]
  },
  {
   "cell_type": "code",
   "execution_count": 130,
   "metadata": {},
   "outputs": [],
   "source": [
    "from scipy.stats import ttest_ind\n",
    "\n",
    "def get_df_performance(df, sample_size_column, positives_column, p_threshold=0.05):\n",
    "    '''Function that checks to see chich offers performing above and below average\n",
    "    Args:\n",
    "        df (df): df with rate information\n",
    "        sample_size_column (str): column name for column that shows total offer sample size\n",
    "        positives_column (str): column name for column that shows cumulative success\n",
    "        p_threshold (float): p value threshold for statistical significance, default to 90% confidence\n",
    "    Returns:\n",
    "        df (df): original df with new column telling which offers are under/overperforming\n",
    "    '''\n",
    "    \n",
    "    # get arrray of 1s and 0s to represent average performance\n",
    "    total_sample_size = df[sample_size_column].sum()\n",
    "    total_positives = df[positives_column].sum()\n",
    "    average_array = [1]*total_positives + [0]*(total_sample_size-total_positives)\n",
    "    average_positive_rate = total_positives/total_sample_size\n",
    "    \n",
    "    # initialize arrays\n",
    "    t_stats = []\n",
    "    p_values = []\n",
    "    performance = []\n",
    "    # loop through channels\n",
    "    for _, row in df.iterrows():\n",
    "        #print('row: ', row)\n",
    "        samples = row[sample_size_column]\n",
    "        positives = row[positives_column]\n",
    "        #print('positives: ', positives)\n",
    "        row_array = [1]*positives + [0]*(samples-positives)\n",
    "        t_stat, p_val = ttest_ind(average_array, row_array, equal_var=False)\n",
    "        positive_rate = positives/samples\n",
    "        t_stats.append(t_stat)\n",
    "        p_values.append(p_val)\n",
    "        if p_val <= p_threshold:\n",
    "            if positive_rate > average_positive_rate:\n",
    "                performance.append('over')\n",
    "            else:\n",
    "                performance.append('under')\n",
    "        else:\n",
    "            performance.append('indeterminant')\n",
    "            \n",
    "    df['p_val'] = p_values\n",
    "    df['t_stat'] = t_stats\n",
    "    df['performance'] = performance\n",
    "    df = df.round(3)\n",
    "    \n",
    "    return df\n"
   ]
  },
  {
   "cell_type": "markdown",
   "metadata": {},
   "source": [
    "# Offer view rates"
   ]
  },
  {
   "cell_type": "code",
   "execution_count": 131,
   "metadata": {},
   "outputs": [
    {
     "data": {
      "text/html": [
       "<div>\n",
       "<style scoped>\n",
       "    .dataframe tbody tr th:only-of-type {\n",
       "        vertical-align: middle;\n",
       "    }\n",
       "\n",
       "    .dataframe tbody tr th {\n",
       "        vertical-align: top;\n",
       "    }\n",
       "\n",
       "    .dataframe thead th {\n",
       "        text-align: right;\n",
       "    }\n",
       "</style>\n",
       "<table border=\"1\" class=\"dataframe\">\n",
       "  <thead>\n",
       "    <tr style=\"text-align: right;\">\n",
       "      <th></th>\n",
       "      <th>offer_id</th>\n",
       "      <th>received_count</th>\n",
       "      <th>viewed_count</th>\n",
       "      <th>offer_view_rate</th>\n",
       "      <th>offer_reward</th>\n",
       "      <th>difficulty</th>\n",
       "      <th>duration</th>\n",
       "      <th>offer_type</th>\n",
       "      <th>web</th>\n",
       "      <th>email</th>\n",
       "      <th>social</th>\n",
       "      <th>mobile</th>\n",
       "      <th>duration_in_hours</th>\n",
       "      <th>p_val</th>\n",
       "      <th>t_stat</th>\n",
       "      <th>performance</th>\n",
       "    </tr>\n",
       "  </thead>\n",
       "  <tbody>\n",
       "    <tr>\n",
       "      <th>1</th>\n",
       "      <td>2298d6c36e964ae4a3e7e9706d1fb8c2</td>\n",
       "      <td>7646</td>\n",
       "      <td>7337</td>\n",
       "      <td>0.96</td>\n",
       "      <td>3</td>\n",
       "      <td>7</td>\n",
       "      <td>7</td>\n",
       "      <td>discount</td>\n",
       "      <td>1</td>\n",
       "      <td>1</td>\n",
       "      <td>1</td>\n",
       "      <td>1</td>\n",
       "      <td>168</td>\n",
       "      <td>0.0</td>\n",
       "      <td>-74.125</td>\n",
       "      <td>over</td>\n",
       "    </tr>\n",
       "    <tr>\n",
       "      <th>4</th>\n",
       "      <td>4d5c57ea9a6940dd891ad53e9dbe8da0</td>\n",
       "      <td>7593</td>\n",
       "      <td>7298</td>\n",
       "      <td>0.96</td>\n",
       "      <td>10</td>\n",
       "      <td>10</td>\n",
       "      <td>5</td>\n",
       "      <td>bogo</td>\n",
       "      <td>1</td>\n",
       "      <td>1</td>\n",
       "      <td>1</td>\n",
       "      <td>1</td>\n",
       "      <td>120</td>\n",
       "      <td>0.0</td>\n",
       "      <td>-75.476</td>\n",
       "      <td>over</td>\n",
       "    </tr>\n",
       "    <tr>\n",
       "      <th>8</th>\n",
       "      <td>f19421c1d4aa40978ebb69ca19b0e20d</td>\n",
       "      <td>7571</td>\n",
       "      <td>7264</td>\n",
       "      <td>0.96</td>\n",
       "      <td>5</td>\n",
       "      <td>5</td>\n",
       "      <td>5</td>\n",
       "      <td>bogo</td>\n",
       "      <td>1</td>\n",
       "      <td>1</td>\n",
       "      <td>1</td>\n",
       "      <td>1</td>\n",
       "      <td>120</td>\n",
       "      <td>0.0</td>\n",
       "      <td>-73.747</td>\n",
       "      <td>over</td>\n",
       "    </tr>\n",
       "    <tr>\n",
       "      <th>9</th>\n",
       "      <td>fafdcd668e3743c1bb461111dcafc2a4</td>\n",
       "      <td>7597</td>\n",
       "      <td>7327</td>\n",
       "      <td>0.96</td>\n",
       "      <td>2</td>\n",
       "      <td>10</td>\n",
       "      <td>10</td>\n",
       "      <td>discount</td>\n",
       "      <td>1</td>\n",
       "      <td>1</td>\n",
       "      <td>1</td>\n",
       "      <td>1</td>\n",
       "      <td>240</td>\n",
       "      <td>0.0</td>\n",
       "      <td>-78.915</td>\n",
       "      <td>over</td>\n",
       "    </tr>\n",
       "    <tr>\n",
       "      <th>5</th>\n",
       "      <td>5a8bc65990b245e5a138643cd4eb9837</td>\n",
       "      <td>7618</td>\n",
       "      <td>6687</td>\n",
       "      <td>0.88</td>\n",
       "      <td>0</td>\n",
       "      <td>0</td>\n",
       "      <td>3</td>\n",
       "      <td>informational</td>\n",
       "      <td>0</td>\n",
       "      <td>1</td>\n",
       "      <td>1</td>\n",
       "      <td>1</td>\n",
       "      <td>72</td>\n",
       "      <td>0.0</td>\n",
       "      <td>-29.793</td>\n",
       "      <td>over</td>\n",
       "    </tr>\n",
       "    <tr>\n",
       "      <th>7</th>\n",
       "      <td>ae264e3637204a6fb9bb56bc8210ddfd</td>\n",
       "      <td>7658</td>\n",
       "      <td>6716</td>\n",
       "      <td>0.88</td>\n",
       "      <td>10</td>\n",
       "      <td>10</td>\n",
       "      <td>7</td>\n",
       "      <td>bogo</td>\n",
       "      <td>0</td>\n",
       "      <td>1</td>\n",
       "      <td>1</td>\n",
       "      <td>1</td>\n",
       "      <td>168</td>\n",
       "      <td>0.0</td>\n",
       "      <td>-29.592</td>\n",
       "      <td>over</td>\n",
       "    </tr>\n",
       "    <tr>\n",
       "      <th>2</th>\n",
       "      <td>2906b810c7d4411798c6938adc9daaa5</td>\n",
       "      <td>7632</td>\n",
       "      <td>4118</td>\n",
       "      <td>0.54</td>\n",
       "      <td>2</td>\n",
       "      <td>10</td>\n",
       "      <td>7</td>\n",
       "      <td>discount</td>\n",
       "      <td>1</td>\n",
       "      <td>1</td>\n",
       "      <td>0</td>\n",
       "      <td>1</td>\n",
       "      <td>168</td>\n",
       "      <td>0.0</td>\n",
       "      <td>36.732</td>\n",
       "      <td>under</td>\n",
       "    </tr>\n",
       "    <tr>\n",
       "      <th>3</th>\n",
       "      <td>3f207df678b143eea3cee63160fa8bed</td>\n",
       "      <td>7617</td>\n",
       "      <td>4144</td>\n",
       "      <td>0.54</td>\n",
       "      <td>0</td>\n",
       "      <td>0</td>\n",
       "      <td>4</td>\n",
       "      <td>informational</td>\n",
       "      <td>1</td>\n",
       "      <td>1</td>\n",
       "      <td>0</td>\n",
       "      <td>1</td>\n",
       "      <td>96</td>\n",
       "      <td>0.0</td>\n",
       "      <td>35.967</td>\n",
       "      <td>under</td>\n",
       "    </tr>\n",
       "    <tr>\n",
       "      <th>6</th>\n",
       "      <td>9b98b8c7a33c4b65b9aebfe6a799e6d9</td>\n",
       "      <td>7677</td>\n",
       "      <td>4171</td>\n",
       "      <td>0.54</td>\n",
       "      <td>5</td>\n",
       "      <td>5</td>\n",
       "      <td>7</td>\n",
       "      <td>bogo</td>\n",
       "      <td>1</td>\n",
       "      <td>1</td>\n",
       "      <td>0</td>\n",
       "      <td>1</td>\n",
       "      <td>168</td>\n",
       "      <td>0.0</td>\n",
       "      <td>36.219</td>\n",
       "      <td>under</td>\n",
       "    </tr>\n",
       "    <tr>\n",
       "      <th>0</th>\n",
       "      <td>0b1e1539f2cc45b7b9fa7c272da2e1d7</td>\n",
       "      <td>7668</td>\n",
       "      <td>2663</td>\n",
       "      <td>0.35</td>\n",
       "      <td>5</td>\n",
       "      <td>20</td>\n",
       "      <td>10</td>\n",
       "      <td>discount</td>\n",
       "      <td>1</td>\n",
       "      <td>1</td>\n",
       "      <td>0</td>\n",
       "      <td>0</td>\n",
       "      <td>240</td>\n",
       "      <td>0.0</td>\n",
       "      <td>72.413</td>\n",
       "      <td>under</td>\n",
       "    </tr>\n",
       "  </tbody>\n",
       "</table>\n",
       "</div>"
      ],
      "text/plain": [
       "                           offer_id  received_count  viewed_count  \\\n",
       "1  2298d6c36e964ae4a3e7e9706d1fb8c2            7646          7337   \n",
       "4  4d5c57ea9a6940dd891ad53e9dbe8da0            7593          7298   \n",
       "8  f19421c1d4aa40978ebb69ca19b0e20d            7571          7264   \n",
       "9  fafdcd668e3743c1bb461111dcafc2a4            7597          7327   \n",
       "5  5a8bc65990b245e5a138643cd4eb9837            7618          6687   \n",
       "7  ae264e3637204a6fb9bb56bc8210ddfd            7658          6716   \n",
       "2  2906b810c7d4411798c6938adc9daaa5            7632          4118   \n",
       "3  3f207df678b143eea3cee63160fa8bed            7617          4144   \n",
       "6  9b98b8c7a33c4b65b9aebfe6a799e6d9            7677          4171   \n",
       "0  0b1e1539f2cc45b7b9fa7c272da2e1d7            7668          2663   \n",
       "\n",
       "   offer_view_rate  offer_reward  difficulty  duration     offer_type  web  \\\n",
       "1             0.96             3           7         7       discount    1   \n",
       "4             0.96            10          10         5           bogo    1   \n",
       "8             0.96             5           5         5           bogo    1   \n",
       "9             0.96             2          10        10       discount    1   \n",
       "5             0.88             0           0         3  informational    0   \n",
       "7             0.88            10          10         7           bogo    0   \n",
       "2             0.54             2          10         7       discount    1   \n",
       "3             0.54             0           0         4  informational    1   \n",
       "6             0.54             5           5         7           bogo    1   \n",
       "0             0.35             5          20        10       discount    1   \n",
       "\n",
       "   email  social  mobile  duration_in_hours  p_val  t_stat performance  \n",
       "1      1       1       1                168    0.0 -74.125        over  \n",
       "4      1       1       1                120    0.0 -75.476        over  \n",
       "8      1       1       1                120    0.0 -73.747        over  \n",
       "9      1       1       1                240    0.0 -78.915        over  \n",
       "5      1       1       1                 72    0.0 -29.793        over  \n",
       "7      1       1       1                168    0.0 -29.592        over  \n",
       "2      1       0       1                168    0.0  36.732       under  \n",
       "3      1       0       1                 96    0.0  35.967       under  \n",
       "6      1       0       1                168    0.0  36.219       under  \n",
       "0      1       0       0                240    0.0  72.413       under  "
      ]
     },
     "execution_count": 131,
     "metadata": {},
     "output_type": "execute_result"
    }
   ],
   "source": [
    "offer_view_rate = get_df_performance(offer_view_rate, 'received_count', 'viewed_count', p_threshold=0.05)\n",
    "offer_view_rate.sort_values(by='offer_view_rate', ascending=False)"
   ]
  },
  {
   "cell_type": "code",
   "execution_count": 132,
   "metadata": {},
   "outputs": [
    {
     "data": {
      "text/plain": [
       "<matplotlib.axes._subplots.AxesSubplot at 0x7f5ee5891400>"
      ]
     },
     "execution_count": 132,
     "metadata": {},
     "output_type": "execute_result"
    },
    {
     "data": {
      "image/png": "[encoded data removed]",
      "text/plain": [
       "<Figure size 432x288 with 2 Axes>"
      ]
     },
     "metadata": {
      "needs_background": "light"
     },
     "output_type": "display_data"
    }
   ],
   "source": [
    "offer_view_rate_corr = offer_view_rate[['offer_view_rate','offer_type', 'offer_reward', 'mobile', 'social',  'web', 'duration_in_hours']].corr()\n",
    "\n",
    "sns.heatmap(offer_view_rate_corr, \n",
    "        xticklabels=offer_view_rate_corr.columns,\n",
    "        yticklabels=offer_view_rate_corr.columns)"
   ]
  },
  {
   "cell_type": "markdown",
   "metadata": {},
   "source": [
    "## Here we can see that iff we are trying to reach customers, the social channel seems to be the most effective.  We are unable to determine the ffectiveness of emails in the dataset, because all offers are sent via email.  It would be interesting to have some of the same offers which are not sent via email to determine how effective this marketing channel is."
   ]
  },
  {
   "cell_type": "markdown",
   "metadata": {},
   "source": [
    "# Completion rates for all received offers"
   ]
  },
  {
   "cell_type": "code",
   "execution_count": 160,
   "metadata": {},
   "outputs": [
    {
     "data": {
      "text/html": [
       "<div>\n",
       "<style scoped>\n",
       "    .dataframe tbody tr th:only-of-type {\n",
       "        vertical-align: middle;\n",
       "    }\n",
       "\n",
       "    .dataframe tbody tr th {\n",
       "        vertical-align: top;\n",
       "    }\n",
       "\n",
       "    .dataframe thead th {\n",
       "        text-align: right;\n",
       "    }\n",
       "</style>\n",
       "<table border=\"1\" class=\"dataframe\">\n",
       "  <thead>\n",
       "    <tr style=\"text-align: right;\">\n",
       "      <th></th>\n",
       "      <th>received_count</th>\n",
       "      <th>completed_count</th>\n",
       "      <th>offer_completed_rate</th>\n",
       "      <th>offer_reward</th>\n",
       "      <th>difficulty</th>\n",
       "      <th>duration</th>\n",
       "      <th>web</th>\n",
       "      <th>social</th>\n",
       "      <th>mobile</th>\n",
       "      <th>duration_in_hours</th>\n",
       "    </tr>\n",
       "  </thead>\n",
       "  <tbody>\n",
       "    <tr>\n",
       "      <th>completed_count</th>\n",
       "      <td>-0.17</td>\n",
       "      <td>1.00</td>\n",
       "      <td>1.00</td>\n",
       "      <td>-0.69</td>\n",
       "      <td>-0.50</td>\n",
       "      <td>0.24</td>\n",
       "      <td>0.28</td>\n",
       "      <td>0.31</td>\n",
       "      <td>0.44</td>\n",
       "      <td>0.24</td>\n",
       "    </tr>\n",
       "    <tr>\n",
       "      <th>offer_completed_rate</th>\n",
       "      <td>-0.18</td>\n",
       "      <td>1.00</td>\n",
       "      <td>1.00</td>\n",
       "      <td>-0.71</td>\n",
       "      <td>-0.48</td>\n",
       "      <td>0.25</td>\n",
       "      <td>0.30</td>\n",
       "      <td>0.30</td>\n",
       "      <td>0.42</td>\n",
       "      <td>0.25</td>\n",
       "    </tr>\n",
       "    <tr>\n",
       "      <th>mobile</th>\n",
       "      <td>-0.39</td>\n",
       "      <td>0.44</td>\n",
       "      <td>0.42</td>\n",
       "      <td>0.03</td>\n",
       "      <td>-0.88</td>\n",
       "      <td>-0.58</td>\n",
       "      <td>-0.14</td>\n",
       "      <td>0.49</td>\n",
       "      <td>1.00</td>\n",
       "      <td>-0.58</td>\n",
       "    </tr>\n",
       "    <tr>\n",
       "      <th>web</th>\n",
       "      <td>-0.29</td>\n",
       "      <td>0.28</td>\n",
       "      <td>0.30</td>\n",
       "      <td>-0.60</td>\n",
       "      <td>-0.03</td>\n",
       "      <td>0.05</td>\n",
       "      <td>1.00</td>\n",
       "      <td>-0.29</td>\n",
       "      <td>-0.14</td>\n",
       "      <td>0.05</td>\n",
       "    </tr>\n",
       "    <tr>\n",
       "      <th>social</th>\n",
       "      <td>-0.61</td>\n",
       "      <td>0.31</td>\n",
       "      <td>0.30</td>\n",
       "      <td>0.32</td>\n",
       "      <td>-0.36</td>\n",
       "      <td>-0.33</td>\n",
       "      <td>-0.29</td>\n",
       "      <td>1.00</td>\n",
       "      <td>0.49</td>\n",
       "      <td>-0.33</td>\n",
       "    </tr>\n",
       "    <tr>\n",
       "      <th>duration</th>\n",
       "      <td>0.40</td>\n",
       "      <td>0.24</td>\n",
       "      <td>0.25</td>\n",
       "      <td>-0.46</td>\n",
       "      <td>0.64</td>\n",
       "      <td>1.00</td>\n",
       "      <td>0.05</td>\n",
       "      <td>-0.33</td>\n",
       "      <td>-0.58</td>\n",
       "      <td>1.00</td>\n",
       "    </tr>\n",
       "    <tr>\n",
       "      <th>duration_in_hours</th>\n",
       "      <td>0.40</td>\n",
       "      <td>0.24</td>\n",
       "      <td>0.25</td>\n",
       "      <td>-0.46</td>\n",
       "      <td>0.64</td>\n",
       "      <td>1.00</td>\n",
       "      <td>0.05</td>\n",
       "      <td>-0.33</td>\n",
       "      <td>-0.58</td>\n",
       "      <td>1.00</td>\n",
       "    </tr>\n",
       "    <tr>\n",
       "      <th>received_count</th>\n",
       "      <td>1.00</td>\n",
       "      <td>-0.17</td>\n",
       "      <td>-0.18</td>\n",
       "      <td>0.02</td>\n",
       "      <td>0.30</td>\n",
       "      <td>0.40</td>\n",
       "      <td>-0.29</td>\n",
       "      <td>-0.61</td>\n",
       "      <td>-0.39</td>\n",
       "      <td>0.40</td>\n",
       "    </tr>\n",
       "    <tr>\n",
       "      <th>difficulty</th>\n",
       "      <td>0.30</td>\n",
       "      <td>-0.50</td>\n",
       "      <td>-0.48</td>\n",
       "      <td>0.06</td>\n",
       "      <td>1.00</td>\n",
       "      <td>0.64</td>\n",
       "      <td>-0.03</td>\n",
       "      <td>-0.36</td>\n",
       "      <td>-0.88</td>\n",
       "      <td>0.64</td>\n",
       "    </tr>\n",
       "    <tr>\n",
       "      <th>offer_reward</th>\n",
       "      <td>0.02</td>\n",
       "      <td>-0.69</td>\n",
       "      <td>-0.71</td>\n",
       "      <td>1.00</td>\n",
       "      <td>0.06</td>\n",
       "      <td>-0.46</td>\n",
       "      <td>-0.60</td>\n",
       "      <td>0.32</td>\n",
       "      <td>0.03</td>\n",
       "      <td>-0.46</td>\n",
       "    </tr>\n",
       "  </tbody>\n",
       "</table>\n",
       "</div>"
      ],
      "text/plain": [
       "                      received_count  completed_count  offer_completed_rate  \\\n",
       "completed_count                -0.17             1.00                  1.00   \n",
       "offer_completed_rate           -0.18             1.00                  1.00   \n",
       "mobile                         -0.39             0.44                  0.42   \n",
       "web                            -0.29             0.28                  0.30   \n",
       "social                         -0.61             0.31                  0.30   \n",
       "duration                        0.40             0.24                  0.25   \n",
       "duration_in_hours               0.40             0.24                  0.25   \n",
       "received_count                  1.00            -0.17                 -0.18   \n",
       "difficulty                      0.30            -0.50                 -0.48   \n",
       "offer_reward                    0.02            -0.69                 -0.71   \n",
       "\n",
       "                      offer_reward  difficulty  duration   web  social  \\\n",
       "completed_count              -0.69       -0.50      0.24  0.28    0.31   \n",
       "offer_completed_rate         -0.71       -0.48      0.25  0.30    0.30   \n",
       "mobile                        0.03       -0.88     -0.58 -0.14    0.49   \n",
       "web                          -0.60       -0.03      0.05  1.00   -0.29   \n",
       "social                        0.32       -0.36     -0.33 -0.29    1.00   \n",
       "duration                     -0.46        0.64      1.00  0.05   -0.33   \n",
       "duration_in_hours            -0.46        0.64      1.00  0.05   -0.33   \n",
       "received_count                0.02        0.30      0.40 -0.29   -0.61   \n",
       "difficulty                    0.06        1.00      0.64 -0.03   -0.36   \n",
       "offer_reward                  1.00        0.06     -0.46 -0.60    0.32   \n",
       "\n",
       "                      mobile  duration_in_hours  \n",
       "completed_count         0.44               0.24  \n",
       "offer_completed_rate    0.42               0.25  \n",
       "mobile                  1.00              -0.58  \n",
       "web                    -0.14               0.05  \n",
       "social                  0.49              -0.33  \n",
       "duration               -0.58               1.00  \n",
       "duration_in_hours      -0.58               1.00  \n",
       "received_count         -0.39               0.40  \n",
       "difficulty             -0.88               0.64  \n",
       "offer_reward            0.03              -0.46  "
      ]
     },
     "execution_count": 160,
     "metadata": {},
     "output_type": "execute_result"
    }
   ],
   "source": [
    "offer_completed_rate = get_df_performance(offer_completed_rate, 'received_count', 'completed_count', p_threshold=0.05)\n",
    "offer_completed_rate = offer_completed_rate.merge(portfolio, how='left', on='offer_id').drop(['p_val', 't_stat', 'email'], axis=1).corr().round(2)\n",
    "offer_completed_rate.sort_values(by='offer_completed_rate', ascending=False)\n"
   ]
  },
  {
   "cell_type": "code",
   "execution_count": 163,
   "metadata": {},
   "outputs": [
    {
     "data": {
      "text/plain": [
       "<matplotlib.axes._subplots.AxesSubplot at 0x7f5ee5438048>"
      ]
     },
     "execution_count": 163,
     "metadata": {},
     "output_type": "execute_result"
    },
    {
     "data": {
      "image/png": "[encoded data removed]",
      "text/plain": [
       "<Figure size 432x288 with 2 Axes>"
      ]
     },
     "metadata": {
      "needs_background": "light"
     },
     "output_type": "display_data"
    }
   ],
   "source": [
    "offer_completed_rate_corr = offer_completed_rate.drop(['received_count', 'completed_count', 'duration_in_hours'], axis=1).corr()\n",
    "\n",
    "sns.heatmap(offer_completed_rate_corr, \n",
    "        xticklabels=offer_completed_rate_corr.columns,\n",
    "        yticklabels=offer_completed_rate_corr.columns)"
   ]
  },
  {
   "cell_type": "markdown",
   "metadata": {},
   "source": [
    "## It is interesting that while social offers are viewed most frequently, mobile offers are completed most frequently.  This is possibly due to users checking their phones while they wait in line to make an offer.  We can also see an expected result that the more difficult an offer is to complete, the less likely it is that the offer will be completed.    "
   ]
  },
  {
   "cell_type": "markdown",
   "metadata": {},
   "source": [
    "# Completion rates of offers that have been viewed"
   ]
  },
  {
   "cell_type": "code",
   "execution_count": 135,
   "metadata": {},
   "outputs": [
    {
     "data": {
      "text/html": [
       "<div>\n",
       "<style scoped>\n",
       "    .dataframe tbody tr th:only-of-type {\n",
       "        vertical-align: middle;\n",
       "    }\n",
       "\n",
       "    .dataframe tbody tr th {\n",
       "        vertical-align: top;\n",
       "    }\n",
       "\n",
       "    .dataframe thead th {\n",
       "        text-align: right;\n",
       "    }\n",
       "</style>\n",
       "<table border=\"1\" class=\"dataframe\">\n",
       "  <thead>\n",
       "    <tr style=\"text-align: right;\">\n",
       "      <th></th>\n",
       "      <th>offer_id</th>\n",
       "      <th>received_count</th>\n",
       "      <th>viewed_completed_count</th>\n",
       "      <th>offer_viewed_completed_rate</th>\n",
       "      <th>offer_type</th>\n",
       "    </tr>\n",
       "  </thead>\n",
       "  <tbody>\n",
       "    <tr>\n",
       "      <th>0</th>\n",
       "      <td>0b1e1539f2cc45b7b9fa7c272da2e1d7</td>\n",
       "      <td>7668</td>\n",
       "      <td>1323</td>\n",
       "      <td>0.17</td>\n",
       "      <td>discount</td>\n",
       "    </tr>\n",
       "    <tr>\n",
       "      <th>1</th>\n",
       "      <td>2298d6c36e964ae4a3e7e9706d1fb8c2</td>\n",
       "      <td>7646</td>\n",
       "      <td>4323</td>\n",
       "      <td>0.57</td>\n",
       "      <td>discount</td>\n",
       "    </tr>\n",
       "    <tr>\n",
       "      <th>2</th>\n",
       "      <td>2906b810c7d4411798c6938adc9daaa5</td>\n",
       "      <td>7632</td>\n",
       "      <td>2102</td>\n",
       "      <td>0.28</td>\n",
       "      <td>discount</td>\n",
       "    </tr>\n",
       "    <tr>\n",
       "      <th>4</th>\n",
       "      <td>4d5c57ea9a6940dd891ad53e9dbe8da0</td>\n",
       "      <td>7593</td>\n",
       "      <td>2730</td>\n",
       "      <td>0.36</td>\n",
       "      <td>bogo</td>\n",
       "    </tr>\n",
       "    <tr>\n",
       "      <th>6</th>\n",
       "      <td>9b98b8c7a33c4b65b9aebfe6a799e6d9</td>\n",
       "      <td>7677</td>\n",
       "      <td>2106</td>\n",
       "      <td>0.27</td>\n",
       "      <td>bogo</td>\n",
       "    </tr>\n",
       "  </tbody>\n",
       "</table>\n",
       "</div>"
      ],
      "text/plain": [
       "                           offer_id  received_count  viewed_completed_count  \\\n",
       "0  0b1e1539f2cc45b7b9fa7c272da2e1d7            7668                    1323   \n",
       "1  2298d6c36e964ae4a3e7e9706d1fb8c2            7646                    4323   \n",
       "2  2906b810c7d4411798c6938adc9daaa5            7632                    2102   \n",
       "4  4d5c57ea9a6940dd891ad53e9dbe8da0            7593                    2730   \n",
       "6  9b98b8c7a33c4b65b9aebfe6a799e6d9            7677                    2106   \n",
       "\n",
       "   offer_viewed_completed_rate offer_type  \n",
       "0                         0.17   discount  \n",
       "1                         0.57   discount  \n",
       "2                         0.28   discount  \n",
       "4                         0.36       bogo  \n",
       "6                         0.27       bogo  "
      ]
     },
     "execution_count": 135,
     "metadata": {},
     "output_type": "execute_result"
    }
   ],
   "source": [
    "offer_viewed_completed_rate.head()"
   ]
  },
  {
   "cell_type": "code",
   "execution_count": 136,
   "metadata": {},
   "outputs": [
    {
     "data": {
      "text/html": [
       "<div>\n",
       "<style scoped>\n",
       "    .dataframe tbody tr th:only-of-type {\n",
       "        vertical-align: middle;\n",
       "    }\n",
       "\n",
       "    .dataframe tbody tr th {\n",
       "        vertical-align: top;\n",
       "    }\n",
       "\n",
       "    .dataframe thead th {\n",
       "        text-align: right;\n",
       "    }\n",
       "</style>\n",
       "<table border=\"1\" class=\"dataframe\">\n",
       "  <thead>\n",
       "    <tr style=\"text-align: right;\">\n",
       "      <th></th>\n",
       "      <th>offer_id</th>\n",
       "      <th>received_count</th>\n",
       "      <th>viewed_completed_count</th>\n",
       "      <th>offer_viewed_completed_rate</th>\n",
       "      <th>offer_type</th>\n",
       "      <th>p_val</th>\n",
       "      <th>t_stat</th>\n",
       "      <th>performance</th>\n",
       "    </tr>\n",
       "  </thead>\n",
       "  <tbody>\n",
       "    <tr>\n",
       "      <th>0</th>\n",
       "      <td>0b1e1539f2cc45b7b9fa7c272da2e1d7</td>\n",
       "      <td>7668</td>\n",
       "      <td>1323</td>\n",
       "      <td>0.17</td>\n",
       "      <td>discount</td>\n",
       "      <td>0.000</td>\n",
       "      <td>43.644</td>\n",
       "      <td>under</td>\n",
       "    </tr>\n",
       "    <tr>\n",
       "      <th>1</th>\n",
       "      <td>2298d6c36e964ae4a3e7e9706d1fb8c2</td>\n",
       "      <td>7646</td>\n",
       "      <td>4323</td>\n",
       "      <td>0.57</td>\n",
       "      <td>discount</td>\n",
       "      <td>0.000</td>\n",
       "      <td>-30.989</td>\n",
       "      <td>over</td>\n",
       "    </tr>\n",
       "    <tr>\n",
       "      <th>2</th>\n",
       "      <td>2906b810c7d4411798c6938adc9daaa5</td>\n",
       "      <td>7632</td>\n",
       "      <td>2102</td>\n",
       "      <td>0.28</td>\n",
       "      <td>discount</td>\n",
       "      <td>0.000</td>\n",
       "      <td>18.992</td>\n",
       "      <td>under</td>\n",
       "    </tr>\n",
       "    <tr>\n",
       "      <th>4</th>\n",
       "      <td>4d5c57ea9a6940dd891ad53e9dbe8da0</td>\n",
       "      <td>7593</td>\n",
       "      <td>2730</td>\n",
       "      <td>0.36</td>\n",
       "      <td>bogo</td>\n",
       "      <td>0.001</td>\n",
       "      <td>3.407</td>\n",
       "      <td>under</td>\n",
       "    </tr>\n",
       "    <tr>\n",
       "      <th>6</th>\n",
       "      <td>9b98b8c7a33c4b65b9aebfe6a799e6d9</td>\n",
       "      <td>7677</td>\n",
       "      <td>2106</td>\n",
       "      <td>0.27</td>\n",
       "      <td>bogo</td>\n",
       "      <td>0.000</td>\n",
       "      <td>19.262</td>\n",
       "      <td>under</td>\n",
       "    </tr>\n",
       "    <tr>\n",
       "      <th>7</th>\n",
       "      <td>ae264e3637204a6fb9bb56bc8210ddfd</td>\n",
       "      <td>7658</td>\n",
       "      <td>2585</td>\n",
       "      <td>0.34</td>\n",
       "      <td>bogo</td>\n",
       "      <td>0.000</td>\n",
       "      <td>7.288</td>\n",
       "      <td>under</td>\n",
       "    </tr>\n",
       "    <tr>\n",
       "      <th>8</th>\n",
       "      <td>f19421c1d4aa40978ebb69ca19b0e20d</td>\n",
       "      <td>7571</td>\n",
       "      <td>3505</td>\n",
       "      <td>0.46</td>\n",
       "      <td>bogo</td>\n",
       "      <td>0.000</td>\n",
       "      <td>-13.782</td>\n",
       "      <td>over</td>\n",
       "    </tr>\n",
       "    <tr>\n",
       "      <th>9</th>\n",
       "      <td>fafdcd668e3743c1bb461111dcafc2a4</td>\n",
       "      <td>7597</td>\n",
       "      <td>4489</td>\n",
       "      <td>0.59</td>\n",
       "      <td>discount</td>\n",
       "      <td>0.000</td>\n",
       "      <td>-35.395</td>\n",
       "      <td>over</td>\n",
       "    </tr>\n",
       "  </tbody>\n",
       "</table>\n",
       "</div>"
      ],
      "text/plain": [
       "                           offer_id  received_count  viewed_completed_count  \\\n",
       "0  0b1e1539f2cc45b7b9fa7c272da2e1d7            7668                    1323   \n",
       "1  2298d6c36e964ae4a3e7e9706d1fb8c2            7646                    4323   \n",
       "2  2906b810c7d4411798c6938adc9daaa5            7632                    2102   \n",
       "4  4d5c57ea9a6940dd891ad53e9dbe8da0            7593                    2730   \n",
       "6  9b98b8c7a33c4b65b9aebfe6a799e6d9            7677                    2106   \n",
       "7  ae264e3637204a6fb9bb56bc8210ddfd            7658                    2585   \n",
       "8  f19421c1d4aa40978ebb69ca19b0e20d            7571                    3505   \n",
       "9  fafdcd668e3743c1bb461111dcafc2a4            7597                    4489   \n",
       "\n",
       "   offer_viewed_completed_rate offer_type  p_val  t_stat performance  \n",
       "0                         0.17   discount  0.000  43.644       under  \n",
       "1                         0.57   discount  0.000 -30.989        over  \n",
       "2                         0.28   discount  0.000  18.992       under  \n",
       "4                         0.36       bogo  0.001   3.407       under  \n",
       "6                         0.27       bogo  0.000  19.262       under  \n",
       "7                         0.34       bogo  0.000   7.288       under  \n",
       "8                         0.46       bogo  0.000 -13.782        over  \n",
       "9                         0.59   discount  0.000 -35.395        over  "
      ]
     },
     "execution_count": 136,
     "metadata": {},
     "output_type": "execute_result"
    }
   ],
   "source": [
    "offer_viewed_completed_rate = get_df_performance(\n",
    "    offer_viewed_completed_rate, 'received_count', 'viewed_completed_count', p_threshold=0.05)\n",
    "offer_viewed_completed_rate"
   ]
  },
  {
   "cell_type": "code",
   "execution_count": 137,
   "metadata": {},
   "outputs": [
    {
     "data": {
      "text/html": [
       "<div>\n",
       "<style scoped>\n",
       "    .dataframe tbody tr th:only-of-type {\n",
       "        vertical-align: middle;\n",
       "    }\n",
       "\n",
       "    .dataframe tbody tr th {\n",
       "        vertical-align: top;\n",
       "    }\n",
       "\n",
       "    .dataframe thead th {\n",
       "        text-align: right;\n",
       "    }\n",
       "</style>\n",
       "<table border=\"1\" class=\"dataframe\">\n",
       "  <thead>\n",
       "    <tr style=\"text-align: right;\">\n",
       "      <th></th>\n",
       "      <th>received_count</th>\n",
       "      <th>viewed_completed_count</th>\n",
       "      <th>offer_viewed_completed_rate</th>\n",
       "      <th>offer_reward</th>\n",
       "      <th>difficulty</th>\n",
       "      <th>duration</th>\n",
       "      <th>web</th>\n",
       "      <th>social</th>\n",
       "      <th>mobile</th>\n",
       "      <th>duration_in_hours</th>\n",
       "    </tr>\n",
       "  </thead>\n",
       "  <tbody>\n",
       "    <tr>\n",
       "      <th>received_count</th>\n",
       "      <td>1.000000</td>\n",
       "      <td>-0.545041</td>\n",
       "      <td>-0.550578</td>\n",
       "      <td>0.017775</td>\n",
       "      <td>0.303096</td>\n",
       "      <td>0.396525</td>\n",
       "      <td>-0.287660</td>\n",
       "      <td>-0.610773</td>\n",
       "      <td>-0.391322</td>\n",
       "      <td>0.396525</td>\n",
       "    </tr>\n",
       "    <tr>\n",
       "      <th>viewed_completed_count</th>\n",
       "      <td>-0.545041</td>\n",
       "      <td>1.000000</td>\n",
       "      <td>0.999788</td>\n",
       "      <td>-0.304404</td>\n",
       "      <td>-0.512701</td>\n",
       "      <td>-0.055063</td>\n",
       "      <td>0.111864</td>\n",
       "      <td>0.776826</td>\n",
       "      <td>0.566709</td>\n",
       "      <td>-0.055063</td>\n",
       "    </tr>\n",
       "    <tr>\n",
       "      <th>offer_viewed_completed_rate</th>\n",
       "      <td>-0.550578</td>\n",
       "      <td>0.999788</td>\n",
       "      <td>1.000000</td>\n",
       "      <td>-0.303587</td>\n",
       "      <td>-0.509751</td>\n",
       "      <td>-0.060398</td>\n",
       "      <td>0.108685</td>\n",
       "      <td>0.779584</td>\n",
       "      <td>0.570597</td>\n",
       "      <td>-0.060398</td>\n",
       "    </tr>\n",
       "    <tr>\n",
       "      <th>offer_reward</th>\n",
       "      <td>0.017775</td>\n",
       "      <td>-0.304404</td>\n",
       "      <td>-0.303587</td>\n",
       "      <td>1.000000</td>\n",
       "      <td>0.063532</td>\n",
       "      <td>-0.456679</td>\n",
       "      <td>-0.600533</td>\n",
       "      <td>0.323875</td>\n",
       "      <td>0.031607</td>\n",
       "      <td>-0.456679</td>\n",
       "    </tr>\n",
       "    <tr>\n",
       "      <th>difficulty</th>\n",
       "      <td>0.303096</td>\n",
       "      <td>-0.512701</td>\n",
       "      <td>-0.509751</td>\n",
       "      <td>0.063532</td>\n",
       "      <td>1.000000</td>\n",
       "      <td>0.642245</td>\n",
       "      <td>-0.031906</td>\n",
       "      <td>-0.355999</td>\n",
       "      <td>-0.882729</td>\n",
       "      <td>0.642245</td>\n",
       "    </tr>\n",
       "    <tr>\n",
       "      <th>duration</th>\n",
       "      <td>0.396525</td>\n",
       "      <td>-0.055063</td>\n",
       "      <td>-0.060398</td>\n",
       "      <td>-0.456679</td>\n",
       "      <td>0.642245</td>\n",
       "      <td>1.000000</td>\n",
       "      <td>0.052926</td>\n",
       "      <td>-0.325396</td>\n",
       "      <td>-0.582182</td>\n",
       "      <td>1.000000</td>\n",
       "    </tr>\n",
       "    <tr>\n",
       "      <th>web</th>\n",
       "      <td>-0.287660</td>\n",
       "      <td>0.111864</td>\n",
       "      <td>0.108685</td>\n",
       "      <td>-0.600533</td>\n",
       "      <td>-0.031906</td>\n",
       "      <td>0.052926</td>\n",
       "      <td>1.000000</td>\n",
       "      <td>-0.292770</td>\n",
       "      <td>-0.142857</td>\n",
       "      <td>0.052926</td>\n",
       "    </tr>\n",
       "    <tr>\n",
       "      <th>social</th>\n",
       "      <td>-0.610773</td>\n",
       "      <td>0.776826</td>\n",
       "      <td>0.779584</td>\n",
       "      <td>0.323875</td>\n",
       "      <td>-0.355999</td>\n",
       "      <td>-0.325396</td>\n",
       "      <td>-0.292770</td>\n",
       "      <td>1.000000</td>\n",
       "      <td>0.487950</td>\n",
       "      <td>-0.325396</td>\n",
       "    </tr>\n",
       "    <tr>\n",
       "      <th>mobile</th>\n",
       "      <td>-0.391322</td>\n",
       "      <td>0.566709</td>\n",
       "      <td>0.570597</td>\n",
       "      <td>0.031607</td>\n",
       "      <td>-0.882729</td>\n",
       "      <td>-0.582182</td>\n",
       "      <td>-0.142857</td>\n",
       "      <td>0.487950</td>\n",
       "      <td>1.000000</td>\n",
       "      <td>-0.582182</td>\n",
       "    </tr>\n",
       "    <tr>\n",
       "      <th>duration_in_hours</th>\n",
       "      <td>0.396525</td>\n",
       "      <td>-0.055063</td>\n",
       "      <td>-0.060398</td>\n",
       "      <td>-0.456679</td>\n",
       "      <td>0.642245</td>\n",
       "      <td>1.000000</td>\n",
       "      <td>0.052926</td>\n",
       "      <td>-0.325396</td>\n",
       "      <td>-0.582182</td>\n",
       "      <td>1.000000</td>\n",
       "    </tr>\n",
       "  </tbody>\n",
       "</table>\n",
       "</div>"
      ],
      "text/plain": [
       "                             received_count  viewed_completed_count  \\\n",
       "received_count                     1.000000               -0.545041   \n",
       "viewed_completed_count            -0.545041                1.000000   \n",
       "offer_viewed_completed_rate       -0.550578                0.999788   \n",
       "offer_reward                       0.017775               -0.304404   \n",
       "difficulty                         0.303096               -0.512701   \n",
       "duration                           0.396525               -0.055063   \n",
       "web                               -0.287660                0.111864   \n",
       "social                            -0.610773                0.776826   \n",
       "mobile                            -0.391322                0.566709   \n",
       "duration_in_hours                  0.396525               -0.055063   \n",
       "\n",
       "                             offer_viewed_completed_rate  offer_reward  \\\n",
       "received_count                                 -0.550578      0.017775   \n",
       "viewed_completed_count                          0.999788     -0.304404   \n",
       "offer_viewed_completed_rate                     1.000000     -0.303587   \n",
       "offer_reward                                   -0.303587      1.000000   \n",
       "difficulty                                     -0.509751      0.063532   \n",
       "duration                                       -0.060398     -0.456679   \n",
       "web                                             0.108685     -0.600533   \n",
       "social                                          0.779584      0.323875   \n",
       "mobile                                          0.570597      0.031607   \n",
       "duration_in_hours                              -0.060398     -0.456679   \n",
       "\n",
       "                             difficulty  duration       web    social  \\\n",
       "received_count                 0.303096  0.396525 -0.287660 -0.610773   \n",
       "viewed_completed_count        -0.512701 -0.055063  0.111864  0.776826   \n",
       "offer_viewed_completed_rate   -0.509751 -0.060398  0.108685  0.779584   \n",
       "offer_reward                   0.063532 -0.456679 -0.600533  0.323875   \n",
       "difficulty                     1.000000  0.642245 -0.031906 -0.355999   \n",
       "duration                       0.642245  1.000000  0.052926 -0.325396   \n",
       "web                           -0.031906  0.052926  1.000000 -0.292770   \n",
       "social                        -0.355999 -0.325396 -0.292770  1.000000   \n",
       "mobile                        -0.882729 -0.582182 -0.142857  0.487950   \n",
       "duration_in_hours              0.642245  1.000000  0.052926 -0.325396   \n",
       "\n",
       "                               mobile  duration_in_hours  \n",
       "received_count              -0.391322           0.396525  \n",
       "viewed_completed_count       0.566709          -0.055063  \n",
       "offer_viewed_completed_rate  0.570597          -0.060398  \n",
       "offer_reward                 0.031607          -0.456679  \n",
       "difficulty                  -0.882729           0.642245  \n",
       "duration                    -0.582182           1.000000  \n",
       "web                         -0.142857           0.052926  \n",
       "social                       0.487950          -0.325396  \n",
       "mobile                       1.000000          -0.582182  \n",
       "duration_in_hours           -0.582182           1.000000  "
      ]
     },
     "execution_count": 137,
     "metadata": {},
     "output_type": "execute_result"
    }
   ],
   "source": [
    "offer_viewed_completed_rate.merge(\n",
    "    portfolio, how='left', on='offer_id').drop(['p_val', 't_stat', 'email'], axis=1).corr()"
   ]
  },
  {
   "cell_type": "markdown",
   "metadata": {},
   "source": [
    "## We can see that although mobile offers are completed the most frequently, social offers are viewed and then completed most frequently."
   ]
  },
  {
   "cell_type": "markdown",
   "metadata": {},
   "source": [
    "# Completion rates for offers that have not been viewed"
   ]
  },
  {
   "cell_type": "code",
   "execution_count": 138,
   "metadata": {},
   "outputs": [
    {
     "data": {
      "text/plain": [
       "Index(['offer_id', 'received_count', 'completed_not_viewed_count',\n",
       "       'offer_completed_not_viewed_rate', 'offer_type',\n",
       "       'offer_viewed_completed_rate', 'viewed_more'],\n",
       "      dtype='object')"
      ]
     },
     "execution_count": 138,
     "metadata": {},
     "output_type": "execute_result"
    }
   ],
   "source": [
    "offer_completed_not_viewed_rate.columns"
   ]
  },
  {
   "cell_type": "code",
   "execution_count": 139,
   "metadata": {},
   "outputs": [
    {
     "data": {
      "text/html": [
       "<div>\n",
       "<style scoped>\n",
       "    .dataframe tbody tr th:only-of-type {\n",
       "        vertical-align: middle;\n",
       "    }\n",
       "\n",
       "    .dataframe tbody tr th {\n",
       "        vertical-align: top;\n",
       "    }\n",
       "\n",
       "    .dataframe thead th {\n",
       "        text-align: right;\n",
       "    }\n",
       "</style>\n",
       "<table border=\"1\" class=\"dataframe\">\n",
       "  <thead>\n",
       "    <tr style=\"text-align: right;\">\n",
       "      <th></th>\n",
       "      <th>offer_id</th>\n",
       "      <th>received_count</th>\n",
       "      <th>completed_not_viewed_count</th>\n",
       "      <th>offer_completed_not_viewed_rate</th>\n",
       "      <th>offer_type</th>\n",
       "      <th>offer_viewed_completed_rate</th>\n",
       "      <th>viewed_more</th>\n",
       "      <th>p_val</th>\n",
       "      <th>t_stat</th>\n",
       "      <th>performance</th>\n",
       "    </tr>\n",
       "  </thead>\n",
       "  <tbody>\n",
       "    <tr>\n",
       "      <th>0</th>\n",
       "      <td>0b1e1539f2cc45b7b9fa7c272da2e1d7</td>\n",
       "      <td>7668</td>\n",
       "      <td>1738</td>\n",
       "      <td>0.23</td>\n",
       "      <td>discount</td>\n",
       "      <td>0.17</td>\n",
       "      <td>False</td>\n",
       "      <td>0.0</td>\n",
       "      <td>-27.649</td>\n",
       "      <td>over</td>\n",
       "    </tr>\n",
       "    <tr>\n",
       "      <th>1</th>\n",
       "      <td>2298d6c36e964ae4a3e7e9706d1fb8c2</td>\n",
       "      <td>7646</td>\n",
       "      <td>152</td>\n",
       "      <td>0.02</td>\n",
       "      <td>discount</td>\n",
       "      <td>0.57</td>\n",
       "      <td>True</td>\n",
       "      <td>0.0</td>\n",
       "      <td>35.822</td>\n",
       "      <td>under</td>\n",
       "    </tr>\n",
       "    <tr>\n",
       "      <th>2</th>\n",
       "      <td>2906b810c7d4411798c6938adc9daaa5</td>\n",
       "      <td>7632</td>\n",
       "      <td>1306</td>\n",
       "      <td>0.17</td>\n",
       "      <td>discount</td>\n",
       "      <td>0.28</td>\n",
       "      <td>True</td>\n",
       "      <td>0.0</td>\n",
       "      <td>-18.031</td>\n",
       "      <td>over</td>\n",
       "    </tr>\n",
       "    <tr>\n",
       "      <th>3</th>\n",
       "      <td>4d5c57ea9a6940dd891ad53e9dbe8da0</td>\n",
       "      <td>7593</td>\n",
       "      <td>87</td>\n",
       "      <td>0.01</td>\n",
       "      <td>bogo</td>\n",
       "      <td>0.36</td>\n",
       "      <td>True</td>\n",
       "      <td>0.0</td>\n",
       "      <td>46.953</td>\n",
       "      <td>under</td>\n",
       "    </tr>\n",
       "    <tr>\n",
       "      <th>4</th>\n",
       "      <td>9b98b8c7a33c4b65b9aebfe6a799e6d9</td>\n",
       "      <td>7677</td>\n",
       "      <td>1567</td>\n",
       "      <td>0.20</td>\n",
       "      <td>bogo</td>\n",
       "      <td>0.27</td>\n",
       "      <td>True</td>\n",
       "      <td>0.0</td>\n",
       "      <td>-23.922</td>\n",
       "      <td>over</td>\n",
       "    </tr>\n",
       "    <tr>\n",
       "      <th>5</th>\n",
       "      <td>ae264e3637204a6fb9bb56bc8210ddfd</td>\n",
       "      <td>7658</td>\n",
       "      <td>419</td>\n",
       "      <td>0.05</td>\n",
       "      <td>bogo</td>\n",
       "      <td>0.34</td>\n",
       "      <td>True</td>\n",
       "      <td>0.0</td>\n",
       "      <td>12.609</td>\n",
       "      <td>under</td>\n",
       "    </tr>\n",
       "    <tr>\n",
       "      <th>6</th>\n",
       "      <td>f19421c1d4aa40978ebb69ca19b0e20d</td>\n",
       "      <td>7571</td>\n",
       "      <td>131</td>\n",
       "      <td>0.02</td>\n",
       "      <td>bogo</td>\n",
       "      <td>0.46</td>\n",
       "      <td>True</td>\n",
       "      <td>0.0</td>\n",
       "      <td>38.657</td>\n",
       "      <td>under</td>\n",
       "    </tr>\n",
       "    <tr>\n",
       "      <th>7</th>\n",
       "      <td>fafdcd668e3743c1bb461111dcafc2a4</td>\n",
       "      <td>7597</td>\n",
       "      <td>131</td>\n",
       "      <td>0.02</td>\n",
       "      <td>discount</td>\n",
       "      <td>0.59</td>\n",
       "      <td>True</td>\n",
       "      <td>0.0</td>\n",
       "      <td>38.771</td>\n",
       "      <td>under</td>\n",
       "    </tr>\n",
       "  </tbody>\n",
       "</table>\n",
       "</div>"
      ],
      "text/plain": [
       "                           offer_id  received_count  \\\n",
       "0  0b1e1539f2cc45b7b9fa7c272da2e1d7            7668   \n",
       "1  2298d6c36e964ae4a3e7e9706d1fb8c2            7646   \n",
       "2  2906b810c7d4411798c6938adc9daaa5            7632   \n",
       "3  4d5c57ea9a6940dd891ad53e9dbe8da0            7593   \n",
       "4  9b98b8c7a33c4b65b9aebfe6a799e6d9            7677   \n",
       "5  ae264e3637204a6fb9bb56bc8210ddfd            7658   \n",
       "6  f19421c1d4aa40978ebb69ca19b0e20d            7571   \n",
       "7  fafdcd668e3743c1bb461111dcafc2a4            7597   \n",
       "\n",
       "   completed_not_viewed_count  offer_completed_not_viewed_rate offer_type  \\\n",
       "0                        1738                             0.23   discount   \n",
       "1                         152                             0.02   discount   \n",
       "2                        1306                             0.17   discount   \n",
       "3                          87                             0.01       bogo   \n",
       "4                        1567                             0.20       bogo   \n",
       "5                         419                             0.05       bogo   \n",
       "6                         131                             0.02       bogo   \n",
       "7                         131                             0.02   discount   \n",
       "\n",
       "   offer_viewed_completed_rate  viewed_more  p_val  t_stat performance  \n",
       "0                         0.17        False    0.0 -27.649        over  \n",
       "1                         0.57         True    0.0  35.822       under  \n",
       "2                         0.28         True    0.0 -18.031        over  \n",
       "3                         0.36         True    0.0  46.953       under  \n",
       "4                         0.27         True    0.0 -23.922        over  \n",
       "5                         0.34         True    0.0  12.609       under  \n",
       "6                         0.46         True    0.0  38.657       under  \n",
       "7                         0.59         True    0.0  38.771       under  "
      ]
     },
     "execution_count": 139,
     "metadata": {},
     "output_type": "execute_result"
    }
   ],
   "source": [
    "offer_completed_not_viewed_rate = get_df_performance(\n",
    "    offer_completed_not_viewed_rate, 'received_count', 'completed_not_viewed_count', p_threshold=0.05)\n",
    "offer_completed_not_viewed_rate"
   ]
  },
  {
   "cell_type": "code",
   "execution_count": 164,
   "metadata": {},
   "outputs": [],
   "source": [
    "offer_completed_not_viewed_rate = offer_completed_not_viewed_rate.merge(\n",
    "    portfolio, how='left', on='offer_id').drop(['p_val', 't_stat', 'email'], axis=1)"
   ]
  },
  {
   "cell_type": "code",
   "execution_count": 172,
   "metadata": {},
   "outputs": [
    {
     "data": {
      "text/plain": [
       "<matplotlib.axes._subplots.AxesSubplot at 0x7f5edf76ed68>"
      ]
     },
     "execution_count": 172,
     "metadata": {},
     "output_type": "execute_result"
    },
    {
     "data": {
      "image/png": "[encoded data removed]",
      "text/plain": [
       "<Figure size 432x288 with 2 Axes>"
      ]
     },
     "metadata": {
      "needs_background": "light"
     },
     "output_type": "display_data"
    }
   ],
   "source": [
    "offer_completed_not_viewed_rate_corr = offer_completed_not_viewed_rate.drop(['received_count', 'completed_not_viewed_count',\n",
    "                                                                            'duration_in_hours', 'viewed_more',\n",
    "                                                                            'offer_viewed_completed_rate'], axis=1).corr()\n",
    "\n",
    "sns.heatmap(offer_completed_not_viewed_rate_corr, \n",
    "        xticklabels=offer_completed_not_viewed_rate_corr.columns,\n",
    "        yticklabels=offer_completed_not_viewed_rate_corr.columns)"
   ]
  },
  {
   "cell_type": "markdown",
   "metadata": {},
   "source": [
    "## We can see that web offers are the most likely to be completed without ever being viewed.  Therefore, this is not a very good marketting channel."
   ]
  },
  {
   "cell_type": "markdown",
   "metadata": {},
   "source": [
    "# Lets examine some visualizations of how users receive, view, and complete offers as well as some spending habits of the customer base "
   ]
  },
  {
   "cell_type": "markdown",
   "metadata": {},
   "source": [
    "# Lets examine the offers that have been received by the users"
   ]
  },
  {
   "cell_type": "code",
   "execution_count": 142,
   "metadata": {},
   "outputs": [
    {
     "data": {
      "text/plain": [
       "email     76277\n",
       "mobile    68609\n",
       "web       61001\n",
       "social    45683\n",
       "dtype: int64"
      ]
     },
     "execution_count": 142,
     "metadata": {},
     "output_type": "execute_result"
    }
   ],
   "source": [
    "offers_received.merge(portfolio, how='left', on='offer_id')[['email', 'mobile', 'web', 'social']].sum()"
   ]
  },
  {
   "cell_type": "markdown",
   "metadata": {},
   "source": [
    "All four channels have high counts in offers sent, with social offers being the lowest."
   ]
  },
  {
   "cell_type": "code",
   "execution_count": 143,
   "metadata": {},
   "outputs": [
    {
     "data": {
      "text/plain": [
       "offer_type\n",
       "bogo             30499\n",
       "discount         30543\n",
       "informational    15235\n",
       "Name: offer_type, dtype: int64"
      ]
     },
     "execution_count": 143,
     "metadata": {},
     "output_type": "execute_result"
    }
   ],
   "source": [
    "offers_received.merge(portfolio, how='left', on='offer_id').groupby('offer_type')['offer_type'].count()"
   ]
  },
  {
   "cell_type": "markdown",
   "metadata": {},
   "source": [
    "There are about half as many informational offers as bogo and discount offers."
   ]
  },
  {
   "cell_type": "code",
   "execution_count": 144,
   "metadata": {},
   "outputs": [
    {
     "data": {
      "text/html": [
       "<div>\n",
       "<style scoped>\n",
       "    .dataframe tbody tr th:only-of-type {\n",
       "        vertical-align: middle;\n",
       "    }\n",
       "\n",
       "    .dataframe tbody tr th {\n",
       "        vertical-align: top;\n",
       "    }\n",
       "\n",
       "    .dataframe thead th {\n",
       "        text-align: right;\n",
       "    }\n",
       "</style>\n",
       "<table border=\"1\" class=\"dataframe\">\n",
       "  <thead>\n",
       "    <tr style=\"text-align: right;\">\n",
       "      <th></th>\n",
       "      <th>difficulty</th>\n",
       "      <th>duration</th>\n",
       "      <th>offer_reward</th>\n",
       "    </tr>\n",
       "  </thead>\n",
       "  <tbody>\n",
       "    <tr>\n",
       "      <th>count</th>\n",
       "      <td>61042.000000</td>\n",
       "      <td>61042.000000</td>\n",
       "      <td>61042.000000</td>\n",
       "    </tr>\n",
       "    <tr>\n",
       "      <th>mean</th>\n",
       "      <td>9.631434</td>\n",
       "      <td>7.253383</td>\n",
       "      <td>5.250254</td>\n",
       "    </tr>\n",
       "    <tr>\n",
       "      <th>std</th>\n",
       "      <td>4.449554</td>\n",
       "      <td>1.783308</td>\n",
       "      <td>2.988313</td>\n",
       "    </tr>\n",
       "    <tr>\n",
       "      <th>min</th>\n",
       "      <td>5.000000</td>\n",
       "      <td>5.000000</td>\n",
       "      <td>2.000000</td>\n",
       "    </tr>\n",
       "    <tr>\n",
       "      <th>25%</th>\n",
       "      <td>7.000000</td>\n",
       "      <td>7.000000</td>\n",
       "      <td>3.000000</td>\n",
       "    </tr>\n",
       "    <tr>\n",
       "      <th>50%</th>\n",
       "      <td>10.000000</td>\n",
       "      <td>7.000000</td>\n",
       "      <td>5.000000</td>\n",
       "    </tr>\n",
       "    <tr>\n",
       "      <th>75%</th>\n",
       "      <td>10.000000</td>\n",
       "      <td>10.000000</td>\n",
       "      <td>5.000000</td>\n",
       "    </tr>\n",
       "    <tr>\n",
       "      <th>max</th>\n",
       "      <td>20.000000</td>\n",
       "      <td>10.000000</td>\n",
       "      <td>10.000000</td>\n",
       "    </tr>\n",
       "  </tbody>\n",
       "</table>\n",
       "</div>"
      ],
      "text/plain": [
       "         difficulty      duration  offer_reward\n",
       "count  61042.000000  61042.000000  61042.000000\n",
       "mean       9.631434      7.253383      5.250254\n",
       "std        4.449554      1.783308      2.988313\n",
       "min        5.000000      5.000000      2.000000\n",
       "25%        7.000000      7.000000      3.000000\n",
       "50%       10.000000      7.000000      5.000000\n",
       "75%       10.000000     10.000000      5.000000\n",
       "max       20.000000     10.000000     10.000000"
      ]
     },
     "execution_count": 144,
     "metadata": {},
     "output_type": "execute_result"
    }
   ],
   "source": [
    "offers_received = offers_received.merge(portfolio, how='left', on='offer_id')\n",
    "\n",
    "offers_received[offers_received['offer_type'].isin(['bogo', 'discount'])][['difficulty', 'duration', 'offer_reward']].describe()"
   ]
  },
  {
   "cell_type": "markdown",
   "metadata": {},
   "source": [
    "The offer dificulty is approximately normally distributed while the duration and offer rewards are left scewed. "
   ]
  },
  {
   "cell_type": "markdown",
   "metadata": {},
   "source": [
    "# Now that we have examined the dataset, lets make a machine learning model to predict how a user will respond to an offer.  If an offer is received, there are for outcomes that can occur.\n",
    "# 1) The user ignores the offer and doesn't complete it\n",
    "# 2) The user views the offer but does not complete it\n",
    "# 3) The user views and completes the offer\n",
    "# 4) The user completes the offer wihtout ever viewing it\n",
    "\n",
    "# For this analysis, we will subset the transaction data to only include completable offers.  Informational offers will be ignored.\n",
    "\n",
    "# By building this model, we can then predict which offer a user is most likely to view and complete and we can then suggest customized offers to our user base that will increase user interaction while also optimizing sales influenced by received offers."
   ]
  },
  {
   "cell_type": "code",
   "execution_count": 145,
   "metadata": {},
   "outputs": [],
   "source": [
    "def get_lable(row):\n",
    "    '''Function to convert times to lables for machine learning\n",
    "    Args:\n",
    "       row (df row): drow columns ['received_time', 'viewed_time', 'completed_time']\n",
    "    Returns:\n",
    "        (int): class label\n",
    "    '''\n",
    "    if row['completed_time'] and row['viewed_time']:\n",
    "        return 0\n",
    "    elif row['completed_time']:\n",
    "        return 1\n",
    "    elif row['viewed_time']:\n",
    "        return 2\n",
    "    else:\n",
    "        return 3\n",
    "\n",
    "labels_dict = {0:'viewed and completed',1:'completed but not viewed',\n",
    "               2:'viewed but not completed',3:'ignored'}"
   ]
  },
  {
   "cell_type": "code",
   "execution_count": 146,
   "metadata": {},
   "outputs": [],
   "source": [
    "def get_lables(df):\n",
    "    '''Function to create a label column with the outcome of received offers\n",
    "    Args:\n",
    "        df (df): df columns ['user_id, 'offer_id', 'received_id' 'received_time', \n",
    "            'viewed_time', 'completed_time']\n",
    "    Returns:\n",
    "        classification_df (df): df with 'class_label' for classification\n",
    "    '''\n",
    "    classification_df = df.copy()\n",
    "    classification_df['class_label'] = classification_df.apply(get_lable, axis=1)\n",
    "    \n",
    "    return classification_df\n",
    "\n",
    "# classification_df = get_lables(df)\n",
    "# classification_df.columns"
   ]
  },
  {
   "cell_type": "code",
   "execution_count": 147,
   "metadata": {},
   "outputs": [
    {
     "data": {
      "text/html": [
       "<div>\n",
       "<style scoped>\n",
       "    .dataframe tbody tr th:only-of-type {\n",
       "        vertical-align: middle;\n",
       "    }\n",
       "\n",
       "    .dataframe tbody tr th {\n",
       "        vertical-align: top;\n",
       "    }\n",
       "\n",
       "    .dataframe thead th {\n",
       "        text-align: right;\n",
       "    }\n",
       "</style>\n",
       "<table border=\"1\" class=\"dataframe\">\n",
       "  <thead>\n",
       "    <tr style=\"text-align: right;\">\n",
       "      <th></th>\n",
       "      <th>age</th>\n",
       "      <th>income</th>\n",
       "    </tr>\n",
       "  </thead>\n",
       "  <tbody>\n",
       "    <tr>\n",
       "      <th>count</th>\n",
       "      <td>14825.000000</td>\n",
       "      <td>14825.000000</td>\n",
       "    </tr>\n",
       "    <tr>\n",
       "      <th>mean</th>\n",
       "      <td>54.393524</td>\n",
       "      <td>65404.991568</td>\n",
       "    </tr>\n",
       "    <tr>\n",
       "      <th>std</th>\n",
       "      <td>17.383705</td>\n",
       "      <td>21598.299410</td>\n",
       "    </tr>\n",
       "    <tr>\n",
       "      <th>min</th>\n",
       "      <td>18.000000</td>\n",
       "      <td>30000.000000</td>\n",
       "    </tr>\n",
       "    <tr>\n",
       "      <th>25%</th>\n",
       "      <td>42.000000</td>\n",
       "      <td>49000.000000</td>\n",
       "    </tr>\n",
       "    <tr>\n",
       "      <th>50%</th>\n",
       "      <td>55.000000</td>\n",
       "      <td>64000.000000</td>\n",
       "    </tr>\n",
       "    <tr>\n",
       "      <th>75%</th>\n",
       "      <td>66.000000</td>\n",
       "      <td>80000.000000</td>\n",
       "    </tr>\n",
       "    <tr>\n",
       "      <th>max</th>\n",
       "      <td>101.000000</td>\n",
       "      <td>120000.000000</td>\n",
       "    </tr>\n",
       "  </tbody>\n",
       "</table>\n",
       "</div>"
      ],
      "text/plain": [
       "                age         income\n",
       "count  14825.000000   14825.000000\n",
       "mean      54.393524   65404.991568\n",
       "std       17.383705   21598.299410\n",
       "min       18.000000   30000.000000\n",
       "25%       42.000000   49000.000000\n",
       "50%       55.000000   64000.000000\n",
       "75%       66.000000   80000.000000\n",
       "max      101.000000  120000.000000"
      ]
     },
     "execution_count": 147,
     "metadata": {},
     "output_type": "execute_result"
    }
   ],
   "source": [
    "profile[profile['age']!=118].describe()"
   ]
  },
  {
   "cell_type": "code",
   "execution_count": 148,
   "metadata": {},
   "outputs": [],
   "source": [
    "def get_age_group(row):\n",
    "    '''Function to change age into a categorical variable\n",
    "    Args:\n",
    "        row (df row): df row from profile\n",
    "    Returns:\n",
    "        age_group (str): str representing users age group\n",
    "    '''\n",
    "    if row['age']==118:\n",
    "        age_group='age9'\n",
    "    else:\n",
    "        age_group = 'age'+str(int(round((row['age']-18)/10)))\n",
    "        \n",
    "    return age_group\n",
    "        \n",
    "def get_income_group(row):\n",
    "    '''Function to change income group into a categorical variable\n",
    "    Args:\n",
    "        row (df row): df row from profile\n",
    "    Returns:\n",
    "        income_group (str): str representing users income_group\n",
    "    '''\n",
    "    if row['income'] > 0:\n",
    "        income_group = 'inc'+str(int(round((row['income']-30000)/10000)))\n",
    "    else:\n",
    "        income_group = 'inc10'\n",
    "        \n",
    "    return income_group\n"
   ]
  },
  {
   "cell_type": "code",
   "execution_count": 149,
   "metadata": {},
   "outputs": [
    {
     "data": {
      "text/html": [
       "<div>\n",
       "<style scoped>\n",
       "    .dataframe tbody tr th:only-of-type {\n",
       "        vertical-align: middle;\n",
       "    }\n",
       "\n",
       "    .dataframe tbody tr th {\n",
       "        vertical-align: top;\n",
       "    }\n",
       "\n",
       "    .dataframe thead th {\n",
       "        text-align: right;\n",
       "    }\n",
       "</style>\n",
       "<table border=\"1\" class=\"dataframe\">\n",
       "  <thead>\n",
       "    <tr style=\"text-align: right;\">\n",
       "      <th></th>\n",
       "      <th>user_id</th>\n",
       "      <th>became_member_on</th>\n",
       "      <th>age0</th>\n",
       "      <th>age1</th>\n",
       "      <th>age2</th>\n",
       "      <th>age3</th>\n",
       "      <th>age4</th>\n",
       "      <th>age5</th>\n",
       "      <th>age6</th>\n",
       "      <th>age7</th>\n",
       "      <th>...</th>\n",
       "      <th>inc4</th>\n",
       "      <th>inc5</th>\n",
       "      <th>inc6</th>\n",
       "      <th>inc7</th>\n",
       "      <th>inc8</th>\n",
       "      <th>inc9</th>\n",
       "      <th>F</th>\n",
       "      <th>M</th>\n",
       "      <th>N</th>\n",
       "      <th>O</th>\n",
       "    </tr>\n",
       "  </thead>\n",
       "  <tbody>\n",
       "    <tr>\n",
       "      <th>0</th>\n",
       "      <td>68be06ca386d4c31939f3a4f0e3dd783</td>\n",
       "      <td>1970-01-01 00:00:00.020170212</td>\n",
       "      <td>0</td>\n",
       "      <td>0</td>\n",
       "      <td>0</td>\n",
       "      <td>0</td>\n",
       "      <td>0</td>\n",
       "      <td>0</td>\n",
       "      <td>0</td>\n",
       "      <td>0</td>\n",
       "      <td>...</td>\n",
       "      <td>0</td>\n",
       "      <td>0</td>\n",
       "      <td>0</td>\n",
       "      <td>0</td>\n",
       "      <td>0</td>\n",
       "      <td>0</td>\n",
       "      <td>0</td>\n",
       "      <td>0</td>\n",
       "      <td>1</td>\n",
       "      <td>0</td>\n",
       "    </tr>\n",
       "    <tr>\n",
       "      <th>1</th>\n",
       "      <td>0610b486422d4921ae7d2bf64640c50b</td>\n",
       "      <td>1970-01-01 00:00:00.020170715</td>\n",
       "      <td>0</td>\n",
       "      <td>0</td>\n",
       "      <td>0</td>\n",
       "      <td>0</td>\n",
       "      <td>1</td>\n",
       "      <td>0</td>\n",
       "      <td>0</td>\n",
       "      <td>0</td>\n",
       "      <td>...</td>\n",
       "      <td>0</td>\n",
       "      <td>0</td>\n",
       "      <td>0</td>\n",
       "      <td>0</td>\n",
       "      <td>1</td>\n",
       "      <td>0</td>\n",
       "      <td>1</td>\n",
       "      <td>0</td>\n",
       "      <td>0</td>\n",
       "      <td>0</td>\n",
       "    </tr>\n",
       "    <tr>\n",
       "      <th>2</th>\n",
       "      <td>38fe809add3b4fcf9315a9694bb96ff5</td>\n",
       "      <td>1970-01-01 00:00:00.020180712</td>\n",
       "      <td>0</td>\n",
       "      <td>0</td>\n",
       "      <td>0</td>\n",
       "      <td>0</td>\n",
       "      <td>0</td>\n",
       "      <td>0</td>\n",
       "      <td>0</td>\n",
       "      <td>0</td>\n",
       "      <td>...</td>\n",
       "      <td>0</td>\n",
       "      <td>0</td>\n",
       "      <td>0</td>\n",
       "      <td>0</td>\n",
       "      <td>0</td>\n",
       "      <td>0</td>\n",
       "      <td>0</td>\n",
       "      <td>0</td>\n",
       "      <td>1</td>\n",
       "      <td>0</td>\n",
       "    </tr>\n",
       "    <tr>\n",
       "      <th>3</th>\n",
       "      <td>78afa995795e4d85b5d9ceeca43f5fef</td>\n",
       "      <td>1970-01-01 00:00:00.020170509</td>\n",
       "      <td>0</td>\n",
       "      <td>0</td>\n",
       "      <td>0</td>\n",
       "      <td>0</td>\n",
       "      <td>0</td>\n",
       "      <td>0</td>\n",
       "      <td>1</td>\n",
       "      <td>0</td>\n",
       "      <td>...</td>\n",
       "      <td>0</td>\n",
       "      <td>0</td>\n",
       "      <td>0</td>\n",
       "      <td>1</td>\n",
       "      <td>0</td>\n",
       "      <td>0</td>\n",
       "      <td>1</td>\n",
       "      <td>0</td>\n",
       "      <td>0</td>\n",
       "      <td>0</td>\n",
       "    </tr>\n",
       "    <tr>\n",
       "      <th>4</th>\n",
       "      <td>a03223e636434f42ac4c3df47e8bac43</td>\n",
       "      <td>1970-01-01 00:00:00.020170804</td>\n",
       "      <td>0</td>\n",
       "      <td>0</td>\n",
       "      <td>0</td>\n",
       "      <td>0</td>\n",
       "      <td>0</td>\n",
       "      <td>0</td>\n",
       "      <td>0</td>\n",
       "      <td>0</td>\n",
       "      <td>...</td>\n",
       "      <td>0</td>\n",
       "      <td>0</td>\n",
       "      <td>0</td>\n",
       "      <td>0</td>\n",
       "      <td>0</td>\n",
       "      <td>0</td>\n",
       "      <td>0</td>\n",
       "      <td>0</td>\n",
       "      <td>1</td>\n",
       "      <td>0</td>\n",
       "    </tr>\n",
       "  </tbody>\n",
       "</table>\n",
       "<p>5 rows × 27 columns</p>\n",
       "</div>"
      ],
      "text/plain": [
       "                            user_id              became_member_on  age0  age1  \\\n",
       "0  68be06ca386d4c31939f3a4f0e3dd783 1970-01-01 00:00:00.020170212     0     0   \n",
       "1  0610b486422d4921ae7d2bf64640c50b 1970-01-01 00:00:00.020170715     0     0   \n",
       "2  38fe809add3b4fcf9315a9694bb96ff5 1970-01-01 00:00:00.020180712     0     0   \n",
       "3  78afa995795e4d85b5d9ceeca43f5fef 1970-01-01 00:00:00.020170509     0     0   \n",
       "4  a03223e636434f42ac4c3df47e8bac43 1970-01-01 00:00:00.020170804     0     0   \n",
       "\n",
       "   age2  age3  age4  age5  age6  age7  ...  inc4  inc5  inc6  inc7  inc8  \\\n",
       "0     0     0     0     0     0     0  ...     0     0     0     0     0   \n",
       "1     0     0     1     0     0     0  ...     0     0     0     0     1   \n",
       "2     0     0     0     0     0     0  ...     0     0     0     0     0   \n",
       "3     0     0     0     0     1     0  ...     0     0     0     1     0   \n",
       "4     0     0     0     0     0     0  ...     0     0     0     0     0   \n",
       "\n",
       "   inc9  F  M  N  O  \n",
       "0     0  0  0  1  0  \n",
       "1     0  1  0  0  0  \n",
       "2     0  0  0  1  0  \n",
       "3     0  1  0  0  0  \n",
       "4     0  0  0  1  0  \n",
       "\n",
       "[5 rows x 27 columns]"
      ]
     },
     "execution_count": 149,
     "metadata": {},
     "output_type": "execute_result"
    }
   ],
   "source": [
    "def prep_users(profile):\n",
    "    '''Function to prepare user profile for offer classification\n",
    "    Args:\n",
    "        profile (df): df with user information\n",
    "    Returns:\n",
    "        profile_df (Df): profile df with age , income, and gender transformed into categorical features\n",
    "    '''\n",
    "    profile_df = profile.drop(''.copy()\n",
    "    profile_df['age_group'] = profile_df.apply(get_age_group, axis=1)\n",
    "    age_dummies = pd.get_dummies(profile_df['age_group'])\n",
    "    profile_df['income_group'] = profile_df.apply(get_income_group, axis=1)\n",
    "    income_dummies = pd.get_dummies(profile_df['income_group'])\n",
    "    gender_dummies = pd.get_dummies(profile_df['gender'])\n",
    "    profile_df = pd.concat([profile_df, age_dummies, income_dummies, gender_dummies], axis=1)\n",
    "    profile_df = profile_df.drop(['age','age_group', 'income', 'income_group', 'gender'], axis=1)\n",
    "    \n",
    "    return profile_df\n",
    "\n",
    "# prep the user profiles for classification\n",
    "profile_df = prep_users(profile)\n",
    "profile_df.head()"
   ]
  },
  {
   "cell_type": "markdown",
   "metadata": {},
   "source": [
    "### While all of the information about an offer is tied to a single categorical variable, offer_id, it would be nice to have a model that is fit to the offer attributes so that we could assess how a new reward offer would affect customer bahaviors"
   ]
  },
  {
   "cell_type": "code",
   "execution_count": 150,
   "metadata": {},
   "outputs": [],
   "source": [
    "def get_classification_portfolio(portfolio):\n",
    "    '''Function to create feature for completable offers\n",
    "    Args:\n",
    "        portfolio (df): df with offer information\n",
    "    Returns:\n",
    "        portfolio_df (df) df with offer features\n",
    "    '''\n",
    "    # subset to completable offers\n",
    "    portfolio_df = portfolio[portfolio['offer_type'].isin(['bogo', 'discount'])]\n",
    "    # expand offer type to categorical\n",
    "    offer_type_dummies = pd.get_dummies(portfolio_df['offer_type'])\n",
    "    portfolio_df = pd.concat([portfolio_df, offer_type_dummies], axis=1)\n",
    "    portfolio_df.drop('offer_type', axis=1, inplace=True)\n",
    "    portfolio_df.drop('email', axis=1, inplace=True)\n",
    "    \n",
    "    return portfolio_df\n",
    "\n",
    "#portfolio_df = get_classification_portfolio(portfolio)\n",
    "#portfolio_df"
   ]
  },
  {
   "cell_type": "code",
   "execution_count": 151,
   "metadata": {},
   "outputs": [
    {
     "data": {
      "text/plain": [
       "array([3, 2, 0, 1])"
      ]
     },
     "execution_count": 151,
     "metadata": {},
     "output_type": "execute_result"
    }
   ],
   "source": [
    "def prep_classification_df(vc_df, v_no_c_df, c_no_v_df, received_ignored_df, profile, portfolio):\n",
    "    '''Function to prepare dataset for classification\n",
    "    Args:\n",
    "        vc_df (df): df with offers viewed and completed\n",
    "        v_no_c_df (df): df with offers viewed but not completed\n",
    "        c_no_v_df (df): df with offers completed but not viewed \n",
    "        received_ignored_df (df): df with offers that were received but not viewed or completed \n",
    "        profile (df): df with user profiles\n",
    "        portfolio (df): df with offers\n",
    "    '''\n",
    "    v_no_c_df['completed_time'] = None\n",
    "    c_no_v_df['viewed_time'] = None\n",
    "    received_ignored_df['viewed_time'] = None\n",
    "    received_ignored_df['completed_time'] = None\n",
    "    cat_dfs = []\n",
    "    # cat together all received offers\n",
    "    for df in [v_no_c_df, vc_df, c_no_v_df, received_ignored_df]:\n",
    "        cat_dfs.append(df[['user_id', 'offer_id', 'received_id', 'received_time', 'viewed_time', 'completed_time']])\n",
    "            \n",
    "    df = pd.concat(cat_dfs,axis=0, ignore_index=True)\n",
    "    # get classification labels for each received offer\n",
    "    classification_df = get_lables(df)\n",
    "    # add user features to classification df\n",
    "    profile_df = prep_users(profile)\n",
    "    classification_df = classification_df.merge(profile_df, how='left', on='user_id')\n",
    "    # add offer features to classification df\n",
    "    portfolio_df = get_classification_portfolio(portfolio)\n",
    "    classification_df = classification_df.merge(portfolio_df, how='left', on='offer_id')\n",
    "    # remove columns that will not be used in classification\n",
    "    classification_df.drop(['user_id', 'offer_id', 'received_id', 'received_time', 'viewed_time',\n",
    "       'completed_time'], axis=1, inplace=True)\n",
    "    \n",
    "    return classification_df\n",
    "\n",
    "classification_df = prep_classification_df(vc_df, v_no_c_df, c_no_v_df, \n",
    "                                           received_ignored_df, profile, portfolio)"
   ]
  },
  {
   "cell_type": "code",
   "execution_count": 152,
   "metadata": {},
   "outputs": [
    {
     "data": {
      "text/plain": [
       "Text(0.5, 1.0, 'Income Group Distribution')"
      ]
     },
     "execution_count": 152,
     "metadata": {},
     "output_type": "execute_result"
    },
    {
     "data": {
      "image/png": "[encoded data removed]",
      "text/plain": [
       "<Figure size 1080x360 with 2 Axes>"
      ]
     },
     "metadata": {
      "needs_background": "light"
     },
     "output_type": "display_data"
    }
   ],
   "source": [
    "# lets exmine the distributions of our age groups and income groups within the data set\n",
    "inc_counts = classification_df.groupby(['inc0', 'inc1', 'inc2', 'inc3', 'inc4',\n",
    "       'inc5', 'inc6', 'inc7', 'inc8', 'inc9', 'inc10'])['class_label'].count().values\n",
    "age_counts = classification_df.groupby(['age0', 'age1', 'age2', 'age3', 'age4', 'age5', 'age6',\n",
    "       'age7', 'age8', 'age9'])['class_label'].count().values\n",
    "\n",
    "age_groups = ['age0', 'age1', 'age2', 'age3', 'age4', 'age5', 'age6', 'age7', 'age8', 'age9']\n",
    "inc_groups = ['inc0', 'inc1', 'inc2', 'inc3', 'inc4', 'inc5', 'inc6', 'inc7', 'inc8', 'inc9', 'inc10']\n",
    "\n",
    "f, (ax1, ax2) = plt.subplots(1, 2, sharey=False)\n",
    "f.set_figheight(5)\n",
    "f.set_figwidth(15)\n",
    "ax1.bar(age_groups, age_counts)\n",
    "ax1.set_title('Age Group Distribution')\n",
    "ax2.bar(inc_groups, inc_counts)\n",
    "ax2.set_title('Income Group Distribution')\n"
   ]
  },
  {
   "cell_type": "markdown",
   "metadata": {},
   "source": [
    "### We can see that offer receival rates are not the same for all users.  This is likely due to marketing strategies within  the company.  Users that would typically be working class (ages 25-35, incomes $40-50K) receive significantly less offers than other user groups.  This is probably due to the fact that these are regular users and therefore, one would not expect them to visit stores more frequently and make more purchases if given offers."
   ]
  },
  {
   "cell_type": "code",
   "execution_count": 153,
   "metadata": {},
   "outputs": [
    {
     "name": "stdout",
     "output_type": "stream",
     "text": [
      "     viewed and completed- Train:   17692   Test: 4486\n",
      " completed but not viewed- Train:    5162   Test: 1233\n",
      " viewed but not completed- Train:   18427   Test: 4554\n",
      "                  ignored- Train:    7552   Test: 1936\n",
      "(48833, 35) (48833,)\n"
     ]
    }
   ],
   "source": [
    "def get_test_train_data(classification_df):\n",
    "    '''Funciton to get train and test data sets and to print the distribution of labels within each\n",
    "    Args:\n",
    "        classification_df (df): df with data for classification\n",
    "    Returns:\n",
    "        X_train (2D numpy array): training features \n",
    "        X_test (2D numpy array): test features\n",
    "        Y_train (2D numpy array): train labels \n",
    "        Y_test (2D numpy array): test labels\n",
    "    '''\n",
    "    Y = classification_df['class_label'].values\n",
    "    X = classification_df.drop('class_label',axis=1).values\n",
    "    X_train, X_test, Y_train, Y_test = train_test_split(X, Y,test_size=0.2, random_state=42)\n",
    "    # check the distribution of labels between the test and train data\n",
    "    for i in range(4):\n",
    "        print(f'{labels_dict[i]:>25}- Train: {(Y_train==i).sum():>7}   Test: {(Y_test==i).sum()}')\n",
    "    \n",
    "    return X_train, X_test, Y_train, Y_test\n",
    "\n",
    "X_train, X_test, Y_train, Y_test = get_test_train_data(classification_df)\n",
    "print(X_train.shape, Y_train.shape)"
   ]
  },
  {
   "cell_type": "code",
   "execution_count": 154,
   "metadata": {},
   "outputs": [],
   "source": [
    "def train_evaluate_model(model_class, X_train, X_test, Y_train, Y_test):\n",
    "    '''Function to train and evaluate a model using default model arguments\n",
    "    Args:\n",
    "        model_class (sklearn.estimator): RandomForestClassifier(), LogisticRegression(), or CategoricalNB()\n",
    "        X_train\n",
    "        X_test\n",
    "        Y_train\n",
    "        Y_test\n",
    "    Returns:\n",
    "        model (sklearn.estimator): trained model\n",
    "    '''\n",
    "    model = model_class\n",
    "    model.fit(X_train, Y_train)\n",
    "    Y_pred = model.predict(X_test)\n",
    "    print(labels_dict)\n",
    "    print(classification_report(Y_test, Y_pred))\n",
    "    print(confusion_matrix(Y_test, Y_pred))\n",
    "    print(f'Model Accuracy: {accuracy_score(Y_test, Y_pred)}')\n",
    "    \n",
    "    return model\n",
    "\n",
    "#model = train_evaluate_model(RandomForestClassifier(), X_train, X_test, Y_train, Y_test)"
   ]
  },
  {
   "cell_type": "code",
   "execution_count": 155,
   "metadata": {},
   "outputs": [],
   "source": [
    "def test_default_models(X_train, X_test, Y_train, Y_test):\n",
    "    '''Function to test the default performance of three different classifiers: RandomForestClassifier,\n",
    "        LogisticRegression, and SVC\n",
    "    Args:\n",
    "        X_train (2D numpy array): training features \n",
    "        X_test (2D numpy array): test features\n",
    "        Y_train (2D numpy array): train labels \n",
    "        Y_test (2D numpy array): test labels\n",
    "    Returns:\n",
    "        trained_models_dict (dict): dict with trained models    \n",
    "    '''\n",
    "    classifier_dict = {'RandomForestClassifier':RandomForestClassifier(),\n",
    "                       'LogisticRegression':LogisticRegression(max_iter=3000),\n",
    "                       'CategoricalNB':CategoricalNB()}\n",
    "    \n",
    "    trained_models_dict ={}\n",
    "    \n",
    "    for classifier in classifier_dict:\n",
    "        print(f'Evaluating default performance of {classifier}: ')\n",
    "        model = train_evaluate_model(classifier_dict[classifier], X_train, X_test, Y_train, Y_test)\n",
    "        trained_models_dict[classifier] = model\n",
    "        \n",
    "    return trained_models_dict\n",
    "     \n",
    "#trained_models_dict = test_default_models(X_train, X_test, Y_train, Y_test)\n"
   ]
  },
  {
   "cell_type": "markdown",
   "metadata": {},
   "source": [
    "###  We can see that all of the models are performing at about a 50% accuracy for the classification task.  While this is not great, it is better than the random case of ~25%.  In choosing the best model for this task, we need to consider the different classes.  It is not imperative that we accurately classify ignored offers as sending an offer that ends up being ignored will not result in lost revinue for the company.  We can see that Categorical Naive Bayes (CNB) does the best job of classifying offers that are completed but not viewed.  It is able to successfully classify the most of these and when it errors, it tends to classify the offer as an ignored offer.  This is a good result because in either case, you probably would not end up sending the offer to the customer. However, CNB also does the worst job of correctly classifying offers that are viewed and then completed, which could end up resulting in lost revinues if used to recommend offers.  Logistic regression and RandomForest have nearly identical performance with RandomForest performing slightly better at classiying offers that are completed without ever being viewed."
   ]
  },
  {
   "cell_type": "markdown",
   "metadata": {},
   "source": [
    "## Lets see if we can get better performance from the RandomForest classifier"
   ]
  },
  {
   "cell_type": "code",
   "execution_count": 156,
   "metadata": {},
   "outputs": [],
   "source": [
    "#trained_models_dict['RandomForestClassifier'].get_params()"
   ]
  },
  {
   "cell_type": "code",
   "execution_count": 157,
   "metadata": {},
   "outputs": [],
   "source": [
    "def optimize_random_forest(X_train, X_test, Y_train, Y_test):\n",
    "    \"\"\"Function that evaluates model on test data printing f1 score for each label\n",
    "    Args:\n",
    "        X_test (2D boolean numpy array): test features\n",
    "        Y_test ([1D int numpy array]): test labels \n",
    "    Returns:\n",
    "        model (estimator): grid search cv optimized model\n",
    "    \"\"\"\n",
    "    \n",
    "    # Number of trees in random forest\n",
    "    n_estimators = [4, 8, 10, 20, 40, 100,200,400,600,800,1000]\n",
    "    # Number of features to consider at every split\n",
    "    max_features = ['auto', 'sqrt']\n",
    "    # Maximum number of levels in tree\n",
    "    max_depth = [2, 4, 6, 10,15,20,30,50,100]\n",
    "    max_depth.append(None)\n",
    "    # Minimum number of samples required to split a node\n",
    "    min_samples_split = [2, 5, 10]\n",
    "    # Minimum number of samples required at each leaf node\n",
    "    min_samples_leaf = [1, 2, 4]\n",
    "    # Method of selecting samples for training each tree\n",
    "    bootstrap = [True, False]\n",
    "    # Create the random grid\n",
    "    random_grid = {'n_estimators': n_estimators,\n",
    "                   'max_features': max_features,\n",
    "                   'max_depth': max_depth,\n",
    "                   'min_samples_split': min_samples_split,\n",
    "                   'min_samples_leaf': min_samples_leaf,\n",
    "                   'bootstrap': bootstrap}\n",
    "    \n",
    "    # instantiate the model\n",
    "    rf_model = RandomForestClassifier()\n",
    "    # Random search of parameters, using 3 fold cross validation, \n",
    "    # search across 100 different combinations, and use all available cores\n",
    "    rf_randomcv_model = RandomizedSearchCV(estimator = rf_model, param_distributions = random_grid, n_iter = 50, \n",
    "                                   cv = 3, verbose=2, random_state=42, n_jobs = -1)\n",
    "    # Fit the random search model\n",
    "    rf_randomcv_model.fit(X_train, Y_train)\n",
    "    \n",
    "    #make predictions on X_test\n",
    "    Y_pred = rf_randomcv_model.predict(X_test)\n",
    "    \n",
    "    # evaluate model performance\n",
    "    try:\n",
    "        print(labels_dict)\n",
    "        print(classification_report(Y_test, Y_pred))\n",
    "        print(confusion_matrix(Y_test, Y_pred))\n",
    "        print(f'Model Accuracy: {accuracy_score(Y_test, Y_pred)}')\n",
    "    except Exception as e:\n",
    "        print(e)\n",
    "        \n",
    "    return rf_randomcv_model\n",
    "\n",
    "#rf_rand_optimized = optimize_random_forest(X_train, X_test, Y_train, Y_test)\n",
    "#rf_rand_optimized.get_params()\n"
   ]
  },
  {
   "cell_type": "code",
   "execution_count": 2,
   "metadata": {},
   "outputs": [],
   "source": [
    "def save_model(model, model_filepath):\n",
    "    \"\"\"Function that saves model as a pickle file\n",
    "    Args:\n",
    "        model (estimator): fitted sklearn estimator\"\n",
    "        model_filepath (str): relative file path for saving model\n",
    "    Returns:\n",
    "        None\n",
    "    \"\"\"\n",
    "    # save the model to disk\n",
    "    pickle.dump(model, open(model_filepath, 'wb'))\n",
    "\n",
    "#save_model(rf_rand_optimized, 'rf_rand_optimized')"
   ]
  },
  {
   "cell_type": "code",
   "execution_count": null,
   "metadata": {},
   "outputs": [],
   "source": []
  }
 ],
 "metadata": {
  "kernelspec": {
   "display_name": "Python 3",
   "language": "python",
   "name": "python3"
  },
  "language_info": {
   "codemirror_mode": {
    "name": "ipython",
    "version": 3
   },
   "file_extension": ".py",
   "mimetype": "text/x-python",
   "name": "python",
   "nbconvert_exporter": "python",
   "pygments_lexer": "ipython3",
   "version": "3.6.8"
  }
 },
 "nbformat": 4,
 "nbformat_minor": 2
}
