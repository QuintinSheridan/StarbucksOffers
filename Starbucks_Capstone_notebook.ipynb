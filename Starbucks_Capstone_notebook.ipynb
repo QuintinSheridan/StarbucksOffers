{
 "cells": [
  {
   "cell_type": "markdown",
   "metadata": {},
   "source": [
    "# Starbucks Capstone Challenge\n",
    "\n",
    "### Introduction\n",
    "\n",
    "This data set contains simulated data that mimics customer behavior on the Starbucks rewards mobile app. Once every few days, Starbucks sends out an offer to users of the mobile app. An offer can be merely an advertisement for a drink or an actual offer such as a discount or BOGO (buy one get one free). Some users might not receive any offer during certain weeks. \n",
    "\n",
    "Not all users receive the same offer, and that is the challenge to solve with this data set.\n",
    "\n",
    "Your task is to combine transaction, demographic and offer data to determine which demographic groups respond best to which offer type. This data set is a simplified version of the real Starbucks app because the underlying simulator only has one product whereas Starbucks actually sells dozens of products.\n",
    "\n",
    "Every offer has a validity period before the offer expires. As an example, a BOGO offer might be valid for only 5 days. You'll see in the data set that informational offers have a validity period even though these ads are merely providing information about a product; for example, if an informational offer has 7 days of validity, you can assume the customer is feeling the influence of the offer for 7 days after receiving the advertisement.\n",
    "\n",
    "You'll be given transactional data showing user purchases made on the app including the timestamp of purchase and the amount of money spent on a purchase. This transactional data also has a record for each offer that a user receives as well as a record for when a user actually views the offer. There are also records for when a user completes an offer. \n",
    "\n",
    "Keep in mind as well that someone using the app might make a purchase through the app without having received an offer or seen an offer.\n",
    "\n",
    "### Example\n",
    "\n",
    "To give an example, a user could receive a discount offer buy 10 dollars get 2 off on Monday. The offer is valid for 10 days from receipt. If the customer accumulates at least 10 dollars in purchases during the validity period, the customer completes the offer.\n",
    "\n",
    "However, there are a few things to watch out for in this data set. Customers do not opt into the offers that they receive; in other words, a user can receive an offer, never actually view the offer, and still complete the offer. For example, a user might receive the \"buy 10 dollars get 2 dollars off offer\", but the user never opens the offer during the 10 day validity period. The customer spends 15 dollars during those ten days. There will be an offer completion record in the data set; however, the customer was not influenced by the offer because the customer never viewed the offer.\n",
    "\n",
    "### Cleaning\n",
    "\n",
    "This makes data cleaning especially important and tricky.\n",
    "\n",
    "You'll also want to take into account that some demographic groups will make purchases even if they don't receive an offer. From a business perspective, if a customer is going to make a 10 dollar purchase without an offer anyway, you wouldn't want to send a buy 10 dollars get 2 dollars off offer. You'll want to try to assess what a certain demographic group will buy when not receiving any offers.\n",
    "\n",
    "### Final Advice\n",
    "\n",
    "Because this is a capstone project, you are free to analyze the data any way you see fit. For example, you could build a machine learning model that predicts how much someone will spend based on demographics and offer type. Or you could build a model that predicts whether or not someone will respond to an offer. Or, you don't need to build a machine learning model at all. You could develop a set of heuristics that determine what offer you should send to each customer (i.e., 75 percent of women customers who were 35 years old responded to offer A vs 40 percent from the same demographic to offer B, so send offer A)."
   ]
  },
  {
   "cell_type": "markdown",
   "metadata": {},
   "source": [
    "# Data Sets\n",
    "\n",
    "The data is contained in three files:\n",
    "\n",
    "* portfolio.json - containing offer ids and meta data about each offer (duration, type, etc.)\n",
    "* profile.json - demographic data for each customer\n",
    "* transcript.json - records for transactions, offers received, offers viewed, and offers completed\n",
    "\n",
    "Here is the schema and explanation of each variable in the files:\n",
    "\n",
    "**portfolio.json**\n",
    "* id (string) - offer id\n",
    "* offer_type (string) - type of offer ie BOGO, discount, informational\n",
    "* difficulty (int) - minimum required spend to complete an offer\n",
    "* reward (int) - reward given for completing an offer\n",
    "* duration (int) - time for offer to be open, in days\n",
    "* channels (list of strings)\n",
    "\n",
    "**profile.json**\n",
    "* age (int) - age of the customer \n",
    "* became_member_on (int) - date when customer created an app account\n",
    "* gender (str) - gender of the customer (note some entries contain 'O' for other rather than M or F)\n",
    "* id (str) - customer id\n",
    "* income (float) - customer's income\n",
    "\n",
    "**transcript.json**\n",
    "* event (str) - record description (ie transaction, offer received, offer viewed, etc.)\n",
    "* person (str) - customer id\n",
    "* time (int) - time in hours since start of test. The data begins at time t=0\n",
    "* value - (dict of strings) - either an offer id or transaction amount depending on the record\n",
    "\n",
    "**Note:** If you are using the workspace, you will need to go to the terminal and run the command `conda update pandas` before reading in the files. This is because the version of pandas in the workspace cannot read in the transcript.json file correctly, but the newest version of pandas can. You can access the termnal from the orange icon in the top left of this notebook.  \n",
    "\n",
    "You can see how to access the terminal and how the install works using the two images below.  First you need to access the terminal:\n",
    "\n",
    "<img src=\"pic1.png\"/>\n",
    "\n",
    "Then you will want to run the above command:\n",
    "\n",
    "<img src=\"pic2.png\"/>\n",
    "\n",
    "Finally, when you enter back into the notebook (use the jupyter icon again), you should be able to run the below cell without any errors."
   ]
  },
  {
   "cell_type": "code",
   "execution_count": 1,
   "metadata": {},
   "outputs": [],
   "source": [
    "import pandas as pd\n",
    "import numpy as np\n",
    "import math\n",
    "import json\n",
    "import matplotlib.pyplot as plt\n",
    "from sklearn.linear_model import LinearRegression\n",
    "from sklearn.metrics import r2_score, mean_squared_error\n",
    "from time import time\n",
    "\n",
    "% matplotlib inline"
   ]
  },
  {
   "cell_type": "code",
   "execution_count": 2,
   "metadata": {},
   "outputs": [],
   "source": [
    "# read in the json files\n",
    "#portfolio = pd.read_json('data/portfolio.json',dtype={'channels':str, 'difficulty':float, 'duration':float, 'id':str, 'offer_type':str, 'reward':float}, orient='records', lines=True)\n",
    "portfolio = pd.read_json('data/portfolio.json', orient='records', lines=True)\n",
    "profile = pd.read_json('data/profile.json', orient='records', lines=True)\n",
    "transcript = pd.read_json('data/transcript.json', orient='records', lines=True)"
   ]
  },
  {
   "cell_type": "code",
   "execution_count": 3,
   "metadata": {},
   "outputs": [
    {
     "data": {
      "text/plain": [
       "(17000, 5)"
      ]
     },
     "execution_count": 3,
     "metadata": {},
     "output_type": "execute_result"
    }
   ],
   "source": [
    "profile.shape"
   ]
  },
  {
   "cell_type": "markdown",
   "metadata": {},
   "source": [
    "# Lets examine the data sets"
   ]
  },
  {
   "cell_type": "code",
   "execution_count": 4,
   "metadata": {},
   "outputs": [
    {
     "data": {
      "text/html": [
       "<div>\n",
       "<style scoped>\n",
       "    .dataframe tbody tr th:only-of-type {\n",
       "        vertical-align: middle;\n",
       "    }\n",
       "\n",
       "    .dataframe tbody tr th {\n",
       "        vertical-align: top;\n",
       "    }\n",
       "\n",
       "    .dataframe thead th {\n",
       "        text-align: right;\n",
       "    }\n",
       "</style>\n",
       "<table border=\"1\" class=\"dataframe\">\n",
       "  <thead>\n",
       "    <tr style=\"text-align: right;\">\n",
       "      <th></th>\n",
       "      <th>channels</th>\n",
       "      <th>difficulty</th>\n",
       "      <th>duration</th>\n",
       "      <th>id</th>\n",
       "      <th>offer_type</th>\n",
       "      <th>reward</th>\n",
       "    </tr>\n",
       "  </thead>\n",
       "  <tbody>\n",
       "    <tr>\n",
       "      <th>0</th>\n",
       "      <td>[email, mobile, social]</td>\n",
       "      <td>10</td>\n",
       "      <td>7</td>\n",
       "      <td>ae264e3637204a6fb9bb56bc8210ddfd</td>\n",
       "      <td>bogo</td>\n",
       "      <td>10</td>\n",
       "    </tr>\n",
       "    <tr>\n",
       "      <th>1</th>\n",
       "      <td>[web, email, mobile, social]</td>\n",
       "      <td>10</td>\n",
       "      <td>5</td>\n",
       "      <td>4d5c57ea9a6940dd891ad53e9dbe8da0</td>\n",
       "      <td>bogo</td>\n",
       "      <td>10</td>\n",
       "    </tr>\n",
       "    <tr>\n",
       "      <th>2</th>\n",
       "      <td>[web, email, mobile]</td>\n",
       "      <td>0</td>\n",
       "      <td>4</td>\n",
       "      <td>3f207df678b143eea3cee63160fa8bed</td>\n",
       "      <td>informational</td>\n",
       "      <td>0</td>\n",
       "    </tr>\n",
       "    <tr>\n",
       "      <th>3</th>\n",
       "      <td>[web, email, mobile]</td>\n",
       "      <td>5</td>\n",
       "      <td>7</td>\n",
       "      <td>9b98b8c7a33c4b65b9aebfe6a799e6d9</td>\n",
       "      <td>bogo</td>\n",
       "      <td>5</td>\n",
       "    </tr>\n",
       "    <tr>\n",
       "      <th>4</th>\n",
       "      <td>[web, email]</td>\n",
       "      <td>20</td>\n",
       "      <td>10</td>\n",
       "      <td>0b1e1539f2cc45b7b9fa7c272da2e1d7</td>\n",
       "      <td>discount</td>\n",
       "      <td>5</td>\n",
       "    </tr>\n",
       "    <tr>\n",
       "      <th>5</th>\n",
       "      <td>[web, email, mobile, social]</td>\n",
       "      <td>7</td>\n",
       "      <td>7</td>\n",
       "      <td>2298d6c36e964ae4a3e7e9706d1fb8c2</td>\n",
       "      <td>discount</td>\n",
       "      <td>3</td>\n",
       "    </tr>\n",
       "    <tr>\n",
       "      <th>6</th>\n",
       "      <td>[web, email, mobile, social]</td>\n",
       "      <td>10</td>\n",
       "      <td>10</td>\n",
       "      <td>fafdcd668e3743c1bb461111dcafc2a4</td>\n",
       "      <td>discount</td>\n",
       "      <td>2</td>\n",
       "    </tr>\n",
       "    <tr>\n",
       "      <th>7</th>\n",
       "      <td>[email, mobile, social]</td>\n",
       "      <td>0</td>\n",
       "      <td>3</td>\n",
       "      <td>5a8bc65990b245e5a138643cd4eb9837</td>\n",
       "      <td>informational</td>\n",
       "      <td>0</td>\n",
       "    </tr>\n",
       "    <tr>\n",
       "      <th>8</th>\n",
       "      <td>[web, email, mobile, social]</td>\n",
       "      <td>5</td>\n",
       "      <td>5</td>\n",
       "      <td>f19421c1d4aa40978ebb69ca19b0e20d</td>\n",
       "      <td>bogo</td>\n",
       "      <td>5</td>\n",
       "    </tr>\n",
       "    <tr>\n",
       "      <th>9</th>\n",
       "      <td>[web, email, mobile]</td>\n",
       "      <td>10</td>\n",
       "      <td>7</td>\n",
       "      <td>2906b810c7d4411798c6938adc9daaa5</td>\n",
       "      <td>discount</td>\n",
       "      <td>2</td>\n",
       "    </tr>\n",
       "  </tbody>\n",
       "</table>\n",
       "</div>"
      ],
      "text/plain": [
       "                       channels  difficulty  duration  \\\n",
       "0       [email, mobile, social]          10         7   \n",
       "1  [web, email, mobile, social]          10         5   \n",
       "2          [web, email, mobile]           0         4   \n",
       "3          [web, email, mobile]           5         7   \n",
       "4                  [web, email]          20        10   \n",
       "5  [web, email, mobile, social]           7         7   \n",
       "6  [web, email, mobile, social]          10        10   \n",
       "7       [email, mobile, social]           0         3   \n",
       "8  [web, email, mobile, social]           5         5   \n",
       "9          [web, email, mobile]          10         7   \n",
       "\n",
       "                                 id     offer_type  reward  \n",
       "0  ae264e3637204a6fb9bb56bc8210ddfd           bogo      10  \n",
       "1  4d5c57ea9a6940dd891ad53e9dbe8da0           bogo      10  \n",
       "2  3f207df678b143eea3cee63160fa8bed  informational       0  \n",
       "3  9b98b8c7a33c4b65b9aebfe6a799e6d9           bogo       5  \n",
       "4  0b1e1539f2cc45b7b9fa7c272da2e1d7       discount       5  \n",
       "5  2298d6c36e964ae4a3e7e9706d1fb8c2       discount       3  \n",
       "6  fafdcd668e3743c1bb461111dcafc2a4       discount       2  \n",
       "7  5a8bc65990b245e5a138643cd4eb9837  informational       0  \n",
       "8  f19421c1d4aa40978ebb69ca19b0e20d           bogo       5  \n",
       "9  2906b810c7d4411798c6938adc9daaa5       discount       2  "
      ]
     },
     "execution_count": 4,
     "metadata": {},
     "output_type": "execute_result"
    }
   ],
   "source": [
    "portfolio"
   ]
  },
  {
   "cell_type": "code",
   "execution_count": 5,
   "metadata": {},
   "outputs": [
    {
     "data": {
      "text/plain": [
       "channels      object\n",
       "difficulty     int64\n",
       "duration       int64\n",
       "id            object\n",
       "offer_type    object\n",
       "reward         int64\n",
       "dtype: object"
      ]
     },
     "execution_count": 5,
     "metadata": {},
     "output_type": "execute_result"
    }
   ],
   "source": [
    "portfolio.dtypes"
   ]
  },
  {
   "cell_type": "code",
   "execution_count": 6,
   "metadata": {},
   "outputs": [
    {
     "name": "stdout",
     "output_type": "stream",
     "text": [
      "<class 'pandas.core.frame.DataFrame'>\n",
      "RangeIndex: 10 entries, 0 to 9\n",
      "Data columns (total 6 columns):\n",
      "channels      10 non-null object\n",
      "difficulty    10 non-null int64\n",
      "duration      10 non-null int64\n",
      "id            10 non-null object\n",
      "offer_type    10 non-null object\n",
      "reward        10 non-null int64\n",
      "dtypes: int64(3), object(3)\n",
      "memory usage: 560.0+ bytes\n"
     ]
    }
   ],
   "source": [
    "portfolio.info()"
   ]
  },
  {
   "cell_type": "code",
   "execution_count": 7,
   "metadata": {},
   "outputs": [
    {
     "data": {
      "text/html": [
       "<div>\n",
       "<style scoped>\n",
       "    .dataframe tbody tr th:only-of-type {\n",
       "        vertical-align: middle;\n",
       "    }\n",
       "\n",
       "    .dataframe tbody tr th {\n",
       "        vertical-align: top;\n",
       "    }\n",
       "\n",
       "    .dataframe thead th {\n",
       "        text-align: right;\n",
       "    }\n",
       "</style>\n",
       "<table border=\"1\" class=\"dataframe\">\n",
       "  <thead>\n",
       "    <tr style=\"text-align: right;\">\n",
       "      <th></th>\n",
       "      <th>age</th>\n",
       "      <th>became_member_on</th>\n",
       "      <th>gender</th>\n",
       "      <th>id</th>\n",
       "      <th>income</th>\n",
       "    </tr>\n",
       "  </thead>\n",
       "  <tbody>\n",
       "    <tr>\n",
       "      <th>0</th>\n",
       "      <td>118</td>\n",
       "      <td>20170212</td>\n",
       "      <td>None</td>\n",
       "      <td>68be06ca386d4c31939f3a4f0e3dd783</td>\n",
       "      <td>NaN</td>\n",
       "    </tr>\n",
       "    <tr>\n",
       "      <th>1</th>\n",
       "      <td>55</td>\n",
       "      <td>20170715</td>\n",
       "      <td>F</td>\n",
       "      <td>0610b486422d4921ae7d2bf64640c50b</td>\n",
       "      <td>112000.0</td>\n",
       "    </tr>\n",
       "    <tr>\n",
       "      <th>2</th>\n",
       "      <td>118</td>\n",
       "      <td>20180712</td>\n",
       "      <td>None</td>\n",
       "      <td>38fe809add3b4fcf9315a9694bb96ff5</td>\n",
       "      <td>NaN</td>\n",
       "    </tr>\n",
       "    <tr>\n",
       "      <th>3</th>\n",
       "      <td>75</td>\n",
       "      <td>20170509</td>\n",
       "      <td>F</td>\n",
       "      <td>78afa995795e4d85b5d9ceeca43f5fef</td>\n",
       "      <td>100000.0</td>\n",
       "    </tr>\n",
       "    <tr>\n",
       "      <th>4</th>\n",
       "      <td>118</td>\n",
       "      <td>20170804</td>\n",
       "      <td>None</td>\n",
       "      <td>a03223e636434f42ac4c3df47e8bac43</td>\n",
       "      <td>NaN</td>\n",
       "    </tr>\n",
       "  </tbody>\n",
       "</table>\n",
       "</div>"
      ],
      "text/plain": [
       "   age  became_member_on gender                                id    income\n",
       "0  118          20170212   None  68be06ca386d4c31939f3a4f0e3dd783       NaN\n",
       "1   55          20170715      F  0610b486422d4921ae7d2bf64640c50b  112000.0\n",
       "2  118          20180712   None  38fe809add3b4fcf9315a9694bb96ff5       NaN\n",
       "3   75          20170509      F  78afa995795e4d85b5d9ceeca43f5fef  100000.0\n",
       "4  118          20170804   None  a03223e636434f42ac4c3df47e8bac43       NaN"
      ]
     },
     "execution_count": 7,
     "metadata": {},
     "output_type": "execute_result"
    }
   ],
   "source": [
    "profile.head()"
   ]
  },
  {
   "cell_type": "code",
   "execution_count": 8,
   "metadata": {},
   "outputs": [
    {
     "data": {
      "text/plain": [
       "age                   int64\n",
       "became_member_on      int64\n",
       "gender               object\n",
       "id                   object\n",
       "income              float64\n",
       "dtype: object"
      ]
     },
     "execution_count": 8,
     "metadata": {},
     "output_type": "execute_result"
    }
   ],
   "source": [
    "profile.dtypes"
   ]
  },
  {
   "cell_type": "code",
   "execution_count": 9,
   "metadata": {},
   "outputs": [
    {
     "name": "stdout",
     "output_type": "stream",
     "text": [
      "<class 'pandas.core.frame.DataFrame'>\n",
      "RangeIndex: 17000 entries, 0 to 16999\n",
      "Data columns (total 5 columns):\n",
      "age                 17000 non-null int64\n",
      "became_member_on    17000 non-null int64\n",
      "gender              14825 non-null object\n",
      "id                  17000 non-null object\n",
      "income              14825 non-null float64\n",
      "dtypes: float64(1), int64(2), object(2)\n",
      "memory usage: 664.1+ KB\n"
     ]
    }
   ],
   "source": [
    "profile.info()"
   ]
  },
  {
   "cell_type": "code",
   "execution_count": 10,
   "metadata": {},
   "outputs": [
    {
     "data": {
      "text/plain": [
       "(2175,)"
      ]
     },
     "execution_count": 10,
     "metadata": {},
     "output_type": "execute_result"
    }
   ],
   "source": [
    "indicies_age118 = profile[profile['age']==118].index.values\n",
    "indicies_age118.shape"
   ]
  },
  {
   "cell_type": "code",
   "execution_count": 11,
   "metadata": {},
   "outputs": [
    {
     "name": "stdout",
     "output_type": "stream",
     "text": [
      "<class 'pandas.core.frame.DataFrame'>\n",
      "Int64Index: 14825 entries, 1 to 16999\n",
      "Data columns (total 5 columns):\n",
      "age                 14825 non-null int64\n",
      "became_member_on    14825 non-null int64\n",
      "gender              14825 non-null object\n",
      "id                  14825 non-null object\n",
      "income              14825 non-null float64\n",
      "dtypes: float64(1), int64(2), object(2)\n",
      "memory usage: 694.9+ KB\n"
     ]
    }
   ],
   "source": [
    "profile.drop(indicies_age118, axis=0).info()"
   ]
  },
  {
   "cell_type": "markdown",
   "metadata": {},
   "source": [
    "#### There are several users that have not entered any profile data for age, gender, and income.  Therefore, we may want to disclude them from certain analysis"
   ]
  },
  {
   "cell_type": "code",
   "execution_count": 12,
   "metadata": {},
   "outputs": [],
   "source": [
    "def gender_income_vs_age(g):\n",
    "    '''Function to plot average income vs age\n",
    "    Args:\n",
    "        g (str): gender ()\n",
    "    Returns:\n",
    "    '''\n",
    "    # fit and fill male income\n",
    "    gender = profile[profile['gender']==g]\n",
    "    \n",
    "    #age_income = gender[gender['age']!=118].groupby('age')['income'].mean().reindex()\n",
    "    # offer_received_counts = offers_received.groupby('offer_id')['offer_id'].agg([('received_count','count')]).reset_index()\n",
    "    age_income = gender.groupby('age')['income'].agg([('average_income', 'mean'), ('STDDEV', 'std')]).reset_index()\n",
    "    \n",
    "    age = age_income['age'].values\n",
    "    average_income =  age_income['average_income'].values\n",
    "    std = age_income['STDDEV'].values\n",
    "    \n",
    "    #plt.plot(age, average_income, 'o')\n",
    "    \n",
    "    g_dict = {'M':'Male', 'F':'Female', 'O':'Other Gender'}\n",
    "    \n",
    "    plt.errorbar(age, average_income, yerr=std, color='k', lw=3,  ecolor='b')\n",
    "    plt.xlabel('Age')\n",
    "    title = f'Average {g_dict[g]} Income'\n",
    "    plt.ylabel('Average Income')\n",
    "    plt.title(title)"
   ]
  },
  {
   "cell_type": "code",
   "execution_count": 13,
   "metadata": {},
   "outputs": [
    {
     "data": {
      "image/png": "[encoded data removed]",
      "text/plain": [
       "<matplotlib.figure.Figure at 0x7f1fe2ea3f28>"
      ]
     },
     "metadata": {
      "needs_background": "light"
     },
     "output_type": "display_data"
    }
   ],
   "source": [
    "gender_income_vs_age('M')"
   ]
  },
  {
   "cell_type": "code",
   "execution_count": 14,
   "metadata": {},
   "outputs": [
    {
     "data": {
      "image/png": "[encoded data removed]",
      "text/plain": [
       "<matplotlib.figure.Figure at 0x7f1fe2e655c0>"
      ]
     },
     "metadata": {
      "needs_background": "light"
     },
     "output_type": "display_data"
    }
   ],
   "source": [
    "gender_income_vs_age('F')"
   ]
  },
  {
   "cell_type": "code",
   "execution_count": 15,
   "metadata": {},
   "outputs": [
    {
     "data": {
      "image/png": "[encoded data removed]",
      "text/plain": [
       "<matplotlib.figure.Figure at 0x7f1fe2e7a550>"
      ]
     },
     "metadata": {
      "needs_background": "light"
     },
     "output_type": "display_data"
    }
   ],
   "source": [
    "gender_income_vs_age('O')"
   ]
  },
  {
   "cell_type": "code",
   "execution_count": 16,
   "metadata": {},
   "outputs": [
    {
     "data": {
      "text/html": [
       "<div>\n",
       "<style scoped>\n",
       "    .dataframe tbody tr th:only-of-type {\n",
       "        vertical-align: middle;\n",
       "    }\n",
       "\n",
       "    .dataframe tbody tr th {\n",
       "        vertical-align: top;\n",
       "    }\n",
       "\n",
       "    .dataframe thead th {\n",
       "        text-align: right;\n",
       "    }\n",
       "</style>\n",
       "<table border=\"1\" class=\"dataframe\">\n",
       "  <thead>\n",
       "    <tr style=\"text-align: right;\">\n",
       "      <th></th>\n",
       "      <th>event</th>\n",
       "      <th>person</th>\n",
       "      <th>time</th>\n",
       "      <th>value</th>\n",
       "    </tr>\n",
       "  </thead>\n",
       "  <tbody>\n",
       "    <tr>\n",
       "      <th>0</th>\n",
       "      <td>offer received</td>\n",
       "      <td>78afa995795e4d85b5d9ceeca43f5fef</td>\n",
       "      <td>0</td>\n",
       "      <td>{'offer id': '9b98b8c7a33c4b65b9aebfe6a799e6d9'}</td>\n",
       "    </tr>\n",
       "    <tr>\n",
       "      <th>1</th>\n",
       "      <td>offer received</td>\n",
       "      <td>a03223e636434f42ac4c3df47e8bac43</td>\n",
       "      <td>0</td>\n",
       "      <td>{'offer id': '0b1e1539f2cc45b7b9fa7c272da2e1d7'}</td>\n",
       "    </tr>\n",
       "    <tr>\n",
       "      <th>2</th>\n",
       "      <td>offer received</td>\n",
       "      <td>e2127556f4f64592b11af22de27a7932</td>\n",
       "      <td>0</td>\n",
       "      <td>{'offer id': '2906b810c7d4411798c6938adc9daaa5'}</td>\n",
       "    </tr>\n",
       "    <tr>\n",
       "      <th>3</th>\n",
       "      <td>offer received</td>\n",
       "      <td>8ec6ce2a7e7949b1bf142def7d0e0586</td>\n",
       "      <td>0</td>\n",
       "      <td>{'offer id': 'fafdcd668e3743c1bb461111dcafc2a4'}</td>\n",
       "    </tr>\n",
       "    <tr>\n",
       "      <th>4</th>\n",
       "      <td>offer received</td>\n",
       "      <td>68617ca6246f4fbc85e91a2a49552598</td>\n",
       "      <td>0</td>\n",
       "      <td>{'offer id': '4d5c57ea9a6940dd891ad53e9dbe8da0'}</td>\n",
       "    </tr>\n",
       "  </tbody>\n",
       "</table>\n",
       "</div>"
      ],
      "text/plain": [
       "            event                            person  time  \\\n",
       "0  offer received  78afa995795e4d85b5d9ceeca43f5fef     0   \n",
       "1  offer received  a03223e636434f42ac4c3df47e8bac43     0   \n",
       "2  offer received  e2127556f4f64592b11af22de27a7932     0   \n",
       "3  offer received  8ec6ce2a7e7949b1bf142def7d0e0586     0   \n",
       "4  offer received  68617ca6246f4fbc85e91a2a49552598     0   \n",
       "\n",
       "                                              value  \n",
       "0  {'offer id': '9b98b8c7a33c4b65b9aebfe6a799e6d9'}  \n",
       "1  {'offer id': '0b1e1539f2cc45b7b9fa7c272da2e1d7'}  \n",
       "2  {'offer id': '2906b810c7d4411798c6938adc9daaa5'}  \n",
       "3  {'offer id': 'fafdcd668e3743c1bb461111dcafc2a4'}  \n",
       "4  {'offer id': '4d5c57ea9a6940dd891ad53e9dbe8da0'}  "
      ]
     },
     "execution_count": 16,
     "metadata": {},
     "output_type": "execute_result"
    }
   ],
   "source": [
    "transcript.head()"
   ]
  },
  {
   "cell_type": "code",
   "execution_count": 17,
   "metadata": {},
   "outputs": [
    {
     "data": {
      "text/plain": [
       "event     object\n",
       "person    object\n",
       "time       int64\n",
       "value     object\n",
       "dtype: object"
      ]
     },
     "execution_count": 17,
     "metadata": {},
     "output_type": "execute_result"
    }
   ],
   "source": [
    "transcript.dtypes"
   ]
  },
  {
   "cell_type": "code",
   "execution_count": 18,
   "metadata": {},
   "outputs": [
    {
     "name": "stdout",
     "output_type": "stream",
     "text": [
      "<class 'pandas.core.frame.DataFrame'>\n",
      "RangeIndex: 306534 entries, 0 to 306533\n",
      "Data columns (total 4 columns):\n",
      "event     306534 non-null object\n",
      "person    306534 non-null object\n",
      "time      306534 non-null int64\n",
      "value     306534 non-null object\n",
      "dtypes: int64(1), object(3)\n",
      "memory usage: 9.4+ MB\n"
     ]
    }
   ],
   "source": [
    "transcript.info()"
   ]
  },
  {
   "cell_type": "markdown",
   "metadata": {},
   "source": [
    "# Convert to Usable Datatypes"
   ]
  },
  {
   "cell_type": "markdown",
   "metadata": {},
   "source": [
    "### portfolio\n",
    "#### 'channels' contain lists of strings that need to be expanded as categorical variables"
   ]
  },
  {
   "cell_type": "code",
   "execution_count": 19,
   "metadata": {},
   "outputs": [],
   "source": [
    "channel_types = []\n",
    "for _, row in portfolio.iterrows():\n",
    "    for channel in row['channels']:\n",
    "        channel_types.append(channel)\n",
    "        \n",
    "channel_types=list((set(channel_types)))\n",
    "channel_types\n",
    "    \n",
    "\n",
    "for channel_type in channel_types:\n",
    "    portfolio[channel_type] = portfolio['channels'].apply(lambda x: (channel_type in x)*1)\n",
    "    \n",
    "portfolio.drop('channels', axis=1, inplace=True)"
   ]
  },
  {
   "cell_type": "markdown",
   "metadata": {},
   "source": [
    "### convert duration to hours so it is consistent with other time values"
   ]
  },
  {
   "cell_type": "code",
   "execution_count": 20,
   "metadata": {},
   "outputs": [
    {
     "data": {
      "text/plain": [
       "['difficulty',\n",
       " 'duration',\n",
       " 'bogo',\n",
       " 'discount',\n",
       " 'reward',\n",
       " 'web',\n",
       " 'mobile',\n",
       " 'social',\n",
       " 'duration_in_hours']"
      ]
     },
     "execution_count": 20,
     "metadata": {},
     "output_type": "execute_result"
    }
   ],
   "source": [
    "portfolio['duration_in_hours'] = portfolio['duration']*24\n",
    "['difficulty', 'duration', 'bogo', 'discount', 'reward', 'web', 'mobile', 'social', 'duration_in_hours']"
   ]
  },
  {
   "cell_type": "code",
   "execution_count": 21,
   "metadata": {},
   "outputs": [
    {
     "data": {
      "text/html": [
       "<div>\n",
       "<style scoped>\n",
       "    .dataframe tbody tr th:only-of-type {\n",
       "        vertical-align: middle;\n",
       "    }\n",
       "\n",
       "    .dataframe tbody tr th {\n",
       "        vertical-align: top;\n",
       "    }\n",
       "\n",
       "    .dataframe thead th {\n",
       "        text-align: right;\n",
       "    }\n",
       "</style>\n",
       "<table border=\"1\" class=\"dataframe\">\n",
       "  <thead>\n",
       "    <tr style=\"text-align: right;\">\n",
       "      <th></th>\n",
       "      <th>difficulty</th>\n",
       "      <th>duration</th>\n",
       "      <th>id</th>\n",
       "      <th>offer_type</th>\n",
       "      <th>reward</th>\n",
       "      <th>mobile</th>\n",
       "      <th>social</th>\n",
       "      <th>email</th>\n",
       "      <th>web</th>\n",
       "      <th>duration_in_hours</th>\n",
       "    </tr>\n",
       "  </thead>\n",
       "  <tbody>\n",
       "    <tr>\n",
       "      <th>0</th>\n",
       "      <td>10</td>\n",
       "      <td>7</td>\n",
       "      <td>ae264e3637204a6fb9bb56bc8210ddfd</td>\n",
       "      <td>bogo</td>\n",
       "      <td>10</td>\n",
       "      <td>1</td>\n",
       "      <td>1</td>\n",
       "      <td>1</td>\n",
       "      <td>0</td>\n",
       "      <td>168</td>\n",
       "    </tr>\n",
       "    <tr>\n",
       "      <th>1</th>\n",
       "      <td>10</td>\n",
       "      <td>5</td>\n",
       "      <td>4d5c57ea9a6940dd891ad53e9dbe8da0</td>\n",
       "      <td>bogo</td>\n",
       "      <td>10</td>\n",
       "      <td>1</td>\n",
       "      <td>1</td>\n",
       "      <td>1</td>\n",
       "      <td>1</td>\n",
       "      <td>120</td>\n",
       "    </tr>\n",
       "    <tr>\n",
       "      <th>2</th>\n",
       "      <td>0</td>\n",
       "      <td>4</td>\n",
       "      <td>3f207df678b143eea3cee63160fa8bed</td>\n",
       "      <td>informational</td>\n",
       "      <td>0</td>\n",
       "      <td>1</td>\n",
       "      <td>0</td>\n",
       "      <td>1</td>\n",
       "      <td>1</td>\n",
       "      <td>96</td>\n",
       "    </tr>\n",
       "    <tr>\n",
       "      <th>3</th>\n",
       "      <td>5</td>\n",
       "      <td>7</td>\n",
       "      <td>9b98b8c7a33c4b65b9aebfe6a799e6d9</td>\n",
       "      <td>bogo</td>\n",
       "      <td>5</td>\n",
       "      <td>1</td>\n",
       "      <td>0</td>\n",
       "      <td>1</td>\n",
       "      <td>1</td>\n",
       "      <td>168</td>\n",
       "    </tr>\n",
       "    <tr>\n",
       "      <th>4</th>\n",
       "      <td>20</td>\n",
       "      <td>10</td>\n",
       "      <td>0b1e1539f2cc45b7b9fa7c272da2e1d7</td>\n",
       "      <td>discount</td>\n",
       "      <td>5</td>\n",
       "      <td>0</td>\n",
       "      <td>0</td>\n",
       "      <td>1</td>\n",
       "      <td>1</td>\n",
       "      <td>240</td>\n",
       "    </tr>\n",
       "  </tbody>\n",
       "</table>\n",
       "</div>"
      ],
      "text/plain": [
       "   difficulty  duration                                id     offer_type  \\\n",
       "0          10         7  ae264e3637204a6fb9bb56bc8210ddfd           bogo   \n",
       "1          10         5  4d5c57ea9a6940dd891ad53e9dbe8da0           bogo   \n",
       "2           0         4  3f207df678b143eea3cee63160fa8bed  informational   \n",
       "3           5         7  9b98b8c7a33c4b65b9aebfe6a799e6d9           bogo   \n",
       "4          20        10  0b1e1539f2cc45b7b9fa7c272da2e1d7       discount   \n",
       "\n",
       "   reward  mobile  social  email  web  duration_in_hours  \n",
       "0      10       1       1      1    0                168  \n",
       "1      10       1       1      1    1                120  \n",
       "2       0       1       0      1    1                 96  \n",
       "3       5       1       0      1    1                168  \n",
       "4       5       0       0      1    1                240  "
      ]
     },
     "execution_count": 21,
     "metadata": {},
     "output_type": "execute_result"
    }
   ],
   "source": [
    "portfolio.head()"
   ]
  },
  {
   "cell_type": "markdown",
   "metadata": {},
   "source": [
    "### profile\n",
    "#### 'became_member_on' needs to be converted to a datetime \n",
    "\n"
   ]
  },
  {
   "cell_type": "code",
   "execution_count": 22,
   "metadata": {},
   "outputs": [],
   "source": [
    "profile['became_member_on'] = pd.to_datetime(profile['became_member_on'], format='%Y/%m/%d')"
   ]
  },
  {
   "cell_type": "code",
   "execution_count": 23,
   "metadata": {},
   "outputs": [
    {
     "data": {
      "text/html": [
       "<div>\n",
       "<style scoped>\n",
       "    .dataframe tbody tr th:only-of-type {\n",
       "        vertical-align: middle;\n",
       "    }\n",
       "\n",
       "    .dataframe tbody tr th {\n",
       "        vertical-align: top;\n",
       "    }\n",
       "\n",
       "    .dataframe thead th {\n",
       "        text-align: right;\n",
       "    }\n",
       "</style>\n",
       "<table border=\"1\" class=\"dataframe\">\n",
       "  <thead>\n",
       "    <tr style=\"text-align: right;\">\n",
       "      <th></th>\n",
       "      <th>age</th>\n",
       "      <th>became_member_on</th>\n",
       "      <th>gender</th>\n",
       "      <th>id</th>\n",
       "      <th>income</th>\n",
       "    </tr>\n",
       "  </thead>\n",
       "  <tbody>\n",
       "    <tr>\n",
       "      <th>0</th>\n",
       "      <td>118</td>\n",
       "      <td>1970-01-01 00:00:00.020170212</td>\n",
       "      <td>None</td>\n",
       "      <td>68be06ca386d4c31939f3a4f0e3dd783</td>\n",
       "      <td>NaN</td>\n",
       "    </tr>\n",
       "    <tr>\n",
       "      <th>1</th>\n",
       "      <td>55</td>\n",
       "      <td>1970-01-01 00:00:00.020170715</td>\n",
       "      <td>F</td>\n",
       "      <td>0610b486422d4921ae7d2bf64640c50b</td>\n",
       "      <td>112000.0</td>\n",
       "    </tr>\n",
       "    <tr>\n",
       "      <th>2</th>\n",
       "      <td>118</td>\n",
       "      <td>1970-01-01 00:00:00.020180712</td>\n",
       "      <td>None</td>\n",
       "      <td>38fe809add3b4fcf9315a9694bb96ff5</td>\n",
       "      <td>NaN</td>\n",
       "    </tr>\n",
       "    <tr>\n",
       "      <th>3</th>\n",
       "      <td>75</td>\n",
       "      <td>1970-01-01 00:00:00.020170509</td>\n",
       "      <td>F</td>\n",
       "      <td>78afa995795e4d85b5d9ceeca43f5fef</td>\n",
       "      <td>100000.0</td>\n",
       "    </tr>\n",
       "    <tr>\n",
       "      <th>4</th>\n",
       "      <td>118</td>\n",
       "      <td>1970-01-01 00:00:00.020170804</td>\n",
       "      <td>None</td>\n",
       "      <td>a03223e636434f42ac4c3df47e8bac43</td>\n",
       "      <td>NaN</td>\n",
       "    </tr>\n",
       "  </tbody>\n",
       "</table>\n",
       "</div>"
      ],
      "text/plain": [
       "   age              became_member_on gender                                id  \\\n",
       "0  118 1970-01-01 00:00:00.020170212   None  68be06ca386d4c31939f3a4f0e3dd783   \n",
       "1   55 1970-01-01 00:00:00.020170715      F  0610b486422d4921ae7d2bf64640c50b   \n",
       "2  118 1970-01-01 00:00:00.020180712   None  38fe809add3b4fcf9315a9694bb96ff5   \n",
       "3   75 1970-01-01 00:00:00.020170509      F  78afa995795e4d85b5d9ceeca43f5fef   \n",
       "4  118 1970-01-01 00:00:00.020170804   None  a03223e636434f42ac4c3df47e8bac43   \n",
       "\n",
       "     income  \n",
       "0       NaN  \n",
       "1  112000.0  \n",
       "2       NaN  \n",
       "3  100000.0  \n",
       "4       NaN  "
      ]
     },
     "execution_count": 23,
     "metadata": {},
     "output_type": "execute_result"
    }
   ],
   "source": [
    "profile.head()"
   ]
  },
  {
   "cell_type": "markdown",
   "metadata": {},
   "source": [
    "### trancript\n",
    "#### data stored in the 'value column' needs to be expanded categorically\n"
   ]
  },
  {
   "cell_type": "code",
   "execution_count": 24,
   "metadata": {},
   "outputs": [
    {
     "name": "stdout",
     "output_type": "stream",
     "text": [
      "{'amount', 'reward', 'offer id', 'offer_id'}\n"
     ]
    }
   ],
   "source": [
    "d_keys = []\n",
    "\n",
    "for _, row in transcript.iterrows():\n",
    "    for key in list(row['value'].keys()):\n",
    "        d_keys.append(key)\n",
    "    \n",
    "d_keys = set(d_keys)\n",
    "\n",
    "print(d_keys)\n",
    "\n",
    "for key in d_keys:\n",
    "    transcript[key]=transcript['value'].apply(lambda x: x[key] if key in x else None)\n",
    "    \n",
    "transcript.drop('value', axis=1, inplace=True)\n",
    "    "
   ]
  },
  {
   "cell_type": "code",
   "execution_count": 25,
   "metadata": {},
   "outputs": [],
   "source": [
    "amount_indecies = transcript[transcript['amount'].notnull()].index.values\n",
    "noamount_indicies = transcript[transcript['amount'].isnull()].index.values\n",
    "reward_indicies = transcript[transcript['reward'].notnull()].index.values"
   ]
  },
  {
   "cell_type": "code",
   "execution_count": 26,
   "metadata": {},
   "outputs": [
    {
     "data": {
      "text/html": [
       "<div>\n",
       "<style scoped>\n",
       "    .dataframe tbody tr th:only-of-type {\n",
       "        vertical-align: middle;\n",
       "    }\n",
       "\n",
       "    .dataframe tbody tr th {\n",
       "        vertical-align: top;\n",
       "    }\n",
       "\n",
       "    .dataframe thead th {\n",
       "        text-align: right;\n",
       "    }\n",
       "</style>\n",
       "<table border=\"1\" class=\"dataframe\">\n",
       "  <thead>\n",
       "    <tr style=\"text-align: right;\">\n",
       "      <th></th>\n",
       "      <th>event</th>\n",
       "      <th>person</th>\n",
       "      <th>time</th>\n",
       "      <th>amount</th>\n",
       "      <th>reward</th>\n",
       "      <th>offer id</th>\n",
       "      <th>offer_id</th>\n",
       "    </tr>\n",
       "  </thead>\n",
       "  <tbody>\n",
       "    <tr>\n",
       "      <th>12658</th>\n",
       "      <td>offer completed</td>\n",
       "      <td>9fa9ae8f57894cc9a3b8a9bbe0fc1b2f</td>\n",
       "      <td>0</td>\n",
       "      <td>NaN</td>\n",
       "      <td>2.0</td>\n",
       "      <td>None</td>\n",
       "      <td>2906b810c7d4411798c6938adc9daaa5</td>\n",
       "    </tr>\n",
       "    <tr>\n",
       "      <th>12672</th>\n",
       "      <td>offer completed</td>\n",
       "      <td>fe97aa22dd3e48c8b143116a8403dd52</td>\n",
       "      <td>0</td>\n",
       "      <td>NaN</td>\n",
       "      <td>2.0</td>\n",
       "      <td>None</td>\n",
       "      <td>fafdcd668e3743c1bb461111dcafc2a4</td>\n",
       "    </tr>\n",
       "    <tr>\n",
       "      <th>12679</th>\n",
       "      <td>offer completed</td>\n",
       "      <td>629fc02d56414d91bca360decdfa9288</td>\n",
       "      <td>0</td>\n",
       "      <td>NaN</td>\n",
       "      <td>5.0</td>\n",
       "      <td>None</td>\n",
       "      <td>9b98b8c7a33c4b65b9aebfe6a799e6d9</td>\n",
       "    </tr>\n",
       "    <tr>\n",
       "      <th>12692</th>\n",
       "      <td>offer completed</td>\n",
       "      <td>676506bad68e4161b9bbaffeb039626b</td>\n",
       "      <td>0</td>\n",
       "      <td>NaN</td>\n",
       "      <td>10.0</td>\n",
       "      <td>None</td>\n",
       "      <td>ae264e3637204a6fb9bb56bc8210ddfd</td>\n",
       "    </tr>\n",
       "    <tr>\n",
       "      <th>12697</th>\n",
       "      <td>offer completed</td>\n",
       "      <td>8f7dd3b2afe14c078eb4f6e6fe4ba97d</td>\n",
       "      <td>0</td>\n",
       "      <td>NaN</td>\n",
       "      <td>10.0</td>\n",
       "      <td>None</td>\n",
       "      <td>4d5c57ea9a6940dd891ad53e9dbe8da0</td>\n",
       "    </tr>\n",
       "  </tbody>\n",
       "</table>\n",
       "</div>"
      ],
      "text/plain": [
       "                 event                            person  time  amount  \\\n",
       "12658  offer completed  9fa9ae8f57894cc9a3b8a9bbe0fc1b2f     0     NaN   \n",
       "12672  offer completed  fe97aa22dd3e48c8b143116a8403dd52     0     NaN   \n",
       "12679  offer completed  629fc02d56414d91bca360decdfa9288     0     NaN   \n",
       "12692  offer completed  676506bad68e4161b9bbaffeb039626b     0     NaN   \n",
       "12697  offer completed  8f7dd3b2afe14c078eb4f6e6fe4ba97d     0     NaN   \n",
       "\n",
       "       reward offer id                          offer_id  \n",
       "12658     2.0     None  2906b810c7d4411798c6938adc9daaa5  \n",
       "12672     2.0     None  fafdcd668e3743c1bb461111dcafc2a4  \n",
       "12679     5.0     None  9b98b8c7a33c4b65b9aebfe6a799e6d9  \n",
       "12692    10.0     None  ae264e3637204a6fb9bb56bc8210ddfd  \n",
       "12697    10.0     None  4d5c57ea9a6940dd891ad53e9dbe8da0  "
      ]
     },
     "execution_count": 26,
     "metadata": {},
     "output_type": "execute_result"
    }
   ],
   "source": [
    "transcript.loc[reward_indicies].head()"
   ]
  },
  {
   "cell_type": "code",
   "execution_count": 27,
   "metadata": {},
   "outputs": [
    {
     "data": {
      "text/html": [
       "<div>\n",
       "<style scoped>\n",
       "    .dataframe tbody tr th:only-of-type {\n",
       "        vertical-align: middle;\n",
       "    }\n",
       "\n",
       "    .dataframe tbody tr th {\n",
       "        vertical-align: top;\n",
       "    }\n",
       "\n",
       "    .dataframe thead th {\n",
       "        text-align: right;\n",
       "    }\n",
       "</style>\n",
       "<table border=\"1\" class=\"dataframe\">\n",
       "  <thead>\n",
       "    <tr style=\"text-align: right;\">\n",
       "      <th></th>\n",
       "      <th>event</th>\n",
       "      <th>person</th>\n",
       "      <th>time</th>\n",
       "      <th>amount</th>\n",
       "      <th>reward</th>\n",
       "      <th>offer id</th>\n",
       "      <th>offer_id</th>\n",
       "    </tr>\n",
       "  </thead>\n",
       "  <tbody>\n",
       "    <tr>\n",
       "      <th>12654</th>\n",
       "      <td>transaction</td>\n",
       "      <td>02c083884c7d45b39cc68e1314fec56c</td>\n",
       "      <td>0</td>\n",
       "      <td>0.83</td>\n",
       "      <td>NaN</td>\n",
       "      <td>None</td>\n",
       "      <td>None</td>\n",
       "    </tr>\n",
       "    <tr>\n",
       "      <th>12657</th>\n",
       "      <td>transaction</td>\n",
       "      <td>9fa9ae8f57894cc9a3b8a9bbe0fc1b2f</td>\n",
       "      <td>0</td>\n",
       "      <td>34.56</td>\n",
       "      <td>NaN</td>\n",
       "      <td>None</td>\n",
       "      <td>None</td>\n",
       "    </tr>\n",
       "    <tr>\n",
       "      <th>12659</th>\n",
       "      <td>transaction</td>\n",
       "      <td>54890f68699049c2a04d415abc25e717</td>\n",
       "      <td>0</td>\n",
       "      <td>13.23</td>\n",
       "      <td>NaN</td>\n",
       "      <td>None</td>\n",
       "      <td>None</td>\n",
       "    </tr>\n",
       "    <tr>\n",
       "      <th>12670</th>\n",
       "      <td>transaction</td>\n",
       "      <td>b2f1cd155b864803ad8334cdf13c4bd2</td>\n",
       "      <td>0</td>\n",
       "      <td>19.51</td>\n",
       "      <td>NaN</td>\n",
       "      <td>None</td>\n",
       "      <td>None</td>\n",
       "    </tr>\n",
       "    <tr>\n",
       "      <th>12671</th>\n",
       "      <td>transaction</td>\n",
       "      <td>fe97aa22dd3e48c8b143116a8403dd52</td>\n",
       "      <td>0</td>\n",
       "      <td>18.97</td>\n",
       "      <td>NaN</td>\n",
       "      <td>None</td>\n",
       "      <td>None</td>\n",
       "    </tr>\n",
       "  </tbody>\n",
       "</table>\n",
       "</div>"
      ],
      "text/plain": [
       "             event                            person  time  amount  reward  \\\n",
       "12654  transaction  02c083884c7d45b39cc68e1314fec56c     0    0.83     NaN   \n",
       "12657  transaction  9fa9ae8f57894cc9a3b8a9bbe0fc1b2f     0   34.56     NaN   \n",
       "12659  transaction  54890f68699049c2a04d415abc25e717     0   13.23     NaN   \n",
       "12670  transaction  b2f1cd155b864803ad8334cdf13c4bd2     0   19.51     NaN   \n",
       "12671  transaction  fe97aa22dd3e48c8b143116a8403dd52     0   18.97     NaN   \n",
       "\n",
       "      offer id offer_id  \n",
       "12654     None     None  \n",
       "12657     None     None  \n",
       "12659     None     None  \n",
       "12670     None     None  \n",
       "12671     None     None  "
      ]
     },
     "execution_count": 27,
     "metadata": {},
     "output_type": "execute_result"
    }
   ],
   "source": [
    "transcript.loc[amount_indecies].head()"
   ]
  },
  {
   "cell_type": "code",
   "execution_count": 28,
   "metadata": {},
   "outputs": [
    {
     "data": {
      "text/html": [
       "<div>\n",
       "<style scoped>\n",
       "    .dataframe tbody tr th:only-of-type {\n",
       "        vertical-align: middle;\n",
       "    }\n",
       "\n",
       "    .dataframe tbody tr th {\n",
       "        vertical-align: top;\n",
       "    }\n",
       "\n",
       "    .dataframe thead th {\n",
       "        text-align: right;\n",
       "    }\n",
       "</style>\n",
       "<table border=\"1\" class=\"dataframe\">\n",
       "  <thead>\n",
       "    <tr style=\"text-align: right;\">\n",
       "      <th></th>\n",
       "      <th>event</th>\n",
       "      <th>person</th>\n",
       "      <th>time</th>\n",
       "      <th>amount</th>\n",
       "      <th>reward</th>\n",
       "      <th>offer id</th>\n",
       "      <th>offer_id</th>\n",
       "    </tr>\n",
       "  </thead>\n",
       "  <tbody>\n",
       "    <tr>\n",
       "      <th>0</th>\n",
       "      <td>offer received</td>\n",
       "      <td>78afa995795e4d85b5d9ceeca43f5fef</td>\n",
       "      <td>0</td>\n",
       "      <td>NaN</td>\n",
       "      <td>NaN</td>\n",
       "      <td>9b98b8c7a33c4b65b9aebfe6a799e6d9</td>\n",
       "      <td>None</td>\n",
       "    </tr>\n",
       "    <tr>\n",
       "      <th>1</th>\n",
       "      <td>offer received</td>\n",
       "      <td>a03223e636434f42ac4c3df47e8bac43</td>\n",
       "      <td>0</td>\n",
       "      <td>NaN</td>\n",
       "      <td>NaN</td>\n",
       "      <td>0b1e1539f2cc45b7b9fa7c272da2e1d7</td>\n",
       "      <td>None</td>\n",
       "    </tr>\n",
       "    <tr>\n",
       "      <th>2</th>\n",
       "      <td>offer received</td>\n",
       "      <td>e2127556f4f64592b11af22de27a7932</td>\n",
       "      <td>0</td>\n",
       "      <td>NaN</td>\n",
       "      <td>NaN</td>\n",
       "      <td>2906b810c7d4411798c6938adc9daaa5</td>\n",
       "      <td>None</td>\n",
       "    </tr>\n",
       "    <tr>\n",
       "      <th>3</th>\n",
       "      <td>offer received</td>\n",
       "      <td>8ec6ce2a7e7949b1bf142def7d0e0586</td>\n",
       "      <td>0</td>\n",
       "      <td>NaN</td>\n",
       "      <td>NaN</td>\n",
       "      <td>fafdcd668e3743c1bb461111dcafc2a4</td>\n",
       "      <td>None</td>\n",
       "    </tr>\n",
       "    <tr>\n",
       "      <th>4</th>\n",
       "      <td>offer received</td>\n",
       "      <td>68617ca6246f4fbc85e91a2a49552598</td>\n",
       "      <td>0</td>\n",
       "      <td>NaN</td>\n",
       "      <td>NaN</td>\n",
       "      <td>4d5c57ea9a6940dd891ad53e9dbe8da0</td>\n",
       "      <td>None</td>\n",
       "    </tr>\n",
       "  </tbody>\n",
       "</table>\n",
       "</div>"
      ],
      "text/plain": [
       "            event                            person  time  amount  reward  \\\n",
       "0  offer received  78afa995795e4d85b5d9ceeca43f5fef     0     NaN     NaN   \n",
       "1  offer received  a03223e636434f42ac4c3df47e8bac43     0     NaN     NaN   \n",
       "2  offer received  e2127556f4f64592b11af22de27a7932     0     NaN     NaN   \n",
       "3  offer received  8ec6ce2a7e7949b1bf142def7d0e0586     0     NaN     NaN   \n",
       "4  offer received  68617ca6246f4fbc85e91a2a49552598     0     NaN     NaN   \n",
       "\n",
       "                           offer id offer_id  \n",
       "0  9b98b8c7a33c4b65b9aebfe6a799e6d9     None  \n",
       "1  0b1e1539f2cc45b7b9fa7c272da2e1d7     None  \n",
       "2  2906b810c7d4411798c6938adc9daaa5     None  \n",
       "3  fafdcd668e3743c1bb461111dcafc2a4     None  \n",
       "4  4d5c57ea9a6940dd891ad53e9dbe8da0     None  "
      ]
     },
     "execution_count": 28,
     "metadata": {},
     "output_type": "execute_result"
    }
   ],
   "source": [
    "transcript.loc[noamount_indicies].head()"
   ]
  },
  {
   "cell_type": "code",
   "execution_count": 29,
   "metadata": {},
   "outputs": [
    {
     "data": {
      "text/plain": [
       "event        object\n",
       "person       object\n",
       "time          int64\n",
       "amount      float64\n",
       "reward      float64\n",
       "offer id     object\n",
       "offer_id     object\n",
       "dtype: object"
      ]
     },
     "execution_count": 29,
     "metadata": {},
     "output_type": "execute_result"
    }
   ],
   "source": [
    "transcript.dtypes"
   ]
  },
  {
   "cell_type": "code",
   "execution_count": 30,
   "metadata": {},
   "outputs": [
    {
     "data": {
      "text/html": [
       "<div>\n",
       "<style scoped>\n",
       "    .dataframe tbody tr th:only-of-type {\n",
       "        vertical-align: middle;\n",
       "    }\n",
       "\n",
       "    .dataframe tbody tr th {\n",
       "        vertical-align: top;\n",
       "    }\n",
       "\n",
       "    .dataframe thead th {\n",
       "        text-align: right;\n",
       "    }\n",
       "</style>\n",
       "<table border=\"1\" class=\"dataframe\">\n",
       "  <thead>\n",
       "    <tr style=\"text-align: right;\">\n",
       "      <th></th>\n",
       "      <th>event</th>\n",
       "      <th>person</th>\n",
       "      <th>time</th>\n",
       "      <th>amount</th>\n",
       "      <th>reward</th>\n",
       "      <th>offer id</th>\n",
       "      <th>offer_id</th>\n",
       "    </tr>\n",
       "  </thead>\n",
       "  <tbody>\n",
       "    <tr>\n",
       "      <th>0</th>\n",
       "      <td>offer received</td>\n",
       "      <td>78afa995795e4d85b5d9ceeca43f5fef</td>\n",
       "      <td>0</td>\n",
       "      <td>NaN</td>\n",
       "      <td>NaN</td>\n",
       "      <td>9b98b8c7a33c4b65b9aebfe6a799e6d9</td>\n",
       "      <td>None</td>\n",
       "    </tr>\n",
       "    <tr>\n",
       "      <th>1</th>\n",
       "      <td>offer received</td>\n",
       "      <td>a03223e636434f42ac4c3df47e8bac43</td>\n",
       "      <td>0</td>\n",
       "      <td>NaN</td>\n",
       "      <td>NaN</td>\n",
       "      <td>0b1e1539f2cc45b7b9fa7c272da2e1d7</td>\n",
       "      <td>None</td>\n",
       "    </tr>\n",
       "    <tr>\n",
       "      <th>2</th>\n",
       "      <td>offer received</td>\n",
       "      <td>e2127556f4f64592b11af22de27a7932</td>\n",
       "      <td>0</td>\n",
       "      <td>NaN</td>\n",
       "      <td>NaN</td>\n",
       "      <td>2906b810c7d4411798c6938adc9daaa5</td>\n",
       "      <td>None</td>\n",
       "    </tr>\n",
       "    <tr>\n",
       "      <th>3</th>\n",
       "      <td>offer received</td>\n",
       "      <td>8ec6ce2a7e7949b1bf142def7d0e0586</td>\n",
       "      <td>0</td>\n",
       "      <td>NaN</td>\n",
       "      <td>NaN</td>\n",
       "      <td>fafdcd668e3743c1bb461111dcafc2a4</td>\n",
       "      <td>None</td>\n",
       "    </tr>\n",
       "    <tr>\n",
       "      <th>4</th>\n",
       "      <td>offer received</td>\n",
       "      <td>68617ca6246f4fbc85e91a2a49552598</td>\n",
       "      <td>0</td>\n",
       "      <td>NaN</td>\n",
       "      <td>NaN</td>\n",
       "      <td>4d5c57ea9a6940dd891ad53e9dbe8da0</td>\n",
       "      <td>None</td>\n",
       "    </tr>\n",
       "  </tbody>\n",
       "</table>\n",
       "</div>"
      ],
      "text/plain": [
       "            event                            person  time  amount  reward  \\\n",
       "0  offer received  78afa995795e4d85b5d9ceeca43f5fef     0     NaN     NaN   \n",
       "1  offer received  a03223e636434f42ac4c3df47e8bac43     0     NaN     NaN   \n",
       "2  offer received  e2127556f4f64592b11af22de27a7932     0     NaN     NaN   \n",
       "3  offer received  8ec6ce2a7e7949b1bf142def7d0e0586     0     NaN     NaN   \n",
       "4  offer received  68617ca6246f4fbc85e91a2a49552598     0     NaN     NaN   \n",
       "\n",
       "                           offer id offer_id  \n",
       "0  9b98b8c7a33c4b65b9aebfe6a799e6d9     None  \n",
       "1  0b1e1539f2cc45b7b9fa7c272da2e1d7     None  \n",
       "2  2906b810c7d4411798c6938adc9daaa5     None  \n",
       "3  fafdcd668e3743c1bb461111dcafc2a4     None  \n",
       "4  4d5c57ea9a6940dd891ad53e9dbe8da0     None  "
      ]
     },
     "execution_count": 30,
     "metadata": {},
     "output_type": "execute_result"
    }
   ],
   "source": [
    "t1 = transcript[transcript['offer id'].notnull()]\n",
    "t1.head()"
   ]
  },
  {
   "cell_type": "code",
   "execution_count": 31,
   "metadata": {},
   "outputs": [
    {
     "data": {
      "text/html": [
       "<div>\n",
       "<style scoped>\n",
       "    .dataframe tbody tr th:only-of-type {\n",
       "        vertical-align: middle;\n",
       "    }\n",
       "\n",
       "    .dataframe tbody tr th {\n",
       "        vertical-align: top;\n",
       "    }\n",
       "\n",
       "    .dataframe thead th {\n",
       "        text-align: right;\n",
       "    }\n",
       "</style>\n",
       "<table border=\"1\" class=\"dataframe\">\n",
       "  <thead>\n",
       "    <tr style=\"text-align: right;\">\n",
       "      <th></th>\n",
       "      <th>event</th>\n",
       "      <th>person</th>\n",
       "      <th>time</th>\n",
       "      <th>amount</th>\n",
       "      <th>reward</th>\n",
       "      <th>offer id</th>\n",
       "      <th>offer_id</th>\n",
       "    </tr>\n",
       "  </thead>\n",
       "  <tbody>\n",
       "    <tr>\n",
       "      <th>12658</th>\n",
       "      <td>offer completed</td>\n",
       "      <td>9fa9ae8f57894cc9a3b8a9bbe0fc1b2f</td>\n",
       "      <td>0</td>\n",
       "      <td>NaN</td>\n",
       "      <td>2.0</td>\n",
       "      <td>None</td>\n",
       "      <td>2906b810c7d4411798c6938adc9daaa5</td>\n",
       "    </tr>\n",
       "    <tr>\n",
       "      <th>12672</th>\n",
       "      <td>offer completed</td>\n",
       "      <td>fe97aa22dd3e48c8b143116a8403dd52</td>\n",
       "      <td>0</td>\n",
       "      <td>NaN</td>\n",
       "      <td>2.0</td>\n",
       "      <td>None</td>\n",
       "      <td>fafdcd668e3743c1bb461111dcafc2a4</td>\n",
       "    </tr>\n",
       "    <tr>\n",
       "      <th>12679</th>\n",
       "      <td>offer completed</td>\n",
       "      <td>629fc02d56414d91bca360decdfa9288</td>\n",
       "      <td>0</td>\n",
       "      <td>NaN</td>\n",
       "      <td>5.0</td>\n",
       "      <td>None</td>\n",
       "      <td>9b98b8c7a33c4b65b9aebfe6a799e6d9</td>\n",
       "    </tr>\n",
       "    <tr>\n",
       "      <th>12692</th>\n",
       "      <td>offer completed</td>\n",
       "      <td>676506bad68e4161b9bbaffeb039626b</td>\n",
       "      <td>0</td>\n",
       "      <td>NaN</td>\n",
       "      <td>10.0</td>\n",
       "      <td>None</td>\n",
       "      <td>ae264e3637204a6fb9bb56bc8210ddfd</td>\n",
       "    </tr>\n",
       "    <tr>\n",
       "      <th>12697</th>\n",
       "      <td>offer completed</td>\n",
       "      <td>8f7dd3b2afe14c078eb4f6e6fe4ba97d</td>\n",
       "      <td>0</td>\n",
       "      <td>NaN</td>\n",
       "      <td>10.0</td>\n",
       "      <td>None</td>\n",
       "      <td>4d5c57ea9a6940dd891ad53e9dbe8da0</td>\n",
       "    </tr>\n",
       "  </tbody>\n",
       "</table>\n",
       "</div>"
      ],
      "text/plain": [
       "                 event                            person  time  amount  \\\n",
       "12658  offer completed  9fa9ae8f57894cc9a3b8a9bbe0fc1b2f     0     NaN   \n",
       "12672  offer completed  fe97aa22dd3e48c8b143116a8403dd52     0     NaN   \n",
       "12679  offer completed  629fc02d56414d91bca360decdfa9288     0     NaN   \n",
       "12692  offer completed  676506bad68e4161b9bbaffeb039626b     0     NaN   \n",
       "12697  offer completed  8f7dd3b2afe14c078eb4f6e6fe4ba97d     0     NaN   \n",
       "\n",
       "       reward offer id                          offer_id  \n",
       "12658     2.0     None  2906b810c7d4411798c6938adc9daaa5  \n",
       "12672     2.0     None  fafdcd668e3743c1bb461111dcafc2a4  \n",
       "12679     5.0     None  9b98b8c7a33c4b65b9aebfe6a799e6d9  \n",
       "12692    10.0     None  ae264e3637204a6fb9bb56bc8210ddfd  \n",
       "12697    10.0     None  4d5c57ea9a6940dd891ad53e9dbe8da0  "
      ]
     },
     "execution_count": 31,
     "metadata": {},
     "output_type": "execute_result"
    }
   ],
   "source": [
    "t2 = transcript[transcript['offer_id'].notnull()]\n",
    "t2.head()"
   ]
  },
  {
   "cell_type": "markdown",
   "metadata": {},
   "source": [
    "### We can see that the transcript data has two different values that should be 1 column, 'offer id' and 'offer_id' so we need to make a new column that has all offer_ids"
   ]
  },
  {
   "cell_type": "code",
   "execution_count": 32,
   "metadata": {},
   "outputs": [],
   "source": [
    "transcript = transcript.rename(columns={'offer id':'o1_id', 'offer_id':'o2_id'})"
   ]
  },
  {
   "cell_type": "code",
   "execution_count": 33,
   "metadata": {},
   "outputs": [
    {
     "data": {
      "text/html": [
       "<div>\n",
       "<style scoped>\n",
       "    .dataframe tbody tr th:only-of-type {\n",
       "        vertical-align: middle;\n",
       "    }\n",
       "\n",
       "    .dataframe tbody tr th {\n",
       "        vertical-align: top;\n",
       "    }\n",
       "\n",
       "    .dataframe thead th {\n",
       "        text-align: right;\n",
       "    }\n",
       "</style>\n",
       "<table border=\"1\" class=\"dataframe\">\n",
       "  <thead>\n",
       "    <tr style=\"text-align: right;\">\n",
       "      <th></th>\n",
       "      <th>event</th>\n",
       "      <th>person</th>\n",
       "      <th>time</th>\n",
       "      <th>amount</th>\n",
       "      <th>reward</th>\n",
       "      <th>o1_id</th>\n",
       "      <th>o2_id</th>\n",
       "    </tr>\n",
       "  </thead>\n",
       "  <tbody>\n",
       "    <tr>\n",
       "      <th>0</th>\n",
       "      <td>offer received</td>\n",
       "      <td>78afa995795e4d85b5d9ceeca43f5fef</td>\n",
       "      <td>0</td>\n",
       "      <td>NaN</td>\n",
       "      <td>NaN</td>\n",
       "      <td>9b98b8c7a33c4b65b9aebfe6a799e6d9</td>\n",
       "      <td>None</td>\n",
       "    </tr>\n",
       "    <tr>\n",
       "      <th>1</th>\n",
       "      <td>offer received</td>\n",
       "      <td>a03223e636434f42ac4c3df47e8bac43</td>\n",
       "      <td>0</td>\n",
       "      <td>NaN</td>\n",
       "      <td>NaN</td>\n",
       "      <td>0b1e1539f2cc45b7b9fa7c272da2e1d7</td>\n",
       "      <td>None</td>\n",
       "    </tr>\n",
       "    <tr>\n",
       "      <th>2</th>\n",
       "      <td>offer received</td>\n",
       "      <td>e2127556f4f64592b11af22de27a7932</td>\n",
       "      <td>0</td>\n",
       "      <td>NaN</td>\n",
       "      <td>NaN</td>\n",
       "      <td>2906b810c7d4411798c6938adc9daaa5</td>\n",
       "      <td>None</td>\n",
       "    </tr>\n",
       "    <tr>\n",
       "      <th>3</th>\n",
       "      <td>offer received</td>\n",
       "      <td>8ec6ce2a7e7949b1bf142def7d0e0586</td>\n",
       "      <td>0</td>\n",
       "      <td>NaN</td>\n",
       "      <td>NaN</td>\n",
       "      <td>fafdcd668e3743c1bb461111dcafc2a4</td>\n",
       "      <td>None</td>\n",
       "    </tr>\n",
       "    <tr>\n",
       "      <th>4</th>\n",
       "      <td>offer received</td>\n",
       "      <td>68617ca6246f4fbc85e91a2a49552598</td>\n",
       "      <td>0</td>\n",
       "      <td>NaN</td>\n",
       "      <td>NaN</td>\n",
       "      <td>4d5c57ea9a6940dd891ad53e9dbe8da0</td>\n",
       "      <td>None</td>\n",
       "    </tr>\n",
       "  </tbody>\n",
       "</table>\n",
       "</div>"
      ],
      "text/plain": [
       "            event                            person  time  amount  reward  \\\n",
       "0  offer received  78afa995795e4d85b5d9ceeca43f5fef     0     NaN     NaN   \n",
       "1  offer received  a03223e636434f42ac4c3df47e8bac43     0     NaN     NaN   \n",
       "2  offer received  e2127556f4f64592b11af22de27a7932     0     NaN     NaN   \n",
       "3  offer received  8ec6ce2a7e7949b1bf142def7d0e0586     0     NaN     NaN   \n",
       "4  offer received  68617ca6246f4fbc85e91a2a49552598     0     NaN     NaN   \n",
       "\n",
       "                              o1_id o2_id  \n",
       "0  9b98b8c7a33c4b65b9aebfe6a799e6d9  None  \n",
       "1  0b1e1539f2cc45b7b9fa7c272da2e1d7  None  \n",
       "2  2906b810c7d4411798c6938adc9daaa5  None  \n",
       "3  fafdcd668e3743c1bb461111dcafc2a4  None  \n",
       "4  4d5c57ea9a6940dd891ad53e9dbe8da0  None  "
      ]
     },
     "execution_count": 33,
     "metadata": {},
     "output_type": "execute_result"
    }
   ],
   "source": [
    "transcript.head()"
   ]
  },
  {
   "cell_type": "code",
   "execution_count": 34,
   "metadata": {},
   "outputs": [],
   "source": [
    "def get_offer_id(row):\n",
    "    if row['o1_id']:\n",
    "        return row['o1_id']\n",
    "    elif row['o2_id']:\n",
    "        return row['o2_id']\n",
    "    else:\n",
    "        return None"
   ]
  },
  {
   "cell_type": "code",
   "execution_count": 35,
   "metadata": {},
   "outputs": [],
   "source": [
    "transcript['offer_id'] = transcript.apply(get_offer_id, axis=1)"
   ]
  },
  {
   "cell_type": "code",
   "execution_count": 36,
   "metadata": {},
   "outputs": [
    {
     "data": {
      "text/html": [
       "<div>\n",
       "<style scoped>\n",
       "    .dataframe tbody tr th:only-of-type {\n",
       "        vertical-align: middle;\n",
       "    }\n",
       "\n",
       "    .dataframe tbody tr th {\n",
       "        vertical-align: top;\n",
       "    }\n",
       "\n",
       "    .dataframe thead th {\n",
       "        text-align: right;\n",
       "    }\n",
       "</style>\n",
       "<table border=\"1\" class=\"dataframe\">\n",
       "  <thead>\n",
       "    <tr style=\"text-align: right;\">\n",
       "      <th></th>\n",
       "      <th>event</th>\n",
       "      <th>person</th>\n",
       "      <th>time</th>\n",
       "      <th>amount</th>\n",
       "      <th>reward</th>\n",
       "      <th>o1_id</th>\n",
       "      <th>o2_id</th>\n",
       "      <th>offer_id</th>\n",
       "    </tr>\n",
       "  </thead>\n",
       "  <tbody>\n",
       "    <tr>\n",
       "      <th>0</th>\n",
       "      <td>offer received</td>\n",
       "      <td>78afa995795e4d85b5d9ceeca43f5fef</td>\n",
       "      <td>0</td>\n",
       "      <td>NaN</td>\n",
       "      <td>NaN</td>\n",
       "      <td>9b98b8c7a33c4b65b9aebfe6a799e6d9</td>\n",
       "      <td>None</td>\n",
       "      <td>9b98b8c7a33c4b65b9aebfe6a799e6d9</td>\n",
       "    </tr>\n",
       "    <tr>\n",
       "      <th>1</th>\n",
       "      <td>offer received</td>\n",
       "      <td>a03223e636434f42ac4c3df47e8bac43</td>\n",
       "      <td>0</td>\n",
       "      <td>NaN</td>\n",
       "      <td>NaN</td>\n",
       "      <td>0b1e1539f2cc45b7b9fa7c272da2e1d7</td>\n",
       "      <td>None</td>\n",
       "      <td>0b1e1539f2cc45b7b9fa7c272da2e1d7</td>\n",
       "    </tr>\n",
       "  </tbody>\n",
       "</table>\n",
       "</div>"
      ],
      "text/plain": [
       "            event                            person  time  amount  reward  \\\n",
       "0  offer received  78afa995795e4d85b5d9ceeca43f5fef     0     NaN     NaN   \n",
       "1  offer received  a03223e636434f42ac4c3df47e8bac43     0     NaN     NaN   \n",
       "\n",
       "                              o1_id o2_id                          offer_id  \n",
       "0  9b98b8c7a33c4b65b9aebfe6a799e6d9  None  9b98b8c7a33c4b65b9aebfe6a799e6d9  \n",
       "1  0b1e1539f2cc45b7b9fa7c272da2e1d7  None  0b1e1539f2cc45b7b9fa7c272da2e1d7  "
      ]
     },
     "execution_count": 36,
     "metadata": {},
     "output_type": "execute_result"
    }
   ],
   "source": [
    "transcript.head(2)"
   ]
  },
  {
   "cell_type": "code",
   "execution_count": 37,
   "metadata": {},
   "outputs": [],
   "source": [
    "transcript.drop(['o1_id', 'o2_id'], axis=1, inplace=True)"
   ]
  },
  {
   "cell_type": "code",
   "execution_count": 38,
   "metadata": {},
   "outputs": [
    {
     "name": "stdout",
     "output_type": "stream",
     "text": [
      "            event                            person  time  amount  reward                          offer_id\n",
      "0  offer received  78afa995795e4d85b5d9ceeca43f5fef     0     NaN     NaN  9b98b8c7a33c4b65b9aebfe6a799e6d9\n",
      "offer received: 76277\n",
      "              event                            person  time  amount  reward                          offer_id\n",
      "12650  offer viewed  389bc3fa690240e798340f5a15918d5c     0     NaN     NaN  f19421c1d4aa40978ebb69ca19b0e20d\n",
      "offer viewed: 57725\n",
      "             event                            person  time  amount  reward offer_id\n",
      "12654  transaction  02c083884c7d45b39cc68e1314fec56c     0    0.83     NaN     None\n",
      "transaction: 138953\n",
      "                 event                            person  time  amount  reward                          offer_id\n",
      "12658  offer completed  9fa9ae8f57894cc9a3b8a9bbe0fc1b2f     0     NaN     2.0  2906b810c7d4411798c6938adc9daaa5\n",
      "offer completed: 33579\n"
     ]
    }
   ],
   "source": [
    "events = set(transcript['event'])\n",
    "total_count = 0\n",
    "for event in events:\n",
    "    count = transcript[transcript['event']==event].shape[0]\n",
    "    print(transcript[transcript['event']==event].head(1).to_string())\n",
    "    total_count += count\n",
    "    print(f'{event}: {count}')"
   ]
  },
  {
   "cell_type": "markdown",
   "metadata": {},
   "source": [
    "## Now we have merged 'offer_id' and 'offer id' into a single column and we can begin to explore the data"
   ]
  },
  {
   "cell_type": "markdown",
   "metadata": {},
   "source": [
    "### Lets look at a simple description of each dataframe"
   ]
  },
  {
   "cell_type": "code",
   "execution_count": 39,
   "metadata": {},
   "outputs": [
    {
     "data": {
      "text/html": [
       "<div>\n",
       "<style scoped>\n",
       "    .dataframe tbody tr th:only-of-type {\n",
       "        vertical-align: middle;\n",
       "    }\n",
       "\n",
       "    .dataframe tbody tr th {\n",
       "        vertical-align: top;\n",
       "    }\n",
       "\n",
       "    .dataframe thead th {\n",
       "        text-align: right;\n",
       "    }\n",
       "</style>\n",
       "<table border=\"1\" class=\"dataframe\">\n",
       "  <thead>\n",
       "    <tr style=\"text-align: right;\">\n",
       "      <th></th>\n",
       "      <th>difficulty</th>\n",
       "      <th>duration</th>\n",
       "      <th>reward</th>\n",
       "      <th>mobile</th>\n",
       "      <th>social</th>\n",
       "      <th>email</th>\n",
       "      <th>web</th>\n",
       "      <th>duration_in_hours</th>\n",
       "    </tr>\n",
       "  </thead>\n",
       "  <tbody>\n",
       "    <tr>\n",
       "      <th>count</th>\n",
       "      <td>10.000000</td>\n",
       "      <td>10.000000</td>\n",
       "      <td>10.000000</td>\n",
       "      <td>10.000000</td>\n",
       "      <td>10.000000</td>\n",
       "      <td>10.0</td>\n",
       "      <td>10.000000</td>\n",
       "      <td>10.000000</td>\n",
       "    </tr>\n",
       "    <tr>\n",
       "      <th>mean</th>\n",
       "      <td>7.700000</td>\n",
       "      <td>6.500000</td>\n",
       "      <td>4.200000</td>\n",
       "      <td>0.900000</td>\n",
       "      <td>0.600000</td>\n",
       "      <td>1.0</td>\n",
       "      <td>0.800000</td>\n",
       "      <td>156.000000</td>\n",
       "    </tr>\n",
       "    <tr>\n",
       "      <th>std</th>\n",
       "      <td>5.831905</td>\n",
       "      <td>2.321398</td>\n",
       "      <td>3.583915</td>\n",
       "      <td>0.316228</td>\n",
       "      <td>0.516398</td>\n",
       "      <td>0.0</td>\n",
       "      <td>0.421637</td>\n",
       "      <td>55.713553</td>\n",
       "    </tr>\n",
       "    <tr>\n",
       "      <th>min</th>\n",
       "      <td>0.000000</td>\n",
       "      <td>3.000000</td>\n",
       "      <td>0.000000</td>\n",
       "      <td>0.000000</td>\n",
       "      <td>0.000000</td>\n",
       "      <td>1.0</td>\n",
       "      <td>0.000000</td>\n",
       "      <td>72.000000</td>\n",
       "    </tr>\n",
       "    <tr>\n",
       "      <th>25%</th>\n",
       "      <td>5.000000</td>\n",
       "      <td>5.000000</td>\n",
       "      <td>2.000000</td>\n",
       "      <td>1.000000</td>\n",
       "      <td>0.000000</td>\n",
       "      <td>1.0</td>\n",
       "      <td>1.000000</td>\n",
       "      <td>120.000000</td>\n",
       "    </tr>\n",
       "    <tr>\n",
       "      <th>50%</th>\n",
       "      <td>8.500000</td>\n",
       "      <td>7.000000</td>\n",
       "      <td>4.000000</td>\n",
       "      <td>1.000000</td>\n",
       "      <td>1.000000</td>\n",
       "      <td>1.0</td>\n",
       "      <td>1.000000</td>\n",
       "      <td>168.000000</td>\n",
       "    </tr>\n",
       "    <tr>\n",
       "      <th>75%</th>\n",
       "      <td>10.000000</td>\n",
       "      <td>7.000000</td>\n",
       "      <td>5.000000</td>\n",
       "      <td>1.000000</td>\n",
       "      <td>1.000000</td>\n",
       "      <td>1.0</td>\n",
       "      <td>1.000000</td>\n",
       "      <td>168.000000</td>\n",
       "    </tr>\n",
       "    <tr>\n",
       "      <th>max</th>\n",
       "      <td>20.000000</td>\n",
       "      <td>10.000000</td>\n",
       "      <td>10.000000</td>\n",
       "      <td>1.000000</td>\n",
       "      <td>1.000000</td>\n",
       "      <td>1.0</td>\n",
       "      <td>1.000000</td>\n",
       "      <td>240.000000</td>\n",
       "    </tr>\n",
       "  </tbody>\n",
       "</table>\n",
       "</div>"
      ],
      "text/plain": [
       "       difficulty   duration     reward     mobile     social  email  \\\n",
       "count   10.000000  10.000000  10.000000  10.000000  10.000000   10.0   \n",
       "mean     7.700000   6.500000   4.200000   0.900000   0.600000    1.0   \n",
       "std      5.831905   2.321398   3.583915   0.316228   0.516398    0.0   \n",
       "min      0.000000   3.000000   0.000000   0.000000   0.000000    1.0   \n",
       "25%      5.000000   5.000000   2.000000   1.000000   0.000000    1.0   \n",
       "50%      8.500000   7.000000   4.000000   1.000000   1.000000    1.0   \n",
       "75%     10.000000   7.000000   5.000000   1.000000   1.000000    1.0   \n",
       "max     20.000000  10.000000  10.000000   1.000000   1.000000    1.0   \n",
       "\n",
       "             web  duration_in_hours  \n",
       "count  10.000000          10.000000  \n",
       "mean    0.800000         156.000000  \n",
       "std     0.421637          55.713553  \n",
       "min     0.000000          72.000000  \n",
       "25%     1.000000         120.000000  \n",
       "50%     1.000000         168.000000  \n",
       "75%     1.000000         168.000000  \n",
       "max     1.000000         240.000000  "
      ]
     },
     "execution_count": 39,
     "metadata": {},
     "output_type": "execute_result"
    }
   ],
   "source": [
    "portfolio.describe()"
   ]
  },
  {
   "cell_type": "code",
   "execution_count": 40,
   "metadata": {},
   "outputs": [
    {
     "data": {
      "text/html": [
       "<div>\n",
       "<style scoped>\n",
       "    .dataframe tbody tr th:only-of-type {\n",
       "        vertical-align: middle;\n",
       "    }\n",
       "\n",
       "    .dataframe tbody tr th {\n",
       "        vertical-align: top;\n",
       "    }\n",
       "\n",
       "    .dataframe thead th {\n",
       "        text-align: right;\n",
       "    }\n",
       "</style>\n",
       "<table border=\"1\" class=\"dataframe\">\n",
       "  <thead>\n",
       "    <tr style=\"text-align: right;\">\n",
       "      <th></th>\n",
       "      <th>age</th>\n",
       "      <th>income</th>\n",
       "    </tr>\n",
       "  </thead>\n",
       "  <tbody>\n",
       "    <tr>\n",
       "      <th>count</th>\n",
       "      <td>17000.000000</td>\n",
       "      <td>14825.000000</td>\n",
       "    </tr>\n",
       "    <tr>\n",
       "      <th>mean</th>\n",
       "      <td>62.531412</td>\n",
       "      <td>65404.991568</td>\n",
       "    </tr>\n",
       "    <tr>\n",
       "      <th>std</th>\n",
       "      <td>26.738580</td>\n",
       "      <td>21598.299410</td>\n",
       "    </tr>\n",
       "    <tr>\n",
       "      <th>min</th>\n",
       "      <td>18.000000</td>\n",
       "      <td>30000.000000</td>\n",
       "    </tr>\n",
       "    <tr>\n",
       "      <th>25%</th>\n",
       "      <td>45.000000</td>\n",
       "      <td>49000.000000</td>\n",
       "    </tr>\n",
       "    <tr>\n",
       "      <th>50%</th>\n",
       "      <td>58.000000</td>\n",
       "      <td>64000.000000</td>\n",
       "    </tr>\n",
       "    <tr>\n",
       "      <th>75%</th>\n",
       "      <td>73.000000</td>\n",
       "      <td>80000.000000</td>\n",
       "    </tr>\n",
       "    <tr>\n",
       "      <th>max</th>\n",
       "      <td>118.000000</td>\n",
       "      <td>120000.000000</td>\n",
       "    </tr>\n",
       "  </tbody>\n",
       "</table>\n",
       "</div>"
      ],
      "text/plain": [
       "                age         income\n",
       "count  17000.000000   14825.000000\n",
       "mean      62.531412   65404.991568\n",
       "std       26.738580   21598.299410\n",
       "min       18.000000   30000.000000\n",
       "25%       45.000000   49000.000000\n",
       "50%       58.000000   64000.000000\n",
       "75%       73.000000   80000.000000\n",
       "max      118.000000  120000.000000"
      ]
     },
     "execution_count": 40,
     "metadata": {},
     "output_type": "execute_result"
    }
   ],
   "source": [
    "profile.describe()"
   ]
  },
  {
   "cell_type": "code",
   "execution_count": 41,
   "metadata": {},
   "outputs": [
    {
     "data": {
      "text/html": [
       "<div>\n",
       "<style scoped>\n",
       "    .dataframe tbody tr th:only-of-type {\n",
       "        vertical-align: middle;\n",
       "    }\n",
       "\n",
       "    .dataframe tbody tr th {\n",
       "        vertical-align: top;\n",
       "    }\n",
       "\n",
       "    .dataframe thead th {\n",
       "        text-align: right;\n",
       "    }\n",
       "</style>\n",
       "<table border=\"1\" class=\"dataframe\">\n",
       "  <thead>\n",
       "    <tr style=\"text-align: right;\">\n",
       "      <th></th>\n",
       "      <th>time</th>\n",
       "      <th>amount</th>\n",
       "      <th>reward</th>\n",
       "    </tr>\n",
       "  </thead>\n",
       "  <tbody>\n",
       "    <tr>\n",
       "      <th>count</th>\n",
       "      <td>306534.000000</td>\n",
       "      <td>138953.000000</td>\n",
       "      <td>33579.000000</td>\n",
       "    </tr>\n",
       "    <tr>\n",
       "      <th>mean</th>\n",
       "      <td>366.382940</td>\n",
       "      <td>12.777356</td>\n",
       "      <td>4.904137</td>\n",
       "    </tr>\n",
       "    <tr>\n",
       "      <th>std</th>\n",
       "      <td>200.326314</td>\n",
       "      <td>30.250529</td>\n",
       "      <td>2.886647</td>\n",
       "    </tr>\n",
       "    <tr>\n",
       "      <th>min</th>\n",
       "      <td>0.000000</td>\n",
       "      <td>0.050000</td>\n",
       "      <td>2.000000</td>\n",
       "    </tr>\n",
       "    <tr>\n",
       "      <th>25%</th>\n",
       "      <td>186.000000</td>\n",
       "      <td>2.780000</td>\n",
       "      <td>2.000000</td>\n",
       "    </tr>\n",
       "    <tr>\n",
       "      <th>50%</th>\n",
       "      <td>408.000000</td>\n",
       "      <td>8.890000</td>\n",
       "      <td>5.000000</td>\n",
       "    </tr>\n",
       "    <tr>\n",
       "      <th>75%</th>\n",
       "      <td>528.000000</td>\n",
       "      <td>18.070000</td>\n",
       "      <td>5.000000</td>\n",
       "    </tr>\n",
       "    <tr>\n",
       "      <th>max</th>\n",
       "      <td>714.000000</td>\n",
       "      <td>1062.280000</td>\n",
       "      <td>10.000000</td>\n",
       "    </tr>\n",
       "  </tbody>\n",
       "</table>\n",
       "</div>"
      ],
      "text/plain": [
       "                time         amount        reward\n",
       "count  306534.000000  138953.000000  33579.000000\n",
       "mean      366.382940      12.777356      4.904137\n",
       "std       200.326314      30.250529      2.886647\n",
       "min         0.000000       0.050000      2.000000\n",
       "25%       186.000000       2.780000      2.000000\n",
       "50%       408.000000       8.890000      5.000000\n",
       "75%       528.000000      18.070000      5.000000\n",
       "max       714.000000    1062.280000     10.000000"
      ]
     },
     "execution_count": 41,
     "metadata": {},
     "output_type": "execute_result"
    }
   ],
   "source": [
    "transcript.describe()"
   ]
  },
  {
   "cell_type": "markdown",
   "metadata": {},
   "source": [
    "### Lets check some distribtions within our profile data"
   ]
  },
  {
   "cell_type": "code",
   "execution_count": 42,
   "metadata": {},
   "outputs": [],
   "source": [
    "def gender_income_vs_age(g):\n",
    "    '''Function to plot average income vs age\n",
    "    Args:\n",
    "        g (str): gender ()\n",
    "    Returns:\n",
    "    '''\n",
    "    # fit and fill male income\n",
    "    gender = profile[profile['gender']==g]\n",
    "    \n",
    "    #age_income = gender[gender['age']!=118].groupby('age')['income'].mean().reindex()\n",
    "    # offer_received_counts = offers_received.groupby('offer_id')['offer_id'].agg([('received_count','count')]).reset_index()\n",
    "    age_income = gender.groupby('age')['income'].agg([('average_income', 'mean'), ('STDDEV', 'std')]).reset_index()\n",
    "    \n",
    "    age = age_income['age'].values\n",
    "    average_income =  age_income['average_income'].values\n",
    "    std = age_income['STDDEV'].values\n",
    "    \n",
    "    #plt.plot(age, average_income, 'o')\n",
    "    \n",
    "    g_dict = {'M':'Male', 'F':'Female', 'O':'Other Gender'}\n",
    "    \n",
    "    plt.errorbar(age, average_income, yerr=std, color='k', lw=3,  ecolor='b')\n",
    "    plt.xlabel('Age')\n",
    "    title = f'Average {g_dict[g]} Income'\n",
    "    plt.ylabel('Average Income')\n",
    "    plt.title(title)"
   ]
  },
  {
   "cell_type": "code",
   "execution_count": 43,
   "metadata": {},
   "outputs": [
    {
     "data": {
      "image/png": "[encoded data removed]",
      "text/plain": [
       "<matplotlib.figure.Figure at 0x7f1fe2cf6b38>"
      ]
     },
     "metadata": {
      "needs_background": "light"
     },
     "output_type": "display_data"
    }
   ],
   "source": [
    "gender_income_vs_age('M')"
   ]
  },
  {
   "cell_type": "code",
   "execution_count": 44,
   "metadata": {},
   "outputs": [
    {
     "data": {
      "image/png": "[encoded data removed]",
      "text/plain": [
       "<matplotlib.figure.Figure at 0x7f1fe2c56780>"
      ]
     },
     "metadata": {
      "needs_background": "light"
     },
     "output_type": "display_data"
    }
   ],
   "source": [
    "gender_income_vs_age('F')"
   ]
  },
  {
   "cell_type": "code",
   "execution_count": 45,
   "metadata": {},
   "outputs": [
    {
     "data": {
      "image/png": "[encoded data removed]",
      "text/plain": [
       "<matplotlib.figure.Figure at 0x7f2010531630>"
      ]
     },
     "metadata": {
      "needs_background": "light"
     },
     "output_type": "display_data"
    }
   ],
   "source": [
    "gender_income_vs_age('O')"
   ]
  },
  {
   "cell_type": "code",
   "execution_count": 46,
   "metadata": {},
   "outputs": [
    {
     "data": {
      "text/plain": [
       "<matplotlib.axes._subplots.AxesSubplot at 0x7f1fe2cc6c50>"
      ]
     },
     "execution_count": 46,
     "metadata": {},
     "output_type": "execute_result"
    },
    {
     "data": {
      "image/png": "[encoded data removed]",
      "text/plain": [
       "<matplotlib.figure.Figure at 0x7f1fe2c3e0b8>"
      ]
     },
     "metadata": {
      "needs_background": "light"
     },
     "output_type": "display_data"
    }
   ],
   "source": [
    "profile['age'].plot.hist(bins=83, alpha=0.5)\n"
   ]
  },
  {
   "cell_type": "markdown",
   "metadata": {},
   "source": [
    "### We can see that after removing the users with age 118, the max user age is 101 and the average user age is 54.  We can also see an approximate normal distribution which is slightly skewed to have more users in the low age range than in the high age range."
   ]
  },
  {
   "cell_type": "code",
   "execution_count": 47,
   "metadata": {},
   "outputs": [
    {
     "data": {
      "text/plain": [
       "{'F', 'M', None, 'O'}"
      ]
     },
     "execution_count": 47,
     "metadata": {},
     "output_type": "execute_result"
    }
   ],
   "source": [
    "set(profile['gender'])"
   ]
  },
  {
   "cell_type": "code",
   "execution_count": 48,
   "metadata": {},
   "outputs": [],
   "source": [
    "profile['gender'].fillna('N', inplace=True)"
   ]
  },
  {
   "cell_type": "code",
   "execution_count": 49,
   "metadata": {},
   "outputs": [
    {
     "data": {
      "text/plain": [
       "(2175, 5)"
      ]
     },
     "execution_count": 49,
     "metadata": {},
     "output_type": "execute_result"
    }
   ],
   "source": [
    "profile[profile['gender']=='N'].shape"
   ]
  },
  {
   "cell_type": "markdown",
   "metadata": {},
   "source": [
    "### We have 4 different types of genders: female, male, other, not given"
   ]
  },
  {
   "cell_type": "code",
   "execution_count": 50,
   "metadata": {},
   "outputs": [
    {
     "data": {
      "text/plain": [
       "<matplotlib.axes._subplots.AxesSubplot at 0x7f1fe2cc2710>"
      ]
     },
     "execution_count": 50,
     "metadata": {},
     "output_type": "execute_result"
    },
    {
     "data": {
      "image/png": "[encoded data removed]",
      "text/plain": [
       "<matplotlib.figure.Figure at 0x7f1fe2bace48>"
      ]
     },
     "metadata": {
      "needs_background": "light"
     },
     "output_type": "display_data"
    }
   ],
   "source": [
    "# Lets examine the gender distribution of the users\n",
    "# first we will ned to convert gender to a numeric form.  we will use the following keys\n",
    "# {'M':1, 'F':2, 'O':3, 'N':4}\n",
    "def get_gender_id(row):\n",
    "    if row['gender'] == 'M':\n",
    "        return 1\n",
    "    elif row['gender'] == 'F':\n",
    "        return 2\n",
    "    elif row['gender'] == 'O':\n",
    "        return 3\n",
    "    elif row['gender'] == 'N':\n",
    "        return 4\n",
    "    \n",
    "profile['gender_id'] = profile.apply(get_gender_id, axis=1)\n",
    "    \n",
    "profile['gender_id'].plot.hist(bins=[0.5, 1.5, 2.5,3.5, 4.5])"
   ]
  },
  {
   "cell_type": "code",
   "execution_count": 51,
   "metadata": {},
   "outputs": [
    {
     "data": {
      "text/plain": [
       "(17000, 6)"
      ]
     },
     "execution_count": 51,
     "metadata": {},
     "output_type": "execute_result"
    }
   ],
   "source": [
    "profile.shape"
   ]
  },
  {
   "cell_type": "code",
   "execution_count": 52,
   "metadata": {},
   "outputs": [
    {
     "data": {
      "text/plain": [
       "gender\n",
       "F    6129\n",
       "M    8484\n",
       "N    2175\n",
       "O     212\n",
       "Name: gender, dtype: int64"
      ]
     },
     "execution_count": 52,
     "metadata": {},
     "output_type": "execute_result"
    }
   ],
   "source": [
    "profile.groupby('gender')['gender'].count()"
   ]
  },
  {
   "cell_type": "code",
   "execution_count": 53,
   "metadata": {},
   "outputs": [],
   "source": [
    "profile.drop('gender_id', axis=1, inplace=True)"
   ]
  },
  {
   "cell_type": "markdown",
   "metadata": {},
   "source": [
    "### We can see here tht there are more male users than female users.  We can also see that there are 212 users that do not identify as male or female."
   ]
  },
  {
   "cell_type": "code",
   "execution_count": 54,
   "metadata": {},
   "outputs": [
    {
     "data": {
      "text/plain": [
       "Index(['age', 'became_member_on', 'gender', 'id', 'income'], dtype='object')"
      ]
     },
     "execution_count": 54,
     "metadata": {},
     "output_type": "execute_result"
    }
   ],
   "source": [
    "profile.columns"
   ]
  },
  {
   "cell_type": "code",
   "execution_count": 55,
   "metadata": {},
   "outputs": [
    {
     "data": {
      "text/plain": [
       "1970"
      ]
     },
     "execution_count": 55,
     "metadata": {},
     "output_type": "execute_result"
    }
   ],
   "source": [
    "profile['became_member_on'].dt.year.min()"
   ]
  },
  {
   "cell_type": "code",
   "execution_count": 56,
   "metadata": {},
   "outputs": [
    {
     "name": "stdout",
     "output_type": "stream",
     "text": [
      "Min year 1970\n",
      "Max year 1970\n"
     ]
    }
   ],
   "source": [
    "print(f\"Min year {profile['became_member_on'].dt.year.min()}\")\n",
    "print(f\"Max year {profile['became_member_on'].dt.year.min()}\")"
   ]
  },
  {
   "cell_type": "code",
   "execution_count": 57,
   "metadata": {},
   "outputs": [
    {
     "data": {
      "text/plain": [
       "age                                               64\n",
       "became_member_on       1970-01-01 00:00:00.020130729\n",
       "gender                                             M\n",
       "id                  77388a70eaf14433b4efc5d01fa947bf\n",
       "income                                         69000\n",
       "Name: 8948, dtype: object"
      ]
     },
     "execution_count": 57,
     "metadata": {},
     "output_type": "execute_result"
    }
   ],
   "source": [
    "profile.sort_values(by='became_member_on', ascending=True).iloc[0]"
   ]
  },
  {
   "cell_type": "markdown",
   "metadata": {},
   "source": [
    "### We can see that all members joined in 1970.  Lets convert date time to days since first member joined (1970-01-01) for easy numerical handling.\n"
   ]
  },
  {
   "cell_type": "markdown",
   "metadata": {},
   "source": [
    "### We can see that the user base has experienced an exponential growth since the first users joined in 1970"
   ]
  },
  {
   "cell_type": "markdown",
   "metadata": {},
   "source": [
    "### Lets examine the age distribution of the users by gender"
   ]
  },
  {
   "cell_type": "code",
   "execution_count": 58,
   "metadata": {},
   "outputs": [
    {
     "data": {
      "text/plain": [
       "Text(0.5,1,'Male Age Distribution')"
      ]
     },
     "execution_count": 58,
     "metadata": {},
     "output_type": "execute_result"
    },
    {
     "data": {
      "image/png": "[encoded data removed]",
      "text/plain": [
       "<matplotlib.figure.Figure at 0x7f1fe2b6c5f8>"
      ]
     },
     "metadata": {
      "needs_background": "light"
     },
     "output_type": "display_data"
    }
   ],
   "source": [
    "ax = profile[profile['gender']=='M']['age'].plot.hist(bins=83)\n",
    "ax.set_xlabel('Age')\n",
    "ax.set_title('Male Age Distribution')"
   ]
  },
  {
   "cell_type": "code",
   "execution_count": 59,
   "metadata": {},
   "outputs": [
    {
     "data": {
      "text/plain": [
       "Text(0.5,1,'Female Age Distribution')"
      ]
     },
     "execution_count": 59,
     "metadata": {},
     "output_type": "execute_result"
    },
    {
     "data": {
      "image/png": "[encoded data removed]",
      "text/plain": [
       "<matplotlib.figure.Figure at 0x7f1fe2b23128>"
      ]
     },
     "metadata": {
      "needs_background": "light"
     },
     "output_type": "display_data"
    }
   ],
   "source": [
    "ax = profile[profile['gender']=='F']['age'].plot.hist(bins=83)\n",
    "ax.set_xlabel('Age')\n",
    "ax.set_title('Female Age Distribution')"
   ]
  },
  {
   "cell_type": "code",
   "execution_count": 60,
   "metadata": {},
   "outputs": [
    {
     "data": {
      "text/plain": [
       "Text(0.5,1,'Other Gender Age Distribution')"
      ]
     },
     "execution_count": 60,
     "metadata": {},
     "output_type": "execute_result"
    },
    {
     "data": {
      "image/png": "[encoded data removed]",
      "text/plain": [
       "<matplotlib.figure.Figure at 0x7f1fe2a4ff98>"
      ]
     },
     "metadata": {
      "needs_background": "light"
     },
     "output_type": "display_data"
    }
   ],
   "source": [
    "ax =profile[profile['gender']=='O']['age'].plot.hist(bins=83)\n",
    "ax.set_xlabel('Age')\n",
    "ax.set_title('Other Gender Age Distribution')"
   ]
  },
  {
   "cell_type": "markdown",
   "metadata": {},
   "source": [
    "### We can see that a higher pecentage of the male users fall in the 20-40 year range than the female users.  We can also see that there are only 212 'other' gender users and therfore, we do not have a large enough sample size for this subgroup to get a filled normal distribution in age.  There are 2175 users that have not entered any of their profile information.  This is a large portion of the total user base and we will not want to disclude them when analyzing transactions, but we will need to be clever in dealing with this users when making machine learning features. "
   ]
  },
  {
   "cell_type": "markdown",
   "metadata": {},
   "source": [
    "# lets make 'became_member_on' a numerical value of days since the first member joined"
   ]
  },
  {
   "cell_type": "code",
   "execution_count": 61,
   "metadata": {},
   "outputs": [
    {
     "name": "stdout",
     "output_type": "stream",
     "text": [
      "Min year 1970\n",
      "Max year 1970\n"
     ]
    }
   ],
   "source": [
    "print(f\"Min year {profile['became_member_on'].dt.year.min()}\")\n",
    "print(f\"Max year {profile['became_member_on'].dt.year.max()}\")"
   ]
  },
  {
   "cell_type": "code",
   "execution_count": 62,
   "metadata": {},
   "outputs": [
    {
     "name": "stdout",
     "output_type": "stream",
     "text": [
      "Min month 1\n",
      "Max month 1\n"
     ]
    }
   ],
   "source": [
    "print(f\"Min month {profile['became_member_on'].dt.month.min()}\")\n",
    "print(f\"Max month {profile['became_member_on'].dt.month.max()}\")"
   ]
  },
  {
   "cell_type": "code",
   "execution_count": 63,
   "metadata": {},
   "outputs": [
    {
     "name": "stdout",
     "output_type": "stream",
     "text": [
      "Min day 1\n",
      "Max day 1\n"
     ]
    }
   ],
   "source": [
    "print(f\"Min day {profile['became_member_on'].dt.day.min()}\")\n",
    "print(f\"Max day {profile['became_member_on'].dt.day.max()}\")"
   ]
  },
  {
   "cell_type": "markdown",
   "metadata": {},
   "source": [
    "### We can see that all of the mebers joined at the same time, so this will not be a valuable feature in examining user spending behaviort and we can remove it from further analysis"
   ]
  },
  {
   "cell_type": "code",
   "execution_count": 64,
   "metadata": {},
   "outputs": [],
   "source": [
    "profile.drop('became_member_on', axis=1, inplace=True)"
   ]
  },
  {
   "cell_type": "markdown",
   "metadata": {},
   "source": [
    "# Rename columns to have more meaning"
   ]
  },
  {
   "cell_type": "code",
   "execution_count": 65,
   "metadata": {},
   "outputs": [
    {
     "data": {
      "text/plain": [
       "Index(['difficulty', 'duration', 'id', 'offer_type', 'reward', 'mobile',\n",
       "       'social', 'email', 'web', 'duration_in_hours'],\n",
       "      dtype='object')"
      ]
     },
     "execution_count": 65,
     "metadata": {},
     "output_type": "execute_result"
    }
   ],
   "source": [
    "portfolio.columns"
   ]
  },
  {
   "cell_type": "code",
   "execution_count": 66,
   "metadata": {},
   "outputs": [],
   "source": [
    "portfolio = portfolio.rename(columns={'id':'offer_id', 'reward':'offer_reward'})"
   ]
  },
  {
   "cell_type": "code",
   "execution_count": 67,
   "metadata": {},
   "outputs": [
    {
     "data": {
      "text/plain": [
       "Index(['difficulty', 'duration', 'offer_id', 'offer_type', 'offer_reward',\n",
       "       'mobile', 'social', 'email', 'web', 'duration_in_hours'],\n",
       "      dtype='object')"
      ]
     },
     "execution_count": 67,
     "metadata": {},
     "output_type": "execute_result"
    }
   ],
   "source": [
    "portfolio.columns"
   ]
  },
  {
   "cell_type": "code",
   "execution_count": 68,
   "metadata": {},
   "outputs": [
    {
     "data": {
      "text/html": [
       "<div>\n",
       "<style scoped>\n",
       "    .dataframe tbody tr th:only-of-type {\n",
       "        vertical-align: middle;\n",
       "    }\n",
       "\n",
       "    .dataframe tbody tr th {\n",
       "        vertical-align: top;\n",
       "    }\n",
       "\n",
       "    .dataframe thead th {\n",
       "        text-align: right;\n",
       "    }\n",
       "</style>\n",
       "<table border=\"1\" class=\"dataframe\">\n",
       "  <thead>\n",
       "    <tr style=\"text-align: right;\">\n",
       "      <th></th>\n",
       "      <th>difficulty</th>\n",
       "      <th>duration</th>\n",
       "      <th>offer_id</th>\n",
       "      <th>offer_type</th>\n",
       "      <th>offer_reward</th>\n",
       "      <th>mobile</th>\n",
       "      <th>social</th>\n",
       "      <th>email</th>\n",
       "      <th>web</th>\n",
       "      <th>duration_in_hours</th>\n",
       "    </tr>\n",
       "  </thead>\n",
       "  <tbody>\n",
       "    <tr>\n",
       "      <th>0</th>\n",
       "      <td>10</td>\n",
       "      <td>7</td>\n",
       "      <td>ae264e3637204a6fb9bb56bc8210ddfd</td>\n",
       "      <td>bogo</td>\n",
       "      <td>10</td>\n",
       "      <td>1</td>\n",
       "      <td>1</td>\n",
       "      <td>1</td>\n",
       "      <td>0</td>\n",
       "      <td>168</td>\n",
       "    </tr>\n",
       "    <tr>\n",
       "      <th>1</th>\n",
       "      <td>10</td>\n",
       "      <td>5</td>\n",
       "      <td>4d5c57ea9a6940dd891ad53e9dbe8da0</td>\n",
       "      <td>bogo</td>\n",
       "      <td>10</td>\n",
       "      <td>1</td>\n",
       "      <td>1</td>\n",
       "      <td>1</td>\n",
       "      <td>1</td>\n",
       "      <td>120</td>\n",
       "    </tr>\n",
       "    <tr>\n",
       "      <th>2</th>\n",
       "      <td>0</td>\n",
       "      <td>4</td>\n",
       "      <td>3f207df678b143eea3cee63160fa8bed</td>\n",
       "      <td>informational</td>\n",
       "      <td>0</td>\n",
       "      <td>1</td>\n",
       "      <td>0</td>\n",
       "      <td>1</td>\n",
       "      <td>1</td>\n",
       "      <td>96</td>\n",
       "    </tr>\n",
       "    <tr>\n",
       "      <th>3</th>\n",
       "      <td>5</td>\n",
       "      <td>7</td>\n",
       "      <td>9b98b8c7a33c4b65b9aebfe6a799e6d9</td>\n",
       "      <td>bogo</td>\n",
       "      <td>5</td>\n",
       "      <td>1</td>\n",
       "      <td>0</td>\n",
       "      <td>1</td>\n",
       "      <td>1</td>\n",
       "      <td>168</td>\n",
       "    </tr>\n",
       "    <tr>\n",
       "      <th>4</th>\n",
       "      <td>20</td>\n",
       "      <td>10</td>\n",
       "      <td>0b1e1539f2cc45b7b9fa7c272da2e1d7</td>\n",
       "      <td>discount</td>\n",
       "      <td>5</td>\n",
       "      <td>0</td>\n",
       "      <td>0</td>\n",
       "      <td>1</td>\n",
       "      <td>1</td>\n",
       "      <td>240</td>\n",
       "    </tr>\n",
       "    <tr>\n",
       "      <th>5</th>\n",
       "      <td>7</td>\n",
       "      <td>7</td>\n",
       "      <td>2298d6c36e964ae4a3e7e9706d1fb8c2</td>\n",
       "      <td>discount</td>\n",
       "      <td>3</td>\n",
       "      <td>1</td>\n",
       "      <td>1</td>\n",
       "      <td>1</td>\n",
       "      <td>1</td>\n",
       "      <td>168</td>\n",
       "    </tr>\n",
       "    <tr>\n",
       "      <th>6</th>\n",
       "      <td>10</td>\n",
       "      <td>10</td>\n",
       "      <td>fafdcd668e3743c1bb461111dcafc2a4</td>\n",
       "      <td>discount</td>\n",
       "      <td>2</td>\n",
       "      <td>1</td>\n",
       "      <td>1</td>\n",
       "      <td>1</td>\n",
       "      <td>1</td>\n",
       "      <td>240</td>\n",
       "    </tr>\n",
       "    <tr>\n",
       "      <th>7</th>\n",
       "      <td>0</td>\n",
       "      <td>3</td>\n",
       "      <td>5a8bc65990b245e5a138643cd4eb9837</td>\n",
       "      <td>informational</td>\n",
       "      <td>0</td>\n",
       "      <td>1</td>\n",
       "      <td>1</td>\n",
       "      <td>1</td>\n",
       "      <td>0</td>\n",
       "      <td>72</td>\n",
       "    </tr>\n",
       "    <tr>\n",
       "      <th>8</th>\n",
       "      <td>5</td>\n",
       "      <td>5</td>\n",
       "      <td>f19421c1d4aa40978ebb69ca19b0e20d</td>\n",
       "      <td>bogo</td>\n",
       "      <td>5</td>\n",
       "      <td>1</td>\n",
       "      <td>1</td>\n",
       "      <td>1</td>\n",
       "      <td>1</td>\n",
       "      <td>120</td>\n",
       "    </tr>\n",
       "    <tr>\n",
       "      <th>9</th>\n",
       "      <td>10</td>\n",
       "      <td>7</td>\n",
       "      <td>2906b810c7d4411798c6938adc9daaa5</td>\n",
       "      <td>discount</td>\n",
       "      <td>2</td>\n",
       "      <td>1</td>\n",
       "      <td>0</td>\n",
       "      <td>1</td>\n",
       "      <td>1</td>\n",
       "      <td>168</td>\n",
       "    </tr>\n",
       "  </tbody>\n",
       "</table>\n",
       "</div>"
      ],
      "text/plain": [
       "   difficulty  duration                          offer_id     offer_type  \\\n",
       "0          10         7  ae264e3637204a6fb9bb56bc8210ddfd           bogo   \n",
       "1          10         5  4d5c57ea9a6940dd891ad53e9dbe8da0           bogo   \n",
       "2           0         4  3f207df678b143eea3cee63160fa8bed  informational   \n",
       "3           5         7  9b98b8c7a33c4b65b9aebfe6a799e6d9           bogo   \n",
       "4          20        10  0b1e1539f2cc45b7b9fa7c272da2e1d7       discount   \n",
       "5           7         7  2298d6c36e964ae4a3e7e9706d1fb8c2       discount   \n",
       "6          10        10  fafdcd668e3743c1bb461111dcafc2a4       discount   \n",
       "7           0         3  5a8bc65990b245e5a138643cd4eb9837  informational   \n",
       "8           5         5  f19421c1d4aa40978ebb69ca19b0e20d           bogo   \n",
       "9          10         7  2906b810c7d4411798c6938adc9daaa5       discount   \n",
       "\n",
       "   offer_reward  mobile  social  email  web  duration_in_hours  \n",
       "0            10       1       1      1    0                168  \n",
       "1            10       1       1      1    1                120  \n",
       "2             0       1       0      1    1                 96  \n",
       "3             5       1       0      1    1                168  \n",
       "4             5       0       0      1    1                240  \n",
       "5             3       1       1      1    1                168  \n",
       "6             2       1       1      1    1                240  \n",
       "7             0       1       1      1    0                 72  \n",
       "8             5       1       1      1    1                120  \n",
       "9             2       1       0      1    1                168  "
      ]
     },
     "execution_count": 68,
     "metadata": {},
     "output_type": "execute_result"
    }
   ],
   "source": [
    "portfolio.head(10)"
   ]
  },
  {
   "cell_type": "code",
   "execution_count": 69,
   "metadata": {},
   "outputs": [
    {
     "data": {
      "text/html": [
       "<div>\n",
       "<style scoped>\n",
       "    .dataframe tbody tr th:only-of-type {\n",
       "        vertical-align: middle;\n",
       "    }\n",
       "\n",
       "    .dataframe tbody tr th {\n",
       "        vertical-align: top;\n",
       "    }\n",
       "\n",
       "    .dataframe thead th {\n",
       "        text-align: right;\n",
       "    }\n",
       "</style>\n",
       "<table border=\"1\" class=\"dataframe\">\n",
       "  <thead>\n",
       "    <tr style=\"text-align: right;\">\n",
       "      <th></th>\n",
       "      <th>event</th>\n",
       "      <th>person</th>\n",
       "      <th>time</th>\n",
       "      <th>amount</th>\n",
       "      <th>reward</th>\n",
       "      <th>offer_id</th>\n",
       "    </tr>\n",
       "  </thead>\n",
       "  <tbody>\n",
       "    <tr>\n",
       "      <th>12</th>\n",
       "      <td>offer received</td>\n",
       "      <td>4b0da7e80e5945209a1fdddfe813dbe0</td>\n",
       "      <td>0</td>\n",
       "      <td>NaN</td>\n",
       "      <td>NaN</td>\n",
       "      <td>ae264e3637204a6fb9bb56bc8210ddfd</td>\n",
       "    </tr>\n",
       "  </tbody>\n",
       "</table>\n",
       "</div>"
      ],
      "text/plain": [
       "             event                            person  time  amount  reward  \\\n",
       "12  offer received  4b0da7e80e5945209a1fdddfe813dbe0     0     NaN     NaN   \n",
       "\n",
       "                            offer_id  \n",
       "12  ae264e3637204a6fb9bb56bc8210ddfd  "
      ]
     },
     "execution_count": 69,
     "metadata": {},
     "output_type": "execute_result"
    }
   ],
   "source": [
    "transcript[transcript['offer_id']=='ae264e3637204a6fb9bb56bc8210ddfd'].head(1)"
   ]
  },
  {
   "cell_type": "code",
   "execution_count": 70,
   "metadata": {},
   "outputs": [
    {
     "data": {
      "text/plain": [
       "Index(['age', 'gender', 'id', 'income'], dtype='object')"
      ]
     },
     "execution_count": 70,
     "metadata": {},
     "output_type": "execute_result"
    }
   ],
   "source": [
    "profile.columns"
   ]
  },
  {
   "cell_type": "code",
   "execution_count": 71,
   "metadata": {},
   "outputs": [],
   "source": [
    "profile = profile.rename(columns={'id':'user_id'})"
   ]
  },
  {
   "cell_type": "code",
   "execution_count": 72,
   "metadata": {},
   "outputs": [
    {
     "data": {
      "text/plain": [
       "Index(['age', 'gender', 'user_id', 'income'], dtype='object')"
      ]
     },
     "execution_count": 72,
     "metadata": {},
     "output_type": "execute_result"
    }
   ],
   "source": [
    "profile.columns"
   ]
  },
  {
   "cell_type": "code",
   "execution_count": 73,
   "metadata": {},
   "outputs": [
    {
     "data": {
      "text/plain": [
       "Index(['event', 'person', 'time', 'amount', 'reward', 'offer_id'], dtype='object')"
      ]
     },
     "execution_count": 73,
     "metadata": {},
     "output_type": "execute_result"
    }
   ],
   "source": [
    "transcript.columns"
   ]
  },
  {
   "cell_type": "code",
   "execution_count": 74,
   "metadata": {},
   "outputs": [
    {
     "data": {
      "text/plain": [
       "{'offer completed', 'offer received', 'offer viewed', 'transaction'}"
      ]
     },
     "execution_count": 74,
     "metadata": {},
     "output_type": "execute_result"
    }
   ],
   "source": [
    "set(transcript['event'])"
   ]
  },
  {
   "cell_type": "code",
   "execution_count": 75,
   "metadata": {},
   "outputs": [
    {
     "name": "stdout",
     "output_type": "stream",
     "text": [
      "offer received\n",
      "            event                            person  time  amount  reward                          offer_id\n",
      "0  offer received  78afa995795e4d85b5d9ceeca43f5fef     0     NaN     NaN  9b98b8c7a33c4b65b9aebfe6a799e6d9\n",
      "offer viewed\n",
      "              event                            person  time  amount  reward                          offer_id\n",
      "12650  offer viewed  389bc3fa690240e798340f5a15918d5c     0     NaN     NaN  f19421c1d4aa40978ebb69ca19b0e20d\n",
      "transaction\n",
      "             event                            person  time  amount  reward offer_id\n",
      "12654  transaction  02c083884c7d45b39cc68e1314fec56c     0    0.83     NaN     None\n",
      "offer completed\n",
      "                 event                            person  time  amount  reward                          offer_id\n",
      "12658  offer completed  9fa9ae8f57894cc9a3b8a9bbe0fc1b2f     0     NaN     2.0  2906b810c7d4411798c6938adc9daaa5\n"
     ]
    }
   ],
   "source": [
    "for event in list(set(transcript['event'])):\n",
    "    print(event)\n",
    "    print(transcript[transcript['event']==event].head(1).to_string())"
   ]
  },
  {
   "cell_type": "code",
   "execution_count": 76,
   "metadata": {},
   "outputs": [],
   "source": [
    "transcript = transcript.rename(columns={'person':'user_id', 'amount':'transaction_amount', 'reward':'rewarded'})"
   ]
  },
  {
   "cell_type": "code",
   "execution_count": 77,
   "metadata": {},
   "outputs": [
    {
     "data": {
      "text/plain": [
       "Index(['event', 'user_id', 'time', 'transaction_amount', 'rewarded',\n",
       "       'offer_id'],\n",
       "      dtype='object')"
      ]
     },
     "execution_count": 77,
     "metadata": {},
     "output_type": "execute_result"
    }
   ],
   "source": [
    "transcript.columns"
   ]
  },
  {
   "cell_type": "markdown",
   "metadata": {},
   "source": [
    "# Lets do some exploritory data analysis to examine the spending habits of the users"
   ]
  },
  {
   "cell_type": "code",
   "execution_count": 78,
   "metadata": {},
   "outputs": [],
   "source": [
    "def get_user_spending(transcript, portfolio):\n",
    "    '''Function that examines aggreagate spending habbits of users\n",
    "    Args:\n",
    "        transcript (df): df with events\n",
    "        portfolio (df): df with offer information\n",
    "    Returns:\n",
    "        user_spending (df): df with user spending habbits\n",
    "    '''\n",
    "\n",
    "    user_spending = pd.DataFrame()\n",
    "    # total spending by user\n",
    "    total_spending = transcript.groupby('user_id')['transaction_amount'].sum()\n",
    "    user_spending['user_id'] = total_spending.index.values\n",
    "    user_spending['total_spending'] = total_spending.values\n",
    "    user_spending.fillna(0, inplace=True)\n",
    "\n",
    "    # total transaction count\n",
    "    user_spending['transaction_count'] = transcript.groupby('user_id')['transaction_amount'].count().values\n",
    "    user_spending.fillna(0, inplace=True)\n",
    "\n",
    "    # average transaction amount\n",
    "    user_spending['average_transaction'] = user_spending['total_spending']/user_spending['transaction_count'] \n",
    "\n",
    "    # total offers received\n",
    "    offers = transcript[transcript['event']=='offer received'].groupby('user_id')['event'].count()\n",
    "    offers_received = pd.DataFrame({'user_id':offers.index.values, 'offers_received':offers.values})\n",
    "    user_spending = user_spending.merge(offers_received, how='left', on='user_id')\n",
    "    user_spending.fillna(0, inplace=True)\n",
    "\n",
    "    # total offers viewed\n",
    "    views = transcript[transcript['event']=='offer viewed'].groupby('user_id')['event'].count()\n",
    "    offers_viewed = pd.DataFrame({'user_id':views.index.values, 'offers_viewed':views.values})\n",
    "    user_spending = user_spending.merge(offers_viewed, how='left', on='user_id')\n",
    "    user_spending.fillna(0, inplace=True)\n",
    "\n",
    "    # view rate\n",
    "    user_spending['view_rate'] = user_spending['offers_viewed']/user_spending['offers_received']\n",
    "\n",
    "    # total offers completed\n",
    "    completions = transcript[transcript['event']=='offer completed'].groupby('user_id')['event'].count()\n",
    "    offers_completed = pd.DataFrame({'user_id':completions.index.values, 'offers_completed':completions.values})\n",
    "    user_spending = user_spending.merge(offers_completed, how='left', on='user_id')\n",
    "    user_spending.fillna(0, inplace=True)\n",
    "    \n",
    "    # completion_rate\n",
    "    user_spending['completion_rate'] = user_spending['offers_completed']/user_spending['offers_received']\n",
    "    \n",
    "    user_spending.fillna(0, inplace=True)\n",
    "    \n",
    "    return user_spending\n"
   ]
  },
  {
   "cell_type": "markdown",
   "metadata": {},
   "source": [
    "## Lets look at some user spending data"
   ]
  },
  {
   "cell_type": "code",
   "execution_count": 79,
   "metadata": {},
   "outputs": [],
   "source": [
    "# get offers received, viewed, and completed\n",
    "offers_received = transcript[transcript['event']=='offer received'].drop(['rewarded', 'transaction_amount'], axis=1)\n",
    "offers_received['received_time'] = offers_received['time']\n",
    "# add a received id for later use to make sure each received offer only has one end state \n",
    "#    [viewed, viewed_completed, completed_not_viewed, or ignored]\n",
    "offers_received['received_id'] = offers_received.reset_index().index.values\n",
    "\n",
    "\n",
    "offers_viewed = transcript[transcript['event']=='offer viewed'].drop(['rewarded', 'transaction_amount'], axis=1)\n",
    "offers_viewed['viewed_time'] = offers_viewed['time']\n",
    "offers_viewed['viewed_id'] = offers_viewed.reset_index().index.values\n",
    "\n",
    "offers_completed = transcript[transcript['event']=='offer completed'].drop(['rewarded', 'transaction_amount'], axis=1)\n",
    "offers_completed['completed_time'] = offers_completed['time']"
   ]
  },
  {
   "cell_type": "code",
   "execution_count": 80,
   "metadata": {},
   "outputs": [
    {
     "data": {
      "text/html": [
       "<div>\n",
       "<style scoped>\n",
       "    .dataframe tbody tr th:only-of-type {\n",
       "        vertical-align: middle;\n",
       "    }\n",
       "\n",
       "    .dataframe tbody tr th {\n",
       "        vertical-align: top;\n",
       "    }\n",
       "\n",
       "    .dataframe thead th {\n",
       "        text-align: right;\n",
       "    }\n",
       "</style>\n",
       "<table border=\"1\" class=\"dataframe\">\n",
       "  <thead>\n",
       "    <tr style=\"text-align: right;\">\n",
       "      <th></th>\n",
       "      <th>event</th>\n",
       "      <th>user_id</th>\n",
       "      <th>time</th>\n",
       "      <th>offer_id</th>\n",
       "      <th>received_time</th>\n",
       "      <th>received_id</th>\n",
       "    </tr>\n",
       "  </thead>\n",
       "  <tbody>\n",
       "    <tr>\n",
       "      <th>0</th>\n",
       "      <td>offer received</td>\n",
       "      <td>78afa995795e4d85b5d9ceeca43f5fef</td>\n",
       "      <td>0</td>\n",
       "      <td>9b98b8c7a33c4b65b9aebfe6a799e6d9</td>\n",
       "      <td>0</td>\n",
       "      <td>0</td>\n",
       "    </tr>\n",
       "    <tr>\n",
       "      <th>1</th>\n",
       "      <td>offer received</td>\n",
       "      <td>a03223e636434f42ac4c3df47e8bac43</td>\n",
       "      <td>0</td>\n",
       "      <td>0b1e1539f2cc45b7b9fa7c272da2e1d7</td>\n",
       "      <td>0</td>\n",
       "      <td>1</td>\n",
       "    </tr>\n",
       "    <tr>\n",
       "      <th>2</th>\n",
       "      <td>offer received</td>\n",
       "      <td>e2127556f4f64592b11af22de27a7932</td>\n",
       "      <td>0</td>\n",
       "      <td>2906b810c7d4411798c6938adc9daaa5</td>\n",
       "      <td>0</td>\n",
       "      <td>2</td>\n",
       "    </tr>\n",
       "    <tr>\n",
       "      <th>3</th>\n",
       "      <td>offer received</td>\n",
       "      <td>8ec6ce2a7e7949b1bf142def7d0e0586</td>\n",
       "      <td>0</td>\n",
       "      <td>fafdcd668e3743c1bb461111dcafc2a4</td>\n",
       "      <td>0</td>\n",
       "      <td>3</td>\n",
       "    </tr>\n",
       "    <tr>\n",
       "      <th>4</th>\n",
       "      <td>offer received</td>\n",
       "      <td>68617ca6246f4fbc85e91a2a49552598</td>\n",
       "      <td>0</td>\n",
       "      <td>4d5c57ea9a6940dd891ad53e9dbe8da0</td>\n",
       "      <td>0</td>\n",
       "      <td>4</td>\n",
       "    </tr>\n",
       "  </tbody>\n",
       "</table>\n",
       "</div>"
      ],
      "text/plain": [
       "            event                           user_id  time  \\\n",
       "0  offer received  78afa995795e4d85b5d9ceeca43f5fef     0   \n",
       "1  offer received  a03223e636434f42ac4c3df47e8bac43     0   \n",
       "2  offer received  e2127556f4f64592b11af22de27a7932     0   \n",
       "3  offer received  8ec6ce2a7e7949b1bf142def7d0e0586     0   \n",
       "4  offer received  68617ca6246f4fbc85e91a2a49552598     0   \n",
       "\n",
       "                           offer_id  received_time  received_id  \n",
       "0  9b98b8c7a33c4b65b9aebfe6a799e6d9              0            0  \n",
       "1  0b1e1539f2cc45b7b9fa7c272da2e1d7              0            1  \n",
       "2  2906b810c7d4411798c6938adc9daaa5              0            2  \n",
       "3  fafdcd668e3743c1bb461111dcafc2a4              0            3  \n",
       "4  4d5c57ea9a6940dd891ad53e9dbe8da0              0            4  "
      ]
     },
     "execution_count": 80,
     "metadata": {},
     "output_type": "execute_result"
    }
   ],
   "source": [
    "offers_received.head()"
   ]
  },
  {
   "cell_type": "code",
   "execution_count": 81,
   "metadata": {},
   "outputs": [
    {
     "data": {
      "text/plain": [
       "(76277, 6)"
      ]
     },
     "execution_count": 81,
     "metadata": {},
     "output_type": "execute_result"
    }
   ],
   "source": [
    "offers_received.shape"
   ]
  },
  {
   "cell_type": "code",
   "execution_count": 82,
   "metadata": {},
   "outputs": [
    {
     "data": {
      "text/plain": [
       "0"
      ]
     },
     "execution_count": 82,
     "metadata": {},
     "output_type": "execute_result"
    }
   ],
   "source": [
    "offers_received.duplicated().sum()"
   ]
  },
  {
   "cell_type": "code",
   "execution_count": 83,
   "metadata": {},
   "outputs": [
    {
     "data": {
      "text/plain": [
       "(57725, 6)"
      ]
     },
     "execution_count": 83,
     "metadata": {},
     "output_type": "execute_result"
    }
   ],
   "source": [
    "offers_viewed.shape"
   ]
  },
  {
   "cell_type": "code",
   "execution_count": 84,
   "metadata": {},
   "outputs": [
    {
     "data": {
      "text/plain": [
       "0"
      ]
     },
     "execution_count": 84,
     "metadata": {},
     "output_type": "execute_result"
    }
   ],
   "source": [
    "offers_viewed.duplicated().sum()"
   ]
  },
  {
   "cell_type": "code",
   "execution_count": 85,
   "metadata": {},
   "outputs": [
    {
     "data": {
      "text/plain": [
       "(33579, 5)"
      ]
     },
     "execution_count": 85,
     "metadata": {},
     "output_type": "execute_result"
    }
   ],
   "source": [
    "offers_completed.shape"
   ]
  },
  {
   "cell_type": "code",
   "execution_count": 86,
   "metadata": {},
   "outputs": [
    {
     "data": {
      "text/plain": [
       "397"
      ]
     },
     "execution_count": 86,
     "metadata": {},
     "output_type": "execute_result"
    }
   ],
   "source": [
    "offers_completed[['user_id', 'offer_id', 'completed_time']].duplicated().sum()"
   ]
  },
  {
   "cell_type": "code",
   "execution_count": 87,
   "metadata": {},
   "outputs": [],
   "source": [
    "offers_completed['completed_id'] = offers_completed.reset_index().index.values"
   ]
  },
  {
   "cell_type": "markdown",
   "metadata": {},
   "source": [
    "# We have duplicates of completed offers, these will need to be handled carefully when merging dataframes"
   ]
  },
  {
   "cell_type": "code",
   "execution_count": 88,
   "metadata": {},
   "outputs": [],
   "source": [
    "offers_completed = offers_completed[['user_id', 'offer_id', 'completed_time']].drop_duplicates()"
   ]
  },
  {
   "cell_type": "code",
   "execution_count": 89,
   "metadata": {},
   "outputs": [],
   "source": [
    "offers_completed['completed_id'] = offers_completed.reset_index().index.values"
   ]
  },
  {
   "cell_type": "code",
   "execution_count": 90,
   "metadata": {},
   "outputs": [
    {
     "data": {
      "text/plain": [
       "(33182, 4)"
      ]
     },
     "execution_count": 90,
     "metadata": {},
     "output_type": "execute_result"
    }
   ],
   "source": [
    "offers_completed.shape"
   ]
  },
  {
   "cell_type": "code",
   "execution_count": 91,
   "metadata": {},
   "outputs": [
    {
     "data": {
      "text/plain": [
       "(57725, 6)"
      ]
     },
     "execution_count": 91,
     "metadata": {},
     "output_type": "execute_result"
    }
   ],
   "source": [
    "offers_viewed.shape"
   ]
  },
  {
   "cell_type": "code",
   "execution_count": 92,
   "metadata": {},
   "outputs": [
    {
     "data": {
      "text/plain": [
       "(17000, 4)"
      ]
     },
     "execution_count": 92,
     "metadata": {},
     "output_type": "execute_result"
    }
   ],
   "source": [
    "profile.shape"
   ]
  },
  {
   "cell_type": "code",
   "execution_count": 93,
   "metadata": {},
   "outputs": [
    {
     "data": {
      "text/plain": [
       "0"
      ]
     },
     "execution_count": 93,
     "metadata": {},
     "output_type": "execute_result"
    }
   ],
   "source": [
    "profile.duplicated().sum()"
   ]
  },
  {
   "cell_type": "code",
   "execution_count": 94,
   "metadata": {},
   "outputs": [
    {
     "data": {
      "text/html": [
       "<div>\n",
       "<style scoped>\n",
       "    .dataframe tbody tr th:only-of-type {\n",
       "        vertical-align: middle;\n",
       "    }\n",
       "\n",
       "    .dataframe tbody tr th {\n",
       "        vertical-align: top;\n",
       "    }\n",
       "\n",
       "    .dataframe thead th {\n",
       "        text-align: right;\n",
       "    }\n",
       "</style>\n",
       "<table border=\"1\" class=\"dataframe\">\n",
       "  <thead>\n",
       "    <tr style=\"text-align: right;\">\n",
       "      <th></th>\n",
       "      <th>difficulty</th>\n",
       "      <th>duration</th>\n",
       "      <th>offer_id</th>\n",
       "      <th>offer_type</th>\n",
       "      <th>offer_reward</th>\n",
       "      <th>mobile</th>\n",
       "      <th>social</th>\n",
       "      <th>email</th>\n",
       "      <th>web</th>\n",
       "      <th>duration_in_hours</th>\n",
       "    </tr>\n",
       "  </thead>\n",
       "  <tbody>\n",
       "    <tr>\n",
       "      <th>0</th>\n",
       "      <td>10</td>\n",
       "      <td>7</td>\n",
       "      <td>ae264e3637204a6fb9bb56bc8210ddfd</td>\n",
       "      <td>bogo</td>\n",
       "      <td>10</td>\n",
       "      <td>1</td>\n",
       "      <td>1</td>\n",
       "      <td>1</td>\n",
       "      <td>0</td>\n",
       "      <td>168</td>\n",
       "    </tr>\n",
       "    <tr>\n",
       "      <th>1</th>\n",
       "      <td>10</td>\n",
       "      <td>5</td>\n",
       "      <td>4d5c57ea9a6940dd891ad53e9dbe8da0</td>\n",
       "      <td>bogo</td>\n",
       "      <td>10</td>\n",
       "      <td>1</td>\n",
       "      <td>1</td>\n",
       "      <td>1</td>\n",
       "      <td>1</td>\n",
       "      <td>120</td>\n",
       "    </tr>\n",
       "    <tr>\n",
       "      <th>2</th>\n",
       "      <td>0</td>\n",
       "      <td>4</td>\n",
       "      <td>3f207df678b143eea3cee63160fa8bed</td>\n",
       "      <td>informational</td>\n",
       "      <td>0</td>\n",
       "      <td>1</td>\n",
       "      <td>0</td>\n",
       "      <td>1</td>\n",
       "      <td>1</td>\n",
       "      <td>96</td>\n",
       "    </tr>\n",
       "    <tr>\n",
       "      <th>3</th>\n",
       "      <td>5</td>\n",
       "      <td>7</td>\n",
       "      <td>9b98b8c7a33c4b65b9aebfe6a799e6d9</td>\n",
       "      <td>bogo</td>\n",
       "      <td>5</td>\n",
       "      <td>1</td>\n",
       "      <td>0</td>\n",
       "      <td>1</td>\n",
       "      <td>1</td>\n",
       "      <td>168</td>\n",
       "    </tr>\n",
       "    <tr>\n",
       "      <th>4</th>\n",
       "      <td>20</td>\n",
       "      <td>10</td>\n",
       "      <td>0b1e1539f2cc45b7b9fa7c272da2e1d7</td>\n",
       "      <td>discount</td>\n",
       "      <td>5</td>\n",
       "      <td>0</td>\n",
       "      <td>0</td>\n",
       "      <td>1</td>\n",
       "      <td>1</td>\n",
       "      <td>240</td>\n",
       "    </tr>\n",
       "    <tr>\n",
       "      <th>5</th>\n",
       "      <td>7</td>\n",
       "      <td>7</td>\n",
       "      <td>2298d6c36e964ae4a3e7e9706d1fb8c2</td>\n",
       "      <td>discount</td>\n",
       "      <td>3</td>\n",
       "      <td>1</td>\n",
       "      <td>1</td>\n",
       "      <td>1</td>\n",
       "      <td>1</td>\n",
       "      <td>168</td>\n",
       "    </tr>\n",
       "    <tr>\n",
       "      <th>6</th>\n",
       "      <td>10</td>\n",
       "      <td>10</td>\n",
       "      <td>fafdcd668e3743c1bb461111dcafc2a4</td>\n",
       "      <td>discount</td>\n",
       "      <td>2</td>\n",
       "      <td>1</td>\n",
       "      <td>1</td>\n",
       "      <td>1</td>\n",
       "      <td>1</td>\n",
       "      <td>240</td>\n",
       "    </tr>\n",
       "    <tr>\n",
       "      <th>7</th>\n",
       "      <td>0</td>\n",
       "      <td>3</td>\n",
       "      <td>5a8bc65990b245e5a138643cd4eb9837</td>\n",
       "      <td>informational</td>\n",
       "      <td>0</td>\n",
       "      <td>1</td>\n",
       "      <td>1</td>\n",
       "      <td>1</td>\n",
       "      <td>0</td>\n",
       "      <td>72</td>\n",
       "    </tr>\n",
       "    <tr>\n",
       "      <th>8</th>\n",
       "      <td>5</td>\n",
       "      <td>5</td>\n",
       "      <td>f19421c1d4aa40978ebb69ca19b0e20d</td>\n",
       "      <td>bogo</td>\n",
       "      <td>5</td>\n",
       "      <td>1</td>\n",
       "      <td>1</td>\n",
       "      <td>1</td>\n",
       "      <td>1</td>\n",
       "      <td>120</td>\n",
       "    </tr>\n",
       "    <tr>\n",
       "      <th>9</th>\n",
       "      <td>10</td>\n",
       "      <td>7</td>\n",
       "      <td>2906b810c7d4411798c6938adc9daaa5</td>\n",
       "      <td>discount</td>\n",
       "      <td>2</td>\n",
       "      <td>1</td>\n",
       "      <td>0</td>\n",
       "      <td>1</td>\n",
       "      <td>1</td>\n",
       "      <td>168</td>\n",
       "    </tr>\n",
       "  </tbody>\n",
       "</table>\n",
       "</div>"
      ],
      "text/plain": [
       "   difficulty  duration                          offer_id     offer_type  \\\n",
       "0          10         7  ae264e3637204a6fb9bb56bc8210ddfd           bogo   \n",
       "1          10         5  4d5c57ea9a6940dd891ad53e9dbe8da0           bogo   \n",
       "2           0         4  3f207df678b143eea3cee63160fa8bed  informational   \n",
       "3           5         7  9b98b8c7a33c4b65b9aebfe6a799e6d9           bogo   \n",
       "4          20        10  0b1e1539f2cc45b7b9fa7c272da2e1d7       discount   \n",
       "5           7         7  2298d6c36e964ae4a3e7e9706d1fb8c2       discount   \n",
       "6          10        10  fafdcd668e3743c1bb461111dcafc2a4       discount   \n",
       "7           0         3  5a8bc65990b245e5a138643cd4eb9837  informational   \n",
       "8           5         5  f19421c1d4aa40978ebb69ca19b0e20d           bogo   \n",
       "9          10         7  2906b810c7d4411798c6938adc9daaa5       discount   \n",
       "\n",
       "   offer_reward  mobile  social  email  web  duration_in_hours  \n",
       "0            10       1       1      1    0                168  \n",
       "1            10       1       1      1    1                120  \n",
       "2             0       1       0      1    1                 96  \n",
       "3             5       1       0      1    1                168  \n",
       "4             5       0       0      1    1                240  \n",
       "5             3       1       1      1    1                168  \n",
       "6             2       1       1      1    1                240  \n",
       "7             0       1       1      1    0                 72  \n",
       "8             5       1       1      1    1                120  \n",
       "9             2       1       0      1    1                168  "
      ]
     },
     "execution_count": 94,
     "metadata": {},
     "output_type": "execute_result"
    }
   ],
   "source": [
    "# convert 'duration' to hours so that we can have the same time units for all event handling\n",
    "portfolio['duration_in_hours'] = portfolio['duration']*24\n",
    "portfolio"
   ]
  },
  {
   "cell_type": "code",
   "execution_count": 95,
   "metadata": {},
   "outputs": [
    {
     "data": {
      "text/plain": [
       "0"
      ]
     },
     "execution_count": 95,
     "metadata": {},
     "output_type": "execute_result"
    }
   ],
   "source": [
    "# offers_received.columns\n",
    "offers_received['received_id'].duplicated().sum()"
   ]
  },
  {
   "cell_type": "code",
   "execution_count": 96,
   "metadata": {},
   "outputs": [],
   "source": [
    "completable_offers = portfolio[portfolio['offer_type']!='informational']['offer_id'].tolist()"
   ]
  },
  {
   "cell_type": "code",
   "execution_count": 97,
   "metadata": {},
   "outputs": [
    {
     "name": "stdout",
     "output_type": "stream",
     "text": [
      "rvdf is good to go\n"
     ]
    }
   ],
   "source": [
    "def get_rv_df(offers_received, offers_viewed, portfolio):\n",
    "    '''Function to return dataframe with all offers that have been viewed, including informational\n",
    "    Args:\n",
    "        offers_received (df): df with offers recieved, columns \n",
    "            ['event', 'user_id', 'received_time', 'offer_id']\n",
    "        offers_viewed (df): df with offers recieved, columns \n",
    "            ['event', 'user_id', 'viewed_time', 'offer_id']\n",
    "    Returns:\n",
    "        rv_df (df): df with the intersection of offers viewed and received columns\n",
    "            ['user_id', 'viewed_time', 'offer_id', 'received_time', 'time_to_view',\n",
    "           'difficulty', 'duration', 'offer_type', 'offer_reward', 'social',\n",
    "           'email', 'web', 'mobile']\n",
    "    '''\n",
    "    # if users have received the same offer multiple times, we will need to match up views to received offers\n",
    "    # make sure timing is correctly aligned, so that each offer is only viewed once if a user receives and view \n",
    "    # the same offer multiple times within the offer duration\n",
    "    rv_df = pd.merge_asof(offers_viewed, offers_received,on='time', direction='backward',by=['user_id', 'offer_id'])\n",
    "    rv_df['time_to_view'] = rv_df['viewed_time']-rv_df['received_time']\n",
    "    \n",
    "    # make sure all viewed offers have been included\n",
    "    assert(offers_viewed.shape[0]==rv_df.shape[0])\n",
    "    # make sure no time missalignment where viewed time is before received time\n",
    "    assert(rv_df[rv_df['time_to_view']<0].shape[0] == 0)\n",
    "    # make sure there are no dupolicates, ie. multiple viewed_times merged to the same recieved time\n",
    "    assert(rv_df[['user_id', 'offer_id', 'received_time']].duplicated().sum()==0)\n",
    "    # make sure there are no duplicates of viewed_id and received_id, each offer can only be received and viewed once\n",
    "    assert(rv_df.merge(offers_viewed, how='inner', on='viewed_id').shape[0]==rv_df.shape[0])\n",
    "    assert(rv_df['viewed_id'].duplicated().sum()== 0)\n",
    "    assert(rv_df['received_id'].duplicated().sum() == 0)\n",
    "    \n",
    "    return rv_df\n",
    "\n",
    "rv_df = get_rv_df(offers_received, offers_viewed, portfolio)\n",
    "\n",
    "print('rvdf is good to go')"
   ]
  },
  {
   "cell_type": "code",
   "execution_count": 115,
   "metadata": {},
   "outputs": [
    {
     "data": {
      "text/html": [
       "<div>\n",
       "<style scoped>\n",
       "    .dataframe tbody tr th:only-of-type {\n",
       "        vertical-align: middle;\n",
       "    }\n",
       "\n",
       "    .dataframe tbody tr th {\n",
       "        vertical-align: top;\n",
       "    }\n",
       "\n",
       "    .dataframe thead th {\n",
       "        text-align: right;\n",
       "    }\n",
       "</style>\n",
       "<table border=\"1\" class=\"dataframe\">\n",
       "  <thead>\n",
       "    <tr style=\"text-align: right;\">\n",
       "      <th></th>\n",
       "      <th>a</th>\n",
       "      <th>b</th>\n",
       "    </tr>\n",
       "  </thead>\n",
       "  <tbody>\n",
       "  </tbody>\n",
       "</table>\n",
       "</div>"
      ],
      "text/plain": [
       "Empty DataFrame\n",
       "Columns: [a, b]\n",
       "Index: []"
      ]
     },
     "execution_count": 115,
     "metadata": {},
     "output_type": "execute_result"
    }
   ],
   "source": [
    "df1 = pd.DataFrame({'a':['a','b','c','d','e'], 'b':[1,2,3,4,5]})\n",
    "df2 = pd.DataFrame({'a':['a','b','c'], 'b':['1','2','3']})\n",
    "df1.dtypes\n",
    "df2.dtypes\n",
    "\n",
    "df2[df2['b'].isin(df1['b'].tolist())]"
   ]
  },
  {
   "cell_type": "code",
   "execution_count": 98,
   "metadata": {},
   "outputs": [],
   "source": [
    "def get_vc_df(rv_df, offers_completed, portfolio):\n",
    "    '''Function to returna dataframe with all offers that were viewed and received\n",
    "    Args:\n",
    "        rv_df (df): df with offers received and viewed\n",
    "            ['user_id', 'viewed_time', 'offer_id', 'received_time', 'time_to_view',\n",
    "           'difficulty', 'duration', 'offer_type', 'offer_reward', 'social',\n",
    "           'email', 'web', 'mobile']\n",
    "        offer_completed (df): df with offers completed\n",
    "            ['event', 'user_id', 'completed_time', 'offer_id']\n",
    "    Returns:\n",
    "        vc_df (df): df with the intersection of offerst viewed and received columns\n",
    "            ['user_id', 'viewed_time', 'offer_id', 'received_time', 'time_to_view',\n",
    "           'difficulty', 'duration', 'offer_type', 'offer_reward', 'social',\n",
    "           'email', 'web', 'mobile', 'completed_time', 'time_to_complete',\n",
    "           'time_view_to_complete']\n",
    "    '''    \n",
    "    # sortpotential_offers_completed descending in completed_time, try to match a completed offer to received offer\n",
    "    # with the the largest possible time gap to ensure all completed offers will end up having a match in offers received\n",
    "    potential_offers_completed = offers_completed.sort_values(by='completed_time', ascending=False).reindex()\n",
    "    print('potential_offers_completed', potential_offers_completed.shape )\n",
    "    \n",
    "    matchable_offers = rv_df[rv_df['offer_id'].isin(completable_offers)].merge(portfolio[['offer_id', 'duration_in_hours']])\n",
    "    \n",
    "    vc_df = pd.DataFrame(columns=['user_id', 'offer_id', 'received_time', 'received_id', \n",
    "                                  'viewed_time', 'viewed_id', 'completed_time', 'completed_id'])\n",
    "\n",
    "    for _, row in potential_offers_completed.iterrows():\n",
    "        user = row['user_id']\n",
    "        offer = row['offer_id']\n",
    "        #print([user, offer])\n",
    "\n",
    "        potential_matches = matchable_offers[(matchable_offers['user_id']==user)\n",
    "                               & (matchable_offers['offer_id']==offer)\n",
    "                               & (matchable_offers['viewed_time']<=row['completed_time'])]\n",
    "\n",
    "        ilocs = potential_matches.shape[0]\n",
    "        # check for first instance where completion time would satisfy duration in hours\n",
    "        for i in range(ilocs):\n",
    "            potential_row_dict = potential_matches.iloc[i].to_dict()\n",
    "            # make sure offer was received before completed and completed within duration_in_hours\n",
    "            if ((row['completed_time'] - potential_row_dict['received_time'] <= potential_row_dict['duration_in_hours'])\n",
    "                &(row['completed_time'] - potential_row_dict['received_time'] >= 0)):\n",
    "                vc_df_row = potential_row_dict\n",
    "                vc_df_row['completed_time'] = row['completed_time']\n",
    "                vc_df_row['completed_id'] = row['completed_id']\n",
    "                vc_df = vc_df.append(vc_df_row, ignore_index=True)\n",
    "                #remove row from matchable_offers\n",
    "                received_id = potential_row_dict['received_id']\n",
    "                matchable_offers = matchable_offers.drop(\n",
    "                    matchable_offers[matchable_offers['received_id']==received_id].index.values)\n",
    "\n",
    "                # exit to outer for loop\n",
    "                break\n",
    "\n",
    "    # make sure there are no duplicated transaction ids\n",
    "    assert(vc_df['completed_id'].duplicated().sum()==0)\n",
    "    assert(vc_df['viewed_id'].duplicated().sum()==0)\n",
    "    assert(vc_df['received_id'].duplicated().sum()==0)\n",
    "                \n",
    "    return vc_df\n",
    "       "
   ]
  },
  {
   "cell_type": "code",
   "execution_count": 99,
   "metadata": {},
   "outputs": [
    {
     "name": "stdout",
     "output_type": "stream",
     "text": [
      "potential_offers_completed (33182, 4)\n",
      "Woohoo new_vc_df ready. Function took 1167.5088670253754 to exicute\n"
     ]
    }
   ],
   "source": [
    "start_time = time()\n",
    "vc_df = get_vc_df(rv_df, offers_completed, portfolio) \n",
    "end_time = time()\n",
    "print(f'Woohoo new_vc_df ready. Function took {end_time-start_time} to exicute')\n",
    "#vc_df.to_csv('new_vc_df.csv')\n",
    "# # # # function took 1132 seconds  to exicute"
   ]
  },
  {
   "cell_type": "code",
   "execution_count": 100,
   "metadata": {},
   "outputs": [],
   "source": [
    "#vc_df = pd.read_csv('vc_df.csv')"
   ]
  },
  {
   "cell_type": "code",
   "execution_count": 109,
   "metadata": {},
   "outputs": [
    {
     "ename": "ValueError",
     "evalue": "You are trying to merge on int64 and object columns. If you wish to proceed you should use pd.concat",
     "output_type": "error",
     "traceback": [
      "\u001b[0;31m---------------------------------------------------------------------------\u001b[0m",
      "\u001b[0;31mValueError\u001b[0m                                Traceback (most recent call last)",
      "\u001b[0;32m<ipython-input-109-f49a33cb35df>\u001b[0m in \u001b[0;36m<module>\u001b[0;34m()\u001b[0m\n\u001b[1;32m      1\u001b[0m \u001b[0;31m#vc_df.head()\u001b[0m\u001b[0;34m\u001b[0m\u001b[0;34m\u001b[0m\u001b[0m\n\u001b[1;32m      2\u001b[0m \u001b[0mvc_df\u001b[0m\u001b[0;34m.\u001b[0m\u001b[0mdtypes\u001b[0m\u001b[0;34m\u001b[0m\u001b[0m\n\u001b[0;32m----> 3\u001b[0;31m \u001b[0mrv_df\u001b[0m\u001b[0;34m.\u001b[0m\u001b[0mmerge\u001b[0m\u001b[0;34m(\u001b[0m\u001b[0mvc_df\u001b[0m\u001b[0;34m,\u001b[0m \u001b[0mhow\u001b[0m\u001b[0;34m=\u001b[0m\u001b[0;34m'inner'\u001b[0m\u001b[0;34m,\u001b[0m \u001b[0mon\u001b[0m\u001b[0;34m=\u001b[0m\u001b[0;34m'received_id'\u001b[0m\u001b[0;34m)\u001b[0m\u001b[0;34m\u001b[0m\u001b[0m\n\u001b[0m",
      "\u001b[0;32m/opt/conda/lib/python3.6/site-packages/pandas/core/frame.py\u001b[0m in \u001b[0;36mmerge\u001b[0;34m(self, right, how, on, left_on, right_on, left_index, right_index, sort, suffixes, copy, indicator, validate)\u001b[0m\n\u001b[1;32m   6387\u001b[0m                      \u001b[0mright_on\u001b[0m\u001b[0;34m=\u001b[0m\u001b[0mright_on\u001b[0m\u001b[0;34m,\u001b[0m \u001b[0mleft_index\u001b[0m\u001b[0;34m=\u001b[0m\u001b[0mleft_index\u001b[0m\u001b[0;34m,\u001b[0m\u001b[0;34m\u001b[0m\u001b[0m\n\u001b[1;32m   6388\u001b[0m                      \u001b[0mright_index\u001b[0m\u001b[0;34m=\u001b[0m\u001b[0mright_index\u001b[0m\u001b[0;34m,\u001b[0m \u001b[0msort\u001b[0m\u001b[0;34m=\u001b[0m\u001b[0msort\u001b[0m\u001b[0;34m,\u001b[0m \u001b[0msuffixes\u001b[0m\u001b[0;34m=\u001b[0m\u001b[0msuffixes\u001b[0m\u001b[0;34m,\u001b[0m\u001b[0;34m\u001b[0m\u001b[0m\n\u001b[0;32m-> 6389\u001b[0;31m                      copy=copy, indicator=indicator, validate=validate)\n\u001b[0m\u001b[1;32m   6390\u001b[0m \u001b[0;34m\u001b[0m\u001b[0m\n\u001b[1;32m   6391\u001b[0m     \u001b[0;32mdef\u001b[0m \u001b[0mround\u001b[0m\u001b[0;34m(\u001b[0m\u001b[0mself\u001b[0m\u001b[0;34m,\u001b[0m \u001b[0mdecimals\u001b[0m\u001b[0;34m=\u001b[0m\u001b[0;36m0\u001b[0m\u001b[0;34m,\u001b[0m \u001b[0;34m*\u001b[0m\u001b[0margs\u001b[0m\u001b[0;34m,\u001b[0m \u001b[0;34m**\u001b[0m\u001b[0mkwargs\u001b[0m\u001b[0;34m)\u001b[0m\u001b[0;34m:\u001b[0m\u001b[0;34m\u001b[0m\u001b[0m\n",
      "\u001b[0;32m/opt/conda/lib/python3.6/site-packages/pandas/core/reshape/merge.py\u001b[0m in \u001b[0;36mmerge\u001b[0;34m(left, right, how, on, left_on, right_on, left_index, right_index, sort, suffixes, copy, indicator, validate)\u001b[0m\n\u001b[1;32m     59\u001b[0m                          \u001b[0mright_index\u001b[0m\u001b[0;34m=\u001b[0m\u001b[0mright_index\u001b[0m\u001b[0;34m,\u001b[0m \u001b[0msort\u001b[0m\u001b[0;34m=\u001b[0m\u001b[0msort\u001b[0m\u001b[0;34m,\u001b[0m \u001b[0msuffixes\u001b[0m\u001b[0;34m=\u001b[0m\u001b[0msuffixes\u001b[0m\u001b[0;34m,\u001b[0m\u001b[0;34m\u001b[0m\u001b[0m\n\u001b[1;32m     60\u001b[0m                          \u001b[0mcopy\u001b[0m\u001b[0;34m=\u001b[0m\u001b[0mcopy\u001b[0m\u001b[0;34m,\u001b[0m \u001b[0mindicator\u001b[0m\u001b[0;34m=\u001b[0m\u001b[0mindicator\u001b[0m\u001b[0;34m,\u001b[0m\u001b[0;34m\u001b[0m\u001b[0m\n\u001b[0;32m---> 61\u001b[0;31m                          validate=validate)\n\u001b[0m\u001b[1;32m     62\u001b[0m     \u001b[0;32mreturn\u001b[0m \u001b[0mop\u001b[0m\u001b[0;34m.\u001b[0m\u001b[0mget_result\u001b[0m\u001b[0;34m(\u001b[0m\u001b[0;34m)\u001b[0m\u001b[0;34m\u001b[0m\u001b[0m\n\u001b[1;32m     63\u001b[0m \u001b[0;34m\u001b[0m\u001b[0m\n",
      "\u001b[0;32m/opt/conda/lib/python3.6/site-packages/pandas/core/reshape/merge.py\u001b[0m in \u001b[0;36m__init__\u001b[0;34m(self, left, right, how, on, left_on, right_on, axis, left_index, right_index, sort, suffixes, copy, indicator, validate)\u001b[0m\n\u001b[1;32m    553\u001b[0m         \u001b[0;31m# validate the merge keys dtypes. We may need to coerce\u001b[0m\u001b[0;34m\u001b[0m\u001b[0;34m\u001b[0m\u001b[0m\n\u001b[1;32m    554\u001b[0m         \u001b[0;31m# to avoid incompat dtypes\u001b[0m\u001b[0;34m\u001b[0m\u001b[0;34m\u001b[0m\u001b[0m\n\u001b[0;32m--> 555\u001b[0;31m         \u001b[0mself\u001b[0m\u001b[0;34m.\u001b[0m\u001b[0m_maybe_coerce_merge_keys\u001b[0m\u001b[0;34m(\u001b[0m\u001b[0;34m)\u001b[0m\u001b[0;34m\u001b[0m\u001b[0m\n\u001b[0m\u001b[1;32m    556\u001b[0m \u001b[0;34m\u001b[0m\u001b[0m\n\u001b[1;32m    557\u001b[0m         \u001b[0;31m# If argument passed to validate,\u001b[0m\u001b[0;34m\u001b[0m\u001b[0;34m\u001b[0m\u001b[0m\n",
      "\u001b[0;32m/opt/conda/lib/python3.6/site-packages/pandas/core/reshape/merge.py\u001b[0m in \u001b[0;36m_maybe_coerce_merge_keys\u001b[0;34m(self)\u001b[0m\n\u001b[1;32m    981\u001b[0m             elif ((is_numeric_dtype(lk) and not is_bool_dtype(lk))\n\u001b[1;32m    982\u001b[0m                     and not is_numeric_dtype(rk)):\n\u001b[0;32m--> 983\u001b[0;31m                 \u001b[0;32mraise\u001b[0m \u001b[0mValueError\u001b[0m\u001b[0;34m(\u001b[0m\u001b[0mmsg\u001b[0m\u001b[0;34m)\u001b[0m\u001b[0;34m\u001b[0m\u001b[0m\n\u001b[0m\u001b[1;32m    984\u001b[0m             elif (not is_numeric_dtype(lk)\n\u001b[1;32m    985\u001b[0m                     and (is_numeric_dtype(rk) and not is_bool_dtype(rk))):\n",
      "\u001b[0;31mValueError\u001b[0m: You are trying to merge on int64 and object columns. If you wish to proceed you should use pd.concat"
     ]
    }
   ],
   "source": [
    "#vc_df.head()\n",
    "vc_df.dtypes\n",
    "rv_df.merge(vc_df, how='inner', on='received_id')"
   ]
  },
  {
   "cell_type": "code",
   "execution_count": 105,
   "metadata": {},
   "outputs": [],
   "source": [
    "def get_v_no_c_df(rv_df, vc_df):\n",
    "    '''Function that returns a dataframe with all offers that were viewed but never completed\n",
    "    Args:\n",
    "        rv_df (df): df with all offers (including informational) that have been viewed\n",
    "        vc_df (df): df with all offers that were viewed and completed\n",
    "    Returns:\n",
    "        v_no_c_df (df): df with all offers that were viewed and completed\n",
    "    '''\n",
    "    completable_offer_ids = portfolio[portfolio['offer_type']!='informational']['offer_id'].tolist()\n",
    "    completeable_viewed_offers_df = rv_df[rv_df['offer_id'].isin(completable_offer_ids)]\n",
    "    # remove offers viewed and completed from completeable_viewed_offers_df, reamainder is viewed bu not completed\n",
    "    v_no_c_df = completeable_viewed_offers_df.drop(completeable_viewed_offers_df[\n",
    "        completeable_viewed_offers_df['viewed_id'].isin(vc_df['viewed_id'].tolist())].index.values)\n",
    "    \n",
    "    # make sure there are no duplicated transaction ids\n",
    "    assert(v_no_c_df['viewed_id'].duplicated().sum()==0)\n",
    "    assert(v_no_c_df['received_id'].duplicated().sum()==0)\n",
    "    # make sure intersection of v_no_c_df and vc_df is 0\n",
    "    #assert(v_no_c_df.merge(vc_df, how='inner', on='received_id').shape[0]==0)\n",
    "    \n",
    "    return v_no_c_df\n",
    "    \n",
    "    \n",
    "v_no_c_df = get_v_no_c_df(rv_df, vc_df)"
   ]
  },
  {
   "cell_type": "code",
   "execution_count": 106,
   "metadata": {},
   "outputs": [
    {
     "data": {
      "text/plain": [
       "event_x          object\n",
       "user_id          object\n",
       "time              int64\n",
       "offer_id         object\n",
       "viewed_time       int64\n",
       "viewed_id         int64\n",
       "event_y          object\n",
       "received_time     int64\n",
       "received_id       int64\n",
       "time_to_view      int64\n",
       "dtype: object"
      ]
     },
     "execution_count": 106,
     "metadata": {},
     "output_type": "execute_result"
    }
   ],
   "source": [
    "v_no_c_df.dtypes"
   ]
  },
  {
   "cell_type": "code",
   "execution_count": null,
   "metadata": {},
   "outputs": [],
   "source": [
    "#vc_df['received_id'].head()"
   ]
  },
  {
   "cell_type": "code",
   "execution_count": null,
   "metadata": {},
   "outputs": [],
   "source": [
    "def get_c_no_v_df(vc_df, offers_completed, offers_received, portfolio):\n",
    "    '''Function to return received viewed dataframe\n",
    "    Args:\n",
    "        vc_df (df): df with offers viewed an dcompleted\n",
    "            ['user_id', 'viewed_time', 'offer_id', 'received_time', 'time_to_view',\n",
    "           'difficulty', 'duration', 'offer_type', 'offer_reward', 'social',\n",
    "           'email', 'web', 'mobile', 'completed_time', 'time_to_complete',\n",
    "           'time_view_to_complete']\n",
    "        offer_completed (df): df with offers completed\n",
    "            ['event', 'user_id', 'completed_time', 'offer_id']\n",
    "    Returns:\n",
    "        c_no_v_df (df): df with offers completed but not viewed\n",
    "    '''\n",
    "    potential_received_offers = offers_received[offers_received['offer_id'].isin(completable_offers)]\n",
    "    # remove received offers that were viewed and completed\n",
    "    potential_received_offers = potential_received_offers.drop(\n",
    "        potential_received_offers[potential_received_offers['received_id'].isin(\n",
    "            vc_df['received_id'].tolist())].index.values)\n",
    "    \n",
    "    # remove completed offers that were viewed\n",
    "    potential_offers_completed = offers_completed.drop(\n",
    "        offers_completed[offers_completed['completed_id'].isin(\n",
    "            vc_df['completed_id'].tolist())].index.values)\n",
    "\n",
    "    print('vc_df: ', vc_df.shape)\n",
    "    print('potential_offers_completed: ', potential_offers_completed.shape)\n",
    "    \n",
    "    # sort potential_offers_completed descending in completed_time to try and match a \n",
    "    # received offer with the largest possible time gap to ensure all completed offers match up with a received offer\n",
    "    potential_offers_completed = potential_offers_completed.sort_values(by='completed_time', ascending=False).reindex()\n",
    "                     \n",
    "    matchable_offers = potential_received_offers.merge(portfolio[['offer_id', 'duration_in_hours']])\n",
    "    \n",
    "    c_no_v_df = pd.DataFrame(columns=['user_id', 'offer_id', 'received_time', 'received_id', \n",
    "                                  'completed_time', 'completed_id'])\n",
    "    \n",
    "    for _, row in potential_offers_completed.iterrows():\n",
    "        user = row['user_id']\n",
    "        offer = row['offer_id']\n",
    "        #print([user, offer])\n",
    "        \n",
    "        potential_matches = matchable_offers[(matchable_offers['user_id']==user)\n",
    "                               & (matchable_offers['offer_id']==offer)\n",
    "                               & (matchable_offers['received_time']<=row['completed_time'])]\n",
    "        \n",
    "        ilocs = potential_matches.shape[0]\n",
    "        # check for first instance where completion time would satisfy duration in hours\n",
    "        for i in range(ilocs):\n",
    "            potential_row_dict = potential_matches.iloc[i].to_dict()\n",
    "            if ((row['completed_time'] - potential_row_dict['received_time'] <= potential_row_dict['duration_in_hours'])& \n",
    "                (row['completed_time'] - potential_row_dict['received_time'] >= 0)):\n",
    "                c_no_v_df_row = potential_row_dict\n",
    "                c_no_v_df_row['completed_time'] = row['completed_time']\n",
    "                c_no_v_df_row['completed_id'] = row['completed_id']\n",
    "                c_no_v_df = c_no_v_df.append(c_no_v_df_row, ignore_index=True)\n",
    "                # remove received_id from \n",
    "                received_id = potential_row_dict['received_id']\n",
    "                #print(matchable_offers.columns)\n",
    "                matchable_offers = matchable_offers.drop(\n",
    "                    matchable_offers[matchable_offers['received_id']==received_id].index.values)\n",
    "                # exit to outer for loop\n",
    "                break\n",
    "    \n",
    "    # make sure there are no duplicated transaction ids\n",
    "    assert(c_no_v_df['completed_id'].duplicated().sum()==0)\n",
    "    assert(c_no_v_df['received_id'].duplicated().sum()==0)\n",
    "    \n",
    "    return c_no_v_df\n",
    "    "
   ]
  },
  {
   "cell_type": "code",
   "execution_count": null,
   "metadata": {},
   "outputs": [],
   "source": [
    "start_time = time()\n",
    "c_no_v_df = get_c_no_v_df(vc_df, offers_completed, offers_received, portfolio)\n",
    "end_time = time()\n",
    "print(f'Wohoo new_c_no_v_df ready. Function took {end_time-start_time} to exicute')\n",
    "c_no_v_df.to_csv('new_c_no_v_df.csv')\n",
    "# # function took  to exicute"
   ]
  },
  {
   "cell_type": "code",
   "execution_count": null,
   "metadata": {},
   "outputs": [],
   "source": [
    "c_no_v_df.merge(v_no_c_df, how='inner', on='received_id').shape"
   ]
  },
  {
   "cell_type": "code",
   "execution_count": null,
   "metadata": {},
   "outputs": [],
   "source": [
    "# c_no_v_df=pd.read_csv('c_no_v_df.csv')\n",
    "# print(c_no_v_df.shape)"
   ]
  },
  {
   "cell_type": "code",
   "execution_count": null,
   "metadata": {},
   "outputs": [],
   "source": [
    "#c_no_v_df = pd.read_csv('c_no_v_df.csv')"
   ]
  },
  {
   "cell_type": "code",
   "execution_count": null,
   "metadata": {},
   "outputs": [],
   "source": [
    "# # bad implemetation, resutes in duplicate transaction ids\n",
    "# def get_c_no_v_df(vc_df, offers_completed, offers_received, portfolio):\n",
    "#     '''Function to return received viewed dataframe\n",
    "#     Args:\n",
    "#         vc_df (df): df with offers viewed an dcompleted\n",
    "#             ['user_id', 'viewed_time', 'offer_id', 'received_time', 'time_to_view',\n",
    "#            'difficulty', 'duration', 'offer_type', 'offer_reward', 'social',\n",
    "#            'email', 'web', 'mobile', 'completed_time', 'time_to_complete',\n",
    "#            'time_view_to_complete']\n",
    "#         offer_completed (df): df with offers completed\n",
    "#             ['event', 'user_id', 'completed_time', 'offer_id']\n",
    "#     Returns:\n",
    "#         c_no_v_df (df): df with offers completed but not viewed\n",
    "#     '''\n",
    "#     c_no_v_df = pd.merge_asof(offers_completed.drop_duplicates(), \n",
    "#                               offers_received[['user_id', 'offer_id','time', 'received_time']],\n",
    "#                               on='time', direction='backward',by=['user_id', 'offer_id'])\n",
    "    \n",
    "#     c_no_v_df = c_no_v_df.merge(vc_df[['user_id', 'offer_id', 'viewed_time', 'completed_time']], how='left', \n",
    "#                                     on=['user_id', 'offer_id', 'completed_time'])\n",
    "    \n",
    "#     # subset to offers completed but never viewed\n",
    "#     c_no_v_df = c_no_v_df[(c_no_v_df['viewed_time'].isnull())]\n",
    "    \n",
    "#     # get received time for use later to examine all received offers\n",
    "# #     c_no_v_df['time'] = c_no_v_df['completed_time']\n",
    "# #     c_no_v_df = pd.merge_asof(c_no_v_df, offers_received[['user_id', 'offer_id', 'time', 'received_time']],\n",
    "# #                               on='time', direction='backward', by=['user_id', 'offer_id'])\n",
    "    \n",
    "#     # make sure there are no duplicates of received offers\n",
    "#     assert(c_no_v_df[['user_id', 'offer_id', 'received_time']].duplicated().sum()==0)\n",
    "#     # make sure ther are no duplicates of completed offers\n",
    "#     assert(c_no_v_df[['user_id', 'offer_id', 'completed_time']].duplicated().sum()==0)\n",
    "    \n",
    "#     return c_no_v_df"
   ]
  },
  {
   "cell_type": "code",
   "execution_count": null,
   "metadata": {},
   "outputs": [],
   "source": [
    "def get_received_ignored_df(offers_received, rv_df, c_no_v_df):\n",
    "    '''Funciton that returns a dataframe with offers that were received, but never viewed or completed\n",
    "    Args:\n",
    "        rv_df (df): df with all offers (including informational) that were viewed after being received\n",
    "        c_no_v_df (df): df with all offers that were completed but never viewed\n",
    "    Returns\n",
    "        received_ignored_df (df): df with offers that were received, but never viewed or completed\n",
    "    '''\n",
    "    potential_received = offers_received[offers_received['offer_id'].isin(completable_offers)]\n",
    "    received_viewed = rv_df['received_id'].tolist()\n",
    "    received_completed_not_viewed = c_no_v_df['received_id'].tolist()\n",
    "    \n",
    "    recieved_acted = received_viewed + received_completed_not_viewed\n",
    "    \n",
    "    get_received_ignored_df = potential_received.drop(\n",
    "        potential_received[potential_received['received_id'].isin(recieved_acted)].index.values)\n",
    "    \n",
    "    # make sure there are no duplicated transaction ids\n",
    "    assert(c_no_v_df['received_id'].duplicated().sum()==0)\n",
    "    \n",
    "    return get_received_ignored_df\n",
    "\n",
    "received_ignored_df = get_received_ignored_df(offers_received, rv_df, c_no_v_df)\n",
    "received_ignored_df.to_csv('received_ignored_df.csv')"
   ]
  },
  {
   "cell_type": "code",
   "execution_count": null,
   "metadata": {},
   "outputs": [],
   "source": [
    "received_ignored_df = pd.read_csv('received_ignored_df.csv')"
   ]
  },
  {
   "cell_type": "code",
   "execution_count": null,
   "metadata": {},
   "outputs": [],
   "source": [
    "rv_df[rv_df['offer_id'].isin(completable_offers)].shape"
   ]
  },
  {
   "cell_type": "code",
   "execution_count": null,
   "metadata": {},
   "outputs": [],
   "source": [
    "rv_df[['user_id', 'offer_id', 'received_time']].duplicated().sum()"
   ]
  },
  {
   "cell_type": "code",
   "execution_count": null,
   "metadata": {},
   "outputs": [],
   "source": [
    "offers_completed.shape"
   ]
  },
  {
   "cell_type": "code",
   "execution_count": null,
   "metadata": {},
   "outputs": [],
   "source": [
    "offers_completed.drop_duplicates().shape"
   ]
  },
  {
   "cell_type": "code",
   "execution_count": null,
   "metadata": {},
   "outputs": [],
   "source": [
    "v_no_c_df.shape"
   ]
  },
  {
   "cell_type": "code",
   "execution_count": null,
   "metadata": {},
   "outputs": [],
   "source": [
    "v_no_c_df[['user_id', 'offer_id', 'viewed_time']].duplicated().sum()"
   ]
  },
  {
   "cell_type": "code",
   "execution_count": null,
   "metadata": {},
   "outputs": [],
   "source": [
    "vc_df.shape"
   ]
  },
  {
   "cell_type": "code",
   "execution_count": null,
   "metadata": {},
   "outputs": [],
   "source": [
    "vc_df[['user_id', 'offer_id', 'received_time']].duplicated().sum()"
   ]
  },
  {
   "cell_type": "code",
   "execution_count": null,
   "metadata": {},
   "outputs": [],
   "source": [
    "vc_df[vc_df['completed_time'].isnull()]\n",
    "vc_df.columns"
   ]
  },
  {
   "cell_type": "code",
   "execution_count": null,
   "metadata": {},
   "outputs": [],
   "source": [
    "offers_viewed[offers_viewed['offer_id'].isin(completable_offers)].shape"
   ]
  },
  {
   "cell_type": "code",
   "execution_count": null,
   "metadata": {},
   "outputs": [],
   "source": [
    "offers_viewed[['user_id', 'offer_id', 'viewed_time']].duplicated().sum()"
   ]
  },
  {
   "cell_type": "markdown",
   "metadata": {},
   "source": [
    "## It is important to perform a sanity check here to make sure that everything adds up as expected"
   ]
  },
  {
   "cell_type": "markdown",
   "metadata": {},
   "source": [
    "### check that offers received and viewed has the same number of rows as offers viewed"
   ]
  },
  {
   "cell_type": "code",
   "execution_count": null,
   "metadata": {},
   "outputs": [],
   "source": [
    "assert(rv_df.shape[0]==offers_viewed.shape[0])"
   ]
  },
  {
   "cell_type": "markdown",
   "metadata": {},
   "source": [
    "### check that offers viewed but not completed and offers completed but not viewed adds up to total viewed completable offers"
   ]
  },
  {
   "cell_type": "code",
   "execution_count": null,
   "metadata": {},
   "outputs": [],
   "source": [
    "completable_offers = portfolio[portfolio['offer_type']!='informational']['offer_id'].tolist()\n",
    "assert((v_no_c_df.shape[0]+vc_df.shape[0])==offers_viewed[offers_viewed['offer_id'].isin(completable_offers)].shape[0])"
   ]
  },
  {
   "cell_type": "markdown",
   "metadata": {},
   "source": [
    "### check that offers viewed and completed and offers completed but not viewed adds up to total completed offers"
   ]
  },
  {
   "cell_type": "code",
   "execution_count": null,
   "metadata": {},
   "outputs": [],
   "source": [
    "overlap = vc_df.merge(c_no_v_df, how='inner', on='completed_id')\n",
    "overlap.shape"
   ]
  },
  {
   "cell_type": "code",
   "execution_count": null,
   "metadata": {},
   "outputs": [],
   "source": [
    "assert((vc_df.shape[0] + c_no_v_df.shape[0])==offers_completed[['user_id', 'offer_id', 'completed_time']].drop_duplicates().shape[0])"
   ]
  },
  {
   "cell_type": "code",
   "execution_count": null,
   "metadata": {},
   "outputs": [],
   "source": [
    "offers_completed.shape[0] -(vc_df.shape[0] + c_no_v_df.shape[0])"
   ]
  },
  {
   "cell_type": "markdown",
   "metadata": {},
   "source": [
    "## I was unable to obtain a perfect 1-1 mapping of offers completed to offers received.  The discrepancy is 698 of 33182 total completed offers.  We were never told that users cannot complete and offer more than once and we can see that clearly this is occuring.  However, for our analysis we only want to consider one outcome for each received offer, so we are going to only consider the first time that an offer is completed.\n"
   ]
  },
  {
   "cell_type": "markdown",
   "metadata": {},
   "source": [
    "## Lets examine how offers were viewed and completed by users"
   ]
  },
  {
   "cell_type": "code",
   "execution_count": null,
   "metadata": {},
   "outputs": [],
   "source": [
    "def get_offer_view_rates(offers_received, offers_viewed):\n",
    "    '''Function that returns a df with cummulative offer view rates accross all users\n",
    "    Args:\n",
    "        offers_received (df): df with all received offers\n",
    "        offers_viewed (df): df with all viewed offers\n",
    "    Returns:\n",
    "        offer_view_rate (df): df with offer view rates\n",
    "            ['offer_id', 'received_count', 'viewed_count', 'offer_view_rate']\n",
    "    '''\n",
    "    offer_received_counts = offers_received.groupby('offer_id')['offer_id'].agg([('received_count','count')]).reset_index()\n",
    "    offer_viewed_counts = offers_viewed.groupby('offer_id')['offer_id'].agg([('viewed_count','count')]).reset_index()\n",
    "    offer_view_rate = offer_received_counts.merge(offer_viewed_counts, how='left', on='offer_id')\n",
    "    offer_view_rate['offer_view_rate'] = (offer_view_rate['viewed_count']/offer_view_rate['received_count']).round(2)\n",
    "    offer_view_rate = offer_view_rate.merge(portfolio, how='left', on='offer_id')\n",
    "    return offer_view_rate\n",
    "\n",
    "offer_view_rate = get_offer_view_rates(offers_received, offers_viewed)\n",
    "\n",
    "average_offer_view_rate = (offer_view_rate['viewed_count'].sum()/offer_view_rate['received_count'].sum())\n",
    "\n",
    "print(f'The average offer view rate is {average_offer_view_rate:.2f}')\n",
    "\n",
    "offer_view_rate"
   ]
  },
  {
   "cell_type": "code",
   "execution_count": null,
   "metadata": {},
   "outputs": [],
   "source": [
    "def get_offer_completed_rates(offers_received, offers_completed):\n",
    "    '''Function that returns a df with cummulative offer view rates accross all users\n",
    "    Args:\n",
    "        offers_received (df): df with all received offers\n",
    "        offers_completed (df): df with all completed offers\n",
    "    Returns:\n",
    "        offer_completion_rate (df): df with offer view rates\n",
    "            ['offer_id', 'received_count', 'completed_count', 'offer_completion_rate']\n",
    "    '''\n",
    "    offer_received_counts = offers_received.groupby('offer_id')['offer_id'].agg([('received_count','count')]).reset_index()\n",
    "    offer_completed_counts = offers_completed.groupby('offer_id')['offer_id'].agg([('completed_count','count')]).reset_index()    \n",
    "    offer_completed_rate = offer_received_counts.merge(offer_completed_counts, how='left', on='offer_id')\n",
    "    offer_completed_rate['offer_completed_rate'] = (offer_completed_rate['completed_count']/\n",
    "                                                    offer_completed_rate['received_count']).round(2)\n",
    "    \n",
    "    # remove informational offers because they cannot be completed\n",
    "    offer_completed_rate = offer_completed_rate.merge(portfolio[['offer_id', 'offer_type']], how='left', on='offer_id')\n",
    "    offer_completed_rate.drop(offer_completed_rate[\n",
    "           offer_completed_rate['offer_type']=='informational'].index.values, axis=0, inplace=True)\n",
    "    \n",
    "    offer_completed_rate['completed_count'] = offer_completed_rate['completed_count'].astype(int)\n",
    "    \n",
    "    return offer_completed_rate\n",
    "\n",
    "offer_completed_rate = get_offer_completed_rates(offers_received, offers_completed)\n",
    "average_offer_completed_rate = offer_completed_rate['completed_count'].sum()/offer_completed_rate['received_count'].sum()\n",
    "\n",
    "print(f'The average offer completion rate is {average_offer_completed_rate:.2f}')\n",
    "\n",
    "offer_completed_rate"
   ]
  },
  {
   "cell_type": "code",
   "execution_count": null,
   "metadata": {},
   "outputs": [],
   "source": [
    "def get_offer_viewed_completed_rate(offers_received, vc_df):\n",
    "    '''Function that returns a df with cummulative offer view rates accross all users\n",
    "    Args:\n",
    "        offers_received (df): df with all received offers\n",
    "        vc_df (df): df with all offers that were viewed and completed\n",
    "    Returns:\n",
    "        offer_viewed_completed_rate (df): df with offer view rates\n",
    "            ['offer_id', 'received_count', 'completed_count', 'offer_completion_rate']\n",
    "    '''\n",
    "    offer_received_counts = offers_received.groupby('offer_id')['offer_id'].agg([('received_count','count')]).reset_index()\n",
    "    offer_viewed_completed_counts = vc_df.groupby('offer_id')['offer_id'].agg([('viewed_completed_count','count')]).reset_index()\n",
    "    offer_viewed_completed_rate = offer_received_counts.merge(offer_viewed_completed_counts, how='left', on='offer_id')\n",
    "    offer_viewed_completed_rate['offer_viewed_completed_rate'] = (offer_viewed_completed_rate['viewed_completed_count']/\n",
    "                                                                  offer_viewed_completed_rate['received_count']).round(2)\n",
    "    offer_viewed_completed_rate = offer_viewed_completed_rate.merge(\n",
    "        portfolio[['offer_id', 'offer_type']], how='left', on='offer_id')\n",
    "    \n",
    "    \n",
    "    offer_viewed_completed_rate=offer_viewed_completed_rate.drop(\n",
    "        offer_viewed_completed_rate[offer_viewed_completed_rate['offer_type']=='informational'].index.values, axis=0)\n",
    "    \n",
    "    offer_viewed_completed_rate['viewed_completed_count'] = offer_viewed_completed_rate['viewed_completed_count'].astype(int)\n",
    "    \n",
    "    return offer_viewed_completed_rate\n",
    "\n",
    "offer_viewed_completed_rate = get_offer_viewed_completed_rate(offers_received, vc_df)\n",
    "\n",
    "average_offer_viewed_completed_rate = (offer_viewed_completed_rate['viewed_completed_count'].sum()/\n",
    "                                       offer_completed_rate['received_count'].sum())\n",
    "\n",
    "print(f'The average offer viewed and completed rate is {average_offer_viewed_completed_rate:.2f}')\n",
    "\n",
    "offer_viewed_completed_rate"
   ]
  },
  {
   "cell_type": "markdown",
   "metadata": {},
   "source": [
    "### The average rates of completable offers being viewed and completed is 17% while the average completion rate is 55%.  Therefore, a significant amount of proffit is likely being lost from sending users offers that are never viewed. "
   ]
  },
  {
   "cell_type": "code",
   "execution_count": null,
   "metadata": {},
   "outputs": [],
   "source": [
    "c_no_v_df.columns"
   ]
  },
  {
   "cell_type": "code",
   "execution_count": null,
   "metadata": {},
   "outputs": [],
   "source": [
    "def get_offer_completed_not_viewed_rate(offers_received, c_no_v_df):\n",
    "    '''Function that returns a df with cummulative offer view rates accross all users\n",
    "    Args:\n",
    "        offers_received (df): df with all received offers\n",
    "        vc_df (df): df with all offers that were viewed and completed\n",
    "    Returns:\n",
    "        offer_viewed_completed_rate (df): df with offer view rates\n",
    "            ['offer_id', 'received_count', 'completed_count', 'offer_completion_rate']\n",
    "    '''\n",
    "    offers_received = offers_received.merge(portfolio[['offer_id', 'offer_type']])\n",
    "    \n",
    "    offer_received_counts = offers_received.drop(offers_received[offers_received['offer_type'] =='informational']\\\n",
    "                                                 .index.values).groupby('offer_id')['offer_id'].agg(\n",
    "                                                    [('received_count','count')]).reset_index()\n",
    "    \n",
    "    offer_completed_not_viewed_counts = c_no_v_df.groupby('offer_id')['offer_id'].agg([('completed_not_viewed_count','count')]).reset_index()\n",
    "    offer_completed_not_viewed_rate = offer_received_counts.merge(offer_completed_not_viewed_counts, \n",
    "                                                                  how='left', on='offer_id')\n",
    "    \n",
    "    offer_completed_not_viewed_rate['offer_completed_not_viewed_rate'] = (\n",
    "                                                                  offer_completed_not_viewed_rate['completed_not_viewed_count']/\n",
    "                                                                  offer_completed_not_viewed_rate['received_count']).round(2)\n",
    "    \n",
    "    offer_completed_not_viewed_rate = offer_completed_not_viewed_rate.merge(portfolio[['offer_id', 'offer_type']], \n",
    "                                                                            how='left', on='offer_id')\n",
    "    \n",
    "    return offer_completed_not_viewed_rate\n",
    "\n",
    "offer_completed_not_viewed_rate = get_offer_completed_not_viewed_rate(offers_received, c_no_v_df)\n",
    "\n",
    "average_offer_completed_not_viewed_rate = (offer_completed_not_viewed_rate['completed_not_viewed_count'].sum()/\n",
    "                                       offer_completed_not_viewed_rate['received_count'].sum())\n",
    "\n",
    "print(f'The average offer completed without view rate is {average_offer_completed_not_viewed_rate:.2f}.')\n",
    "\n",
    "offer_completed_not_viewed_rate"
   ]
  },
  {
   "cell_type": "code",
   "execution_count": null,
   "metadata": {},
   "outputs": [],
   "source": [
    "def get_completableoffer_ignored_rate(offers_received, received_ignored_df):\n",
    "    '''Function to evaluate ignored offers for all offers\n",
    "    Args:\n",
    "        offers_received (df): df with all received offers\n",
    "        received_ignored_df (df):\n",
    "    Returns:\n",
    "        completableoffer_ignored_rate (df)}: df with rates of completable offers being ignored\n",
    "    '''\n",
    "    \n",
    "    received_counts = offers_received[offers_received['offer_id'].isin(\n",
    "        completable_offers)].groupby(['offer_id'])['offer_id'].agg(\n",
    "                                                    [('received_count','count')]).reset_index()\n",
    "    \n",
    "    ignored_counts = received_ignored_df.groupby('offer_id')['offer_id'].agg(\n",
    "                                                    [('ignored_count','count')]).reset_index()\n",
    "    \n",
    "    completableoffer_ignored_rate = received_counts.merge(ignored_counts, how='left', on='offer_id')\n",
    "\n",
    "    completableoffer_ignored_rate['offer_ignored_rate'] = (completableoffer_ignored_rate['ignored_count']/\n",
    "                                                           completableoffer_ignored_rate['received_count']).round(2)\n",
    "    \n",
    "    return completableoffer_ignored_rate\n",
    "\n",
    "completableoffer_ignored_rate = get_completableoffer_ignored_rate(offers_received, received_ignored_df)\n",
    "\n",
    "average_completableoffer_ignored_rate = (completableoffer_ignored_rate['ignored_count'].sum()/\n",
    "                                       completableoffer_ignored_rate['received_count'].sum())\n",
    "\n",
    "print(f'The average offer ignored rate is {average_completableoffer_ignored_rate:.2f}.')\n",
    "\n",
    "completableoffer_ignored_rate\n",
    "    \n",
    "    "
   ]
  },
  {
   "cell_type": "code",
   "execution_count": null,
   "metadata": {},
   "outputs": [],
   "source": [
    "offer_completed_not_viewed_rate = offer_completed_not_viewed_rate.merge(\n",
    "    offer_viewed_completed_rate[['offer_id','offer_viewed_completed_rate']], how='left', on='offer_id')\n",
    "offer_completed_not_viewed_rate['viewed_more'] = (offer_completed_not_viewed_rate['offer_viewed_completed_rate'] > \n",
    "                                                  offer_completed_not_viewed_rate['offer_completed_not_viewed_rate'])\n",
    "\n",
    "offer_completed_not_viewed_rate[['offer_id', 'offer_type', 'received_count', 'offer_viewed_completed_rate', 'offer_completed_not_viewed_rate', 'viewed_more']]\n",
    "\n",
    "#offer_completed_not_viewed_rate"
   ]
  },
  {
   "cell_type": "markdown",
   "metadata": {},
   "source": [
    "# We can see that offers 0b1e1539f2cc45b7b9fa7c272da2e1d7, and 9b98b8c7a33c4b65b9aebfe6a799e6d9 are completed without being viewed more often than they are viewed and subsequently completed.  Therefore, these are not very effective offers at increasing user spending habbits."
   ]
  },
  {
   "cell_type": "markdown",
   "metadata": {},
   "source": [
    "## Lets check using a two sample t-test which offers are viewed, completed, completed after viewing, and completed without ever being viewed compared to average rates."
   ]
  },
  {
   "cell_type": "code",
   "execution_count": null,
   "metadata": {},
   "outputs": [],
   "source": [
    "from scipy.stats import ttest_ind\n",
    "\n",
    "def get_df_performance(df, sample_size_column, positives_column, p_threshold=0.05):\n",
    "    '''Function that checks to see chich offers performing above and below average\n",
    "    Args:\n",
    "        df (df): df with rate information\n",
    "        sample_size_column (str): column name for column that shows total offer sample size\n",
    "        positives_column (str): column name for column that shows cumulative success\n",
    "        p_threshold (float): p value threshold for statistical significance, default to 90% confidence\n",
    "    Returns:\n",
    "        df (df): original df with new column telling which offers are under/overperforming\n",
    "    '''\n",
    "    \n",
    "    # get arrray of 1s and 0s to represent average performance\n",
    "    total_sample_size = df[sample_size_column].sum()\n",
    "    total_positives = df[positives_column].sum()\n",
    "    average_array = [1]*total_positives + [0]*(total_sample_size-total_positives)\n",
    "    average_positive_rate = total_positives/total_sample_size\n",
    "    \n",
    "    # initialize arrays\n",
    "    t_stats = []\n",
    "    p_values = []\n",
    "    performance = []\n",
    "    # loop through channels\n",
    "    for _, row in df.iterrows():\n",
    "        #print('row: ', row)\n",
    "        samples = row[sample_size_column]\n",
    "        positives = row[positives_column]\n",
    "        #print('positives: ', positives)\n",
    "        row_array = [1]*positives + [0]*(samples-positives)\n",
    "        t_stat, p_val = ttest_ind(average_array, row_array, equal_var=False)\n",
    "        positive_rate = positives/samples\n",
    "        t_stats.append(t_stat)\n",
    "        p_values.append(p_val)\n",
    "        if p_val <= p_threshold:\n",
    "            if positive_rate > average_positive_rate:\n",
    "                performance.append('over')\n",
    "            else:\n",
    "                performance.append('under')\n",
    "        else:\n",
    "            performance.append('indeterminant')\n",
    "            \n",
    "    df['p_val'] = p_values\n",
    "    df['t_stat'] = t_stats\n",
    "    df['performance'] = performance\n",
    "    df = df.round(3)\n",
    "    \n",
    "    return df\n"
   ]
  },
  {
   "cell_type": "markdown",
   "metadata": {},
   "source": [
    "# Offer view rates"
   ]
  },
  {
   "cell_type": "code",
   "execution_count": null,
   "metadata": {},
   "outputs": [],
   "source": [
    "offer_view_rate = get_df_performance(offer_view_rate, 'received_count', 'viewed_count', p_threshold=0.05)\n",
    "offer_view_rate.sort_values(by='offer_view_rate', ascending=False)"
   ]
  },
  {
   "cell_type": "code",
   "execution_count": null,
   "metadata": {},
   "outputs": [],
   "source": [
    "offer_view_rate[['offer_view_rate','offer_type', 'offer_reward', 'mobile', 'social',  'web', 'duration_in_hours']].corr()"
   ]
  },
  {
   "cell_type": "markdown",
   "metadata": {},
   "source": [
    "## Here we can see that iff we are trying to reach customers, the social channel seems to be the most effective.  We are unable to determine the ffectiveness of emails in the dataset, because all offers are sent via email.  It would be interesting to have some of the same offers which are not sent via email to determine how effective this marketing channel is."
   ]
  },
  {
   "cell_type": "markdown",
   "metadata": {},
   "source": [
    "# Completion rates for all received offers"
   ]
  },
  {
   "cell_type": "code",
   "execution_count": null,
   "metadata": {},
   "outputs": [],
   "source": [
    "offer_completed_rate = get_df_performance(offer_completed_rate, 'received_count', 'completed_count', p_threshold=0.05)\n",
    "offer_completed_rate.merge(portfolio, how='left', on='offer_id').drop(['p_val', 't_stat'], axis=1).corr().round(2)"
   ]
  },
  {
   "cell_type": "markdown",
   "metadata": {},
   "source": [
    "## It is interesting that while social offers are viewed most frequently, mobile offers are completed most frequently.  This is possibly due to users checking their phones while they wait in line to make an offer.  We can also see an expected result that the more difficult an offer is to complete, the less likely it is that the offer will be completed.    "
   ]
  },
  {
   "cell_type": "markdown",
   "metadata": {},
   "source": [
    "# Completion rates of offers that have been viewed"
   ]
  },
  {
   "cell_type": "code",
   "execution_count": null,
   "metadata": {},
   "outputs": [],
   "source": [
    "offer_viewed_completed_rate.head()"
   ]
  },
  {
   "cell_type": "code",
   "execution_count": null,
   "metadata": {},
   "outputs": [],
   "source": [
    "offer_viewed_completed_rate = get_df_performance(\n",
    "    offer_viewed_completed_rate, 'received_count', 'viewed_completed_count', p_threshold=0.05)\n",
    "offer_viewed_completed_rate"
   ]
  },
  {
   "cell_type": "code",
   "execution_count": null,
   "metadata": {},
   "outputs": [],
   "source": [
    "offer_viewed_completed_rate.merge(\n",
    "    portfolio, how='left', on='offer_id').drop(['p_val', 't_stat', 'email'], axis=1).corr()"
   ]
  },
  {
   "cell_type": "markdown",
   "metadata": {},
   "source": [
    "## We can see that although mobile offers are completed the most frequently, social offers are viewed and then completed most frequently."
   ]
  },
  {
   "cell_type": "markdown",
   "metadata": {},
   "source": [
    "# Completion rates for offers that have not been viewed"
   ]
  },
  {
   "cell_type": "code",
   "execution_count": null,
   "metadata": {},
   "outputs": [],
   "source": [
    "offer_completed_not_viewed_rate.columns"
   ]
  },
  {
   "cell_type": "code",
   "execution_count": null,
   "metadata": {},
   "outputs": [],
   "source": [
    "offer_completed_not_viewed_rate = get_df_performance(\n",
    "    offer_completed_not_viewed_rate, 'received_count', 'completed_not_viewed_count', p_threshold=0.05)\n",
    "offer_completed_not_viewed_rate"
   ]
  },
  {
   "cell_type": "code",
   "execution_count": null,
   "metadata": {},
   "outputs": [],
   "source": [
    "offer_completed_not_viewed_rate.merge(\n",
    "    portfolio, how='left', on='offer_id').drop(['p_val', 't_stat', 'email'], axis=1).corr()"
   ]
  },
  {
   "cell_type": "markdown",
   "metadata": {},
   "source": [
    "## We can see that web offers are the most likely to be completed without ever being viewed.  Therefore, this is not a very good marketting channel."
   ]
  },
  {
   "cell_type": "code",
   "execution_count": null,
   "metadata": {},
   "outputs": [],
   "source": [
    "\n",
    "\n",
    "# comparing channels in the current way makes no since, we don't know which channel a view is from.  \n",
    "# Instead, we need to compare the 9 offer ids.  We want to see which offers are viewed and completed and which\n",
    "# offers are viewed and not completed, and which offers are completed without being viewed.\n",
    "\n",
    "# we also want to examine how long it takes for each offer type to be viewed by a user\n",
    "\n",
    "# we also want to see how viewed offer completion relates to how much time remains in an offer \n",
    "\n",
    "# "
   ]
  },
  {
   "cell_type": "markdown",
   "metadata": {},
   "source": [
    "# Lets examine some visualizations of how users receive, view, and complete offers as well as some spending habits of the customer base "
   ]
  },
  {
   "cell_type": "markdown",
   "metadata": {},
   "source": [
    "# Lets examine the offers that have been received by the users"
   ]
  },
  {
   "cell_type": "code",
   "execution_count": null,
   "metadata": {},
   "outputs": [],
   "source": [
    "offers_received.merge(portfolio, how='left', on='offer_id')[['email', 'mobile', 'web', 'social']].sum()"
   ]
  },
  {
   "cell_type": "markdown",
   "metadata": {},
   "source": [
    "All four channels have high counts in offers sent, with social offers being the lowest."
   ]
  },
  {
   "cell_type": "code",
   "execution_count": null,
   "metadata": {},
   "outputs": [],
   "source": [
    "offers_received.merge(portfolio, how='left', on='offer_id').groupby('offer_type')['offer_type'].count()"
   ]
  },
  {
   "cell_type": "markdown",
   "metadata": {},
   "source": [
    "There are about half as many informational offers as bogo and discount offers."
   ]
  },
  {
   "cell_type": "code",
   "execution_count": null,
   "metadata": {},
   "outputs": [],
   "source": [
    "offers_received = offers_received.merge(portfolio, how='left', on='offer_id')\n",
    "\n",
    "offers_received[offers_received['offer_type'].isin(['bogo', 'discount'])][['difficulty', 'duration', 'offer_reward']].describe()"
   ]
  },
  {
   "cell_type": "markdown",
   "metadata": {},
   "source": [
    "The offer dificulty is approximately normally distributed while the duration and offer rewards are left scewed. "
   ]
  },
  {
   "cell_type": "code",
   "execution_count": null,
   "metadata": {},
   "outputs": [],
   "source": [
    "user_spending = get_user_spending(transcript, portfolio)\n",
    "user_spending = profile.merge(user_spending, how='left', on='user_id')                            "
   ]
  },
  {
   "cell_type": "code",
   "execution_count": null,
   "metadata": {},
   "outputs": [],
   "source": [
    "user_spending.head()"
   ]
  },
  {
   "cell_type": "markdown",
   "metadata": {},
   "source": [
    "# Now that we have examined the dataset, lets make a machine learning model to predict how a user will respond to an offer.  If an offer is received, there are for outcomes that can occur.\n",
    "# 1) The user ignores the offer and doesn't complete it\n",
    "# 2) The user views the offer but does not complete it\n",
    "# 3) The user views and completes the offer\n",
    "# 4) The user completes the offer wihtout ever viewing it\n",
    "\n",
    "# For this analysis, we will subset the transaction data to only include completable offers.  Informational offers will be ignored.\n",
    "\n",
    "# By building this model, we can then predict which offer a user is most likely to view and complete and we can then suggest customized offers to our user base that will increase user interaction while also optimizing sales influenced by received offers."
   ]
  },
  {
   "cell_type": "code",
   "execution_count": null,
   "metadata": {},
   "outputs": [],
   "source": [
    "# merge all dfs [offerS_received, rv_df, vc_df, c_no_v_df] on received time\n",
    "# make categorical columns for y [viewed, viewed_completed, completed_not_viewed, ignnored]\n",
    "# remove BS columns\n",
    "# merge with portfolio\n",
    "# change users\n",
    "# make age and income categorical, allow a category for NAs\n",
    "\n",
    "# merge users with other features\n",
    "\n",
    "# perform multiclass classification\n",
    "\n",
    "# optimize using grid search cv\n",
    "\n",
    "# select a few users, for each user, try all of the offers and choose the one with the \n",
    "# highest probability for viewed and completed\n",
    "\n",
    "# write about how this is essentially a recommendation system at that point\n",
    "\n",
    "# write about how this eeffort could then be combined with e regressor to predict spending\n",
    "# habbits of users that do not get an offer and how you could then make a multi ML facited approach and \n",
    "# optimize sales \n",
    "\n",
    "# hurray for boobies!\n",
    "\n",
    "\n",
    "# write up and say hurray!\n",
    "\n"
   ]
  },
  {
   "cell_type": "code",
   "execution_count": null,
   "metadata": {},
   "outputs": [],
   "source": [
    "received_ignored_df.shape"
   ]
  },
  {
   "cell_type": "code",
   "execution_count": null,
   "metadata": {},
   "outputs": [],
   "source": [
    "received_ignored_df[received_ignored_df['offer_id'].isin(completable_offers)].shape"
   ]
  },
  {
   "cell_type": "code",
   "execution_count": null,
   "metadata": {},
   "outputs": [],
   "source": [
    "# v_no_c_df[['user_id', 'offer_id', 'received_id', 'received_time', 'viewed_time', 'completed_time']].head()\n",
    "# vc_df[['user_id', 'offer_id', 'received_id', 'received_time', 'viewed_time', 'completed_time']].head()\n",
    "# c_no_v_df[['user_id', 'offer_id', 'received_id', 'received_time', 'viewed_time', 'completed_time']].head()\n",
    "# received_ignored_df[['user_id', 'offer_id', 'received_id', 'received_time', 'viewed_time', 'completed_time']].head()\n",
    "\n",
    "v_no_c_df['completed_time'] = None\n",
    "c_no_v_df['viewed_time'] = None\n",
    "received_ignored_df['viewed_time'] = None\n",
    "received_ignored_df['completed_time'] = None\n",
    "received_ignored_df\n",
    "\n",
    "for df in [v_no_c_df, vc_df, c_no_v_df, received_ignored_df]:\n",
    "    df =df[['user_id', 'offer_id', 'received_id', 'received_time', 'viewed_time', 'completed_time']]\n",
    "    print(df.shape)\n",
    "    #print(df[['user_id', 'offer_id', 'received_id', 'received_time', 'viewed_time', 'completed_time']].head())\n",
    "    \n",
    "df = pd.concat([v_no_c_df, vc_df, c_no_v_df],axis=0, ignore_index=True)\n"
   ]
  },
  {
   "cell_type": "code",
   "execution_count": null,
   "metadata": {},
   "outputs": [],
   "source": [
    "v_no_c_df.merge(c_no_v_df, how='inner', on='received_id').shape"
   ]
  },
  {
   "cell_type": "code",
   "execution_count": null,
   "metadata": {},
   "outputs": [],
   "source": [
    "v_no_c_df"
   ]
  },
  {
   "cell_type": "code",
   "execution_count": null,
   "metadata": {},
   "outputs": [],
   "source": [
    "received_ignored_df.merge(df, how='inner', on='received_id')"
   ]
  },
  {
   "cell_type": "code",
   "execution_count": null,
   "metadata": {},
   "outputs": [],
   "source": [
    "23731 + 23163 + 9321 + 8617"
   ]
  },
  {
   "cell_type": "code",
   "execution_count": null,
   "metadata": {},
   "outputs": [],
   "source": [
    "offers_received[offers_received['offer_id'].isin(completable_offers)].shape"
   ]
  },
  {
   "cell_type": "code",
   "execution_count": null,
   "metadata": {},
   "outputs": [],
   "source": [
    "df['received_id'].duplicated().sum()"
   ]
  },
  {
   "cell_type": "code",
   "execution_count": null,
   "metadata": {},
   "outputs": [],
   "source": [
    "def get_lables(df):\n",
    "    '''Function to convert times to lables for machine learning\n",
    "    df (df): df columns ['received_time', 'viewed_time', 'completed_time']\n",
    "    '''\n",
    "    # convert to categorical labels\n",
    "    df['offer_ignored'] = df['viewed_time'].isnull() & df['completed_time'].isnull()\n",
    "    df['offer_ignored'] = df['offer_ignored']*1\n",
    "    \n",
    "    df['offer_viewed'] = df['viewed_time'].notnull() & df['completed_time'].isnull()\n",
    "    df['offer_viewed'] = df['offer_viewed']*1\n",
    "    \n",
    "    df['offer_viewed_completed'] = df['viewed_time'].notnull() & df['completed_time'].notnull()\n",
    "    df['offer_viewed_completed']=df['offer_viewed_completed']*1\n",
    "    \n",
    "    df['offer_completed_not_viewed'] = df['viewed_time'].isnull() & df['completed_time'].notnull()\n",
    "    df['offer_completed_not_viewed'] = df['offer_completed_not_viewed']*1\n",
    "    \n",
    "    df['label_sum'] = df['offer_ignored'] + df['offer_viewed'] + df['offer_viewed_completed'] + df['offer_completed_not_viewed']\n",
    "    \n",
    "    # check to make sure only one label has been assigned to each row\n",
    "    assert(df['label_sum'].sum() == df.shape[0])\n",
    "       \n",
    "    return(df)\n",
    "\n"
   ]
  },
  {
   "cell_type": "code",
   "execution_count": null,
   "metadata": {},
   "outputs": [],
   "source": [
    "def get_age_group(row):\n",
    "    if row['age']==118:\n",
    "        age_group='age9'\n",
    "    else:\n",
    "        age_group = 'age'+str(int(round((row['age']-18)/10)))\n",
    "        \n",
    "    return age_group\n",
    "        \n",
    "def get_income_group(row):\n",
    "    if row['income'] > 0:\n",
    "        income_group = 'inc'+str(int(round((row['income']-30000)/10000)))\n",
    "    else:\n",
    "        income_group = 'inc10'\n",
    "        \n",
    "    return income_group\n"
   ]
  },
  {
   "cell_type": "code",
   "execution_count": null,
   "metadata": {},
   "outputs": [],
   "source": [
    "def prep_users(profile):\n",
    "    profile_df = profile.copy()\n",
    "    profile_df['age_group'] = profile_df.apply(get_age_group, axis=1)\n",
    "    age_dummies = pd.get_dummies(profile_df['age_group'])\n",
    "    profile_df['income_group'] = profile_df.apply(get_income_group, axis=1)\n",
    "    income_dummies = pd.get_dummies(profile_df['income_group'])\n",
    "    gender_dummies = pd.get_dummies(profile_df['income_group'])\n",
    "    profile_df = pd.concat([profile_df, age_dummies, income_dummies, gender_dummies], axis=1)\n",
    "    profile_df = profile_df.drop(['age','age_group', 'income', 'income_group', 'gender'], axis=1)\n",
    "    \n",
    "    return profile_df"
   ]
  },
  {
   "cell_type": "code",
   "execution_count": null,
   "metadata": {},
   "outputs": [],
   "source": [
    "profile = prep_users(profile)\n",
    "profile.head()"
   ]
  },
  {
   "cell_type": "code",
   "execution_count": null,
   "metadata": {},
   "outputs": [],
   "source": [
    "df = get_lables(df)\n",
    "# sanity check\n",
    "#for col in ['offer_ignored', 'offer_viewed', 'offer_viewed_completed', 'offer_completed_not_viewed']:\n",
    "#    print(df[df[col]==1].head(3))\n",
    "\n",
    "df[(df['completed_time'].notnull()) & (df['viewed_time'].isnull())].head(80)"
   ]
  }
 ],
 "metadata": {
  "kernelspec": {
   "display_name": "Python 3",
   "language": "python",
   "name": "python3"
  },
  "language_info": {
   "codemirror_mode": {
    "name": "ipython",
    "version": 3
   },
   "file_extension": ".py",
   "mimetype": "text/x-python",
   "name": "python",
   "nbconvert_exporter": "python",
   "pygments_lexer": "ipython3",
   "version": "3.6.3"
  }
 },
 "nbformat": 4,
 "nbformat_minor": 2
}
